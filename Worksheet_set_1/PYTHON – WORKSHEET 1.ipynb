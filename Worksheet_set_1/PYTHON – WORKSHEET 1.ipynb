{
 "cells": [
  {
   "cell_type": "markdown",
   "id": "49220fef",
   "metadata": {},
   "source": [
    "### Q11 to Q15"
   ]
  },
  {
   "cell_type": "markdown",
   "id": "d190b2fb",
   "metadata": {},
   "source": [
    "11. Write a python program to find the factorial of a number."
   ]
  },
  {
   "cell_type": "code",
   "execution_count": 16,
   "id": "37191a99",
   "metadata": {},
   "outputs": [
    {
     "name": "stdout",
     "output_type": "stream",
     "text": [
      "Enter a number:6\n",
      "The factorial of 6 is 720\n"
     ]
    }
   ],
   "source": [
    "num=int(input('Enter a number:'))\n",
    "factorial = 1    \n",
    "if num < 0:\n",
    "    print(\" Factorial does not exist for negative numbers\")    \n",
    "elif num == 0:\n",
    "    print(\"The factorial of 0 is 1\")    \n",
    "else:\n",
    "    for i in range(1,num + 1):\n",
    "        factorial = factorial*i    \n",
    "    print(\"The factorial of\",num,\"is\",factorial)    "
   ]
  },
  {
   "cell_type": "markdown",
   "id": "4291e6a3",
   "metadata": {},
   "source": [
    "12. Write a python program to find whether a number is prime or composite."
   ]
  },
  {
   "cell_type": "code",
   "execution_count": 25,
   "id": "6517cb1c",
   "metadata": {},
   "outputs": [
    {
     "name": "stdout",
     "output_type": "stream",
     "text": [
      "Enter a number:13\n",
      "13 is a prime number\n"
     ]
    }
   ],
   "source": [
    "num=int(input('Enter a number:'))\n",
    "count=0\n",
    "for i in range(1,num+1):\n",
    "    if num%i==0:\n",
    "        count=count+1\n",
    "if count==2:\n",
    "    print(num,'is a prime number')\n",
    "else:\n",
    "     print(num,'is a composite number')"
   ]
  },
  {
   "cell_type": "markdown",
   "id": "b4225666",
   "metadata": {},
   "source": [
    "13. Write a python program to check whether a given string is palindrome or not."
   ]
  },
  {
   "cell_type": "code",
   "execution_count": 13,
   "id": "31aea5e9",
   "metadata": {},
   "outputs": [
    {
     "name": "stdout",
     "output_type": "stream",
     "text": [
      "Enter a string:malayalam\n",
      "yes malayalam is palindrome\n"
     ]
    }
   ],
   "source": [
    "string=input('Enter a string:')\n",
    "\n",
    "if string==string[::-1]:\n",
    "    print('yes', string,'is palindrome')\n",
    "else:\n",
    "    print('No', string,'is not palindrome')  "
   ]
  },
  {
   "cell_type": "markdown",
   "id": "f772afd3",
   "metadata": {},
   "source": [
    "14. Write a Python program to get the third side of right-angled triangle from two given sides."
   ]
  },
  {
   "cell_type": "code",
   "execution_count": 10,
   "id": "3b759b9b",
   "metadata": {},
   "outputs": [
    {
     "name": "stdout",
     "output_type": "stream",
     "text": [
      "Enter side1 length:3\n",
      "Enter side2 length:4\n",
      "If mising side is hypotenuse,then missing side length= 5.0\n",
      "If mising side is not hypotenuse,then missing side= 2.65\n"
     ]
    }
   ],
   "source": [
    "side1=float(input('Enter side1 length:'))\n",
    "side2=float(input('Enter side2 length:'))\n",
    "\n",
    "print('If mising side is hypotenuse,then missing side length=',round((side1**2 +side2**2)**0.5,2))\n",
    "\n",
    "if side1>side2:\n",
    "    print('If mising side is not hypotenuse,then missing side=',round((side1**2 -side2**2)**0.5,2))\n",
    "else:\n",
    "    print('If mising side is not hypotenuse,then missing side=',round((side2**2 -side1**2)**0.5,2))\n",
    "        "
   ]
  },
  {
   "cell_type": "markdown",
   "id": "a29acdee",
   "metadata": {},
   "source": [
    "15. Write a python program to print the frequency of each of the characters present in a given string"
   ]
  },
  {
   "cell_type": "code",
   "execution_count": 11,
   "id": "935c8086",
   "metadata": {},
   "outputs": [
    {
     "name": "stdout",
     "output_type": "stream",
     "text": [
      "Enter the string: pomegranate\n",
      "{'p': 1, 'o': 1, 'm': 1, 'e': 2, 'g': 1, 'r': 1, 'a': 2, 'n': 1, 't': 1}\n"
     ]
    }
   ],
   "source": [
    "str1 = input (\"Enter the string: \")\n",
    "d = dict()\n",
    "for i in str1:\n",
    "    if i in d:\n",
    "        d[i] = d[i] + 1\n",
    "    else:\n",
    "        d[i] = 1\n",
    "print(d)"
   ]
  },
  {
   "cell_type": "code",
   "execution_count": null,
   "id": "a49674a9",
   "metadata": {},
   "outputs": [],
   "source": []
  }
 ],
 "metadata": {
  "kernelspec": {
   "display_name": "Python 3",
   "language": "python",
   "name": "python3"
  },
  "language_info": {
   "codemirror_mode": {
    "name": "ipython",
    "version": 3
   },
   "file_extension": ".py",
   "mimetype": "text/x-python",
   "name": "python",
   "nbconvert_exporter": "python",
   "pygments_lexer": "ipython3",
   "version": "3.8.8"
  }
 },
 "nbformat": 4,
 "nbformat_minor": 5
}
