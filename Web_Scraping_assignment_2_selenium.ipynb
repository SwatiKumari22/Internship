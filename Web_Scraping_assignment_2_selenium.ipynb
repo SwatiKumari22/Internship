{
 "cells": [
  {
   "cell_type": "markdown",
   "id": "196f2bcd",
   "metadata": {},
   "source": [
    "# Installing Selenium"
   ]
  },
  {
   "cell_type": "code",
   "execution_count": 1,
   "id": "0eacd222",
   "metadata": {},
   "outputs": [
    {
     "name": "stdout",
     "output_type": "stream",
     "text": [
      "Requirement already satisfied: selenium in c:\\data_science\\lib\\site-packages (4.1.3)\n",
      "Requirement already satisfied: urllib3[secure,socks]~=1.26 in c:\\data_science\\lib\\site-packages (from selenium) (1.26.4)\n",
      "Requirement already satisfied: trio-websocket~=0.9 in c:\\data_science\\lib\\site-packages (from selenium) (0.9.2)\n",
      "Requirement already satisfied: trio~=0.17 in c:\\data_science\\lib\\site-packages (from selenium) (0.20.0)\n",
      "Requirement already satisfied: sortedcontainers in c:\\data_science\\lib\\site-packages (from trio~=0.17->selenium) (2.3.0)\n",
      "Requirement already satisfied: async-generator>=1.9 in c:\\data_science\\lib\\site-packages (from trio~=0.17->selenium) (1.10)\n",
      "Requirement already satisfied: attrs>=19.2.0 in c:\\data_science\\lib\\site-packages (from trio~=0.17->selenium) (20.3.0)\n",
      "Requirement already satisfied: cffi>=1.14 in c:\\data_science\\lib\\site-packages (from trio~=0.17->selenium) (1.14.5)\n",
      "Requirement already satisfied: idna in c:\\data_science\\lib\\site-packages (from trio~=0.17->selenium) (2.10)\n",
      "Requirement already satisfied: sniffio in c:\\data_science\\lib\\site-packages (from trio~=0.17->selenium) (1.2.0)\n",
      "Requirement already satisfied: outcome in c:\\data_science\\lib\\site-packages (from trio~=0.17->selenium) (1.1.0)\n",
      "Requirement already satisfied: pycparser in c:\\data_science\\lib\\site-packages (from cffi>=1.14->trio~=0.17->selenium) (2.20)\n",
      "Requirement already satisfied: wsproto>=0.14 in c:\\data_science\\lib\\site-packages (from trio-websocket~=0.9->selenium) (1.1.0)\n",
      "Requirement already satisfied: pyOpenSSL>=0.14 in c:\\data_science\\lib\\site-packages (from urllib3[secure,socks]~=1.26->selenium) (20.0.1)\n",
      "Requirement already satisfied: cryptography>=1.3.4 in c:\\data_science\\lib\\site-packages (from urllib3[secure,socks]~=1.26->selenium) (3.4.7)\n",
      "Requirement already satisfied: certifi in c:\\data_science\\lib\\site-packages (from urllib3[secure,socks]~=1.26->selenium) (2020.12.5)\n",
      "Requirement already satisfied: PySocks!=1.5.7,<2.0,>=1.5.6 in c:\\data_science\\lib\\site-packages (from urllib3[secure,socks]~=1.26->selenium) (1.7.1)\n",
      "Requirement already satisfied: six>=1.5.2 in c:\\data_science\\lib\\site-packages (from pyOpenSSL>=0.14->urllib3[secure,socks]~=1.26->selenium) (1.15.0)\n",
      "Requirement already satisfied: h11<1,>=0.9.0 in c:\\data_science\\lib\\site-packages (from wsproto>=0.14->trio-websocket~=0.9->selenium) (0.13.0)\n"
     ]
    }
   ],
   "source": [
    "#Let's first install selenium\n",
    "!pip install selenium"
   ]
  },
  {
   "cell_type": "code",
   "execution_count": 2,
   "id": "025149d7",
   "metadata": {},
   "outputs": [],
   "source": [
    "#Lets import all the required libraries\n",
    "import selenium\n",
    "import pandas as pd\n",
    "from selenium import webdriver\n",
    "import warnings\n",
    "warnings.filterwarnings('ignore')\n",
    "import time"
   ]
  },
  {
   "cell_type": "code",
   "execution_count": null,
   "id": "74f853b2",
   "metadata": {},
   "outputs": [],
   "source": []
  },
  {
   "cell_type": "markdown",
   "id": "32b8e250",
   "metadata": {},
   "source": [
    "# Q1: Write a python program to scrape data for “Data Analyst” Job position in “Bangalore” location.\n",
    "You have to scrape the job-title, job-location, company_name, experience_required. You have to scrape first 10 jobs data. This task will be done in following steps:\n",
    "\n",
    "First get the webpage https://www.naukri.com/\n",
    "Enter “Data Analyst” in “Skill, Designations, Companies” field and enter “Bangalore” in “enter the location” field.\n",
    "Then click the search button.\n",
    "Then scrape the data for the first 10 jobs results you get.\n",
    "Finally create a dataframe of the scraped data."
   ]
  },
  {
   "cell_type": "code",
   "execution_count": 3,
   "id": "8fa21623",
   "metadata": {},
   "outputs": [],
   "source": [
    "#Lets connect to the web driver\n",
    "driver=webdriver.Chrome(r\"C:\\Users\\X1\\chromedriver_win32\\chromedriver.exe\")"
   ]
  },
  {
   "cell_type": "code",
   "execution_count": 7,
   "id": "c3045453",
   "metadata": {},
   "outputs": [],
   "source": [
    "driver=webdriver.Chrome('chromedriver.exe')\n",
    "time.sleep(2)"
   ]
  },
  {
   "cell_type": "code",
   "execution_count": 5,
   "id": "1d0f3eb0",
   "metadata": {},
   "outputs": [],
   "source": [
    "driver.close()"
   ]
  },
  {
   "cell_type": "code",
   "execution_count": 8,
   "id": "1e7e9140",
   "metadata": {},
   "outputs": [],
   "source": [
    "driver.get('https://www.naukri.com/')"
   ]
  },
  {
   "cell_type": "code",
   "execution_count": 9,
   "id": "50fae40d",
   "metadata": {},
   "outputs": [],
   "source": [
    "#Finding element for job search bar\n",
    "search_field_designation=driver.find_element_by_class_name(\"suggestor-input\") # job search bar\n",
    "search_field_designation.send_keys(\"Data Analyst\")\n",
    "search_field_location=driver.find_element_by_xpath(\"/html/body/div/div[2]/div[3]/div/div/div[3]/div/div/div/input\") #location search bar\n",
    "search_field_location.send_keys(\"Bangalore\")"
   ]
  },
  {
   "cell_type": "code",
   "execution_count": 10,
   "id": "9d03674f",
   "metadata": {},
   "outputs": [],
   "source": [
    "search_button=driver.find_element_by_xpath(\"/html/body/div/div[2]/div[3]/div/div/div[6]\")\n",
    "search_button.click()"
   ]
  },
  {
   "cell_type": "code",
   "execution_count": 11,
   "id": "b49f45ca",
   "metadata": {},
   "outputs": [],
   "source": [
    "#url of the page to be scraped\n",
    "url=(\"https://www.naukri.com/data-analyst-jobs-in-bangalore?k=data%20analyst&l=bangalore\")"
   ]
  },
  {
   "cell_type": "code",
   "execution_count": 12,
   "id": "86251436",
   "metadata": {},
   "outputs": [],
   "source": [
    "#Let's open the web page through the web driver\n",
    "driver.get(url)"
   ]
  },
  {
   "cell_type": "code",
   "execution_count": 13,
   "id": "9014ba4d",
   "metadata": {},
   "outputs": [],
   "source": [
    "job_titles=[]\n",
    "company_names=[] \n",
    "location_list=[] \n",
    "experience_list=[]"
   ]
  },
  {
   "cell_type": "code",
   "execution_count": 15,
   "id": "7513e7b2",
   "metadata": {},
   "outputs": [
    {
     "data": {
      "text/plain": [
       "[<selenium.webdriver.remote.webelement.WebElement (session=\"2796811874a4a88ad85cb3ed9d5838a3\", element=\"96919512-86e9-462d-a925-b60d5c244cea\")>,\n",
       " <selenium.webdriver.remote.webelement.WebElement (session=\"2796811874a4a88ad85cb3ed9d5838a3\", element=\"84bbc41a-58ef-4a53-9d5e-1e00d054efcd\")>,\n",
       " <selenium.webdriver.remote.webelement.WebElement (session=\"2796811874a4a88ad85cb3ed9d5838a3\", element=\"0b1c3053-eb0f-400f-9507-7a823d79d43c\")>,\n",
       " <selenium.webdriver.remote.webelement.WebElement (session=\"2796811874a4a88ad85cb3ed9d5838a3\", element=\"07ac6199-3ea1-479f-8a24-e00224d5dd06\")>,\n",
       " <selenium.webdriver.remote.webelement.WebElement (session=\"2796811874a4a88ad85cb3ed9d5838a3\", element=\"1dad7e4f-7082-4498-ae8c-49eb66b674d3\")>,\n",
       " <selenium.webdriver.remote.webelement.WebElement (session=\"2796811874a4a88ad85cb3ed9d5838a3\", element=\"adec56cb-1ee4-4513-a6c4-7666c4789fef\")>,\n",
       " <selenium.webdriver.remote.webelement.WebElement (session=\"2796811874a4a88ad85cb3ed9d5838a3\", element=\"d530aa4e-0319-47e9-b03e-4e866011847d\")>,\n",
       " <selenium.webdriver.remote.webelement.WebElement (session=\"2796811874a4a88ad85cb3ed9d5838a3\", element=\"a14d39ae-eabb-4582-82bb-7f5dcd1dc5f6\")>,\n",
       " <selenium.webdriver.remote.webelement.WebElement (session=\"2796811874a4a88ad85cb3ed9d5838a3\", element=\"b877a258-272d-49e0-90f0-71076e716c2d\")>,\n",
       " <selenium.webdriver.remote.webelement.WebElement (session=\"2796811874a4a88ad85cb3ed9d5838a3\", element=\"a05edee8-5d03-41af-87d1-609abcb4723b\")>]"
      ]
     },
     "execution_count": 15,
     "metadata": {},
     "output_type": "execute_result"
    }
   ],
   "source": [
    "#Lets extract all the tags having job titles.\n",
    "titles_tags=driver.find_elements_by_xpath(\"//a[@class='title fw500 ellipsis']\")\n",
    "titles_tags[0:10]"
   ]
  },
  {
   "cell_type": "code",
   "execution_count": 23,
   "id": "bc6a2eed",
   "metadata": {},
   "outputs": [
    {
     "data": {
      "text/plain": [
       "['Senior Professional Data Analyst',\n",
       " 'Staff Business Data Analyst - FDP',\n",
       " 'Data Analyst',\n",
       " 'Senior Data Analyst',\n",
       " 'Senior Data Analyst',\n",
       " 'MDM - Data Analyst',\n",
       " 'Opening For Data Analyst ll Bangalore ll Unacademy',\n",
       " 'Data Analyst / Data Scientist',\n",
       " 'Senior Data Analyst - Sales Analytics (Remote)',\n",
       " 'Senior Data Analyst']"
      ]
     },
     "execution_count": 23,
     "metadata": {},
     "output_type": "execute_result"
    }
   ],
   "source": [
    "# Now the text of the job titles are inside the tags extracted above.\n",
    "for i in titles_tags:\n",
    "    title=i.text\n",
    "    job_titles.append(title)\n",
    "job_titles[0:10]\n",
    "job_title1=job_titles[0:10]\n",
    "job_title1"
   ]
  },
  {
   "cell_type": "code",
   "execution_count": 17,
   "id": "cb40d241",
   "metadata": {},
   "outputs": [
    {
     "data": {
      "text/plain": [
       "[<selenium.webdriver.remote.webelement.WebElement (session=\"2796811874a4a88ad85cb3ed9d5838a3\", element=\"947e19b5-f98f-4dd4-aeff-6d7cd67e5d58\")>,\n",
       " <selenium.webdriver.remote.webelement.WebElement (session=\"2796811874a4a88ad85cb3ed9d5838a3\", element=\"d457c64d-aa5e-4737-b12b-937320a009e3\")>,\n",
       " <selenium.webdriver.remote.webelement.WebElement (session=\"2796811874a4a88ad85cb3ed9d5838a3\", element=\"e3568640-8b07-4055-b8cf-105f69647317\")>,\n",
       " <selenium.webdriver.remote.webelement.WebElement (session=\"2796811874a4a88ad85cb3ed9d5838a3\", element=\"42adeffa-8751-412d-b722-a6acfde6b6b9\")>,\n",
       " <selenium.webdriver.remote.webelement.WebElement (session=\"2796811874a4a88ad85cb3ed9d5838a3\", element=\"81a1e426-6f4f-4daa-9b63-60f01f25d2ec\")>,\n",
       " <selenium.webdriver.remote.webelement.WebElement (session=\"2796811874a4a88ad85cb3ed9d5838a3\", element=\"696b4878-ecdb-4d75-8161-f956d9d809c9\")>,\n",
       " <selenium.webdriver.remote.webelement.WebElement (session=\"2796811874a4a88ad85cb3ed9d5838a3\", element=\"cb335284-650f-4264-8f96-1c16edb5f2e6\")>,\n",
       " <selenium.webdriver.remote.webelement.WebElement (session=\"2796811874a4a88ad85cb3ed9d5838a3\", element=\"f5229758-208c-4779-97d1-aa10fe8c0d6f\")>,\n",
       " <selenium.webdriver.remote.webelement.WebElement (session=\"2796811874a4a88ad85cb3ed9d5838a3\", element=\"8bd8116c-ddd6-404f-825b-8253ca39e0f8\")>,\n",
       " <selenium.webdriver.remote.webelement.WebElement (session=\"2796811874a4a88ad85cb3ed9d5838a3\", element=\"fdc757f5-270c-4e49-90bd-f3ffc5eda957\")>]"
      ]
     },
     "execution_count": 17,
     "metadata": {},
     "output_type": "execute_result"
    }
   ],
   "source": [
    "# so lets extract all the tags having company names.\n",
    "companies_tags=driver.find_elements_by_xpath(\"//a[@class='subTitle ellipsis fleft']\")\n",
    "companies_tags[0:10]"
   ]
  },
  {
   "cell_type": "code",
   "execution_count": 24,
   "id": "16115553",
   "metadata": {},
   "outputs": [
    {
     "data": {
      "text/plain": [
       "['DXC Technology',\n",
       " 'Intuit Inc.',\n",
       " 'Vedantu Innovations',\n",
       " 'Flipkart',\n",
       " 'IKEA Group',\n",
       " 'Shell',\n",
       " 'Unacademy',\n",
       " 'JK Technosoft',\n",
       " 'AIRMEET NETWORKS PRIVATE LIMITED',\n",
       " 'Thomson Reuters']"
      ]
     },
     "execution_count": 24,
     "metadata": {},
     "output_type": "execute_result"
    }
   ],
   "source": [
    "#Now we will extract the text from these tags one by one by looping over these tags.\n",
    "for i in companies_tags:\n",
    "    company_name=i.text\n",
    "    company_names.append(company_name)\n",
    "company_names[0:10]\n",
    "company_name1=company_names[0:10]\n",
    "company_name1"
   ]
  },
  {
   "cell_type": "code",
   "execution_count": 19,
   "id": "d8258bed",
   "metadata": {},
   "outputs": [
    {
     "data": {
      "text/plain": [
       "[<selenium.webdriver.remote.webelement.WebElement (session=\"2796811874a4a88ad85cb3ed9d5838a3\", element=\"aa726561-fec6-4725-b82d-c463579ef11e\")>,\n",
       " <selenium.webdriver.remote.webelement.WebElement (session=\"2796811874a4a88ad85cb3ed9d5838a3\", element=\"034a6857-64b4-48f7-be6b-fe590bcc3064\")>,\n",
       " <selenium.webdriver.remote.webelement.WebElement (session=\"2796811874a4a88ad85cb3ed9d5838a3\", element=\"9830e940-982a-416a-932e-865c12052c20\")>,\n",
       " <selenium.webdriver.remote.webelement.WebElement (session=\"2796811874a4a88ad85cb3ed9d5838a3\", element=\"d9b0d144-922c-4482-a1cb-8c79a580bd8e\")>,\n",
       " <selenium.webdriver.remote.webelement.WebElement (session=\"2796811874a4a88ad85cb3ed9d5838a3\", element=\"4baf79f9-9942-4b20-ab9d-b972f5abaf44\")>,\n",
       " <selenium.webdriver.remote.webelement.WebElement (session=\"2796811874a4a88ad85cb3ed9d5838a3\", element=\"2f4c8c02-8216-45fc-8f7a-6c60aae9bafd\")>,\n",
       " <selenium.webdriver.remote.webelement.WebElement (session=\"2796811874a4a88ad85cb3ed9d5838a3\", element=\"26344b21-fafe-4f5e-9f6f-da479acb68e2\")>,\n",
       " <selenium.webdriver.remote.webelement.WebElement (session=\"2796811874a4a88ad85cb3ed9d5838a3\", element=\"1adf2cec-fa42-4f13-9b35-25fd258b3d3d\")>,\n",
       " <selenium.webdriver.remote.webelement.WebElement (session=\"2796811874a4a88ad85cb3ed9d5838a3\", element=\"5e3f9f54-845e-4c64-a993-aa672e16f6e9\")>,\n",
       " <selenium.webdriver.remote.webelement.WebElement (session=\"2796811874a4a88ad85cb3ed9d5838a3\", element=\"c81cf18b-a5eb-4cb5-ba49-94cf73beba56\")>]"
      ]
     },
     "execution_count": 19,
     "metadata": {},
     "output_type": "execute_result"
    }
   ],
   "source": [
    "#let's extract all tags having location names\n",
    "locations_tags=driver.find_elements_by_xpath(\"//li[@class='fleft grey-text br2 placeHolderLi location']/span[1]\")\n",
    "locations_tags[0:10]"
   ]
  },
  {
   "cell_type": "code",
   "execution_count": 26,
   "id": "f74c83b7",
   "metadata": {},
   "outputs": [
    {
     "data": {
      "text/plain": [
       "['Bangalore/Bengaluru',\n",
       " 'Bangalore/Bengaluru',\n",
       " 'Bangalore/Bengaluru',\n",
       " 'Bangalore/Bengaluru',\n",
       " 'Bangalore/Bengaluru',\n",
       " 'Bangalore/Bengaluru',\n",
       " 'Bangalore/Bengaluru',\n",
       " 'Noida, Hyderabad/Secunderabad, Bangalore/Bengaluru',\n",
       " 'Remote',\n",
       " 'Bangalore/Bengaluru']"
      ]
     },
     "execution_count": 26,
     "metadata": {},
     "output_type": "execute_result"
    }
   ],
   "source": [
    "#Now we will extract location text from these tags one by one by looping over these tags.\n",
    "for i in locations_tags:\n",
    "    location=i.text\n",
    "    location_list.append(location)\n",
    "location_list[0:10]\n",
    "job_location1=location_list[0:10]\n",
    "job_location1"
   ]
  },
  {
   "cell_type": "code",
   "execution_count": 27,
   "id": "a066e131",
   "metadata": {},
   "outputs": [
    {
     "data": {
      "text/plain": [
       "[<selenium.webdriver.remote.webelement.WebElement (session=\"2796811874a4a88ad85cb3ed9d5838a3\", element=\"1947b8a4-ee1e-44ec-9fa1-589d00db34cc\")>,\n",
       " <selenium.webdriver.remote.webelement.WebElement (session=\"2796811874a4a88ad85cb3ed9d5838a3\", element=\"3ed75da2-e633-4823-b49c-8015b14dff85\")>,\n",
       " <selenium.webdriver.remote.webelement.WebElement (session=\"2796811874a4a88ad85cb3ed9d5838a3\", element=\"0bf4ec70-ae0c-400a-8207-5bb5cd93464d\")>,\n",
       " <selenium.webdriver.remote.webelement.WebElement (session=\"2796811874a4a88ad85cb3ed9d5838a3\", element=\"18a29ff3-ceb9-4c5b-9ba8-4b67f8977198\")>,\n",
       " <selenium.webdriver.remote.webelement.WebElement (session=\"2796811874a4a88ad85cb3ed9d5838a3\", element=\"f98c57c0-c314-43c6-8bf8-77378bcbe414\")>,\n",
       " <selenium.webdriver.remote.webelement.WebElement (session=\"2796811874a4a88ad85cb3ed9d5838a3\", element=\"08cd2b13-201f-4db6-8d63-c96a98e00426\")>,\n",
       " <selenium.webdriver.remote.webelement.WebElement (session=\"2796811874a4a88ad85cb3ed9d5838a3\", element=\"bc6b8701-aeff-45c7-a102-4e8df3cd94aa\")>,\n",
       " <selenium.webdriver.remote.webelement.WebElement (session=\"2796811874a4a88ad85cb3ed9d5838a3\", element=\"aefc806d-34e3-4795-9aef-90edcae04094\")>,\n",
       " <selenium.webdriver.remote.webelement.WebElement (session=\"2796811874a4a88ad85cb3ed9d5838a3\", element=\"9e82e578-6ddd-43be-aed1-aa7ddc4a4da8\")>,\n",
       " <selenium.webdriver.remote.webelement.WebElement (session=\"2796811874a4a88ad85cb3ed9d5838a3\", element=\"43a68a6a-a174-44aa-af2f-46f95f9877ab\")>]"
      ]
     },
     "execution_count": 27,
     "metadata": {},
     "output_type": "execute_result"
    }
   ],
   "source": [
    "#Now we will extract experience from experience tags.\n",
    "experience_tags=driver.find_elements_by_xpath(\"//li[@class='fleft grey-text br2 placeHolderLi experience']/span[1]\")\n",
    "experience_tags[0:10]"
   ]
  },
  {
   "cell_type": "code",
   "execution_count": 28,
   "id": "f8ff2441",
   "metadata": {},
   "outputs": [
    {
     "data": {
      "text/plain": [
       "['3-7 Yrs',\n",
       " '5-7 Yrs',\n",
       " '0-3 Yrs',\n",
       " '3-6 Yrs',\n",
       " '5-10 Yrs',\n",
       " '3-4 Yrs',\n",
       " '2-7 Yrs',\n",
       " '5-7 Yrs',\n",
       " '4-5 Yrs',\n",
       " '3-8 Yrs']"
      ]
     },
     "execution_count": 28,
     "metadata": {},
     "output_type": "execute_result"
    }
   ],
   "source": [
    "for i in experience_tags:\n",
    "    experience=i.text\n",
    "    experience_list.append(experience)\n",
    "experience_list[0:10]\n",
    "experience_required1=experience_list[0:10]\n",
    "experience_required1"
   ]
  },
  {
   "cell_type": "markdown",
   "id": "6364da03",
   "metadata": {},
   "source": [
    "#### Checking the length of each column"
   ]
  },
  {
   "cell_type": "code",
   "execution_count": 29,
   "id": "6e17f8bb",
   "metadata": {},
   "outputs": [
    {
     "name": "stdout",
     "output_type": "stream",
     "text": [
      "10 10 10 10\n"
     ]
    }
   ],
   "source": [
    "print(len(job_title1),len(company_name1),len(job_location1),len(experience_required1))"
   ]
  },
  {
   "cell_type": "markdown",
   "id": "b41ee974",
   "metadata": {},
   "source": [
    "#### Making DataFrame"
   ]
  },
  {
   "cell_type": "code",
   "execution_count": 30,
   "id": "13b5ab27",
   "metadata": {},
   "outputs": [
    {
     "data": {
      "text/html": [
       "<div>\n",
       "<style scoped>\n",
       "    .dataframe tbody tr th:only-of-type {\n",
       "        vertical-align: middle;\n",
       "    }\n",
       "\n",
       "    .dataframe tbody tr th {\n",
       "        vertical-align: top;\n",
       "    }\n",
       "\n",
       "    .dataframe thead th {\n",
       "        text-align: right;\n",
       "    }\n",
       "</style>\n",
       "<table border=\"1\" class=\"dataframe\">\n",
       "  <thead>\n",
       "    <tr style=\"text-align: right;\">\n",
       "      <th></th>\n",
       "      <th>job_titles</th>\n",
       "      <th>job_location</th>\n",
       "      <th>company_names</th>\n",
       "      <th>experience_required</th>\n",
       "    </tr>\n",
       "  </thead>\n",
       "  <tbody>\n",
       "    <tr>\n",
       "      <th>0</th>\n",
       "      <td>Senior Professional Data Analyst</td>\n",
       "      <td>Bangalore/Bengaluru</td>\n",
       "      <td>DXC Technology</td>\n",
       "      <td>3-7 Yrs</td>\n",
       "    </tr>\n",
       "    <tr>\n",
       "      <th>1</th>\n",
       "      <td>Staff Business Data Analyst - FDP</td>\n",
       "      <td>Bangalore/Bengaluru</td>\n",
       "      <td>Intuit Inc.</td>\n",
       "      <td>5-7 Yrs</td>\n",
       "    </tr>\n",
       "    <tr>\n",
       "      <th>2</th>\n",
       "      <td>Data Analyst</td>\n",
       "      <td>Bangalore/Bengaluru</td>\n",
       "      <td>Vedantu Innovations</td>\n",
       "      <td>0-3 Yrs</td>\n",
       "    </tr>\n",
       "    <tr>\n",
       "      <th>3</th>\n",
       "      <td>Senior Data Analyst</td>\n",
       "      <td>Bangalore/Bengaluru</td>\n",
       "      <td>Flipkart</td>\n",
       "      <td>3-6 Yrs</td>\n",
       "    </tr>\n",
       "    <tr>\n",
       "      <th>4</th>\n",
       "      <td>Senior Data Analyst</td>\n",
       "      <td>Bangalore/Bengaluru</td>\n",
       "      <td>IKEA Group</td>\n",
       "      <td>5-10 Yrs</td>\n",
       "    </tr>\n",
       "    <tr>\n",
       "      <th>5</th>\n",
       "      <td>MDM - Data Analyst</td>\n",
       "      <td>Bangalore/Bengaluru</td>\n",
       "      <td>Shell</td>\n",
       "      <td>3-4 Yrs</td>\n",
       "    </tr>\n",
       "    <tr>\n",
       "      <th>6</th>\n",
       "      <td>Opening For Data Analyst ll Bangalore ll Unaca...</td>\n",
       "      <td>Bangalore/Bengaluru</td>\n",
       "      <td>Unacademy</td>\n",
       "      <td>2-7 Yrs</td>\n",
       "    </tr>\n",
       "    <tr>\n",
       "      <th>7</th>\n",
       "      <td>Data Analyst / Data Scientist</td>\n",
       "      <td>Noida, Hyderabad/Secunderabad, Bangalore/Benga...</td>\n",
       "      <td>JK Technosoft</td>\n",
       "      <td>5-7 Yrs</td>\n",
       "    </tr>\n",
       "    <tr>\n",
       "      <th>8</th>\n",
       "      <td>Senior Data Analyst - Sales Analytics (Remote)</td>\n",
       "      <td>Remote</td>\n",
       "      <td>AIRMEET NETWORKS PRIVATE LIMITED</td>\n",
       "      <td>4-5 Yrs</td>\n",
       "    </tr>\n",
       "    <tr>\n",
       "      <th>9</th>\n",
       "      <td>Senior Data Analyst</td>\n",
       "      <td>Bangalore/Bengaluru</td>\n",
       "      <td>Thomson Reuters</td>\n",
       "      <td>3-8 Yrs</td>\n",
       "    </tr>\n",
       "  </tbody>\n",
       "</table>\n",
       "</div>"
      ],
      "text/plain": [
       "                                          job_titles  \\\n",
       "0                   Senior Professional Data Analyst   \n",
       "1                  Staff Business Data Analyst - FDP   \n",
       "2                                       Data Analyst   \n",
       "3                                Senior Data Analyst   \n",
       "4                                Senior Data Analyst   \n",
       "5                                 MDM - Data Analyst   \n",
       "6  Opening For Data Analyst ll Bangalore ll Unaca...   \n",
       "7                      Data Analyst / Data Scientist   \n",
       "8     Senior Data Analyst - Sales Analytics (Remote)   \n",
       "9                                Senior Data Analyst   \n",
       "\n",
       "                                        job_location  \\\n",
       "0                                Bangalore/Bengaluru   \n",
       "1                                Bangalore/Bengaluru   \n",
       "2                                Bangalore/Bengaluru   \n",
       "3                                Bangalore/Bengaluru   \n",
       "4                                Bangalore/Bengaluru   \n",
       "5                                Bangalore/Bengaluru   \n",
       "6                                Bangalore/Bengaluru   \n",
       "7  Noida, Hyderabad/Secunderabad, Bangalore/Benga...   \n",
       "8                                             Remote   \n",
       "9                                Bangalore/Bengaluru   \n",
       "\n",
       "                      company_names experience_required  \n",
       "0                    DXC Technology             3-7 Yrs  \n",
       "1                       Intuit Inc.             5-7 Yrs  \n",
       "2               Vedantu Innovations             0-3 Yrs  \n",
       "3                          Flipkart             3-6 Yrs  \n",
       "4                        IKEA Group            5-10 Yrs  \n",
       "5                             Shell             3-4 Yrs  \n",
       "6                         Unacademy             2-7 Yrs  \n",
       "7                     JK Technosoft             5-7 Yrs  \n",
       "8  AIRMEET NETWORKS PRIVATE LIMITED             4-5 Yrs  \n",
       "9                   Thomson Reuters             3-8 Yrs  "
      ]
     },
     "execution_count": 30,
     "metadata": {},
     "output_type": "execute_result"
    }
   ],
   "source": [
    "import pandas as pd\n",
    "df_1=pd.DataFrame({'job_titles':job_title1,'job_location':job_location1,'company_names':company_name1,'experience_required':experience_required1})\n",
    "df_1"
   ]
  },
  {
   "cell_type": "code",
   "execution_count": null,
   "id": "936c8c23",
   "metadata": {},
   "outputs": [],
   "source": []
  },
  {
   "cell_type": "markdown",
   "id": "291b6c49",
   "metadata": {},
   "source": [
    "#---------------------------------------------------------------------------------------------------------------------------------------------------------------------------------------------------------------#"
   ]
  },
  {
   "cell_type": "code",
   "execution_count": null,
   "id": "fec4ec53",
   "metadata": {},
   "outputs": [],
   "source": []
  },
  {
   "cell_type": "markdown",
   "id": "af3a1a36",
   "metadata": {},
   "source": [
    "# Q2: Write a python program to scrape data for “Data Scientist” Job position in “Bangalore” location. \n",
    "You have to scrape the job-title, job-location, company_name. You have to scrape first 10 jobs data.\n",
    "This task will be done in following steps:\n",
    "1. First get the webpage https://www.naukri.com/\n",
    "2. Enter “Data Scientist” in “Skill, Designations, Companies” field and enter “Bangalore” in “enter the\n",
    "location” field.\n",
    "3. Then click the search button.\n",
    "4. Then scrape the data for the first 10 jobs results you get.\n",
    "5. Finally create a dataframe of the scraped data"
   ]
  },
  {
   "cell_type": "code",
   "execution_count": 38,
   "id": "5683ef28",
   "metadata": {},
   "outputs": [],
   "source": [
    "#Lets connect to the web driver\n",
    "driver_2=webdriver.Chrome(r\"C:\\Users\\X1\\chromedriver_win32\\chromedriver.exe\")"
   ]
  },
  {
   "cell_type": "code",
   "execution_count": 42,
   "id": "2d9df854",
   "metadata": {},
   "outputs": [],
   "source": [
    "driver_2=webdriver.Chrome('chromedriver.exe')\n",
    "time.sleep(2)"
   ]
  },
  {
   "cell_type": "code",
   "execution_count": 40,
   "id": "bbbd28d7",
   "metadata": {},
   "outputs": [],
   "source": [
    "driver_2.close()"
   ]
  },
  {
   "cell_type": "code",
   "execution_count": 43,
   "id": "b8a91501",
   "metadata": {},
   "outputs": [],
   "source": [
    "driver_2.get('https://www.naukri.com/')"
   ]
  },
  {
   "cell_type": "code",
   "execution_count": 45,
   "id": "bf1e377f",
   "metadata": {},
   "outputs": [],
   "source": [
    "#Finding element for job search bar\n",
    "search_field_designation_2=driver_2.find_element_by_class_name(\"suggestor-input\") # job search bar\n",
    "search_field_designation_2.send_keys(\"Data Scientist\")\n",
    "search_field_location_2=driver_2.find_element_by_xpath(\"/html/body/div/div[2]/div[3]/div/div/div[3]/div/div/div/input\") #location search bar\n",
    "search_field_location_2.send_keys(\"Bangalore\")"
   ]
  },
  {
   "cell_type": "code",
   "execution_count": 47,
   "id": "f64cae93",
   "metadata": {},
   "outputs": [],
   "source": [
    "search_button_2=driver_2.find_element_by_xpath(\"/html/body/div/div[2]/div[3]/div/div/div[6]\")\n",
    "search_button_2.click()"
   ]
  },
  {
   "cell_type": "code",
   "execution_count": 48,
   "id": "9f280e1c",
   "metadata": {},
   "outputs": [],
   "source": [
    "#url of the page to be scraped\n",
    "url_2=(\"https://www.naukri.com/data-scientist-jobs-in-bangalore?k=data%20scientist&l=bangalore\")"
   ]
  },
  {
   "cell_type": "code",
   "execution_count": 49,
   "id": "ddba643b",
   "metadata": {},
   "outputs": [],
   "source": [
    "#Let's open the web page through the web driver\n",
    "driver_2.get(url_2)"
   ]
  },
  {
   "cell_type": "code",
   "execution_count": 50,
   "id": "715a6d4e",
   "metadata": {},
   "outputs": [],
   "source": [
    "job_titles_2=[]\n",
    "company_names_2=[] \n",
    "location_list_2=[] "
   ]
  },
  {
   "cell_type": "code",
   "execution_count": 51,
   "id": "16a2bf0f",
   "metadata": {},
   "outputs": [
    {
     "data": {
      "text/plain": [
       "[<selenium.webdriver.remote.webelement.WebElement (session=\"d8b13753dc116268d5b0cd8951acaedb\", element=\"e943201d-d1ac-499f-8068-e645ea643e55\")>,\n",
       " <selenium.webdriver.remote.webelement.WebElement (session=\"d8b13753dc116268d5b0cd8951acaedb\", element=\"3b6e18a0-f29e-4b8e-9461-0274e08afb32\")>,\n",
       " <selenium.webdriver.remote.webelement.WebElement (session=\"d8b13753dc116268d5b0cd8951acaedb\", element=\"dbaa5190-e8e6-4959-923f-fb8d608ac53a\")>,\n",
       " <selenium.webdriver.remote.webelement.WebElement (session=\"d8b13753dc116268d5b0cd8951acaedb\", element=\"4bf8df49-eb62-4e03-8bb4-5839bb581411\")>,\n",
       " <selenium.webdriver.remote.webelement.WebElement (session=\"d8b13753dc116268d5b0cd8951acaedb\", element=\"426b907f-c50e-4331-b87d-44411d1ee709\")>,\n",
       " <selenium.webdriver.remote.webelement.WebElement (session=\"d8b13753dc116268d5b0cd8951acaedb\", element=\"c09e3ece-86a2-4fe6-bed7-bc9b36a5d7df\")>,\n",
       " <selenium.webdriver.remote.webelement.WebElement (session=\"d8b13753dc116268d5b0cd8951acaedb\", element=\"daa28b51-9f02-4d97-8619-4be53c475201\")>,\n",
       " <selenium.webdriver.remote.webelement.WebElement (session=\"d8b13753dc116268d5b0cd8951acaedb\", element=\"743658eb-a20c-4bb7-8694-b90e9caa50df\")>,\n",
       " <selenium.webdriver.remote.webelement.WebElement (session=\"d8b13753dc116268d5b0cd8951acaedb\", element=\"909cfea9-f296-4b8e-9fcf-cbc247c5289c\")>,\n",
       " <selenium.webdriver.remote.webelement.WebElement (session=\"d8b13753dc116268d5b0cd8951acaedb\", element=\"0d2c0b5b-e7d4-42b6-9a98-5bb3ae206423\")>]"
      ]
     },
     "execution_count": 51,
     "metadata": {},
     "output_type": "execute_result"
    }
   ],
   "source": [
    "#Lets extract all the tags having job titles.\n",
    "titles_tags_2=driver_2.find_elements_by_xpath(\"//a[@class='title fw500 ellipsis']\")\n",
    "titles_tags_2[0:10]"
   ]
  },
  {
   "cell_type": "code",
   "execution_count": 52,
   "id": "e86caa1e",
   "metadata": {},
   "outputs": [
    {
     "data": {
      "text/plain": [
       "['Manager - Data Scientist Job @ Applied Materials - Bangalore',\n",
       " 'Senior Data Scientist',\n",
       " 'Data Scientist',\n",
       " 'Analyst - Data Scientist',\n",
       " 'Senior Data Scientist',\n",
       " 'Senior Data Scientist',\n",
       " 'Data Scientist',\n",
       " 'Data Scientist / Machine learning Engineer',\n",
       " 'Junior Data Scientist',\n",
       " 'Data Analyst / Data Scientist']"
      ]
     },
     "execution_count": 52,
     "metadata": {},
     "output_type": "execute_result"
    }
   ],
   "source": [
    "# Now the text of the job titles are inside the tags extracted above.\n",
    "for i in titles_tags_2:\n",
    "    title2=i.text\n",
    "    job_titles_2.append(title2)\n",
    "job_titles_2[0:10]"
   ]
  },
  {
   "cell_type": "code",
   "execution_count": 53,
   "id": "bdf20948",
   "metadata": {},
   "outputs": [
    {
     "data": {
      "text/plain": [
       "[<selenium.webdriver.remote.webelement.WebElement (session=\"d8b13753dc116268d5b0cd8951acaedb\", element=\"25760b86-0427-4c0c-90fe-00636ec237ee\")>,\n",
       " <selenium.webdriver.remote.webelement.WebElement (session=\"d8b13753dc116268d5b0cd8951acaedb\", element=\"f13be146-dbf2-439a-9ebc-22e28b92704b\")>,\n",
       " <selenium.webdriver.remote.webelement.WebElement (session=\"d8b13753dc116268d5b0cd8951acaedb\", element=\"7b8cb8df-fd4e-4723-86d8-2534cd1aac7d\")>,\n",
       " <selenium.webdriver.remote.webelement.WebElement (session=\"d8b13753dc116268d5b0cd8951acaedb\", element=\"c9ff06d7-4bf0-4c75-979c-d21f872db3f4\")>,\n",
       " <selenium.webdriver.remote.webelement.WebElement (session=\"d8b13753dc116268d5b0cd8951acaedb\", element=\"2226df50-cfa1-4f09-885d-013ba0a01238\")>,\n",
       " <selenium.webdriver.remote.webelement.WebElement (session=\"d8b13753dc116268d5b0cd8951acaedb\", element=\"f12342fa-8f4a-4d8d-9cac-35f77d108a11\")>,\n",
       " <selenium.webdriver.remote.webelement.WebElement (session=\"d8b13753dc116268d5b0cd8951acaedb\", element=\"cf2673e0-e4d8-4997-92d6-ba95fcd47b02\")>,\n",
       " <selenium.webdriver.remote.webelement.WebElement (session=\"d8b13753dc116268d5b0cd8951acaedb\", element=\"ee4146c7-77d7-4b5d-80d8-831da9d24fc4\")>,\n",
       " <selenium.webdriver.remote.webelement.WebElement (session=\"d8b13753dc116268d5b0cd8951acaedb\", element=\"3d3a2907-0675-4e5b-a76e-f9eec194152f\")>,\n",
       " <selenium.webdriver.remote.webelement.WebElement (session=\"d8b13753dc116268d5b0cd8951acaedb\", element=\"cc67d1d8-6dcd-496d-84f8-cf29637b4799\")>]"
      ]
     },
     "execution_count": 53,
     "metadata": {},
     "output_type": "execute_result"
    }
   ],
   "source": [
    "# so lets extract all the tags having company names.\n",
    "companies_tags_2=driver_2.find_elements_by_xpath(\"//a[@class='subTitle ellipsis fleft']\")\n",
    "companies_tags_2[0:10]"
   ]
  },
  {
   "cell_type": "code",
   "execution_count": 54,
   "id": "3689b9e7",
   "metadata": {},
   "outputs": [
    {
     "data": {
      "text/plain": [
       "['Applied Materials',\n",
       " 'GSK India',\n",
       " 'Applied Materials',\n",
       " 'MilliporeSigma',\n",
       " 'Flipkart',\n",
       " 'GSK India',\n",
       " 'Roposo',\n",
       " 'Leading US MNC into Analytics',\n",
       " 'Accenture',\n",
       " 'JK Technosoft']"
      ]
     },
     "execution_count": 54,
     "metadata": {},
     "output_type": "execute_result"
    }
   ],
   "source": [
    "#Now we will extract the text from these tags one by one by looping over these tags.\n",
    "for i in companies_tags_2:\n",
    "    company_name2=i.text\n",
    "    company_names_2.append(company_name2)\n",
    "company_names_2[0:10]"
   ]
  },
  {
   "cell_type": "code",
   "execution_count": 55,
   "id": "80cdf408",
   "metadata": {},
   "outputs": [
    {
     "data": {
      "text/plain": [
       "[<selenium.webdriver.remote.webelement.WebElement (session=\"d8b13753dc116268d5b0cd8951acaedb\", element=\"a361af34-ea79-4900-a693-e0e0db4161d5\")>,\n",
       " <selenium.webdriver.remote.webelement.WebElement (session=\"d8b13753dc116268d5b0cd8951acaedb\", element=\"f2bfb389-1ee2-4795-98f9-2601fa37c7db\")>,\n",
       " <selenium.webdriver.remote.webelement.WebElement (session=\"d8b13753dc116268d5b0cd8951acaedb\", element=\"f848fc13-a1d7-418a-b686-b1afbe00d4d8\")>,\n",
       " <selenium.webdriver.remote.webelement.WebElement (session=\"d8b13753dc116268d5b0cd8951acaedb\", element=\"10295cf7-bc0b-4641-9b44-3f328d778d1e\")>,\n",
       " <selenium.webdriver.remote.webelement.WebElement (session=\"d8b13753dc116268d5b0cd8951acaedb\", element=\"20f4dc51-10d4-4ba6-826d-b0dc40bb3f90\")>,\n",
       " <selenium.webdriver.remote.webelement.WebElement (session=\"d8b13753dc116268d5b0cd8951acaedb\", element=\"beb6f57e-3c0e-44a2-8820-45f793c1356f\")>,\n",
       " <selenium.webdriver.remote.webelement.WebElement (session=\"d8b13753dc116268d5b0cd8951acaedb\", element=\"9a7b89d5-0fb8-4a4e-a3aa-cb82fa6dd8ee\")>,\n",
       " <selenium.webdriver.remote.webelement.WebElement (session=\"d8b13753dc116268d5b0cd8951acaedb\", element=\"09d6aee7-6b59-4054-a310-dbd4e8fde5f3\")>,\n",
       " <selenium.webdriver.remote.webelement.WebElement (session=\"d8b13753dc116268d5b0cd8951acaedb\", element=\"b227abfb-593a-4708-8edf-bcd80103befe\")>,\n",
       " <selenium.webdriver.remote.webelement.WebElement (session=\"d8b13753dc116268d5b0cd8951acaedb\", element=\"15c865e3-b100-413c-9ac1-dac00f8ad085\")>]"
      ]
     },
     "execution_count": 55,
     "metadata": {},
     "output_type": "execute_result"
    }
   ],
   "source": [
    "#let's extract all tags having location names\n",
    "locations_tags_2=driver_2.find_elements_by_xpath(\"//li[@class='fleft grey-text br2 placeHolderLi location']/span[1]\")\n",
    "locations_tags_2[0:10]"
   ]
  },
  {
   "cell_type": "code",
   "execution_count": 56,
   "id": "7f76b7ed",
   "metadata": {},
   "outputs": [
    {
     "data": {
      "text/plain": [
       "['Bangalore/Bengaluru(Whitefield)',\n",
       " 'Bangalore/Bengaluru',\n",
       " 'Bangalore/Bengaluru',\n",
       " 'Bangalore/Bengaluru',\n",
       " 'Bangalore/Bengaluru',\n",
       " 'Bangalore/Bengaluru',\n",
       " 'Bangalore/Bengaluru',\n",
       " 'Bangalore/Bengaluru, Delhi / NCR',\n",
       " 'Bangalore/Bengaluru',\n",
       " 'Noida, Hyderabad/Secunderabad, Bangalore/Bengaluru']"
      ]
     },
     "execution_count": 56,
     "metadata": {},
     "output_type": "execute_result"
    }
   ],
   "source": [
    "#Now we will extract the text from these tags one by one by looping over these tags.\n",
    "for i in locations_tags_2:\n",
    "    location2=i.text\n",
    "    location_list_2.append(location2)\n",
    "location_list_2[0:10]"
   ]
  },
  {
   "cell_type": "markdown",
   "id": "09dbeb89",
   "metadata": {},
   "source": [
    "#### Making Dataframe"
   ]
  },
  {
   "cell_type": "code",
   "execution_count": 57,
   "id": "62677241",
   "metadata": {},
   "outputs": [
    {
     "data": {
      "text/html": [
       "<div>\n",
       "<style scoped>\n",
       "    .dataframe tbody tr th:only-of-type {\n",
       "        vertical-align: middle;\n",
       "    }\n",
       "\n",
       "    .dataframe tbody tr th {\n",
       "        vertical-align: top;\n",
       "    }\n",
       "\n",
       "    .dataframe thead th {\n",
       "        text-align: right;\n",
       "    }\n",
       "</style>\n",
       "<table border=\"1\" class=\"dataframe\">\n",
       "  <thead>\n",
       "    <tr style=\"text-align: right;\">\n",
       "      <th></th>\n",
       "      <th>job_titles2</th>\n",
       "      <th>company_names2</th>\n",
       "      <th>job_location2</th>\n",
       "    </tr>\n",
       "  </thead>\n",
       "  <tbody>\n",
       "    <tr>\n",
       "      <th>0</th>\n",
       "      <td>Manager - Data Scientist Job @ Applied Materia...</td>\n",
       "      <td>Applied Materials</td>\n",
       "      <td>Bangalore/Bengaluru(Whitefield)</td>\n",
       "    </tr>\n",
       "    <tr>\n",
       "      <th>1</th>\n",
       "      <td>Senior Data Scientist</td>\n",
       "      <td>GSK India</td>\n",
       "      <td>Bangalore/Bengaluru</td>\n",
       "    </tr>\n",
       "    <tr>\n",
       "      <th>2</th>\n",
       "      <td>Data Scientist</td>\n",
       "      <td>Applied Materials</td>\n",
       "      <td>Bangalore/Bengaluru</td>\n",
       "    </tr>\n",
       "    <tr>\n",
       "      <th>3</th>\n",
       "      <td>Analyst - Data Scientist</td>\n",
       "      <td>MilliporeSigma</td>\n",
       "      <td>Bangalore/Bengaluru</td>\n",
       "    </tr>\n",
       "    <tr>\n",
       "      <th>4</th>\n",
       "      <td>Senior Data Scientist</td>\n",
       "      <td>Flipkart</td>\n",
       "      <td>Bangalore/Bengaluru</td>\n",
       "    </tr>\n",
       "    <tr>\n",
       "      <th>5</th>\n",
       "      <td>Senior Data Scientist</td>\n",
       "      <td>GSK India</td>\n",
       "      <td>Bangalore/Bengaluru</td>\n",
       "    </tr>\n",
       "    <tr>\n",
       "      <th>6</th>\n",
       "      <td>Data Scientist</td>\n",
       "      <td>Roposo</td>\n",
       "      <td>Bangalore/Bengaluru</td>\n",
       "    </tr>\n",
       "    <tr>\n",
       "      <th>7</th>\n",
       "      <td>Data Scientist / Machine learning Engineer</td>\n",
       "      <td>Leading US MNC into Analytics</td>\n",
       "      <td>Bangalore/Bengaluru, Delhi / NCR</td>\n",
       "    </tr>\n",
       "    <tr>\n",
       "      <th>8</th>\n",
       "      <td>Junior Data Scientist</td>\n",
       "      <td>Accenture</td>\n",
       "      <td>Bangalore/Bengaluru</td>\n",
       "    </tr>\n",
       "    <tr>\n",
       "      <th>9</th>\n",
       "      <td>Data Analyst / Data Scientist</td>\n",
       "      <td>JK Technosoft</td>\n",
       "      <td>Noida, Hyderabad/Secunderabad, Bangalore/Benga...</td>\n",
       "    </tr>\n",
       "  </tbody>\n",
       "</table>\n",
       "</div>"
      ],
      "text/plain": [
       "                                         job_titles2  \\\n",
       "0  Manager - Data Scientist Job @ Applied Materia...   \n",
       "1                              Senior Data Scientist   \n",
       "2                                     Data Scientist   \n",
       "3                           Analyst - Data Scientist   \n",
       "4                              Senior Data Scientist   \n",
       "5                              Senior Data Scientist   \n",
       "6                                     Data Scientist   \n",
       "7         Data Scientist / Machine learning Engineer   \n",
       "8                              Junior Data Scientist   \n",
       "9                      Data Analyst / Data Scientist   \n",
       "\n",
       "                  company_names2  \\\n",
       "0              Applied Materials   \n",
       "1                      GSK India   \n",
       "2              Applied Materials   \n",
       "3                 MilliporeSigma   \n",
       "4                       Flipkart   \n",
       "5                      GSK India   \n",
       "6                         Roposo   \n",
       "7  Leading US MNC into Analytics   \n",
       "8                      Accenture   \n",
       "9                  JK Technosoft   \n",
       "\n",
       "                                       job_location2  \n",
       "0                    Bangalore/Bengaluru(Whitefield)  \n",
       "1                                Bangalore/Bengaluru  \n",
       "2                                Bangalore/Bengaluru  \n",
       "3                                Bangalore/Bengaluru  \n",
       "4                                Bangalore/Bengaluru  \n",
       "5                                Bangalore/Bengaluru  \n",
       "6                                Bangalore/Bengaluru  \n",
       "7                   Bangalore/Bengaluru, Delhi / NCR  \n",
       "8                                Bangalore/Bengaluru  \n",
       "9  Noida, Hyderabad/Secunderabad, Bangalore/Benga...  "
      ]
     },
     "execution_count": 57,
     "metadata": {},
     "output_type": "execute_result"
    }
   ],
   "source": [
    "import pandas as pd\n",
    "df_2=pd.DataFrame({'job_titles2':job_titles_2[0:10],'company_names2':company_names_2[0:10],'job_location2':location_list_2[0:10]})\n",
    "df_2"
   ]
  },
  {
   "cell_type": "code",
   "execution_count": null,
   "id": "72488b21",
   "metadata": {},
   "outputs": [],
   "source": []
  },
  {
   "cell_type": "markdown",
   "id": "125886cb",
   "metadata": {},
   "source": [
    "#---------------------------------------------------------------------------------------------------------------------------------------------------------------------------------------------------------------#"
   ]
  },
  {
   "cell_type": "code",
   "execution_count": null,
   "id": "579fdcc6",
   "metadata": {},
   "outputs": [],
   "source": []
  },
  {
   "cell_type": "markdown",
   "id": "1324f8f9",
   "metadata": {},
   "source": [
    "# Q3: In this question you have to scrape data using the filters available on the webpage as shown below:\n",
    "You have to use the location and salary filter.\n",
    "You have to scrape data for “Data Scientist” designation for first 10 job results.\n",
    "You have to scrape the job-title, job-location, company name, experience required.\n",
    "The location filter to be used is “Delhi/NCR”. The salary filter to be used is “3-6” lakhs\n",
    "The task will be done as shown in the below steps:\n",
    "1. first get the webpage https://www.naukri.com/\n",
    "2. Enter “Data Scientist” in “Skill, Designations, and Companies” field.\n",
    "3. Then click the search button.\n",
    "4. Then apply the location filter and salary filter by checking the respective boxes\n",
    "5. Then scrape the data for the first 10 jobs results you get.\n",
    "6. Finally create a dataframe of the scraped data."
   ]
  },
  {
   "cell_type": "code",
   "execution_count": 3,
   "id": "529cc0a1",
   "metadata": {},
   "outputs": [],
   "source": [
    "#Lets connect to the web driver\n",
    "driver_3=webdriver.Chrome(r\"C:\\Users\\X1\\chromedriver_win32\\chromedriver.exe\")"
   ]
  },
  {
   "cell_type": "code",
   "execution_count": 4,
   "id": "db907fc3",
   "metadata": {},
   "outputs": [],
   "source": [
    "driver_3=webdriver.Chrome('chromedriver.exe')\n",
    "time.sleep(2)"
   ]
  },
  {
   "cell_type": "code",
   "execution_count": 33,
   "id": "81f7ac1a",
   "metadata": {},
   "outputs": [],
   "source": [
    "driver_3.close()"
   ]
  },
  {
   "cell_type": "code",
   "execution_count": 5,
   "id": "7172702c",
   "metadata": {},
   "outputs": [],
   "source": [
    "driver_3.get('https://www.naukri.com/')"
   ]
  },
  {
   "cell_type": "code",
   "execution_count": 6,
   "id": "45ebc578",
   "metadata": {},
   "outputs": [],
   "source": [
    "#Finding element for job search bar\n",
    "search_field_designation_3=driver_3.find_element_by_class_name(\"suggestor-input\") # job search bar\n",
    "search_field_designation_3.send_keys(\"Data Analyst\")"
   ]
  },
  {
   "cell_type": "code",
   "execution_count": 7,
   "id": "a242427e",
   "metadata": {},
   "outputs": [],
   "source": [
    "search_button_3=driver_3.find_element_by_xpath(\"/html/body/div/div[2]/div[3]/div/div/div[6]\")\n",
    "search_button_3.click()"
   ]
  },
  {
   "cell_type": "code",
   "execution_count": 8,
   "id": "7797fc9a",
   "metadata": {},
   "outputs": [],
   "source": [
    "# Specifying the url of the page to be scraped\n",
    "url_3=(\"https://www.naukri.com/data-analyst-jobs?k=data%20analyst&cityTypeGid=9508&ctcFilter=3to6\")"
   ]
  },
  {
   "cell_type": "code",
   "execution_count": 9,
   "id": "0c26d315",
   "metadata": {},
   "outputs": [],
   "source": [
    "#Let's open the web page through the web driver\n",
    "driver_3.get(url_3)"
   ]
  },
  {
   "cell_type": "code",
   "execution_count": 10,
   "id": "721dff79",
   "metadata": {},
   "outputs": [],
   "source": [
    "# Creating an empty list \n",
    "job_titles_3=[]\n",
    "company_names_3=[] \n",
    "location_list_3=[] \n",
    "experience_list_3=[]"
   ]
  },
  {
   "cell_type": "code",
   "execution_count": 11,
   "id": "0018f945",
   "metadata": {},
   "outputs": [
    {
     "data": {
      "text/plain": [
       "[<selenium.webdriver.remote.webelement.WebElement (session=\"d80e2ad7ccd89b0257fd3436f17e2927\", element=\"3a87928a-f4bd-41ba-985e-be5c2c540c09\")>,\n",
       " <selenium.webdriver.remote.webelement.WebElement (session=\"d80e2ad7ccd89b0257fd3436f17e2927\", element=\"66057d81-715a-41b9-93a3-c498a13859c2\")>,\n",
       " <selenium.webdriver.remote.webelement.WebElement (session=\"d80e2ad7ccd89b0257fd3436f17e2927\", element=\"7a580998-f0fb-48ad-9736-f82f971e8b5b\")>,\n",
       " <selenium.webdriver.remote.webelement.WebElement (session=\"d80e2ad7ccd89b0257fd3436f17e2927\", element=\"37a413fb-cab0-4c4f-ad58-5595f3c3744d\")>,\n",
       " <selenium.webdriver.remote.webelement.WebElement (session=\"d80e2ad7ccd89b0257fd3436f17e2927\", element=\"144c9e38-9e42-4de2-969b-23b6eb1de0a4\")>,\n",
       " <selenium.webdriver.remote.webelement.WebElement (session=\"d80e2ad7ccd89b0257fd3436f17e2927\", element=\"da2c28f5-fcc7-44a5-bd47-fe5c8c904134\")>,\n",
       " <selenium.webdriver.remote.webelement.WebElement (session=\"d80e2ad7ccd89b0257fd3436f17e2927\", element=\"990c217d-b171-486a-8d78-741296534e8f\")>,\n",
       " <selenium.webdriver.remote.webelement.WebElement (session=\"d80e2ad7ccd89b0257fd3436f17e2927\", element=\"289499b0-a266-4ea5-ab8d-6987ef7fbedf\")>,\n",
       " <selenium.webdriver.remote.webelement.WebElement (session=\"d80e2ad7ccd89b0257fd3436f17e2927\", element=\"f3f28d4e-fcb2-4eac-a7f0-330ebbddf1a6\")>,\n",
       " <selenium.webdriver.remote.webelement.WebElement (session=\"d80e2ad7ccd89b0257fd3436f17e2927\", element=\"f15d67a6-a531-489b-8287-20f65ac1341f\")>]"
      ]
     },
     "execution_count": 11,
     "metadata": {},
     "output_type": "execute_result"
    }
   ],
   "source": [
    "#Lets extract all the tags having job titles.\n",
    "titles_3=driver_3.find_elements_by_xpath(\"//a[@class='title fw500 ellipsis']\")\n",
    "titles_3[0:10]"
   ]
  },
  {
   "cell_type": "code",
   "execution_count": 12,
   "id": "ee88c419",
   "metadata": {},
   "outputs": [
    {
     "data": {
      "text/plain": [
       "['Customer Acquisition Engineer (Data Analyst)',\n",
       " 'Associate Manager Data Analyst',\n",
       " 'Data Analyst',\n",
       " 'Data Analyst',\n",
       " 'Data Analyst',\n",
       " 'Data Analyst || Fresher',\n",
       " 'Data Analyst',\n",
       " 'Data Analyst ( FTE Position )',\n",
       " 'Senior Officer- Data Analyst- New Delhi',\n",
       " 'Data Analyst']"
      ]
     },
     "execution_count": 12,
     "metadata": {},
     "output_type": "execute_result"
    }
   ],
   "source": [
    "for i in titles_3:                   \n",
    "    title_3=i.text\n",
    "    job_titles_3.append(title_3)\n",
    "job_titles_3[0:10]\n",
    "job_title_3=job_titles_3[0:10]\n",
    "job_title_3"
   ]
  },
  {
   "cell_type": "code",
   "execution_count": 13,
   "id": "244073d8",
   "metadata": {},
   "outputs": [
    {
     "data": {
      "text/plain": [
       "[<selenium.webdriver.remote.webelement.WebElement (session=\"d80e2ad7ccd89b0257fd3436f17e2927\", element=\"c9712503-48b8-4d51-a635-ec1e7eb2e58e\")>,\n",
       " <selenium.webdriver.remote.webelement.WebElement (session=\"d80e2ad7ccd89b0257fd3436f17e2927\", element=\"1f889ef3-0cca-492f-9ad8-59c4c65f962b\")>,\n",
       " <selenium.webdriver.remote.webelement.WebElement (session=\"d80e2ad7ccd89b0257fd3436f17e2927\", element=\"7a8e7643-0961-4f79-ad75-a074c165963e\")>,\n",
       " <selenium.webdriver.remote.webelement.WebElement (session=\"d80e2ad7ccd89b0257fd3436f17e2927\", element=\"4d7c28e8-472d-4c20-9055-511a91c95419\")>,\n",
       " <selenium.webdriver.remote.webelement.WebElement (session=\"d80e2ad7ccd89b0257fd3436f17e2927\", element=\"98deba2e-45ce-417e-90ba-ef8f497431c4\")>,\n",
       " <selenium.webdriver.remote.webelement.WebElement (session=\"d80e2ad7ccd89b0257fd3436f17e2927\", element=\"d0c97890-6e83-4645-a6f1-5799a48956a5\")>,\n",
       " <selenium.webdriver.remote.webelement.WebElement (session=\"d80e2ad7ccd89b0257fd3436f17e2927\", element=\"d93e514e-6174-46ad-8590-4d1c594b2795\")>,\n",
       " <selenium.webdriver.remote.webelement.WebElement (session=\"d80e2ad7ccd89b0257fd3436f17e2927\", element=\"99ae6b01-7b4f-42bc-b56f-00b2a96da8b0\")>,\n",
       " <selenium.webdriver.remote.webelement.WebElement (session=\"d80e2ad7ccd89b0257fd3436f17e2927\", element=\"b26a4fce-caa0-44ad-a078-7c86cb542577\")>,\n",
       " <selenium.webdriver.remote.webelement.WebElement (session=\"d80e2ad7ccd89b0257fd3436f17e2927\", element=\"0edd2243-e4f6-467f-998c-043adce7879a\")>]"
      ]
     },
     "execution_count": 13,
     "metadata": {},
     "output_type": "execute_result"
    }
   ],
   "source": [
    "companies_tags_3=driver_3.find_elements_by_xpath(\"//a[@class='subTitle ellipsis fleft']\")\n",
    "companies_tags_3[0:10]"
   ]
  },
  {
   "cell_type": "code",
   "execution_count": 14,
   "id": "e7925459",
   "metadata": {},
   "outputs": [
    {
     "data": {
      "text/plain": [
       "['OT-SOLUTIONS TECH PRIVATE LIMITED',\n",
       " 'Optum',\n",
       " 'Contactx India',\n",
       " 'Porteck India Infoservices',\n",
       " 'OPPO',\n",
       " 'Innodata Isogen',\n",
       " 'IB Monotaro Private Limited',\n",
       " 'Schneider Electric',\n",
       " 'SMBC',\n",
       " 'Optum']"
      ]
     },
     "execution_count": 14,
     "metadata": {},
     "output_type": "execute_result"
    }
   ],
   "source": [
    "for i in companies_tags_3:\n",
    "    company_name_3=i.text\n",
    "    company_names_3.append(company_name_3)\n",
    "company_names_3[0:10]\n",
    "company_name_3=company_names_3[0:10]\n",
    "company_name_3"
   ]
  },
  {
   "cell_type": "code",
   "execution_count": 15,
   "id": "67ff8e7c",
   "metadata": {},
   "outputs": [
    {
     "data": {
      "text/plain": [
       "[<selenium.webdriver.remote.webelement.WebElement (session=\"d80e2ad7ccd89b0257fd3436f17e2927\", element=\"12e4a794-43de-4eed-902e-5e43ecbbb592\")>,\n",
       " <selenium.webdriver.remote.webelement.WebElement (session=\"d80e2ad7ccd89b0257fd3436f17e2927\", element=\"1788e59d-ad69-40ca-8dc5-46df288f9c2e\")>,\n",
       " <selenium.webdriver.remote.webelement.WebElement (session=\"d80e2ad7ccd89b0257fd3436f17e2927\", element=\"677f7cf9-19ed-4e21-8e93-6cf5f519281f\")>,\n",
       " <selenium.webdriver.remote.webelement.WebElement (session=\"d80e2ad7ccd89b0257fd3436f17e2927\", element=\"aedee4b2-9292-46b1-92a0-2f49cd0f70ff\")>,\n",
       " <selenium.webdriver.remote.webelement.WebElement (session=\"d80e2ad7ccd89b0257fd3436f17e2927\", element=\"4d2ff942-c1cf-4099-8c9b-ec69d0ce0a91\")>,\n",
       " <selenium.webdriver.remote.webelement.WebElement (session=\"d80e2ad7ccd89b0257fd3436f17e2927\", element=\"a1858126-032e-4151-917c-5f1a74a2ccc3\")>,\n",
       " <selenium.webdriver.remote.webelement.WebElement (session=\"d80e2ad7ccd89b0257fd3436f17e2927\", element=\"73afdd14-c194-4f3e-968f-022303e20bbf\")>,\n",
       " <selenium.webdriver.remote.webelement.WebElement (session=\"d80e2ad7ccd89b0257fd3436f17e2927\", element=\"0410ea69-5a6e-4ccb-84d4-a01cbb862638\")>,\n",
       " <selenium.webdriver.remote.webelement.WebElement (session=\"d80e2ad7ccd89b0257fd3436f17e2927\", element=\"be9c89b0-19bd-45df-b2a4-114016dd571f\")>,\n",
       " <selenium.webdriver.remote.webelement.WebElement (session=\"d80e2ad7ccd89b0257fd3436f17e2927\", element=\"4523b1a9-f73f-4f1c-8ede-115795713e53\")>]"
      ]
     },
     "execution_count": 15,
     "metadata": {},
     "output_type": "execute_result"
    }
   ],
   "source": [
    "locations_tags_3=driver_3.find_elements_by_xpath(\"//li[@class='fleft grey-text br2 placeHolderLi location']/span[1]\")\n",
    "locations_tags_3[0:10]"
   ]
  },
  {
   "cell_type": "code",
   "execution_count": 16,
   "id": "b954e3ba",
   "metadata": {},
   "outputs": [
    {
     "data": {
      "text/plain": [
       "['Indore, Bangalore/Bengaluru, Delhi / NCR',\n",
       " 'Noida',\n",
       " 'Mumbai, Delhi / NCR, Bangalore/Bengaluru',\n",
       " 'Noida(Sector-63 Noida), Delhi / NCR',\n",
       " 'Gurgaon/Gurugram',\n",
       " 'Noida',\n",
       " 'Delhi / NCR(Ghitorni)',\n",
       " 'Gurgaon/Gurugram',\n",
       " 'New Delhi',\n",
       " 'Noida']"
      ]
     },
     "execution_count": 16,
     "metadata": {},
     "output_type": "execute_result"
    }
   ],
   "source": [
    "#Now we will extract location text from these tags one by one by looping over these tags.\n",
    "for i in locations_tags_3:\n",
    "    location_3=i.text\n",
    "    location_list_3.append(location_3)\n",
    "location_list_3[0:10]\n",
    "job_location_3=location_list_3[0:10]\n",
    "job_location_3"
   ]
  },
  {
   "cell_type": "code",
   "execution_count": 17,
   "id": "b89f8779",
   "metadata": {},
   "outputs": [
    {
     "data": {
      "text/plain": [
       "[<selenium.webdriver.remote.webelement.WebElement (session=\"d80e2ad7ccd89b0257fd3436f17e2927\", element=\"e78a92cb-6414-43ae-a656-0863775891c9\")>,\n",
       " <selenium.webdriver.remote.webelement.WebElement (session=\"d80e2ad7ccd89b0257fd3436f17e2927\", element=\"d6bd2218-5f7e-4892-b886-028127c392c3\")>,\n",
       " <selenium.webdriver.remote.webelement.WebElement (session=\"d80e2ad7ccd89b0257fd3436f17e2927\", element=\"adfacf4b-aec6-4863-8add-0a3133f4838d\")>,\n",
       " <selenium.webdriver.remote.webelement.WebElement (session=\"d80e2ad7ccd89b0257fd3436f17e2927\", element=\"5f20dd28-3d47-4ad5-be36-f0e6be771aea\")>,\n",
       " <selenium.webdriver.remote.webelement.WebElement (session=\"d80e2ad7ccd89b0257fd3436f17e2927\", element=\"1b3cdbea-ed21-4d55-a2e1-aaecce539c06\")>,\n",
       " <selenium.webdriver.remote.webelement.WebElement (session=\"d80e2ad7ccd89b0257fd3436f17e2927\", element=\"cbb0b30d-ab24-48c1-a75c-1e204e133725\")>,\n",
       " <selenium.webdriver.remote.webelement.WebElement (session=\"d80e2ad7ccd89b0257fd3436f17e2927\", element=\"6552d099-9fe3-4202-a729-027b4af42fe6\")>,\n",
       " <selenium.webdriver.remote.webelement.WebElement (session=\"d80e2ad7ccd89b0257fd3436f17e2927\", element=\"2bb03fc2-00c4-48d5-bbc1-2a6737502d10\")>,\n",
       " <selenium.webdriver.remote.webelement.WebElement (session=\"d80e2ad7ccd89b0257fd3436f17e2927\", element=\"1da349b7-9410-4e3e-9f4b-e2dd1d9ce652\")>,\n",
       " <selenium.webdriver.remote.webelement.WebElement (session=\"d80e2ad7ccd89b0257fd3436f17e2927\", element=\"82cb416e-d7f0-49c8-8176-f317074bb7cc\")>]"
      ]
     },
     "execution_count": 17,
     "metadata": {},
     "output_type": "execute_result"
    }
   ],
   "source": [
    "#Now we will extract experience from experience tags.\n",
    "experience_tags_3=driver_3.find_elements_by_xpath(\"//li[@class='fleft grey-text br2 placeHolderLi experience']/span[1]\")\n",
    "experience_tags_3[0:10]"
   ]
  },
  {
   "cell_type": "code",
   "execution_count": 18,
   "id": "96f19bcd",
   "metadata": {},
   "outputs": [
    {
     "data": {
      "text/plain": [
       "['0-2 Yrs',\n",
       " '3-8 Yrs',\n",
       " '1-6 Yrs',\n",
       " '3-8 Yrs',\n",
       " '3-5 Yrs',\n",
       " '0-0 Yrs',\n",
       " '1-4 Yrs',\n",
       " '2-6 Yrs',\n",
       " '4-8 Yrs',\n",
       " '2-7 Yrs']"
      ]
     },
     "execution_count": 18,
     "metadata": {},
     "output_type": "execute_result"
    }
   ],
   "source": [
    "for i in experience_tags_3:\n",
    "    experience_3=i.text\n",
    "    experience_list_3.append(experience_3)\n",
    "experience_list_3[0:10]\n",
    "experience_required_3=experience_list_3[0:10]\n",
    "experience_required_3"
   ]
  },
  {
   "cell_type": "markdown",
   "id": "5283e922",
   "metadata": {},
   "source": [
    "#### Checking the length of each column"
   ]
  },
  {
   "cell_type": "code",
   "execution_count": 19,
   "id": "656c3250",
   "metadata": {},
   "outputs": [
    {
     "name": "stdout",
     "output_type": "stream",
     "text": [
      "10 10 10 10\n"
     ]
    }
   ],
   "source": [
    "print(len(job_title_3),len(company_name_3),len(job_location_3),len(experience_required_3))"
   ]
  },
  {
   "cell_type": "markdown",
   "id": "552c5603",
   "metadata": {},
   "source": [
    "#### Making DataFrame"
   ]
  },
  {
   "cell_type": "code",
   "execution_count": 20,
   "id": "181a56af",
   "metadata": {},
   "outputs": [
    {
     "data": {
      "text/html": [
       "<div>\n",
       "<style scoped>\n",
       "    .dataframe tbody tr th:only-of-type {\n",
       "        vertical-align: middle;\n",
       "    }\n",
       "\n",
       "    .dataframe tbody tr th {\n",
       "        vertical-align: top;\n",
       "    }\n",
       "\n",
       "    .dataframe thead th {\n",
       "        text-align: right;\n",
       "    }\n",
       "</style>\n",
       "<table border=\"1\" class=\"dataframe\">\n",
       "  <thead>\n",
       "    <tr style=\"text-align: right;\">\n",
       "      <th></th>\n",
       "      <th>job_titles</th>\n",
       "      <th>job_location</th>\n",
       "      <th>company_names</th>\n",
       "      <th>experience_required</th>\n",
       "    </tr>\n",
       "  </thead>\n",
       "  <tbody>\n",
       "    <tr>\n",
       "      <th>0</th>\n",
       "      <td>Customer Acquisition Engineer (Data Analyst)</td>\n",
       "      <td>Indore, Bangalore/Bengaluru, Delhi / NCR</td>\n",
       "      <td>OT-SOLUTIONS TECH PRIVATE LIMITED</td>\n",
       "      <td>0-2 Yrs</td>\n",
       "    </tr>\n",
       "    <tr>\n",
       "      <th>1</th>\n",
       "      <td>Associate Manager Data Analyst</td>\n",
       "      <td>Noida</td>\n",
       "      <td>Optum</td>\n",
       "      <td>3-8 Yrs</td>\n",
       "    </tr>\n",
       "    <tr>\n",
       "      <th>2</th>\n",
       "      <td>Data Analyst</td>\n",
       "      <td>Mumbai, Delhi / NCR, Bangalore/Bengaluru</td>\n",
       "      <td>Contactx India</td>\n",
       "      <td>1-6 Yrs</td>\n",
       "    </tr>\n",
       "    <tr>\n",
       "      <th>3</th>\n",
       "      <td>Data Analyst</td>\n",
       "      <td>Noida(Sector-63 Noida), Delhi / NCR</td>\n",
       "      <td>Porteck India Infoservices</td>\n",
       "      <td>3-8 Yrs</td>\n",
       "    </tr>\n",
       "    <tr>\n",
       "      <th>4</th>\n",
       "      <td>Data Analyst</td>\n",
       "      <td>Gurgaon/Gurugram</td>\n",
       "      <td>OPPO</td>\n",
       "      <td>3-5 Yrs</td>\n",
       "    </tr>\n",
       "    <tr>\n",
       "      <th>5</th>\n",
       "      <td>Data Analyst || Fresher</td>\n",
       "      <td>Noida</td>\n",
       "      <td>Innodata Isogen</td>\n",
       "      <td>0-0 Yrs</td>\n",
       "    </tr>\n",
       "    <tr>\n",
       "      <th>6</th>\n",
       "      <td>Data Analyst</td>\n",
       "      <td>Delhi / NCR(Ghitorni)</td>\n",
       "      <td>IB Monotaro Private Limited</td>\n",
       "      <td>1-4 Yrs</td>\n",
       "    </tr>\n",
       "    <tr>\n",
       "      <th>7</th>\n",
       "      <td>Data Analyst ( FTE Position )</td>\n",
       "      <td>Gurgaon/Gurugram</td>\n",
       "      <td>Schneider Electric</td>\n",
       "      <td>2-6 Yrs</td>\n",
       "    </tr>\n",
       "    <tr>\n",
       "      <th>8</th>\n",
       "      <td>Senior Officer- Data Analyst- New Delhi</td>\n",
       "      <td>New Delhi</td>\n",
       "      <td>SMBC</td>\n",
       "      <td>4-8 Yrs</td>\n",
       "    </tr>\n",
       "    <tr>\n",
       "      <th>9</th>\n",
       "      <td>Data Analyst</td>\n",
       "      <td>Noida</td>\n",
       "      <td>Optum</td>\n",
       "      <td>2-7 Yrs</td>\n",
       "    </tr>\n",
       "  </tbody>\n",
       "</table>\n",
       "</div>"
      ],
      "text/plain": [
       "                                     job_titles  \\\n",
       "0  Customer Acquisition Engineer (Data Analyst)   \n",
       "1                Associate Manager Data Analyst   \n",
       "2                                  Data Analyst   \n",
       "3                                  Data Analyst   \n",
       "4                                  Data Analyst   \n",
       "5                       Data Analyst || Fresher   \n",
       "6                                  Data Analyst   \n",
       "7                 Data Analyst ( FTE Position )   \n",
       "8       Senior Officer- Data Analyst- New Delhi   \n",
       "9                                  Data Analyst   \n",
       "\n",
       "                               job_location  \\\n",
       "0  Indore, Bangalore/Bengaluru, Delhi / NCR   \n",
       "1                                     Noida   \n",
       "2  Mumbai, Delhi / NCR, Bangalore/Bengaluru   \n",
       "3       Noida(Sector-63 Noida), Delhi / NCR   \n",
       "4                          Gurgaon/Gurugram   \n",
       "5                                     Noida   \n",
       "6                     Delhi / NCR(Ghitorni)   \n",
       "7                          Gurgaon/Gurugram   \n",
       "8                                 New Delhi   \n",
       "9                                     Noida   \n",
       "\n",
       "                       company_names experience_required  \n",
       "0  OT-SOLUTIONS TECH PRIVATE LIMITED             0-2 Yrs  \n",
       "1                              Optum             3-8 Yrs  \n",
       "2                     Contactx India             1-6 Yrs  \n",
       "3         Porteck India Infoservices             3-8 Yrs  \n",
       "4                               OPPO             3-5 Yrs  \n",
       "5                    Innodata Isogen             0-0 Yrs  \n",
       "6        IB Monotaro Private Limited             1-4 Yrs  \n",
       "7                 Schneider Electric             2-6 Yrs  \n",
       "8                               SMBC             4-8 Yrs  \n",
       "9                              Optum             2-7 Yrs  "
      ]
     },
     "execution_count": 20,
     "metadata": {},
     "output_type": "execute_result"
    }
   ],
   "source": [
    "import pandas as pd\n",
    "df_3=pd.DataFrame({'job_titles':job_title_3,'job_location':job_location_3,'company_names':company_name_3,'experience_required':experience_required_3})\n",
    "df_3"
   ]
  },
  {
   "cell_type": "code",
   "execution_count": null,
   "id": "7c5129d1",
   "metadata": {},
   "outputs": [],
   "source": []
  },
  {
   "cell_type": "markdown",
   "id": "bd33c466",
   "metadata": {},
   "source": [
    "#---------------------------------------------------------------------------------------------------------------------------------------------------------------------------------------------------------------#"
   ]
  },
  {
   "cell_type": "code",
   "execution_count": null,
   "id": "d056c48c",
   "metadata": {},
   "outputs": [],
   "source": []
  },
  {
   "cell_type": "markdown",
   "id": "4f8a6b00",
   "metadata": {},
   "source": [
    "# Q4: Scrape data of first 100 sunglasses listings on flipkart.com. You have to scrape four attributes:1. Brand, 2. Product Description, 3. Price\n",
    "The attributes which you have to scrape is ticked marked in the below image.\n",
    "To scrape the data you have to go through following steps:\n",
    "1. Go to Flipkart webpage by url : https://www.flipkart.com/\n",
    "2. Enter “sunglasses” in the search field where “search for products, brands andmore” is written and\n",
    "click the search icon\n",
    "3. After that you will reach to the page having a lot of sunglasses. From this pageyou can scrap the\n",
    "required data as usual\n",
    "4. After scraping data from the first page, go to the “Next” Button at the bottom ofthe page , then\n",
    "click on it.\n",
    "5. Now scrape data from this page as usual\n",
    "6. Repeat this until you get data for 100 sunglasses.\n",
    "Note: That all of the above steps have to be done by coding only and not manually.\n",
    "Q5: Scrape 100 reviews data from flipkart.com for iphone11 phone. You have to go the lin"
   ]
  },
  {
   "cell_type": "code",
   "execution_count": 3,
   "id": "b7c73b9b",
   "metadata": {},
   "outputs": [],
   "source": [
    "#Lets connect to the web driver\n",
    "driver_4=webdriver.Chrome(r\"C:\\Users\\X1\\chromedriver_win32\\chromedriver.exe\")"
   ]
  },
  {
   "cell_type": "code",
   "execution_count": 4,
   "id": "f3975e28",
   "metadata": {},
   "outputs": [],
   "source": [
    "driver_4=webdriver.Chrome('chromedriver.exe')\n",
    "time.sleep(2)"
   ]
  },
  {
   "cell_type": "code",
   "execution_count": 5,
   "id": "b451a185",
   "metadata": {},
   "outputs": [],
   "source": [
    "driver_4.close()"
   ]
  },
  {
   "cell_type": "code",
   "execution_count": 5,
   "id": "c8623a75",
   "metadata": {},
   "outputs": [],
   "source": [
    "driver_4.get('https://www.flipkart.com/')"
   ]
  },
  {
   "cell_type": "code",
   "execution_count": 6,
   "id": "9f64337a",
   "metadata": {},
   "outputs": [],
   "source": [
    "search_brand_product_4=driver_4.find_element_by_class_name(\"_3704LK\")  # brand search bar\n",
    "search_brand_product_4.send_keys(\"sunglasses\")"
   ]
  },
  {
   "cell_type": "code",
   "execution_count": 7,
   "id": "b729b02e",
   "metadata": {},
   "outputs": [],
   "source": [
    "search_button_4=driver_4.find_element_by_xpath(\"/html/body/div[1]/div/div[1]/div[1]/div[2]/div[2]/form/div/button\")\n",
    "search_button_4.click()"
   ]
  },
  {
   "cell_type": "code",
   "execution_count": 8,
   "id": "b25018e6",
   "metadata": {},
   "outputs": [],
   "source": [
    "# Specifying the url of the page to be scraped\n",
    "url_4=(\"https://www.flipkart.com/search?q=sunglasses&otracker=search&otracker1=search&marketplace=FLIPKART&as-show=on&as=off\")"
   ]
  },
  {
   "cell_type": "code",
   "execution_count": 9,
   "id": "5ed7649c",
   "metadata": {},
   "outputs": [],
   "source": [
    "#Let's open the web page through the web driver\n",
    "driver_4.get(url_4)"
   ]
  },
  {
   "cell_type": "markdown",
   "id": "9e0967a3",
   "metadata": {},
   "source": [
    "Now let's create 4 empty lists for 4 attributes"
   ]
  },
  {
   "cell_type": "code",
   "execution_count": 10,
   "id": "f436f691",
   "metadata": {},
   "outputs": [],
   "source": [
    "brand_names_4=[]\n",
    "product_description_4=[] \n",
    "price_4=[] \n",
    "discount_4=[]"
   ]
  },
  {
   "cell_type": "code",
   "execution_count": 11,
   "id": "553d698e",
   "metadata": {},
   "outputs": [
    {
     "name": "stdout",
     "output_type": "stream",
     "text": [
      "[<selenium.webdriver.remote.webelement.WebElement (session=\"6ea12a108e0e9ae1c87750faa4952154\", element=\"1c7c2b82-c03a-4bf8-90ab-a53918404582\")>, <selenium.webdriver.remote.webelement.WebElement (session=\"6ea12a108e0e9ae1c87750faa4952154\", element=\"a097aa95-3b6a-48b7-b258-b4190153135f\")>, <selenium.webdriver.remote.webelement.WebElement (session=\"6ea12a108e0e9ae1c87750faa4952154\", element=\"39dd280c-3b27-4aba-8c92-a8d89de7bfcc\")>, <selenium.webdriver.remote.webelement.WebElement (session=\"6ea12a108e0e9ae1c87750faa4952154\", element=\"fbc7bdeb-2c18-4113-a9e1-e2eb4cd13b52\")>, <selenium.webdriver.remote.webelement.WebElement (session=\"6ea12a108e0e9ae1c87750faa4952154\", element=\"734db054-55cb-4cd5-b09e-4755e77be01e\")>, <selenium.webdriver.remote.webelement.WebElement (session=\"6ea12a108e0e9ae1c87750faa4952154\", element=\"2a95c06d-0cf6-4e1c-897d-1f1156f64e3d\")>, <selenium.webdriver.remote.webelement.WebElement (session=\"6ea12a108e0e9ae1c87750faa4952154\", element=\"e0de0977-d174-4ea0-b282-f335024cea01\")>, <selenium.webdriver.remote.webelement.WebElement (session=\"6ea12a108e0e9ae1c87750faa4952154\", element=\"64d90002-18cd-4d00-9a41-0d68ea1328b8\")>, <selenium.webdriver.remote.webelement.WebElement (session=\"6ea12a108e0e9ae1c87750faa4952154\", element=\"bbf4c883-0167-44c4-a7d2-2091767c1ba6\")>, <selenium.webdriver.remote.webelement.WebElement (session=\"6ea12a108e0e9ae1c87750faa4952154\", element=\"2f53e18c-f115-42e8-8ef4-e2bf0ee3f77d\")>, <selenium.webdriver.remote.webelement.WebElement (session=\"6ea12a108e0e9ae1c87750faa4952154\", element=\"7553e196-e8a6-42e0-852a-7d801d880dfe\")>, <selenium.webdriver.remote.webelement.WebElement (session=\"6ea12a108e0e9ae1c87750faa4952154\", element=\"3a08823d-959f-42b7-8574-69d08469db74\")>, <selenium.webdriver.remote.webelement.WebElement (session=\"6ea12a108e0e9ae1c87750faa4952154\", element=\"59c49ca6-77a1-4241-b572-3a5573fe5429\")>, <selenium.webdriver.remote.webelement.WebElement (session=\"6ea12a108e0e9ae1c87750faa4952154\", element=\"83205c73-11eb-454e-9a7c-d260fb61ca46\")>, <selenium.webdriver.remote.webelement.WebElement (session=\"6ea12a108e0e9ae1c87750faa4952154\", element=\"b007ab56-6ace-4a71-ad2e-33e91a2f5cbf\")>, <selenium.webdriver.remote.webelement.WebElement (session=\"6ea12a108e0e9ae1c87750faa4952154\", element=\"f0a08b4c-0819-4e76-ba78-50ec9489e91d\")>, <selenium.webdriver.remote.webelement.WebElement (session=\"6ea12a108e0e9ae1c87750faa4952154\", element=\"391f6e40-ce00-4192-85e7-8a11105a76ee\")>, <selenium.webdriver.remote.webelement.WebElement (session=\"6ea12a108e0e9ae1c87750faa4952154\", element=\"d1e12fb9-b704-42af-8fee-9b70527fedb4\")>, <selenium.webdriver.remote.webelement.WebElement (session=\"6ea12a108e0e9ae1c87750faa4952154\", element=\"5c7b9c17-47cc-41f6-a1a2-39c2c3fcdce8\")>, <selenium.webdriver.remote.webelement.WebElement (session=\"6ea12a108e0e9ae1c87750faa4952154\", element=\"a73cef81-47f1-4f5a-a9dd-792663608a40\")>, <selenium.webdriver.remote.webelement.WebElement (session=\"6ea12a108e0e9ae1c87750faa4952154\", element=\"e3f1adc4-0245-4948-81db-71bff1b2cdb7\")>, <selenium.webdriver.remote.webelement.WebElement (session=\"6ea12a108e0e9ae1c87750faa4952154\", element=\"6279801a-1a08-4f1a-bd9c-bf8dd2288438\")>, <selenium.webdriver.remote.webelement.WebElement (session=\"6ea12a108e0e9ae1c87750faa4952154\", element=\"aaad0698-8f2a-4755-a87c-455f79e09d89\")>, <selenium.webdriver.remote.webelement.WebElement (session=\"6ea12a108e0e9ae1c87750faa4952154\", element=\"224a450c-064b-4f39-b4f9-619c904100fd\")>, <selenium.webdriver.remote.webelement.WebElement (session=\"6ea12a108e0e9ae1c87750faa4952154\", element=\"c3d327b4-3826-49b6-8cae-d799bfda0ccd\")>, <selenium.webdriver.remote.webelement.WebElement (session=\"6ea12a108e0e9ae1c87750faa4952154\", element=\"4c488d81-21ef-4d5a-bebf-64fb877d8d26\")>, <selenium.webdriver.remote.webelement.WebElement (session=\"6ea12a108e0e9ae1c87750faa4952154\", element=\"94524ced-ad35-4640-8ef3-693a946c766f\")>, <selenium.webdriver.remote.webelement.WebElement (session=\"6ea12a108e0e9ae1c87750faa4952154\", element=\"08dcff28-e471-4e55-bbf0-fb9a4024b784\")>, <selenium.webdriver.remote.webelement.WebElement (session=\"6ea12a108e0e9ae1c87750faa4952154\", element=\"4d20cc7b-1c43-4ba5-b891-7f66e4e16b23\")>, <selenium.webdriver.remote.webelement.WebElement (session=\"6ea12a108e0e9ae1c87750faa4952154\", element=\"b2aced1b-ec80-4ca4-ae05-a532ebf64a89\")>, <selenium.webdriver.remote.webelement.WebElement (session=\"6ea12a108e0e9ae1c87750faa4952154\", element=\"be5dece9-e7cc-4841-a5fb-6a5f160df09b\")>, <selenium.webdriver.remote.webelement.WebElement (session=\"6ea12a108e0e9ae1c87750faa4952154\", element=\"be934184-403e-4747-aebf-b12063b05303\")>, <selenium.webdriver.remote.webelement.WebElement (session=\"6ea12a108e0e9ae1c87750faa4952154\", element=\"2863593a-834b-44f4-86d0-700b9783e879\")>, <selenium.webdriver.remote.webelement.WebElement (session=\"6ea12a108e0e9ae1c87750faa4952154\", element=\"25139d22-cb35-41ef-8f11-b4c0d9d55703\")>, <selenium.webdriver.remote.webelement.WebElement (session=\"6ea12a108e0e9ae1c87750faa4952154\", element=\"4af55d02-e196-4040-9172-5ca6ba5e41cc\")>, <selenium.webdriver.remote.webelement.WebElement (session=\"6ea12a108e0e9ae1c87750faa4952154\", element=\"21634201-d2ce-4f5c-9093-8f7b011ef79b\")>, <selenium.webdriver.remote.webelement.WebElement (session=\"6ea12a108e0e9ae1c87750faa4952154\", element=\"fc79e44b-85fb-4870-b80d-19514570480c\")>, <selenium.webdriver.remote.webelement.WebElement (session=\"6ea12a108e0e9ae1c87750faa4952154\", element=\"53a5b169-c4ed-402f-aa14-63f28e4ae5fe\")>, <selenium.webdriver.remote.webelement.WebElement (session=\"6ea12a108e0e9ae1c87750faa4952154\", element=\"79534cc1-d2fd-4e7d-ac32-ef13035aa9b4\")>, <selenium.webdriver.remote.webelement.WebElement (session=\"6ea12a108e0e9ae1c87750faa4952154\", element=\"ae1f80e6-0420-4a10-bfa6-a9eba268fab0\")>]\n",
      "[<selenium.webdriver.remote.webelement.WebElement (session=\"6ea12a108e0e9ae1c87750faa4952154\", element=\"1c7c2b82-c03a-4bf8-90ab-a53918404582\")>, <selenium.webdriver.remote.webelement.WebElement (session=\"6ea12a108e0e9ae1c87750faa4952154\", element=\"a097aa95-3b6a-48b7-b258-b4190153135f\")>, <selenium.webdriver.remote.webelement.WebElement (session=\"6ea12a108e0e9ae1c87750faa4952154\", element=\"39dd280c-3b27-4aba-8c92-a8d89de7bfcc\")>, <selenium.webdriver.remote.webelement.WebElement (session=\"6ea12a108e0e9ae1c87750faa4952154\", element=\"fbc7bdeb-2c18-4113-a9e1-e2eb4cd13b52\")>, <selenium.webdriver.remote.webelement.WebElement (session=\"6ea12a108e0e9ae1c87750faa4952154\", element=\"734db054-55cb-4cd5-b09e-4755e77be01e\")>, <selenium.webdriver.remote.webelement.WebElement (session=\"6ea12a108e0e9ae1c87750faa4952154\", element=\"2a95c06d-0cf6-4e1c-897d-1f1156f64e3d\")>, <selenium.webdriver.remote.webelement.WebElement (session=\"6ea12a108e0e9ae1c87750faa4952154\", element=\"e0de0977-d174-4ea0-b282-f335024cea01\")>, <selenium.webdriver.remote.webelement.WebElement (session=\"6ea12a108e0e9ae1c87750faa4952154\", element=\"64d90002-18cd-4d00-9a41-0d68ea1328b8\")>, <selenium.webdriver.remote.webelement.WebElement (session=\"6ea12a108e0e9ae1c87750faa4952154\", element=\"bbf4c883-0167-44c4-a7d2-2091767c1ba6\")>, <selenium.webdriver.remote.webelement.WebElement (session=\"6ea12a108e0e9ae1c87750faa4952154\", element=\"2f53e18c-f115-42e8-8ef4-e2bf0ee3f77d\")>, <selenium.webdriver.remote.webelement.WebElement (session=\"6ea12a108e0e9ae1c87750faa4952154\", element=\"7553e196-e8a6-42e0-852a-7d801d880dfe\")>, <selenium.webdriver.remote.webelement.WebElement (session=\"6ea12a108e0e9ae1c87750faa4952154\", element=\"3a08823d-959f-42b7-8574-69d08469db74\")>, <selenium.webdriver.remote.webelement.WebElement (session=\"6ea12a108e0e9ae1c87750faa4952154\", element=\"59c49ca6-77a1-4241-b572-3a5573fe5429\")>, <selenium.webdriver.remote.webelement.WebElement (session=\"6ea12a108e0e9ae1c87750faa4952154\", element=\"83205c73-11eb-454e-9a7c-d260fb61ca46\")>, <selenium.webdriver.remote.webelement.WebElement (session=\"6ea12a108e0e9ae1c87750faa4952154\", element=\"b007ab56-6ace-4a71-ad2e-33e91a2f5cbf\")>, <selenium.webdriver.remote.webelement.WebElement (session=\"6ea12a108e0e9ae1c87750faa4952154\", element=\"f0a08b4c-0819-4e76-ba78-50ec9489e91d\")>, <selenium.webdriver.remote.webelement.WebElement (session=\"6ea12a108e0e9ae1c87750faa4952154\", element=\"391f6e40-ce00-4192-85e7-8a11105a76ee\")>, <selenium.webdriver.remote.webelement.WebElement (session=\"6ea12a108e0e9ae1c87750faa4952154\", element=\"d1e12fb9-b704-42af-8fee-9b70527fedb4\")>, <selenium.webdriver.remote.webelement.WebElement (session=\"6ea12a108e0e9ae1c87750faa4952154\", element=\"5c7b9c17-47cc-41f6-a1a2-39c2c3fcdce8\")>, <selenium.webdriver.remote.webelement.WebElement (session=\"6ea12a108e0e9ae1c87750faa4952154\", element=\"a73cef81-47f1-4f5a-a9dd-792663608a40\")>, <selenium.webdriver.remote.webelement.WebElement (session=\"6ea12a108e0e9ae1c87750faa4952154\", element=\"e3f1adc4-0245-4948-81db-71bff1b2cdb7\")>, <selenium.webdriver.remote.webelement.WebElement (session=\"6ea12a108e0e9ae1c87750faa4952154\", element=\"6279801a-1a08-4f1a-bd9c-bf8dd2288438\")>, <selenium.webdriver.remote.webelement.WebElement (session=\"6ea12a108e0e9ae1c87750faa4952154\", element=\"aaad0698-8f2a-4755-a87c-455f79e09d89\")>, <selenium.webdriver.remote.webelement.WebElement (session=\"6ea12a108e0e9ae1c87750faa4952154\", element=\"224a450c-064b-4f39-b4f9-619c904100fd\")>, <selenium.webdriver.remote.webelement.WebElement (session=\"6ea12a108e0e9ae1c87750faa4952154\", element=\"c3d327b4-3826-49b6-8cae-d799bfda0ccd\")>, <selenium.webdriver.remote.webelement.WebElement (session=\"6ea12a108e0e9ae1c87750faa4952154\", element=\"4c488d81-21ef-4d5a-bebf-64fb877d8d26\")>, <selenium.webdriver.remote.webelement.WebElement (session=\"6ea12a108e0e9ae1c87750faa4952154\", element=\"94524ced-ad35-4640-8ef3-693a946c766f\")>, <selenium.webdriver.remote.webelement.WebElement (session=\"6ea12a108e0e9ae1c87750faa4952154\", element=\"08dcff28-e471-4e55-bbf0-fb9a4024b784\")>, <selenium.webdriver.remote.webelement.WebElement (session=\"6ea12a108e0e9ae1c87750faa4952154\", element=\"4d20cc7b-1c43-4ba5-b891-7f66e4e16b23\")>, <selenium.webdriver.remote.webelement.WebElement (session=\"6ea12a108e0e9ae1c87750faa4952154\", element=\"b2aced1b-ec80-4ca4-ae05-a532ebf64a89\")>, <selenium.webdriver.remote.webelement.WebElement (session=\"6ea12a108e0e9ae1c87750faa4952154\", element=\"be5dece9-e7cc-4841-a5fb-6a5f160df09b\")>, <selenium.webdriver.remote.webelement.WebElement (session=\"6ea12a108e0e9ae1c87750faa4952154\", element=\"be934184-403e-4747-aebf-b12063b05303\")>, <selenium.webdriver.remote.webelement.WebElement (session=\"6ea12a108e0e9ae1c87750faa4952154\", element=\"2863593a-834b-44f4-86d0-700b9783e879\")>, <selenium.webdriver.remote.webelement.WebElement (session=\"6ea12a108e0e9ae1c87750faa4952154\", element=\"25139d22-cb35-41ef-8f11-b4c0d9d55703\")>, <selenium.webdriver.remote.webelement.WebElement (session=\"6ea12a108e0e9ae1c87750faa4952154\", element=\"4af55d02-e196-4040-9172-5ca6ba5e41cc\")>, <selenium.webdriver.remote.webelement.WebElement (session=\"6ea12a108e0e9ae1c87750faa4952154\", element=\"21634201-d2ce-4f5c-9093-8f7b011ef79b\")>, <selenium.webdriver.remote.webelement.WebElement (session=\"6ea12a108e0e9ae1c87750faa4952154\", element=\"fc79e44b-85fb-4870-b80d-19514570480c\")>, <selenium.webdriver.remote.webelement.WebElement (session=\"6ea12a108e0e9ae1c87750faa4952154\", element=\"53a5b169-c4ed-402f-aa14-63f28e4ae5fe\")>, <selenium.webdriver.remote.webelement.WebElement (session=\"6ea12a108e0e9ae1c87750faa4952154\", element=\"79534cc1-d2fd-4e7d-ac32-ef13035aa9b4\")>, <selenium.webdriver.remote.webelement.WebElement (session=\"6ea12a108e0e9ae1c87750faa4952154\", element=\"ae1f80e6-0420-4a10-bfa6-a9eba268fab0\")>]\n",
      "[<selenium.webdriver.remote.webelement.WebElement (session=\"6ea12a108e0e9ae1c87750faa4952154\", element=\"1c7c2b82-c03a-4bf8-90ab-a53918404582\")>, <selenium.webdriver.remote.webelement.WebElement (session=\"6ea12a108e0e9ae1c87750faa4952154\", element=\"a097aa95-3b6a-48b7-b258-b4190153135f\")>, <selenium.webdriver.remote.webelement.WebElement (session=\"6ea12a108e0e9ae1c87750faa4952154\", element=\"39dd280c-3b27-4aba-8c92-a8d89de7bfcc\")>, <selenium.webdriver.remote.webelement.WebElement (session=\"6ea12a108e0e9ae1c87750faa4952154\", element=\"fbc7bdeb-2c18-4113-a9e1-e2eb4cd13b52\")>, <selenium.webdriver.remote.webelement.WebElement (session=\"6ea12a108e0e9ae1c87750faa4952154\", element=\"734db054-55cb-4cd5-b09e-4755e77be01e\")>, <selenium.webdriver.remote.webelement.WebElement (session=\"6ea12a108e0e9ae1c87750faa4952154\", element=\"2a95c06d-0cf6-4e1c-897d-1f1156f64e3d\")>, <selenium.webdriver.remote.webelement.WebElement (session=\"6ea12a108e0e9ae1c87750faa4952154\", element=\"e0de0977-d174-4ea0-b282-f335024cea01\")>, <selenium.webdriver.remote.webelement.WebElement (session=\"6ea12a108e0e9ae1c87750faa4952154\", element=\"64d90002-18cd-4d00-9a41-0d68ea1328b8\")>, <selenium.webdriver.remote.webelement.WebElement (session=\"6ea12a108e0e9ae1c87750faa4952154\", element=\"bbf4c883-0167-44c4-a7d2-2091767c1ba6\")>, <selenium.webdriver.remote.webelement.WebElement (session=\"6ea12a108e0e9ae1c87750faa4952154\", element=\"2f53e18c-f115-42e8-8ef4-e2bf0ee3f77d\")>, <selenium.webdriver.remote.webelement.WebElement (session=\"6ea12a108e0e9ae1c87750faa4952154\", element=\"7553e196-e8a6-42e0-852a-7d801d880dfe\")>, <selenium.webdriver.remote.webelement.WebElement (session=\"6ea12a108e0e9ae1c87750faa4952154\", element=\"3a08823d-959f-42b7-8574-69d08469db74\")>, <selenium.webdriver.remote.webelement.WebElement (session=\"6ea12a108e0e9ae1c87750faa4952154\", element=\"59c49ca6-77a1-4241-b572-3a5573fe5429\")>, <selenium.webdriver.remote.webelement.WebElement (session=\"6ea12a108e0e9ae1c87750faa4952154\", element=\"83205c73-11eb-454e-9a7c-d260fb61ca46\")>, <selenium.webdriver.remote.webelement.WebElement (session=\"6ea12a108e0e9ae1c87750faa4952154\", element=\"b007ab56-6ace-4a71-ad2e-33e91a2f5cbf\")>, <selenium.webdriver.remote.webelement.WebElement (session=\"6ea12a108e0e9ae1c87750faa4952154\", element=\"f0a08b4c-0819-4e76-ba78-50ec9489e91d\")>, <selenium.webdriver.remote.webelement.WebElement (session=\"6ea12a108e0e9ae1c87750faa4952154\", element=\"391f6e40-ce00-4192-85e7-8a11105a76ee\")>, <selenium.webdriver.remote.webelement.WebElement (session=\"6ea12a108e0e9ae1c87750faa4952154\", element=\"d1e12fb9-b704-42af-8fee-9b70527fedb4\")>, <selenium.webdriver.remote.webelement.WebElement (session=\"6ea12a108e0e9ae1c87750faa4952154\", element=\"5c7b9c17-47cc-41f6-a1a2-39c2c3fcdce8\")>, <selenium.webdriver.remote.webelement.WebElement (session=\"6ea12a108e0e9ae1c87750faa4952154\", element=\"a73cef81-47f1-4f5a-a9dd-792663608a40\")>, <selenium.webdriver.remote.webelement.WebElement (session=\"6ea12a108e0e9ae1c87750faa4952154\", element=\"e3f1adc4-0245-4948-81db-71bff1b2cdb7\")>, <selenium.webdriver.remote.webelement.WebElement (session=\"6ea12a108e0e9ae1c87750faa4952154\", element=\"6279801a-1a08-4f1a-bd9c-bf8dd2288438\")>, <selenium.webdriver.remote.webelement.WebElement (session=\"6ea12a108e0e9ae1c87750faa4952154\", element=\"aaad0698-8f2a-4755-a87c-455f79e09d89\")>, <selenium.webdriver.remote.webelement.WebElement (session=\"6ea12a108e0e9ae1c87750faa4952154\", element=\"224a450c-064b-4f39-b4f9-619c904100fd\")>, <selenium.webdriver.remote.webelement.WebElement (session=\"6ea12a108e0e9ae1c87750faa4952154\", element=\"c3d327b4-3826-49b6-8cae-d799bfda0ccd\")>, <selenium.webdriver.remote.webelement.WebElement (session=\"6ea12a108e0e9ae1c87750faa4952154\", element=\"4c488d81-21ef-4d5a-bebf-64fb877d8d26\")>, <selenium.webdriver.remote.webelement.WebElement (session=\"6ea12a108e0e9ae1c87750faa4952154\", element=\"94524ced-ad35-4640-8ef3-693a946c766f\")>, <selenium.webdriver.remote.webelement.WebElement (session=\"6ea12a108e0e9ae1c87750faa4952154\", element=\"08dcff28-e471-4e55-bbf0-fb9a4024b784\")>, <selenium.webdriver.remote.webelement.WebElement (session=\"6ea12a108e0e9ae1c87750faa4952154\", element=\"4d20cc7b-1c43-4ba5-b891-7f66e4e16b23\")>, <selenium.webdriver.remote.webelement.WebElement (session=\"6ea12a108e0e9ae1c87750faa4952154\", element=\"b2aced1b-ec80-4ca4-ae05-a532ebf64a89\")>, <selenium.webdriver.remote.webelement.WebElement (session=\"6ea12a108e0e9ae1c87750faa4952154\", element=\"be5dece9-e7cc-4841-a5fb-6a5f160df09b\")>, <selenium.webdriver.remote.webelement.WebElement (session=\"6ea12a108e0e9ae1c87750faa4952154\", element=\"be934184-403e-4747-aebf-b12063b05303\")>, <selenium.webdriver.remote.webelement.WebElement (session=\"6ea12a108e0e9ae1c87750faa4952154\", element=\"2863593a-834b-44f4-86d0-700b9783e879\")>, <selenium.webdriver.remote.webelement.WebElement (session=\"6ea12a108e0e9ae1c87750faa4952154\", element=\"25139d22-cb35-41ef-8f11-b4c0d9d55703\")>, <selenium.webdriver.remote.webelement.WebElement (session=\"6ea12a108e0e9ae1c87750faa4952154\", element=\"4af55d02-e196-4040-9172-5ca6ba5e41cc\")>, <selenium.webdriver.remote.webelement.WebElement (session=\"6ea12a108e0e9ae1c87750faa4952154\", element=\"21634201-d2ce-4f5c-9093-8f7b011ef79b\")>, <selenium.webdriver.remote.webelement.WebElement (session=\"6ea12a108e0e9ae1c87750faa4952154\", element=\"fc79e44b-85fb-4870-b80d-19514570480c\")>, <selenium.webdriver.remote.webelement.WebElement (session=\"6ea12a108e0e9ae1c87750faa4952154\", element=\"53a5b169-c4ed-402f-aa14-63f28e4ae5fe\")>, <selenium.webdriver.remote.webelement.WebElement (session=\"6ea12a108e0e9ae1c87750faa4952154\", element=\"79534cc1-d2fd-4e7d-ac32-ef13035aa9b4\")>, <selenium.webdriver.remote.webelement.WebElement (session=\"6ea12a108e0e9ae1c87750faa4952154\", element=\"ae1f80e6-0420-4a10-bfa6-a9eba268fab0\")>]\n"
     ]
    }
   ],
   "source": [
    "#Lets extract all the tags having brand names from page 1, page 2 and page 3.\n",
    "brand_4_1=driver_4.find_elements_by_xpath(\"//div[@class='_2WkVRV']\")\n",
    "brand_4_2=driver_4.find_elements_by_xpath(\"//div[@class='_2WkVRV']\")\n",
    "brand_4_3=driver_4.find_elements_by_xpath(\"//div[@class='_2WkVRV']\")\n",
    "print(brand_4_1)\n",
    "print(brand_4_2)\n",
    "print(brand_4_3)"
   ]
  },
  {
   "cell_type": "code",
   "execution_count": 12,
   "id": "044d175c",
   "metadata": {},
   "outputs": [
    {
     "data": {
      "text/plain": [
       "['john jacobs',\n",
       " 'AISLIN',\n",
       " 'Elligator',\n",
       " 'SRPM',\n",
       " 'Fastrack',\n",
       " 'SUNBEE',\n",
       " 'SHAAH COLLECTIONS',\n",
       " 'john jacobs',\n",
       " 'Lee Topper',\n",
       " 'Fastrack',\n",
       " 'PIRASO',\n",
       " 'ROZZETTA CRAFT',\n",
       " 'Elligator',\n",
       " 'Lee Topper',\n",
       " 'PIRASO',\n",
       " 'NuVew',\n",
       " 'kingsunglasses',\n",
       " 'New Specs',\n",
       " 'kingsunglasses',\n",
       " 'ROZZETTA CRAFT',\n",
       " 'SUNBEE',\n",
       " 'PIRASO',\n",
       " 'SHAAH COLLECTIONS',\n",
       " 'Singco India',\n",
       " 'Fastrack',\n",
       " 'PIRASO',\n",
       " 'SRPM',\n",
       " 'AISLIN',\n",
       " 'DEIXELS',\n",
       " 'hipe',\n",
       " 'New Specs',\n",
       " 'AISLIN',\n",
       " 'kingsunglasses',\n",
       " 'SRPM',\n",
       " 'Fastrack',\n",
       " 'NuVew',\n",
       " 'hipe',\n",
       " 'PHENOMENAL',\n",
       " 'kingsunglasses',\n",
       " 'VILLAIN',\n",
       " 'john jacobs',\n",
       " 'AISLIN',\n",
       " 'Elligator',\n",
       " 'SRPM',\n",
       " 'Fastrack',\n",
       " 'SUNBEE',\n",
       " 'SHAAH COLLECTIONS',\n",
       " 'john jacobs',\n",
       " 'Lee Topper',\n",
       " 'Fastrack',\n",
       " 'PIRASO',\n",
       " 'ROZZETTA CRAFT',\n",
       " 'Elligator',\n",
       " 'Lee Topper',\n",
       " 'PIRASO',\n",
       " 'NuVew',\n",
       " 'kingsunglasses',\n",
       " 'New Specs',\n",
       " 'kingsunglasses',\n",
       " 'ROZZETTA CRAFT',\n",
       " 'SUNBEE',\n",
       " 'PIRASO',\n",
       " 'SHAAH COLLECTIONS',\n",
       " 'Singco India',\n",
       " 'Fastrack',\n",
       " 'PIRASO',\n",
       " 'SRPM',\n",
       " 'AISLIN',\n",
       " 'DEIXELS',\n",
       " 'hipe',\n",
       " 'New Specs',\n",
       " 'AISLIN',\n",
       " 'kingsunglasses',\n",
       " 'SRPM',\n",
       " 'Fastrack',\n",
       " 'NuVew',\n",
       " 'hipe',\n",
       " 'PHENOMENAL',\n",
       " 'kingsunglasses',\n",
       " 'VILLAIN',\n",
       " 'john jacobs',\n",
       " 'AISLIN',\n",
       " 'Elligator',\n",
       " 'SRPM',\n",
       " 'Fastrack',\n",
       " 'SUNBEE',\n",
       " 'SHAAH COLLECTIONS',\n",
       " 'john jacobs',\n",
       " 'Lee Topper',\n",
       " 'Fastrack',\n",
       " 'PIRASO',\n",
       " 'ROZZETTA CRAFT',\n",
       " 'Elligator',\n",
       " 'Lee Topper',\n",
       " 'PIRASO',\n",
       " 'NuVew',\n",
       " 'kingsunglasses',\n",
       " 'New Specs',\n",
       " 'kingsunglasses',\n",
       " 'ROZZETTA CRAFT',\n",
       " 'SUNBEE',\n",
       " 'PIRASO',\n",
       " 'SHAAH COLLECTIONS',\n",
       " 'Singco India',\n",
       " 'Fastrack',\n",
       " 'PIRASO',\n",
       " 'SRPM',\n",
       " 'AISLIN',\n",
       " 'DEIXELS',\n",
       " 'hipe',\n",
       " 'New Specs',\n",
       " 'AISLIN',\n",
       " 'kingsunglasses',\n",
       " 'SRPM',\n",
       " 'Fastrack',\n",
       " 'NuVew',\n",
       " 'hipe',\n",
       " 'PHENOMENAL',\n",
       " 'kingsunglasses',\n",
       " 'VILLAIN']"
      ]
     },
     "execution_count": 12,
     "metadata": {},
     "output_type": "execute_result"
    }
   ],
   "source": [
    "for i in (brand_4_1+brand_4_2+brand_4_3):\n",
    "    brand_4=i.text\n",
    "    brand_names_4.append(brand_4)\n",
    "brand_names_4"
   ]
  },
  {
   "cell_type": "code",
   "execution_count": 13,
   "id": "9b8fcfb4",
   "metadata": {},
   "outputs": [
    {
     "data": {
      "text/plain": [
       "120"
      ]
     },
     "execution_count": 13,
     "metadata": {},
     "output_type": "execute_result"
    }
   ],
   "source": [
    "len(brand_names_4)"
   ]
  },
  {
   "cell_type": "code",
   "execution_count": 14,
   "id": "6e13e79e",
   "metadata": {},
   "outputs": [
    {
     "name": "stdout",
     "output_type": "stream",
     "text": [
      "[<selenium.webdriver.remote.webelement.WebElement (session=\"6ea12a108e0e9ae1c87750faa4952154\", element=\"93378e95-b484-4413-84ed-3d94b66cbef5\")>, <selenium.webdriver.remote.webelement.WebElement (session=\"6ea12a108e0e9ae1c87750faa4952154\", element=\"f5551a06-904e-4884-9466-0ecb763c56e0\")>, <selenium.webdriver.remote.webelement.WebElement (session=\"6ea12a108e0e9ae1c87750faa4952154\", element=\"663518cd-3f49-4f58-92eb-27988328455e\")>, <selenium.webdriver.remote.webelement.WebElement (session=\"6ea12a108e0e9ae1c87750faa4952154\", element=\"5a57c0c0-4c6f-401e-a873-ac86b8e26a4e\")>, <selenium.webdriver.remote.webelement.WebElement (session=\"6ea12a108e0e9ae1c87750faa4952154\", element=\"60319347-2ae2-4a76-9391-7cad3c75f1a9\")>, <selenium.webdriver.remote.webelement.WebElement (session=\"6ea12a108e0e9ae1c87750faa4952154\", element=\"89d9e1cf-f3af-4a53-a8c4-88144cfeec7d\")>, <selenium.webdriver.remote.webelement.WebElement (session=\"6ea12a108e0e9ae1c87750faa4952154\", element=\"1f751c81-8536-4def-b491-dfe034cb13cf\")>, <selenium.webdriver.remote.webelement.WebElement (session=\"6ea12a108e0e9ae1c87750faa4952154\", element=\"7ba811f8-123e-4c9a-aaa1-3d7c8a34cea5\")>, <selenium.webdriver.remote.webelement.WebElement (session=\"6ea12a108e0e9ae1c87750faa4952154\", element=\"f8c10b63-542f-4d1b-a5ed-299080d81af7\")>, <selenium.webdriver.remote.webelement.WebElement (session=\"6ea12a108e0e9ae1c87750faa4952154\", element=\"6f9a83a4-8383-4ff7-a1d9-b6bb41826efd\")>, <selenium.webdriver.remote.webelement.WebElement (session=\"6ea12a108e0e9ae1c87750faa4952154\", element=\"fa7243d4-109d-4207-8081-b106101cbc00\")>, <selenium.webdriver.remote.webelement.WebElement (session=\"6ea12a108e0e9ae1c87750faa4952154\", element=\"baec3779-9487-40c1-a780-7c48f575fa3e\")>, <selenium.webdriver.remote.webelement.WebElement (session=\"6ea12a108e0e9ae1c87750faa4952154\", element=\"57953fb2-1f2f-482e-9ca1-b55217346607\")>, <selenium.webdriver.remote.webelement.WebElement (session=\"6ea12a108e0e9ae1c87750faa4952154\", element=\"589f44f1-58c0-446f-94c1-ab709b7a1040\")>, <selenium.webdriver.remote.webelement.WebElement (session=\"6ea12a108e0e9ae1c87750faa4952154\", element=\"6c507530-0f11-4594-8c24-a226ba417193\")>, <selenium.webdriver.remote.webelement.WebElement (session=\"6ea12a108e0e9ae1c87750faa4952154\", element=\"6d0a6668-0014-4fa6-8db2-092c1ddb506d\")>, <selenium.webdriver.remote.webelement.WebElement (session=\"6ea12a108e0e9ae1c87750faa4952154\", element=\"45c56f4f-7061-4e18-ba54-b2ffe1f65847\")>, <selenium.webdriver.remote.webelement.WebElement (session=\"6ea12a108e0e9ae1c87750faa4952154\", element=\"16152b1e-69fb-4419-bf27-2692f6c7548e\")>, <selenium.webdriver.remote.webelement.WebElement (session=\"6ea12a108e0e9ae1c87750faa4952154\", element=\"7c38a67d-62db-4481-a1aa-74660b34dc7d\")>, <selenium.webdriver.remote.webelement.WebElement (session=\"6ea12a108e0e9ae1c87750faa4952154\", element=\"3a29ba67-a91f-4159-b42b-cb7b6a34ee1e\")>, <selenium.webdriver.remote.webelement.WebElement (session=\"6ea12a108e0e9ae1c87750faa4952154\", element=\"4920ee68-de5f-4e67-a98d-88bfe7865fb5\")>, <selenium.webdriver.remote.webelement.WebElement (session=\"6ea12a108e0e9ae1c87750faa4952154\", element=\"2c655a50-f657-40dd-a62c-f8cbc01a3e55\")>, <selenium.webdriver.remote.webelement.WebElement (session=\"6ea12a108e0e9ae1c87750faa4952154\", element=\"7ffd6e6c-9c99-4dc8-a753-00de12174074\")>, <selenium.webdriver.remote.webelement.WebElement (session=\"6ea12a108e0e9ae1c87750faa4952154\", element=\"8c98b41e-16d4-4586-a61e-2d6c3ff539ea\")>, <selenium.webdriver.remote.webelement.WebElement (session=\"6ea12a108e0e9ae1c87750faa4952154\", element=\"8d3267c9-13a5-4b87-97de-25a12bdd1b97\")>, <selenium.webdriver.remote.webelement.WebElement (session=\"6ea12a108e0e9ae1c87750faa4952154\", element=\"b3da2973-feda-4b84-a210-f82f53ecebd9\")>, <selenium.webdriver.remote.webelement.WebElement (session=\"6ea12a108e0e9ae1c87750faa4952154\", element=\"46c813d9-a9b3-4d12-b4d7-0815d5beac55\")>, <selenium.webdriver.remote.webelement.WebElement (session=\"6ea12a108e0e9ae1c87750faa4952154\", element=\"2ded5c06-2bd6-41c2-9b96-3c95ea74c131\")>, <selenium.webdriver.remote.webelement.WebElement (session=\"6ea12a108e0e9ae1c87750faa4952154\", element=\"5c54f4ba-c580-4c59-95b1-37a34f810a2b\")>, <selenium.webdriver.remote.webelement.WebElement (session=\"6ea12a108e0e9ae1c87750faa4952154\", element=\"511059cb-c35f-4b94-aff0-21eb4b578af7\")>, <selenium.webdriver.remote.webelement.WebElement (session=\"6ea12a108e0e9ae1c87750faa4952154\", element=\"60c33997-cbc3-46e9-bc79-ee940c985ecb\")>, <selenium.webdriver.remote.webelement.WebElement (session=\"6ea12a108e0e9ae1c87750faa4952154\", element=\"58174e87-d242-4428-931f-c165ce0a4600\")>, <selenium.webdriver.remote.webelement.WebElement (session=\"6ea12a108e0e9ae1c87750faa4952154\", element=\"a6cb3b93-cd5e-425e-9678-3c9f801a4ed6\")>, <selenium.webdriver.remote.webelement.WebElement (session=\"6ea12a108e0e9ae1c87750faa4952154\", element=\"ad9eda93-4236-463f-8dec-31f6dae8b8e4\")>, <selenium.webdriver.remote.webelement.WebElement (session=\"6ea12a108e0e9ae1c87750faa4952154\", element=\"525e65c0-1103-4023-af4f-90b479ad52dc\")>, <selenium.webdriver.remote.webelement.WebElement (session=\"6ea12a108e0e9ae1c87750faa4952154\", element=\"3d058a8d-3e97-46e5-9fbd-ddf049a4bb84\")>, <selenium.webdriver.remote.webelement.WebElement (session=\"6ea12a108e0e9ae1c87750faa4952154\", element=\"70568dd3-34e0-4a61-add7-a796e00b9014\")>, <selenium.webdriver.remote.webelement.WebElement (session=\"6ea12a108e0e9ae1c87750faa4952154\", element=\"2280faff-586a-49b8-909d-f29dff809c5c\")>, <selenium.webdriver.remote.webelement.WebElement (session=\"6ea12a108e0e9ae1c87750faa4952154\", element=\"57280548-cc8c-4edd-8239-d0052622d864\")>, <selenium.webdriver.remote.webelement.WebElement (session=\"6ea12a108e0e9ae1c87750faa4952154\", element=\"e9d732da-d82c-442f-a3d2-4657e8644a64\")>]\n",
      "[<selenium.webdriver.remote.webelement.WebElement (session=\"6ea12a108e0e9ae1c87750faa4952154\", element=\"93378e95-b484-4413-84ed-3d94b66cbef5\")>, <selenium.webdriver.remote.webelement.WebElement (session=\"6ea12a108e0e9ae1c87750faa4952154\", element=\"f5551a06-904e-4884-9466-0ecb763c56e0\")>, <selenium.webdriver.remote.webelement.WebElement (session=\"6ea12a108e0e9ae1c87750faa4952154\", element=\"663518cd-3f49-4f58-92eb-27988328455e\")>, <selenium.webdriver.remote.webelement.WebElement (session=\"6ea12a108e0e9ae1c87750faa4952154\", element=\"5a57c0c0-4c6f-401e-a873-ac86b8e26a4e\")>, <selenium.webdriver.remote.webelement.WebElement (session=\"6ea12a108e0e9ae1c87750faa4952154\", element=\"60319347-2ae2-4a76-9391-7cad3c75f1a9\")>, <selenium.webdriver.remote.webelement.WebElement (session=\"6ea12a108e0e9ae1c87750faa4952154\", element=\"89d9e1cf-f3af-4a53-a8c4-88144cfeec7d\")>, <selenium.webdriver.remote.webelement.WebElement (session=\"6ea12a108e0e9ae1c87750faa4952154\", element=\"1f751c81-8536-4def-b491-dfe034cb13cf\")>, <selenium.webdriver.remote.webelement.WebElement (session=\"6ea12a108e0e9ae1c87750faa4952154\", element=\"7ba811f8-123e-4c9a-aaa1-3d7c8a34cea5\")>, <selenium.webdriver.remote.webelement.WebElement (session=\"6ea12a108e0e9ae1c87750faa4952154\", element=\"f8c10b63-542f-4d1b-a5ed-299080d81af7\")>, <selenium.webdriver.remote.webelement.WebElement (session=\"6ea12a108e0e9ae1c87750faa4952154\", element=\"6f9a83a4-8383-4ff7-a1d9-b6bb41826efd\")>, <selenium.webdriver.remote.webelement.WebElement (session=\"6ea12a108e0e9ae1c87750faa4952154\", element=\"fa7243d4-109d-4207-8081-b106101cbc00\")>, <selenium.webdriver.remote.webelement.WebElement (session=\"6ea12a108e0e9ae1c87750faa4952154\", element=\"baec3779-9487-40c1-a780-7c48f575fa3e\")>, <selenium.webdriver.remote.webelement.WebElement (session=\"6ea12a108e0e9ae1c87750faa4952154\", element=\"57953fb2-1f2f-482e-9ca1-b55217346607\")>, <selenium.webdriver.remote.webelement.WebElement (session=\"6ea12a108e0e9ae1c87750faa4952154\", element=\"589f44f1-58c0-446f-94c1-ab709b7a1040\")>, <selenium.webdriver.remote.webelement.WebElement (session=\"6ea12a108e0e9ae1c87750faa4952154\", element=\"6c507530-0f11-4594-8c24-a226ba417193\")>, <selenium.webdriver.remote.webelement.WebElement (session=\"6ea12a108e0e9ae1c87750faa4952154\", element=\"6d0a6668-0014-4fa6-8db2-092c1ddb506d\")>, <selenium.webdriver.remote.webelement.WebElement (session=\"6ea12a108e0e9ae1c87750faa4952154\", element=\"45c56f4f-7061-4e18-ba54-b2ffe1f65847\")>, <selenium.webdriver.remote.webelement.WebElement (session=\"6ea12a108e0e9ae1c87750faa4952154\", element=\"16152b1e-69fb-4419-bf27-2692f6c7548e\")>, <selenium.webdriver.remote.webelement.WebElement (session=\"6ea12a108e0e9ae1c87750faa4952154\", element=\"7c38a67d-62db-4481-a1aa-74660b34dc7d\")>, <selenium.webdriver.remote.webelement.WebElement (session=\"6ea12a108e0e9ae1c87750faa4952154\", element=\"3a29ba67-a91f-4159-b42b-cb7b6a34ee1e\")>, <selenium.webdriver.remote.webelement.WebElement (session=\"6ea12a108e0e9ae1c87750faa4952154\", element=\"4920ee68-de5f-4e67-a98d-88bfe7865fb5\")>, <selenium.webdriver.remote.webelement.WebElement (session=\"6ea12a108e0e9ae1c87750faa4952154\", element=\"2c655a50-f657-40dd-a62c-f8cbc01a3e55\")>, <selenium.webdriver.remote.webelement.WebElement (session=\"6ea12a108e0e9ae1c87750faa4952154\", element=\"7ffd6e6c-9c99-4dc8-a753-00de12174074\")>, <selenium.webdriver.remote.webelement.WebElement (session=\"6ea12a108e0e9ae1c87750faa4952154\", element=\"8c98b41e-16d4-4586-a61e-2d6c3ff539ea\")>, <selenium.webdriver.remote.webelement.WebElement (session=\"6ea12a108e0e9ae1c87750faa4952154\", element=\"8d3267c9-13a5-4b87-97de-25a12bdd1b97\")>, <selenium.webdriver.remote.webelement.WebElement (session=\"6ea12a108e0e9ae1c87750faa4952154\", element=\"b3da2973-feda-4b84-a210-f82f53ecebd9\")>, <selenium.webdriver.remote.webelement.WebElement (session=\"6ea12a108e0e9ae1c87750faa4952154\", element=\"46c813d9-a9b3-4d12-b4d7-0815d5beac55\")>, <selenium.webdriver.remote.webelement.WebElement (session=\"6ea12a108e0e9ae1c87750faa4952154\", element=\"2ded5c06-2bd6-41c2-9b96-3c95ea74c131\")>, <selenium.webdriver.remote.webelement.WebElement (session=\"6ea12a108e0e9ae1c87750faa4952154\", element=\"5c54f4ba-c580-4c59-95b1-37a34f810a2b\")>, <selenium.webdriver.remote.webelement.WebElement (session=\"6ea12a108e0e9ae1c87750faa4952154\", element=\"511059cb-c35f-4b94-aff0-21eb4b578af7\")>, <selenium.webdriver.remote.webelement.WebElement (session=\"6ea12a108e0e9ae1c87750faa4952154\", element=\"60c33997-cbc3-46e9-bc79-ee940c985ecb\")>, <selenium.webdriver.remote.webelement.WebElement (session=\"6ea12a108e0e9ae1c87750faa4952154\", element=\"58174e87-d242-4428-931f-c165ce0a4600\")>, <selenium.webdriver.remote.webelement.WebElement (session=\"6ea12a108e0e9ae1c87750faa4952154\", element=\"a6cb3b93-cd5e-425e-9678-3c9f801a4ed6\")>, <selenium.webdriver.remote.webelement.WebElement (session=\"6ea12a108e0e9ae1c87750faa4952154\", element=\"ad9eda93-4236-463f-8dec-31f6dae8b8e4\")>, <selenium.webdriver.remote.webelement.WebElement (session=\"6ea12a108e0e9ae1c87750faa4952154\", element=\"525e65c0-1103-4023-af4f-90b479ad52dc\")>, <selenium.webdriver.remote.webelement.WebElement (session=\"6ea12a108e0e9ae1c87750faa4952154\", element=\"3d058a8d-3e97-46e5-9fbd-ddf049a4bb84\")>, <selenium.webdriver.remote.webelement.WebElement (session=\"6ea12a108e0e9ae1c87750faa4952154\", element=\"70568dd3-34e0-4a61-add7-a796e00b9014\")>, <selenium.webdriver.remote.webelement.WebElement (session=\"6ea12a108e0e9ae1c87750faa4952154\", element=\"2280faff-586a-49b8-909d-f29dff809c5c\")>, <selenium.webdriver.remote.webelement.WebElement (session=\"6ea12a108e0e9ae1c87750faa4952154\", element=\"57280548-cc8c-4edd-8239-d0052622d864\")>, <selenium.webdriver.remote.webelement.WebElement (session=\"6ea12a108e0e9ae1c87750faa4952154\", element=\"e9d732da-d82c-442f-a3d2-4657e8644a64\")>]\n",
      "[<selenium.webdriver.remote.webelement.WebElement (session=\"6ea12a108e0e9ae1c87750faa4952154\", element=\"93378e95-b484-4413-84ed-3d94b66cbef5\")>, <selenium.webdriver.remote.webelement.WebElement (session=\"6ea12a108e0e9ae1c87750faa4952154\", element=\"f5551a06-904e-4884-9466-0ecb763c56e0\")>, <selenium.webdriver.remote.webelement.WebElement (session=\"6ea12a108e0e9ae1c87750faa4952154\", element=\"663518cd-3f49-4f58-92eb-27988328455e\")>, <selenium.webdriver.remote.webelement.WebElement (session=\"6ea12a108e0e9ae1c87750faa4952154\", element=\"5a57c0c0-4c6f-401e-a873-ac86b8e26a4e\")>, <selenium.webdriver.remote.webelement.WebElement (session=\"6ea12a108e0e9ae1c87750faa4952154\", element=\"60319347-2ae2-4a76-9391-7cad3c75f1a9\")>, <selenium.webdriver.remote.webelement.WebElement (session=\"6ea12a108e0e9ae1c87750faa4952154\", element=\"89d9e1cf-f3af-4a53-a8c4-88144cfeec7d\")>, <selenium.webdriver.remote.webelement.WebElement (session=\"6ea12a108e0e9ae1c87750faa4952154\", element=\"1f751c81-8536-4def-b491-dfe034cb13cf\")>, <selenium.webdriver.remote.webelement.WebElement (session=\"6ea12a108e0e9ae1c87750faa4952154\", element=\"7ba811f8-123e-4c9a-aaa1-3d7c8a34cea5\")>, <selenium.webdriver.remote.webelement.WebElement (session=\"6ea12a108e0e9ae1c87750faa4952154\", element=\"f8c10b63-542f-4d1b-a5ed-299080d81af7\")>, <selenium.webdriver.remote.webelement.WebElement (session=\"6ea12a108e0e9ae1c87750faa4952154\", element=\"6f9a83a4-8383-4ff7-a1d9-b6bb41826efd\")>, <selenium.webdriver.remote.webelement.WebElement (session=\"6ea12a108e0e9ae1c87750faa4952154\", element=\"fa7243d4-109d-4207-8081-b106101cbc00\")>, <selenium.webdriver.remote.webelement.WebElement (session=\"6ea12a108e0e9ae1c87750faa4952154\", element=\"baec3779-9487-40c1-a780-7c48f575fa3e\")>, <selenium.webdriver.remote.webelement.WebElement (session=\"6ea12a108e0e9ae1c87750faa4952154\", element=\"57953fb2-1f2f-482e-9ca1-b55217346607\")>, <selenium.webdriver.remote.webelement.WebElement (session=\"6ea12a108e0e9ae1c87750faa4952154\", element=\"589f44f1-58c0-446f-94c1-ab709b7a1040\")>, <selenium.webdriver.remote.webelement.WebElement (session=\"6ea12a108e0e9ae1c87750faa4952154\", element=\"6c507530-0f11-4594-8c24-a226ba417193\")>, <selenium.webdriver.remote.webelement.WebElement (session=\"6ea12a108e0e9ae1c87750faa4952154\", element=\"6d0a6668-0014-4fa6-8db2-092c1ddb506d\")>, <selenium.webdriver.remote.webelement.WebElement (session=\"6ea12a108e0e9ae1c87750faa4952154\", element=\"45c56f4f-7061-4e18-ba54-b2ffe1f65847\")>, <selenium.webdriver.remote.webelement.WebElement (session=\"6ea12a108e0e9ae1c87750faa4952154\", element=\"16152b1e-69fb-4419-bf27-2692f6c7548e\")>, <selenium.webdriver.remote.webelement.WebElement (session=\"6ea12a108e0e9ae1c87750faa4952154\", element=\"7c38a67d-62db-4481-a1aa-74660b34dc7d\")>, <selenium.webdriver.remote.webelement.WebElement (session=\"6ea12a108e0e9ae1c87750faa4952154\", element=\"3a29ba67-a91f-4159-b42b-cb7b6a34ee1e\")>, <selenium.webdriver.remote.webelement.WebElement (session=\"6ea12a108e0e9ae1c87750faa4952154\", element=\"4920ee68-de5f-4e67-a98d-88bfe7865fb5\")>, <selenium.webdriver.remote.webelement.WebElement (session=\"6ea12a108e0e9ae1c87750faa4952154\", element=\"2c655a50-f657-40dd-a62c-f8cbc01a3e55\")>, <selenium.webdriver.remote.webelement.WebElement (session=\"6ea12a108e0e9ae1c87750faa4952154\", element=\"7ffd6e6c-9c99-4dc8-a753-00de12174074\")>, <selenium.webdriver.remote.webelement.WebElement (session=\"6ea12a108e0e9ae1c87750faa4952154\", element=\"8c98b41e-16d4-4586-a61e-2d6c3ff539ea\")>, <selenium.webdriver.remote.webelement.WebElement (session=\"6ea12a108e0e9ae1c87750faa4952154\", element=\"8d3267c9-13a5-4b87-97de-25a12bdd1b97\")>, <selenium.webdriver.remote.webelement.WebElement (session=\"6ea12a108e0e9ae1c87750faa4952154\", element=\"b3da2973-feda-4b84-a210-f82f53ecebd9\")>, <selenium.webdriver.remote.webelement.WebElement (session=\"6ea12a108e0e9ae1c87750faa4952154\", element=\"46c813d9-a9b3-4d12-b4d7-0815d5beac55\")>, <selenium.webdriver.remote.webelement.WebElement (session=\"6ea12a108e0e9ae1c87750faa4952154\", element=\"2ded5c06-2bd6-41c2-9b96-3c95ea74c131\")>, <selenium.webdriver.remote.webelement.WebElement (session=\"6ea12a108e0e9ae1c87750faa4952154\", element=\"5c54f4ba-c580-4c59-95b1-37a34f810a2b\")>, <selenium.webdriver.remote.webelement.WebElement (session=\"6ea12a108e0e9ae1c87750faa4952154\", element=\"511059cb-c35f-4b94-aff0-21eb4b578af7\")>, <selenium.webdriver.remote.webelement.WebElement (session=\"6ea12a108e0e9ae1c87750faa4952154\", element=\"60c33997-cbc3-46e9-bc79-ee940c985ecb\")>, <selenium.webdriver.remote.webelement.WebElement (session=\"6ea12a108e0e9ae1c87750faa4952154\", element=\"58174e87-d242-4428-931f-c165ce0a4600\")>, <selenium.webdriver.remote.webelement.WebElement (session=\"6ea12a108e0e9ae1c87750faa4952154\", element=\"a6cb3b93-cd5e-425e-9678-3c9f801a4ed6\")>, <selenium.webdriver.remote.webelement.WebElement (session=\"6ea12a108e0e9ae1c87750faa4952154\", element=\"ad9eda93-4236-463f-8dec-31f6dae8b8e4\")>, <selenium.webdriver.remote.webelement.WebElement (session=\"6ea12a108e0e9ae1c87750faa4952154\", element=\"525e65c0-1103-4023-af4f-90b479ad52dc\")>, <selenium.webdriver.remote.webelement.WebElement (session=\"6ea12a108e0e9ae1c87750faa4952154\", element=\"3d058a8d-3e97-46e5-9fbd-ddf049a4bb84\")>, <selenium.webdriver.remote.webelement.WebElement (session=\"6ea12a108e0e9ae1c87750faa4952154\", element=\"70568dd3-34e0-4a61-add7-a796e00b9014\")>, <selenium.webdriver.remote.webelement.WebElement (session=\"6ea12a108e0e9ae1c87750faa4952154\", element=\"2280faff-586a-49b8-909d-f29dff809c5c\")>, <selenium.webdriver.remote.webelement.WebElement (session=\"6ea12a108e0e9ae1c87750faa4952154\", element=\"57280548-cc8c-4edd-8239-d0052622d864\")>, <selenium.webdriver.remote.webelement.WebElement (session=\"6ea12a108e0e9ae1c87750faa4952154\", element=\"e9d732da-d82c-442f-a3d2-4657e8644a64\")>]\n"
     ]
    }
   ],
   "source": [
    "product_4_1=driver_4.find_elements_by_xpath(\"//a[@class='IRpwTa']\")\n",
    "product_4_2=driver_4.find_elements_by_xpath(\"//a[@class='IRpwTa']\")\n",
    "product_4_3=driver_4.find_elements_by_xpath(\"//a[@class='IRpwTa']\")\n",
    "print(product_4_1)\n",
    "print(product_4_2)\n",
    "print(product_4_3)"
   ]
  },
  {
   "cell_type": "code",
   "execution_count": 15,
   "id": "b26df08e",
   "metadata": {},
   "outputs": [
    {
     "data": {
      "text/plain": [
       "['UV Protection Clubmaster Sunglasses (47)',\n",
       " 'UV Protection, Gradient Cat-eye Sunglasses (58)',\n",
       " 'UV Protection Round Sunglasses (54)',\n",
       " 'UV Protection Wayfarer Sunglasses (50)',\n",
       " 'UV Protection Wayfarer Sunglasses (Free Size)',\n",
       " 'UV Protection, Polarized Wayfarer Sunglasses (Free Size...',\n",
       " 'UV Protection, Polarized, Mirrored Rectangular Sunglass...',\n",
       " 'UV Protection Round Sunglasses (54)',\n",
       " 'Riding Glasses Wrap-around Sunglasses (Free Size)',\n",
       " 'UV Protection Rectangular Sunglasses (Free Size)',\n",
       " 'UV Protection Aviator Sunglasses (54)',\n",
       " 'UV Protection, Gradient Retro Square Sunglasses (Free S...',\n",
       " 'UV Protection Round Sunglasses (53)',\n",
       " 'UV Protection Rectangular Sunglasses (Free Size)',\n",
       " 'UV Protection Wayfarer Sunglasses (32)',\n",
       " 'UV Protection Retro Square, Wayfarer Sunglasses (58)',\n",
       " 'UV Protection Round Sunglasses (Free Size)',\n",
       " 'Mirrored, UV Protection, Riding Glasses, Others Round S...',\n",
       " 'UV Protection, Riding Glasses, Mirrored Wayfarer Sungla...',\n",
       " 'UV Protection, Gradient Retro Square Sunglasses (62)',\n",
       " 'UV Protection, Polarized, Mirrored Round Sunglasses (Fr...',\n",
       " 'UV Protection Aviator Sunglasses (54)',\n",
       " 'UV Protection, Polarized, Mirrored Rectangular Sunglass...',\n",
       " 'UV Protection, Mirrored, Others Aviator Sunglasses (33)',\n",
       " 'UV Protection Wayfarer Sunglasses (Free Size)',\n",
       " 'UV Protection Aviator Sunglasses (54)',\n",
       " 'UV Protection Wayfarer Sunglasses (54)',\n",
       " 'UV Protection, Gradient Round, Cat-eye Sunglasses (60)',\n",
       " 'UV Protection Aviator, Wayfarer Sunglasses (Free Size)',\n",
       " 'UV Protection Aviator Sunglasses (Free Size)',\n",
       " 'UV Protection, Mirrored Sports Sunglasses (Free Size)',\n",
       " 'UV Protection, Gradient Oval Sunglasses (58)',\n",
       " 'Mirrored, UV Protection Wayfarer Sunglasses (Free Size)',\n",
       " 'Others Wayfarer, Retro Square Sunglasses (50)',\n",
       " 'UV Protection Shield Sunglasses (Free Size)',\n",
       " 'UV Protection Cat-eye Sunglasses (60)',\n",
       " 'UV Protection, Gradient, Mirrored, Riding Glasses Aviat...',\n",
       " 'UV Protection Retro Square Sunglasses (53)',\n",
       " 'UV Protection Round Sunglasses (54)',\n",
       " 'Others Wayfarer Sunglasses (Free Size)',\n",
       " 'UV Protection Clubmaster Sunglasses (47)',\n",
       " 'UV Protection, Gradient Cat-eye Sunglasses (58)',\n",
       " 'UV Protection Round Sunglasses (54)',\n",
       " 'UV Protection Wayfarer Sunglasses (50)',\n",
       " 'UV Protection Wayfarer Sunglasses (Free Size)',\n",
       " 'UV Protection, Polarized Wayfarer Sunglasses (Free Size...',\n",
       " 'UV Protection, Polarized, Mirrored Rectangular Sunglass...',\n",
       " 'UV Protection Round Sunglasses (54)',\n",
       " 'Riding Glasses Wrap-around Sunglasses (Free Size)',\n",
       " 'UV Protection Rectangular Sunglasses (Free Size)',\n",
       " 'UV Protection Aviator Sunglasses (54)',\n",
       " 'UV Protection, Gradient Retro Square Sunglasses (Free S...',\n",
       " 'UV Protection Round Sunglasses (53)',\n",
       " 'UV Protection Rectangular Sunglasses (Free Size)',\n",
       " 'UV Protection Wayfarer Sunglasses (32)',\n",
       " 'UV Protection Retro Square, Wayfarer Sunglasses (58)',\n",
       " 'UV Protection Round Sunglasses (Free Size)',\n",
       " 'Mirrored, UV Protection, Riding Glasses, Others Round S...',\n",
       " 'UV Protection, Riding Glasses, Mirrored Wayfarer Sungla...',\n",
       " 'UV Protection, Gradient Retro Square Sunglasses (62)',\n",
       " 'UV Protection, Polarized, Mirrored Round Sunglasses (Fr...',\n",
       " 'UV Protection Aviator Sunglasses (54)',\n",
       " 'UV Protection, Polarized, Mirrored Rectangular Sunglass...',\n",
       " 'UV Protection, Mirrored, Others Aviator Sunglasses (33)',\n",
       " 'UV Protection Wayfarer Sunglasses (Free Size)',\n",
       " 'UV Protection Aviator Sunglasses (54)',\n",
       " 'UV Protection Wayfarer Sunglasses (54)',\n",
       " 'UV Protection, Gradient Round, Cat-eye Sunglasses (60)',\n",
       " 'UV Protection Aviator, Wayfarer Sunglasses (Free Size)',\n",
       " 'UV Protection Aviator Sunglasses (Free Size)',\n",
       " 'UV Protection, Mirrored Sports Sunglasses (Free Size)',\n",
       " 'UV Protection, Gradient Oval Sunglasses (58)',\n",
       " 'Mirrored, UV Protection Wayfarer Sunglasses (Free Size)',\n",
       " 'Others Wayfarer, Retro Square Sunglasses (50)',\n",
       " 'UV Protection Shield Sunglasses (Free Size)',\n",
       " 'UV Protection Cat-eye Sunglasses (60)',\n",
       " 'UV Protection, Gradient, Mirrored, Riding Glasses Aviat...',\n",
       " 'UV Protection Retro Square Sunglasses (53)',\n",
       " 'UV Protection Round Sunglasses (54)',\n",
       " 'Others Wayfarer Sunglasses (Free Size)',\n",
       " 'UV Protection Clubmaster Sunglasses (47)',\n",
       " 'UV Protection, Gradient Cat-eye Sunglasses (58)',\n",
       " 'UV Protection Round Sunglasses (54)',\n",
       " 'UV Protection Wayfarer Sunglasses (50)',\n",
       " 'UV Protection Wayfarer Sunglasses (Free Size)',\n",
       " 'UV Protection, Polarized Wayfarer Sunglasses (Free Size...',\n",
       " 'UV Protection, Polarized, Mirrored Rectangular Sunglass...',\n",
       " 'UV Protection Round Sunglasses (54)',\n",
       " 'Riding Glasses Wrap-around Sunglasses (Free Size)',\n",
       " 'UV Protection Rectangular Sunglasses (Free Size)',\n",
       " 'UV Protection Aviator Sunglasses (54)',\n",
       " 'UV Protection, Gradient Retro Square Sunglasses (Free S...',\n",
       " 'UV Protection Round Sunglasses (53)',\n",
       " 'UV Protection Rectangular Sunglasses (Free Size)',\n",
       " 'UV Protection Wayfarer Sunglasses (32)',\n",
       " 'UV Protection Retro Square, Wayfarer Sunglasses (58)',\n",
       " 'UV Protection Round Sunglasses (Free Size)',\n",
       " 'Mirrored, UV Protection, Riding Glasses, Others Round S...',\n",
       " 'UV Protection, Riding Glasses, Mirrored Wayfarer Sungla...',\n",
       " 'UV Protection, Gradient Retro Square Sunglasses (62)',\n",
       " 'UV Protection, Polarized, Mirrored Round Sunglasses (Fr...',\n",
       " 'UV Protection Aviator Sunglasses (54)',\n",
       " 'UV Protection, Polarized, Mirrored Rectangular Sunglass...',\n",
       " 'UV Protection, Mirrored, Others Aviator Sunglasses (33)',\n",
       " 'UV Protection Wayfarer Sunglasses (Free Size)',\n",
       " 'UV Protection Aviator Sunglasses (54)',\n",
       " 'UV Protection Wayfarer Sunglasses (54)',\n",
       " 'UV Protection, Gradient Round, Cat-eye Sunglasses (60)',\n",
       " 'UV Protection Aviator, Wayfarer Sunglasses (Free Size)',\n",
       " 'UV Protection Aviator Sunglasses (Free Size)',\n",
       " 'UV Protection, Mirrored Sports Sunglasses (Free Size)',\n",
       " 'UV Protection, Gradient Oval Sunglasses (58)',\n",
       " 'Mirrored, UV Protection Wayfarer Sunglasses (Free Size)',\n",
       " 'Others Wayfarer, Retro Square Sunglasses (50)',\n",
       " 'UV Protection Shield Sunglasses (Free Size)',\n",
       " 'UV Protection Cat-eye Sunglasses (60)',\n",
       " 'UV Protection, Gradient, Mirrored, Riding Glasses Aviat...',\n",
       " 'UV Protection Retro Square Sunglasses (53)',\n",
       " 'UV Protection Round Sunglasses (54)',\n",
       " 'Others Wayfarer Sunglasses (Free Size)']"
      ]
     },
     "execution_count": 15,
     "metadata": {},
     "output_type": "execute_result"
    }
   ],
   "source": [
    "for i in (product_4_1+product_4_2+product_4_3):\n",
    "    product_4=i.text\n",
    "    product_description_4.append(product_4)\n",
    "product_description_4"
   ]
  },
  {
   "cell_type": "code",
   "execution_count": 16,
   "id": "7c88d683",
   "metadata": {},
   "outputs": [
    {
     "data": {
      "text/plain": [
       "120"
      ]
     },
     "execution_count": 16,
     "metadata": {},
     "output_type": "execute_result"
    }
   ],
   "source": [
    "len(product_description_4)"
   ]
  },
  {
   "cell_type": "code",
   "execution_count": 17,
   "id": "5e88b69a",
   "metadata": {},
   "outputs": [
    {
     "name": "stdout",
     "output_type": "stream",
     "text": [
      "[<selenium.webdriver.remote.webelement.WebElement (session=\"6ea12a108e0e9ae1c87750faa4952154\", element=\"6f811ff1-5f81-483c-b3fa-baf84bdae32b\")>, <selenium.webdriver.remote.webelement.WebElement (session=\"6ea12a108e0e9ae1c87750faa4952154\", element=\"993e62c4-8cb0-48cc-96ef-15561f81e07f\")>, <selenium.webdriver.remote.webelement.WebElement (session=\"6ea12a108e0e9ae1c87750faa4952154\", element=\"1a4998cd-82c5-49cf-8743-2d904acbb508\")>, <selenium.webdriver.remote.webelement.WebElement (session=\"6ea12a108e0e9ae1c87750faa4952154\", element=\"3e783997-8b31-499f-ac5f-a78c184f7bb4\")>, <selenium.webdriver.remote.webelement.WebElement (session=\"6ea12a108e0e9ae1c87750faa4952154\", element=\"ec5f6d59-d88d-4495-a972-0fbfc3fd3e02\")>, <selenium.webdriver.remote.webelement.WebElement (session=\"6ea12a108e0e9ae1c87750faa4952154\", element=\"51de5413-c1ab-4b40-b7aa-4202892db5ea\")>, <selenium.webdriver.remote.webelement.WebElement (session=\"6ea12a108e0e9ae1c87750faa4952154\", element=\"b3b8713f-56b4-4805-ad55-cd323f78175f\")>, <selenium.webdriver.remote.webelement.WebElement (session=\"6ea12a108e0e9ae1c87750faa4952154\", element=\"3adcac37-88d1-4157-8502-3faedd85ffeb\")>, <selenium.webdriver.remote.webelement.WebElement (session=\"6ea12a108e0e9ae1c87750faa4952154\", element=\"55c5edf3-9837-4538-8a35-0f9612ae5f02\")>, <selenium.webdriver.remote.webelement.WebElement (session=\"6ea12a108e0e9ae1c87750faa4952154\", element=\"85668e16-20a1-444d-960a-25be3f8d1375\")>, <selenium.webdriver.remote.webelement.WebElement (session=\"6ea12a108e0e9ae1c87750faa4952154\", element=\"49c51835-acdc-4e73-aec4-d8f40abe5429\")>, <selenium.webdriver.remote.webelement.WebElement (session=\"6ea12a108e0e9ae1c87750faa4952154\", element=\"37e006a3-5bd6-40a4-86a2-d700a3c71989\")>, <selenium.webdriver.remote.webelement.WebElement (session=\"6ea12a108e0e9ae1c87750faa4952154\", element=\"3252ac80-3878-464b-af60-4c81e953a867\")>, <selenium.webdriver.remote.webelement.WebElement (session=\"6ea12a108e0e9ae1c87750faa4952154\", element=\"0f6142f6-1223-4d13-82a8-61c12afbbd70\")>, <selenium.webdriver.remote.webelement.WebElement (session=\"6ea12a108e0e9ae1c87750faa4952154\", element=\"48023931-c004-4717-b8ef-fe4b45ef8b12\")>, <selenium.webdriver.remote.webelement.WebElement (session=\"6ea12a108e0e9ae1c87750faa4952154\", element=\"420bd68e-9ce0-4b3d-81b2-dae20908de6b\")>, <selenium.webdriver.remote.webelement.WebElement (session=\"6ea12a108e0e9ae1c87750faa4952154\", element=\"ffbef8f8-7abf-4364-b575-4855773c95b6\")>, <selenium.webdriver.remote.webelement.WebElement (session=\"6ea12a108e0e9ae1c87750faa4952154\", element=\"dd0af94b-8c6e-4c30-accd-8fb5a4ff3a7c\")>, <selenium.webdriver.remote.webelement.WebElement (session=\"6ea12a108e0e9ae1c87750faa4952154\", element=\"6c9192d8-3477-4e0c-9d0b-1ac3a841ceea\")>, <selenium.webdriver.remote.webelement.WebElement (session=\"6ea12a108e0e9ae1c87750faa4952154\", element=\"f823b593-a852-4e2d-bb38-9faa858b724f\")>, <selenium.webdriver.remote.webelement.WebElement (session=\"6ea12a108e0e9ae1c87750faa4952154\", element=\"16176acd-4430-4f75-8d25-e0897bbaaa83\")>, <selenium.webdriver.remote.webelement.WebElement (session=\"6ea12a108e0e9ae1c87750faa4952154\", element=\"71327546-af16-4b46-86a0-447a31900c57\")>, <selenium.webdriver.remote.webelement.WebElement (session=\"6ea12a108e0e9ae1c87750faa4952154\", element=\"d5f81b45-0c2f-4f02-bb53-87f3277412af\")>, <selenium.webdriver.remote.webelement.WebElement (session=\"6ea12a108e0e9ae1c87750faa4952154\", element=\"6414f36f-b1e9-4852-a603-9a862261becb\")>, <selenium.webdriver.remote.webelement.WebElement (session=\"6ea12a108e0e9ae1c87750faa4952154\", element=\"77eee8ff-ee7c-4f9d-ab82-bb1fb93603c4\")>, <selenium.webdriver.remote.webelement.WebElement (session=\"6ea12a108e0e9ae1c87750faa4952154\", element=\"724e7c3f-894e-4bab-8daa-a1eb5bef816a\")>, <selenium.webdriver.remote.webelement.WebElement (session=\"6ea12a108e0e9ae1c87750faa4952154\", element=\"40f0f33e-6fb5-4760-9f68-14e34c193286\")>, <selenium.webdriver.remote.webelement.WebElement (session=\"6ea12a108e0e9ae1c87750faa4952154\", element=\"52061af7-80d4-40f0-bc3a-bccf89cedffd\")>, <selenium.webdriver.remote.webelement.WebElement (session=\"6ea12a108e0e9ae1c87750faa4952154\", element=\"4cce7f3b-2220-4f21-802a-7a42e25a5fa8\")>, <selenium.webdriver.remote.webelement.WebElement (session=\"6ea12a108e0e9ae1c87750faa4952154\", element=\"a5c0fbf0-98f7-428f-84d9-e3db2db6a20a\")>, <selenium.webdriver.remote.webelement.WebElement (session=\"6ea12a108e0e9ae1c87750faa4952154\", element=\"0c05cc25-773a-4d92-8b89-a7e089fb9e6d\")>, <selenium.webdriver.remote.webelement.WebElement (session=\"6ea12a108e0e9ae1c87750faa4952154\", element=\"ee0ef173-268b-445d-a107-89c6d53cc8fb\")>, <selenium.webdriver.remote.webelement.WebElement (session=\"6ea12a108e0e9ae1c87750faa4952154\", element=\"d3233e7a-c091-4b38-95f9-e898010aa6b5\")>, <selenium.webdriver.remote.webelement.WebElement (session=\"6ea12a108e0e9ae1c87750faa4952154\", element=\"02b4affe-d363-4616-9ef3-8709881b978a\")>, <selenium.webdriver.remote.webelement.WebElement (session=\"6ea12a108e0e9ae1c87750faa4952154\", element=\"12ee6619-6e3e-4685-9ed5-790038f5076b\")>, <selenium.webdriver.remote.webelement.WebElement (session=\"6ea12a108e0e9ae1c87750faa4952154\", element=\"43e8adfd-8a75-4325-b8d5-161ecd7fd793\")>, <selenium.webdriver.remote.webelement.WebElement (session=\"6ea12a108e0e9ae1c87750faa4952154\", element=\"1c4be800-2936-43c5-98d4-07bbd3ad3bca\")>, <selenium.webdriver.remote.webelement.WebElement (session=\"6ea12a108e0e9ae1c87750faa4952154\", element=\"cf8293a6-1269-4440-ac4f-155897c37cfd\")>, <selenium.webdriver.remote.webelement.WebElement (session=\"6ea12a108e0e9ae1c87750faa4952154\", element=\"34026a93-5f76-40ae-aac3-4497bd82fc19\")>, <selenium.webdriver.remote.webelement.WebElement (session=\"6ea12a108e0e9ae1c87750faa4952154\", element=\"d76dd092-d4be-419d-b0fe-012865024929\")>]\n",
      "[<selenium.webdriver.remote.webelement.WebElement (session=\"6ea12a108e0e9ae1c87750faa4952154\", element=\"6f811ff1-5f81-483c-b3fa-baf84bdae32b\")>, <selenium.webdriver.remote.webelement.WebElement (session=\"6ea12a108e0e9ae1c87750faa4952154\", element=\"993e62c4-8cb0-48cc-96ef-15561f81e07f\")>, <selenium.webdriver.remote.webelement.WebElement (session=\"6ea12a108e0e9ae1c87750faa4952154\", element=\"1a4998cd-82c5-49cf-8743-2d904acbb508\")>, <selenium.webdriver.remote.webelement.WebElement (session=\"6ea12a108e0e9ae1c87750faa4952154\", element=\"3e783997-8b31-499f-ac5f-a78c184f7bb4\")>, <selenium.webdriver.remote.webelement.WebElement (session=\"6ea12a108e0e9ae1c87750faa4952154\", element=\"ec5f6d59-d88d-4495-a972-0fbfc3fd3e02\")>, <selenium.webdriver.remote.webelement.WebElement (session=\"6ea12a108e0e9ae1c87750faa4952154\", element=\"51de5413-c1ab-4b40-b7aa-4202892db5ea\")>, <selenium.webdriver.remote.webelement.WebElement (session=\"6ea12a108e0e9ae1c87750faa4952154\", element=\"b3b8713f-56b4-4805-ad55-cd323f78175f\")>, <selenium.webdriver.remote.webelement.WebElement (session=\"6ea12a108e0e9ae1c87750faa4952154\", element=\"3adcac37-88d1-4157-8502-3faedd85ffeb\")>, <selenium.webdriver.remote.webelement.WebElement (session=\"6ea12a108e0e9ae1c87750faa4952154\", element=\"55c5edf3-9837-4538-8a35-0f9612ae5f02\")>, <selenium.webdriver.remote.webelement.WebElement (session=\"6ea12a108e0e9ae1c87750faa4952154\", element=\"85668e16-20a1-444d-960a-25be3f8d1375\")>, <selenium.webdriver.remote.webelement.WebElement (session=\"6ea12a108e0e9ae1c87750faa4952154\", element=\"49c51835-acdc-4e73-aec4-d8f40abe5429\")>, <selenium.webdriver.remote.webelement.WebElement (session=\"6ea12a108e0e9ae1c87750faa4952154\", element=\"37e006a3-5bd6-40a4-86a2-d700a3c71989\")>, <selenium.webdriver.remote.webelement.WebElement (session=\"6ea12a108e0e9ae1c87750faa4952154\", element=\"3252ac80-3878-464b-af60-4c81e953a867\")>, <selenium.webdriver.remote.webelement.WebElement (session=\"6ea12a108e0e9ae1c87750faa4952154\", element=\"0f6142f6-1223-4d13-82a8-61c12afbbd70\")>, <selenium.webdriver.remote.webelement.WebElement (session=\"6ea12a108e0e9ae1c87750faa4952154\", element=\"48023931-c004-4717-b8ef-fe4b45ef8b12\")>, <selenium.webdriver.remote.webelement.WebElement (session=\"6ea12a108e0e9ae1c87750faa4952154\", element=\"420bd68e-9ce0-4b3d-81b2-dae20908de6b\")>, <selenium.webdriver.remote.webelement.WebElement (session=\"6ea12a108e0e9ae1c87750faa4952154\", element=\"ffbef8f8-7abf-4364-b575-4855773c95b6\")>, <selenium.webdriver.remote.webelement.WebElement (session=\"6ea12a108e0e9ae1c87750faa4952154\", element=\"dd0af94b-8c6e-4c30-accd-8fb5a4ff3a7c\")>, <selenium.webdriver.remote.webelement.WebElement (session=\"6ea12a108e0e9ae1c87750faa4952154\", element=\"6c9192d8-3477-4e0c-9d0b-1ac3a841ceea\")>, <selenium.webdriver.remote.webelement.WebElement (session=\"6ea12a108e0e9ae1c87750faa4952154\", element=\"f823b593-a852-4e2d-bb38-9faa858b724f\")>, <selenium.webdriver.remote.webelement.WebElement (session=\"6ea12a108e0e9ae1c87750faa4952154\", element=\"16176acd-4430-4f75-8d25-e0897bbaaa83\")>, <selenium.webdriver.remote.webelement.WebElement (session=\"6ea12a108e0e9ae1c87750faa4952154\", element=\"71327546-af16-4b46-86a0-447a31900c57\")>, <selenium.webdriver.remote.webelement.WebElement (session=\"6ea12a108e0e9ae1c87750faa4952154\", element=\"d5f81b45-0c2f-4f02-bb53-87f3277412af\")>, <selenium.webdriver.remote.webelement.WebElement (session=\"6ea12a108e0e9ae1c87750faa4952154\", element=\"6414f36f-b1e9-4852-a603-9a862261becb\")>, <selenium.webdriver.remote.webelement.WebElement (session=\"6ea12a108e0e9ae1c87750faa4952154\", element=\"77eee8ff-ee7c-4f9d-ab82-bb1fb93603c4\")>, <selenium.webdriver.remote.webelement.WebElement (session=\"6ea12a108e0e9ae1c87750faa4952154\", element=\"724e7c3f-894e-4bab-8daa-a1eb5bef816a\")>, <selenium.webdriver.remote.webelement.WebElement (session=\"6ea12a108e0e9ae1c87750faa4952154\", element=\"40f0f33e-6fb5-4760-9f68-14e34c193286\")>, <selenium.webdriver.remote.webelement.WebElement (session=\"6ea12a108e0e9ae1c87750faa4952154\", element=\"52061af7-80d4-40f0-bc3a-bccf89cedffd\")>, <selenium.webdriver.remote.webelement.WebElement (session=\"6ea12a108e0e9ae1c87750faa4952154\", element=\"4cce7f3b-2220-4f21-802a-7a42e25a5fa8\")>, <selenium.webdriver.remote.webelement.WebElement (session=\"6ea12a108e0e9ae1c87750faa4952154\", element=\"a5c0fbf0-98f7-428f-84d9-e3db2db6a20a\")>, <selenium.webdriver.remote.webelement.WebElement (session=\"6ea12a108e0e9ae1c87750faa4952154\", element=\"0c05cc25-773a-4d92-8b89-a7e089fb9e6d\")>, <selenium.webdriver.remote.webelement.WebElement (session=\"6ea12a108e0e9ae1c87750faa4952154\", element=\"ee0ef173-268b-445d-a107-89c6d53cc8fb\")>, <selenium.webdriver.remote.webelement.WebElement (session=\"6ea12a108e0e9ae1c87750faa4952154\", element=\"d3233e7a-c091-4b38-95f9-e898010aa6b5\")>, <selenium.webdriver.remote.webelement.WebElement (session=\"6ea12a108e0e9ae1c87750faa4952154\", element=\"02b4affe-d363-4616-9ef3-8709881b978a\")>, <selenium.webdriver.remote.webelement.WebElement (session=\"6ea12a108e0e9ae1c87750faa4952154\", element=\"12ee6619-6e3e-4685-9ed5-790038f5076b\")>, <selenium.webdriver.remote.webelement.WebElement (session=\"6ea12a108e0e9ae1c87750faa4952154\", element=\"43e8adfd-8a75-4325-b8d5-161ecd7fd793\")>, <selenium.webdriver.remote.webelement.WebElement (session=\"6ea12a108e0e9ae1c87750faa4952154\", element=\"1c4be800-2936-43c5-98d4-07bbd3ad3bca\")>, <selenium.webdriver.remote.webelement.WebElement (session=\"6ea12a108e0e9ae1c87750faa4952154\", element=\"cf8293a6-1269-4440-ac4f-155897c37cfd\")>, <selenium.webdriver.remote.webelement.WebElement (session=\"6ea12a108e0e9ae1c87750faa4952154\", element=\"34026a93-5f76-40ae-aac3-4497bd82fc19\")>, <selenium.webdriver.remote.webelement.WebElement (session=\"6ea12a108e0e9ae1c87750faa4952154\", element=\"d76dd092-d4be-419d-b0fe-012865024929\")>]\n",
      "[<selenium.webdriver.remote.webelement.WebElement (session=\"6ea12a108e0e9ae1c87750faa4952154\", element=\"6f811ff1-5f81-483c-b3fa-baf84bdae32b\")>, <selenium.webdriver.remote.webelement.WebElement (session=\"6ea12a108e0e9ae1c87750faa4952154\", element=\"993e62c4-8cb0-48cc-96ef-15561f81e07f\")>, <selenium.webdriver.remote.webelement.WebElement (session=\"6ea12a108e0e9ae1c87750faa4952154\", element=\"1a4998cd-82c5-49cf-8743-2d904acbb508\")>, <selenium.webdriver.remote.webelement.WebElement (session=\"6ea12a108e0e9ae1c87750faa4952154\", element=\"3e783997-8b31-499f-ac5f-a78c184f7bb4\")>, <selenium.webdriver.remote.webelement.WebElement (session=\"6ea12a108e0e9ae1c87750faa4952154\", element=\"ec5f6d59-d88d-4495-a972-0fbfc3fd3e02\")>, <selenium.webdriver.remote.webelement.WebElement (session=\"6ea12a108e0e9ae1c87750faa4952154\", element=\"51de5413-c1ab-4b40-b7aa-4202892db5ea\")>, <selenium.webdriver.remote.webelement.WebElement (session=\"6ea12a108e0e9ae1c87750faa4952154\", element=\"b3b8713f-56b4-4805-ad55-cd323f78175f\")>, <selenium.webdriver.remote.webelement.WebElement (session=\"6ea12a108e0e9ae1c87750faa4952154\", element=\"3adcac37-88d1-4157-8502-3faedd85ffeb\")>, <selenium.webdriver.remote.webelement.WebElement (session=\"6ea12a108e0e9ae1c87750faa4952154\", element=\"55c5edf3-9837-4538-8a35-0f9612ae5f02\")>, <selenium.webdriver.remote.webelement.WebElement (session=\"6ea12a108e0e9ae1c87750faa4952154\", element=\"85668e16-20a1-444d-960a-25be3f8d1375\")>, <selenium.webdriver.remote.webelement.WebElement (session=\"6ea12a108e0e9ae1c87750faa4952154\", element=\"49c51835-acdc-4e73-aec4-d8f40abe5429\")>, <selenium.webdriver.remote.webelement.WebElement (session=\"6ea12a108e0e9ae1c87750faa4952154\", element=\"37e006a3-5bd6-40a4-86a2-d700a3c71989\")>, <selenium.webdriver.remote.webelement.WebElement (session=\"6ea12a108e0e9ae1c87750faa4952154\", element=\"3252ac80-3878-464b-af60-4c81e953a867\")>, <selenium.webdriver.remote.webelement.WebElement (session=\"6ea12a108e0e9ae1c87750faa4952154\", element=\"0f6142f6-1223-4d13-82a8-61c12afbbd70\")>, <selenium.webdriver.remote.webelement.WebElement (session=\"6ea12a108e0e9ae1c87750faa4952154\", element=\"48023931-c004-4717-b8ef-fe4b45ef8b12\")>, <selenium.webdriver.remote.webelement.WebElement (session=\"6ea12a108e0e9ae1c87750faa4952154\", element=\"420bd68e-9ce0-4b3d-81b2-dae20908de6b\")>, <selenium.webdriver.remote.webelement.WebElement (session=\"6ea12a108e0e9ae1c87750faa4952154\", element=\"ffbef8f8-7abf-4364-b575-4855773c95b6\")>, <selenium.webdriver.remote.webelement.WebElement (session=\"6ea12a108e0e9ae1c87750faa4952154\", element=\"dd0af94b-8c6e-4c30-accd-8fb5a4ff3a7c\")>, <selenium.webdriver.remote.webelement.WebElement (session=\"6ea12a108e0e9ae1c87750faa4952154\", element=\"6c9192d8-3477-4e0c-9d0b-1ac3a841ceea\")>, <selenium.webdriver.remote.webelement.WebElement (session=\"6ea12a108e0e9ae1c87750faa4952154\", element=\"f823b593-a852-4e2d-bb38-9faa858b724f\")>, <selenium.webdriver.remote.webelement.WebElement (session=\"6ea12a108e0e9ae1c87750faa4952154\", element=\"16176acd-4430-4f75-8d25-e0897bbaaa83\")>, <selenium.webdriver.remote.webelement.WebElement (session=\"6ea12a108e0e9ae1c87750faa4952154\", element=\"71327546-af16-4b46-86a0-447a31900c57\")>, <selenium.webdriver.remote.webelement.WebElement (session=\"6ea12a108e0e9ae1c87750faa4952154\", element=\"d5f81b45-0c2f-4f02-bb53-87f3277412af\")>, <selenium.webdriver.remote.webelement.WebElement (session=\"6ea12a108e0e9ae1c87750faa4952154\", element=\"6414f36f-b1e9-4852-a603-9a862261becb\")>, <selenium.webdriver.remote.webelement.WebElement (session=\"6ea12a108e0e9ae1c87750faa4952154\", element=\"77eee8ff-ee7c-4f9d-ab82-bb1fb93603c4\")>, <selenium.webdriver.remote.webelement.WebElement (session=\"6ea12a108e0e9ae1c87750faa4952154\", element=\"724e7c3f-894e-4bab-8daa-a1eb5bef816a\")>, <selenium.webdriver.remote.webelement.WebElement (session=\"6ea12a108e0e9ae1c87750faa4952154\", element=\"40f0f33e-6fb5-4760-9f68-14e34c193286\")>, <selenium.webdriver.remote.webelement.WebElement (session=\"6ea12a108e0e9ae1c87750faa4952154\", element=\"52061af7-80d4-40f0-bc3a-bccf89cedffd\")>, <selenium.webdriver.remote.webelement.WebElement (session=\"6ea12a108e0e9ae1c87750faa4952154\", element=\"4cce7f3b-2220-4f21-802a-7a42e25a5fa8\")>, <selenium.webdriver.remote.webelement.WebElement (session=\"6ea12a108e0e9ae1c87750faa4952154\", element=\"a5c0fbf0-98f7-428f-84d9-e3db2db6a20a\")>, <selenium.webdriver.remote.webelement.WebElement (session=\"6ea12a108e0e9ae1c87750faa4952154\", element=\"0c05cc25-773a-4d92-8b89-a7e089fb9e6d\")>, <selenium.webdriver.remote.webelement.WebElement (session=\"6ea12a108e0e9ae1c87750faa4952154\", element=\"ee0ef173-268b-445d-a107-89c6d53cc8fb\")>, <selenium.webdriver.remote.webelement.WebElement (session=\"6ea12a108e0e9ae1c87750faa4952154\", element=\"d3233e7a-c091-4b38-95f9-e898010aa6b5\")>, <selenium.webdriver.remote.webelement.WebElement (session=\"6ea12a108e0e9ae1c87750faa4952154\", element=\"02b4affe-d363-4616-9ef3-8709881b978a\")>, <selenium.webdriver.remote.webelement.WebElement (session=\"6ea12a108e0e9ae1c87750faa4952154\", element=\"12ee6619-6e3e-4685-9ed5-790038f5076b\")>, <selenium.webdriver.remote.webelement.WebElement (session=\"6ea12a108e0e9ae1c87750faa4952154\", element=\"43e8adfd-8a75-4325-b8d5-161ecd7fd793\")>, <selenium.webdriver.remote.webelement.WebElement (session=\"6ea12a108e0e9ae1c87750faa4952154\", element=\"1c4be800-2936-43c5-98d4-07bbd3ad3bca\")>, <selenium.webdriver.remote.webelement.WebElement (session=\"6ea12a108e0e9ae1c87750faa4952154\", element=\"cf8293a6-1269-4440-ac4f-155897c37cfd\")>, <selenium.webdriver.remote.webelement.WebElement (session=\"6ea12a108e0e9ae1c87750faa4952154\", element=\"34026a93-5f76-40ae-aac3-4497bd82fc19\")>, <selenium.webdriver.remote.webelement.WebElement (session=\"6ea12a108e0e9ae1c87750faa4952154\", element=\"d76dd092-d4be-419d-b0fe-012865024929\")>]\n"
     ]
    }
   ],
   "source": [
    "#Lets extract all the tags having price from page 1, page 2 and page 3.\n",
    "price_4_1=driver_4.find_elements_by_xpath(\"//div[@class='_30jeq3']\")\n",
    "price_4_2=driver_4.find_elements_by_xpath(\"//div[@class='_30jeq3']\")\n",
    "price_4_3=driver_4.find_elements_by_xpath(\"//div[@class='_30jeq3']\")\n",
    "print(price_4_1)\n",
    "print(price_4_2)\n",
    "print(price_4_3)"
   ]
  },
  {
   "cell_type": "code",
   "execution_count": 18,
   "id": "a8e8a8b7",
   "metadata": {},
   "outputs": [
    {
     "data": {
      "text/plain": [
       "['₹3,850',\n",
       " '₹409',\n",
       " '₹279',\n",
       " '₹199',\n",
       " '₹709',\n",
       " '₹223',\n",
       " '₹123',\n",
       " '₹2,450',\n",
       " '₹225',\n",
       " '₹629',\n",
       " '₹199',\n",
       " '₹257',\n",
       " '₹179',\n",
       " '₹149',\n",
       " '₹175',\n",
       " '₹135',\n",
       " '₹265',\n",
       " '₹233',\n",
       " '₹154',\n",
       " '₹424',\n",
       " '₹239',\n",
       " '₹175',\n",
       " '₹148',\n",
       " '₹195',\n",
       " '₹709',\n",
       " '₹175',\n",
       " '₹179',\n",
       " '₹408',\n",
       " '₹179',\n",
       " '₹183',\n",
       " '₹125',\n",
       " '₹408',\n",
       " '₹209',\n",
       " '₹189',\n",
       " '₹759',\n",
       " '₹325',\n",
       " '₹183',\n",
       " '₹289',\n",
       " '₹156',\n",
       " '₹472',\n",
       " '₹3,850',\n",
       " '₹409',\n",
       " '₹279',\n",
       " '₹199',\n",
       " '₹709',\n",
       " '₹223',\n",
       " '₹123',\n",
       " '₹2,450',\n",
       " '₹225',\n",
       " '₹629',\n",
       " '₹199',\n",
       " '₹257',\n",
       " '₹179',\n",
       " '₹149',\n",
       " '₹175',\n",
       " '₹135',\n",
       " '₹265',\n",
       " '₹233',\n",
       " '₹154',\n",
       " '₹424',\n",
       " '₹239',\n",
       " '₹175',\n",
       " '₹148',\n",
       " '₹195',\n",
       " '₹709',\n",
       " '₹175',\n",
       " '₹179',\n",
       " '₹408',\n",
       " '₹179',\n",
       " '₹183',\n",
       " '₹125',\n",
       " '₹408',\n",
       " '₹209',\n",
       " '₹189',\n",
       " '₹759',\n",
       " '₹325',\n",
       " '₹183',\n",
       " '₹289',\n",
       " '₹156',\n",
       " '₹472',\n",
       " '₹3,850',\n",
       " '₹409',\n",
       " '₹279',\n",
       " '₹199',\n",
       " '₹709',\n",
       " '₹223',\n",
       " '₹123',\n",
       " '₹2,450',\n",
       " '₹225',\n",
       " '₹629',\n",
       " '₹199',\n",
       " '₹257',\n",
       " '₹179',\n",
       " '₹149',\n",
       " '₹175',\n",
       " '₹135',\n",
       " '₹265',\n",
       " '₹233',\n",
       " '₹154',\n",
       " '₹424',\n",
       " '₹239',\n",
       " '₹175',\n",
       " '₹148',\n",
       " '₹195',\n",
       " '₹709',\n",
       " '₹175',\n",
       " '₹179',\n",
       " '₹408',\n",
       " '₹179',\n",
       " '₹183',\n",
       " '₹125',\n",
       " '₹408',\n",
       " '₹209',\n",
       " '₹189',\n",
       " '₹759',\n",
       " '₹325',\n",
       " '₹183',\n",
       " '₹289',\n",
       " '₹156',\n",
       " '₹472']"
      ]
     },
     "execution_count": 18,
     "metadata": {},
     "output_type": "execute_result"
    }
   ],
   "source": [
    "for i in (price_4_1+price_4_2+price_4_3):\n",
    "    pricelist_4=i.text\n",
    "    price_4.append(pricelist_4)\n",
    "price_4"
   ]
  },
  {
   "cell_type": "code",
   "execution_count": 19,
   "id": "cd347456",
   "metadata": {},
   "outputs": [
    {
     "data": {
      "text/plain": [
       "120"
      ]
     },
     "execution_count": 19,
     "metadata": {},
     "output_type": "execute_result"
    }
   ],
   "source": [
    "len(price_4)"
   ]
  },
  {
   "cell_type": "code",
   "execution_count": 20,
   "id": "72f7051e",
   "metadata": {},
   "outputs": [
    {
     "name": "stdout",
     "output_type": "stream",
     "text": [
      "[<selenium.webdriver.remote.webelement.WebElement (session=\"6ea12a108e0e9ae1c87750faa4952154\", element=\"c768b6d8-c4e8-43a9-9777-2695db142742\")>, <selenium.webdriver.remote.webelement.WebElement (session=\"6ea12a108e0e9ae1c87750faa4952154\", element=\"41261195-e100-4be8-b053-170b5806af98\")>, <selenium.webdriver.remote.webelement.WebElement (session=\"6ea12a108e0e9ae1c87750faa4952154\", element=\"faf0e494-fe30-4a04-9918-093ab57c6207\")>, <selenium.webdriver.remote.webelement.WebElement (session=\"6ea12a108e0e9ae1c87750faa4952154\", element=\"30df3c89-afce-4cb2-8b7a-4cb2caa20587\")>, <selenium.webdriver.remote.webelement.WebElement (session=\"6ea12a108e0e9ae1c87750faa4952154\", element=\"34fb9c49-d734-451e-868e-a9c1340efc68\")>, <selenium.webdriver.remote.webelement.WebElement (session=\"6ea12a108e0e9ae1c87750faa4952154\", element=\"b9810995-f907-4c2b-868f-515c032bd31a\")>, <selenium.webdriver.remote.webelement.WebElement (session=\"6ea12a108e0e9ae1c87750faa4952154\", element=\"e2780ab8-d270-48eb-9166-52c5df75945c\")>, <selenium.webdriver.remote.webelement.WebElement (session=\"6ea12a108e0e9ae1c87750faa4952154\", element=\"9364b831-0efe-4f81-a9c4-cde4d8cad297\")>, <selenium.webdriver.remote.webelement.WebElement (session=\"6ea12a108e0e9ae1c87750faa4952154\", element=\"704083e0-bc21-4462-a2c8-2d3ed57e0550\")>, <selenium.webdriver.remote.webelement.WebElement (session=\"6ea12a108e0e9ae1c87750faa4952154\", element=\"8b49d61e-40bf-4e2c-af91-3816fc722612\")>, <selenium.webdriver.remote.webelement.WebElement (session=\"6ea12a108e0e9ae1c87750faa4952154\", element=\"6b9fadc0-c894-46f6-99cd-52889dafc25b\")>, <selenium.webdriver.remote.webelement.WebElement (session=\"6ea12a108e0e9ae1c87750faa4952154\", element=\"11ea429b-945b-4560-8b48-95cc642a4411\")>, <selenium.webdriver.remote.webelement.WebElement (session=\"6ea12a108e0e9ae1c87750faa4952154\", element=\"ba75466a-02ec-46f6-a882-70e8d4a0783a\")>, <selenium.webdriver.remote.webelement.WebElement (session=\"6ea12a108e0e9ae1c87750faa4952154\", element=\"2d541b95-ebcc-4542-a183-a2e065bae141\")>, <selenium.webdriver.remote.webelement.WebElement (session=\"6ea12a108e0e9ae1c87750faa4952154\", element=\"7717c674-ad83-42d3-95e1-5587cbf97550\")>, <selenium.webdriver.remote.webelement.WebElement (session=\"6ea12a108e0e9ae1c87750faa4952154\", element=\"06dd278d-c682-47fc-bf27-560deeb8f744\")>, <selenium.webdriver.remote.webelement.WebElement (session=\"6ea12a108e0e9ae1c87750faa4952154\", element=\"593e3273-67b3-4f3a-aaa4-835fdbb2f4df\")>, <selenium.webdriver.remote.webelement.WebElement (session=\"6ea12a108e0e9ae1c87750faa4952154\", element=\"ae0b57cb-1b55-4e25-be44-b0d08024daf2\")>, <selenium.webdriver.remote.webelement.WebElement (session=\"6ea12a108e0e9ae1c87750faa4952154\", element=\"3ace9572-e2da-46bb-9f52-0b27ae7c0516\")>, <selenium.webdriver.remote.webelement.WebElement (session=\"6ea12a108e0e9ae1c87750faa4952154\", element=\"4d12d340-aa6c-49ad-a3a5-2cad96a9d2f9\")>, <selenium.webdriver.remote.webelement.WebElement (session=\"6ea12a108e0e9ae1c87750faa4952154\", element=\"24629370-20c2-42f7-b1ad-28295c1f5a45\")>, <selenium.webdriver.remote.webelement.WebElement (session=\"6ea12a108e0e9ae1c87750faa4952154\", element=\"3dfbd5e3-5a52-4fc0-8f1e-8e4a6fa972c0\")>, <selenium.webdriver.remote.webelement.WebElement (session=\"6ea12a108e0e9ae1c87750faa4952154\", element=\"4e037a37-0455-456d-aa6a-1b0408871c76\")>, <selenium.webdriver.remote.webelement.WebElement (session=\"6ea12a108e0e9ae1c87750faa4952154\", element=\"f9207ac4-595a-4182-81ec-da1f2bf5eea8\")>, <selenium.webdriver.remote.webelement.WebElement (session=\"6ea12a108e0e9ae1c87750faa4952154\", element=\"353a64dd-3d75-42a3-9465-87e44040e7cb\")>, <selenium.webdriver.remote.webelement.WebElement (session=\"6ea12a108e0e9ae1c87750faa4952154\", element=\"98865381-596d-4549-b8d7-6a3fb802ba78\")>, <selenium.webdriver.remote.webelement.WebElement (session=\"6ea12a108e0e9ae1c87750faa4952154\", element=\"f2ac4582-3aea-493d-9528-827c98727f81\")>, <selenium.webdriver.remote.webelement.WebElement (session=\"6ea12a108e0e9ae1c87750faa4952154\", element=\"a0a459ea-98ae-4e78-84f9-7f1dfc7ec775\")>, <selenium.webdriver.remote.webelement.WebElement (session=\"6ea12a108e0e9ae1c87750faa4952154\", element=\"750e7c72-16a0-45d9-8e89-42db14ac9b21\")>, <selenium.webdriver.remote.webelement.WebElement (session=\"6ea12a108e0e9ae1c87750faa4952154\", element=\"c3dd49cb-0de7-48a8-9f74-5be92e3c4a29\")>, <selenium.webdriver.remote.webelement.WebElement (session=\"6ea12a108e0e9ae1c87750faa4952154\", element=\"6b6fadc2-dbf3-4947-a408-a360e684b0d9\")>, <selenium.webdriver.remote.webelement.WebElement (session=\"6ea12a108e0e9ae1c87750faa4952154\", element=\"757ca178-708b-4a22-ba5c-6aec214a8af8\")>, <selenium.webdriver.remote.webelement.WebElement (session=\"6ea12a108e0e9ae1c87750faa4952154\", element=\"05dedab8-9468-422a-8dc7-0ca72ccf3e59\")>, <selenium.webdriver.remote.webelement.WebElement (session=\"6ea12a108e0e9ae1c87750faa4952154\", element=\"56ce5872-c290-4aa9-a058-63b1287fced0\")>, <selenium.webdriver.remote.webelement.WebElement (session=\"6ea12a108e0e9ae1c87750faa4952154\", element=\"c4347433-61ca-4ca2-b4c6-2e8fd47cfe19\")>, <selenium.webdriver.remote.webelement.WebElement (session=\"6ea12a108e0e9ae1c87750faa4952154\", element=\"a1c5e5d2-969c-40c6-af66-631b2ed914c5\")>, <selenium.webdriver.remote.webelement.WebElement (session=\"6ea12a108e0e9ae1c87750faa4952154\", element=\"9aa1a9d5-2e3a-48b6-a85c-75028474d0b5\")>, <selenium.webdriver.remote.webelement.WebElement (session=\"6ea12a108e0e9ae1c87750faa4952154\", element=\"8100237a-d167-4ca0-9f5d-8bf0633b258c\")>, <selenium.webdriver.remote.webelement.WebElement (session=\"6ea12a108e0e9ae1c87750faa4952154\", element=\"2b04817f-8f36-46ba-b6ac-acabc9941a93\")>, <selenium.webdriver.remote.webelement.WebElement (session=\"6ea12a108e0e9ae1c87750faa4952154\", element=\"c31e31ab-b05a-472c-9d80-1d610a0b1ccd\")>]\n",
      "[<selenium.webdriver.remote.webelement.WebElement (session=\"6ea12a108e0e9ae1c87750faa4952154\", element=\"c768b6d8-c4e8-43a9-9777-2695db142742\")>, <selenium.webdriver.remote.webelement.WebElement (session=\"6ea12a108e0e9ae1c87750faa4952154\", element=\"41261195-e100-4be8-b053-170b5806af98\")>, <selenium.webdriver.remote.webelement.WebElement (session=\"6ea12a108e0e9ae1c87750faa4952154\", element=\"faf0e494-fe30-4a04-9918-093ab57c6207\")>, <selenium.webdriver.remote.webelement.WebElement (session=\"6ea12a108e0e9ae1c87750faa4952154\", element=\"30df3c89-afce-4cb2-8b7a-4cb2caa20587\")>, <selenium.webdriver.remote.webelement.WebElement (session=\"6ea12a108e0e9ae1c87750faa4952154\", element=\"34fb9c49-d734-451e-868e-a9c1340efc68\")>, <selenium.webdriver.remote.webelement.WebElement (session=\"6ea12a108e0e9ae1c87750faa4952154\", element=\"b9810995-f907-4c2b-868f-515c032bd31a\")>, <selenium.webdriver.remote.webelement.WebElement (session=\"6ea12a108e0e9ae1c87750faa4952154\", element=\"e2780ab8-d270-48eb-9166-52c5df75945c\")>, <selenium.webdriver.remote.webelement.WebElement (session=\"6ea12a108e0e9ae1c87750faa4952154\", element=\"9364b831-0efe-4f81-a9c4-cde4d8cad297\")>, <selenium.webdriver.remote.webelement.WebElement (session=\"6ea12a108e0e9ae1c87750faa4952154\", element=\"704083e0-bc21-4462-a2c8-2d3ed57e0550\")>, <selenium.webdriver.remote.webelement.WebElement (session=\"6ea12a108e0e9ae1c87750faa4952154\", element=\"8b49d61e-40bf-4e2c-af91-3816fc722612\")>, <selenium.webdriver.remote.webelement.WebElement (session=\"6ea12a108e0e9ae1c87750faa4952154\", element=\"6b9fadc0-c894-46f6-99cd-52889dafc25b\")>, <selenium.webdriver.remote.webelement.WebElement (session=\"6ea12a108e0e9ae1c87750faa4952154\", element=\"11ea429b-945b-4560-8b48-95cc642a4411\")>, <selenium.webdriver.remote.webelement.WebElement (session=\"6ea12a108e0e9ae1c87750faa4952154\", element=\"ba75466a-02ec-46f6-a882-70e8d4a0783a\")>, <selenium.webdriver.remote.webelement.WebElement (session=\"6ea12a108e0e9ae1c87750faa4952154\", element=\"2d541b95-ebcc-4542-a183-a2e065bae141\")>, <selenium.webdriver.remote.webelement.WebElement (session=\"6ea12a108e0e9ae1c87750faa4952154\", element=\"7717c674-ad83-42d3-95e1-5587cbf97550\")>, <selenium.webdriver.remote.webelement.WebElement (session=\"6ea12a108e0e9ae1c87750faa4952154\", element=\"06dd278d-c682-47fc-bf27-560deeb8f744\")>, <selenium.webdriver.remote.webelement.WebElement (session=\"6ea12a108e0e9ae1c87750faa4952154\", element=\"593e3273-67b3-4f3a-aaa4-835fdbb2f4df\")>, <selenium.webdriver.remote.webelement.WebElement (session=\"6ea12a108e0e9ae1c87750faa4952154\", element=\"ae0b57cb-1b55-4e25-be44-b0d08024daf2\")>, <selenium.webdriver.remote.webelement.WebElement (session=\"6ea12a108e0e9ae1c87750faa4952154\", element=\"3ace9572-e2da-46bb-9f52-0b27ae7c0516\")>, <selenium.webdriver.remote.webelement.WebElement (session=\"6ea12a108e0e9ae1c87750faa4952154\", element=\"4d12d340-aa6c-49ad-a3a5-2cad96a9d2f9\")>, <selenium.webdriver.remote.webelement.WebElement (session=\"6ea12a108e0e9ae1c87750faa4952154\", element=\"24629370-20c2-42f7-b1ad-28295c1f5a45\")>, <selenium.webdriver.remote.webelement.WebElement (session=\"6ea12a108e0e9ae1c87750faa4952154\", element=\"3dfbd5e3-5a52-4fc0-8f1e-8e4a6fa972c0\")>, <selenium.webdriver.remote.webelement.WebElement (session=\"6ea12a108e0e9ae1c87750faa4952154\", element=\"4e037a37-0455-456d-aa6a-1b0408871c76\")>, <selenium.webdriver.remote.webelement.WebElement (session=\"6ea12a108e0e9ae1c87750faa4952154\", element=\"f9207ac4-595a-4182-81ec-da1f2bf5eea8\")>, <selenium.webdriver.remote.webelement.WebElement (session=\"6ea12a108e0e9ae1c87750faa4952154\", element=\"353a64dd-3d75-42a3-9465-87e44040e7cb\")>, <selenium.webdriver.remote.webelement.WebElement (session=\"6ea12a108e0e9ae1c87750faa4952154\", element=\"98865381-596d-4549-b8d7-6a3fb802ba78\")>, <selenium.webdriver.remote.webelement.WebElement (session=\"6ea12a108e0e9ae1c87750faa4952154\", element=\"f2ac4582-3aea-493d-9528-827c98727f81\")>, <selenium.webdriver.remote.webelement.WebElement (session=\"6ea12a108e0e9ae1c87750faa4952154\", element=\"a0a459ea-98ae-4e78-84f9-7f1dfc7ec775\")>, <selenium.webdriver.remote.webelement.WebElement (session=\"6ea12a108e0e9ae1c87750faa4952154\", element=\"750e7c72-16a0-45d9-8e89-42db14ac9b21\")>, <selenium.webdriver.remote.webelement.WebElement (session=\"6ea12a108e0e9ae1c87750faa4952154\", element=\"c3dd49cb-0de7-48a8-9f74-5be92e3c4a29\")>, <selenium.webdriver.remote.webelement.WebElement (session=\"6ea12a108e0e9ae1c87750faa4952154\", element=\"6b6fadc2-dbf3-4947-a408-a360e684b0d9\")>, <selenium.webdriver.remote.webelement.WebElement (session=\"6ea12a108e0e9ae1c87750faa4952154\", element=\"757ca178-708b-4a22-ba5c-6aec214a8af8\")>, <selenium.webdriver.remote.webelement.WebElement (session=\"6ea12a108e0e9ae1c87750faa4952154\", element=\"05dedab8-9468-422a-8dc7-0ca72ccf3e59\")>, <selenium.webdriver.remote.webelement.WebElement (session=\"6ea12a108e0e9ae1c87750faa4952154\", element=\"56ce5872-c290-4aa9-a058-63b1287fced0\")>, <selenium.webdriver.remote.webelement.WebElement (session=\"6ea12a108e0e9ae1c87750faa4952154\", element=\"c4347433-61ca-4ca2-b4c6-2e8fd47cfe19\")>, <selenium.webdriver.remote.webelement.WebElement (session=\"6ea12a108e0e9ae1c87750faa4952154\", element=\"a1c5e5d2-969c-40c6-af66-631b2ed914c5\")>, <selenium.webdriver.remote.webelement.WebElement (session=\"6ea12a108e0e9ae1c87750faa4952154\", element=\"9aa1a9d5-2e3a-48b6-a85c-75028474d0b5\")>, <selenium.webdriver.remote.webelement.WebElement (session=\"6ea12a108e0e9ae1c87750faa4952154\", element=\"8100237a-d167-4ca0-9f5d-8bf0633b258c\")>, <selenium.webdriver.remote.webelement.WebElement (session=\"6ea12a108e0e9ae1c87750faa4952154\", element=\"2b04817f-8f36-46ba-b6ac-acabc9941a93\")>, <selenium.webdriver.remote.webelement.WebElement (session=\"6ea12a108e0e9ae1c87750faa4952154\", element=\"c31e31ab-b05a-472c-9d80-1d610a0b1ccd\")>]\n",
      "[<selenium.webdriver.remote.webelement.WebElement (session=\"6ea12a108e0e9ae1c87750faa4952154\", element=\"c768b6d8-c4e8-43a9-9777-2695db142742\")>, <selenium.webdriver.remote.webelement.WebElement (session=\"6ea12a108e0e9ae1c87750faa4952154\", element=\"41261195-e100-4be8-b053-170b5806af98\")>, <selenium.webdriver.remote.webelement.WebElement (session=\"6ea12a108e0e9ae1c87750faa4952154\", element=\"faf0e494-fe30-4a04-9918-093ab57c6207\")>, <selenium.webdriver.remote.webelement.WebElement (session=\"6ea12a108e0e9ae1c87750faa4952154\", element=\"30df3c89-afce-4cb2-8b7a-4cb2caa20587\")>, <selenium.webdriver.remote.webelement.WebElement (session=\"6ea12a108e0e9ae1c87750faa4952154\", element=\"34fb9c49-d734-451e-868e-a9c1340efc68\")>, <selenium.webdriver.remote.webelement.WebElement (session=\"6ea12a108e0e9ae1c87750faa4952154\", element=\"b9810995-f907-4c2b-868f-515c032bd31a\")>, <selenium.webdriver.remote.webelement.WebElement (session=\"6ea12a108e0e9ae1c87750faa4952154\", element=\"e2780ab8-d270-48eb-9166-52c5df75945c\")>, <selenium.webdriver.remote.webelement.WebElement (session=\"6ea12a108e0e9ae1c87750faa4952154\", element=\"9364b831-0efe-4f81-a9c4-cde4d8cad297\")>, <selenium.webdriver.remote.webelement.WebElement (session=\"6ea12a108e0e9ae1c87750faa4952154\", element=\"704083e0-bc21-4462-a2c8-2d3ed57e0550\")>, <selenium.webdriver.remote.webelement.WebElement (session=\"6ea12a108e0e9ae1c87750faa4952154\", element=\"8b49d61e-40bf-4e2c-af91-3816fc722612\")>, <selenium.webdriver.remote.webelement.WebElement (session=\"6ea12a108e0e9ae1c87750faa4952154\", element=\"6b9fadc0-c894-46f6-99cd-52889dafc25b\")>, <selenium.webdriver.remote.webelement.WebElement (session=\"6ea12a108e0e9ae1c87750faa4952154\", element=\"11ea429b-945b-4560-8b48-95cc642a4411\")>, <selenium.webdriver.remote.webelement.WebElement (session=\"6ea12a108e0e9ae1c87750faa4952154\", element=\"ba75466a-02ec-46f6-a882-70e8d4a0783a\")>, <selenium.webdriver.remote.webelement.WebElement (session=\"6ea12a108e0e9ae1c87750faa4952154\", element=\"2d541b95-ebcc-4542-a183-a2e065bae141\")>, <selenium.webdriver.remote.webelement.WebElement (session=\"6ea12a108e0e9ae1c87750faa4952154\", element=\"7717c674-ad83-42d3-95e1-5587cbf97550\")>, <selenium.webdriver.remote.webelement.WebElement (session=\"6ea12a108e0e9ae1c87750faa4952154\", element=\"06dd278d-c682-47fc-bf27-560deeb8f744\")>, <selenium.webdriver.remote.webelement.WebElement (session=\"6ea12a108e0e9ae1c87750faa4952154\", element=\"593e3273-67b3-4f3a-aaa4-835fdbb2f4df\")>, <selenium.webdriver.remote.webelement.WebElement (session=\"6ea12a108e0e9ae1c87750faa4952154\", element=\"ae0b57cb-1b55-4e25-be44-b0d08024daf2\")>, <selenium.webdriver.remote.webelement.WebElement (session=\"6ea12a108e0e9ae1c87750faa4952154\", element=\"3ace9572-e2da-46bb-9f52-0b27ae7c0516\")>, <selenium.webdriver.remote.webelement.WebElement (session=\"6ea12a108e0e9ae1c87750faa4952154\", element=\"4d12d340-aa6c-49ad-a3a5-2cad96a9d2f9\")>, <selenium.webdriver.remote.webelement.WebElement (session=\"6ea12a108e0e9ae1c87750faa4952154\", element=\"24629370-20c2-42f7-b1ad-28295c1f5a45\")>, <selenium.webdriver.remote.webelement.WebElement (session=\"6ea12a108e0e9ae1c87750faa4952154\", element=\"3dfbd5e3-5a52-4fc0-8f1e-8e4a6fa972c0\")>, <selenium.webdriver.remote.webelement.WebElement (session=\"6ea12a108e0e9ae1c87750faa4952154\", element=\"4e037a37-0455-456d-aa6a-1b0408871c76\")>, <selenium.webdriver.remote.webelement.WebElement (session=\"6ea12a108e0e9ae1c87750faa4952154\", element=\"f9207ac4-595a-4182-81ec-da1f2bf5eea8\")>, <selenium.webdriver.remote.webelement.WebElement (session=\"6ea12a108e0e9ae1c87750faa4952154\", element=\"353a64dd-3d75-42a3-9465-87e44040e7cb\")>, <selenium.webdriver.remote.webelement.WebElement (session=\"6ea12a108e0e9ae1c87750faa4952154\", element=\"98865381-596d-4549-b8d7-6a3fb802ba78\")>, <selenium.webdriver.remote.webelement.WebElement (session=\"6ea12a108e0e9ae1c87750faa4952154\", element=\"f2ac4582-3aea-493d-9528-827c98727f81\")>, <selenium.webdriver.remote.webelement.WebElement (session=\"6ea12a108e0e9ae1c87750faa4952154\", element=\"a0a459ea-98ae-4e78-84f9-7f1dfc7ec775\")>, <selenium.webdriver.remote.webelement.WebElement (session=\"6ea12a108e0e9ae1c87750faa4952154\", element=\"750e7c72-16a0-45d9-8e89-42db14ac9b21\")>, <selenium.webdriver.remote.webelement.WebElement (session=\"6ea12a108e0e9ae1c87750faa4952154\", element=\"c3dd49cb-0de7-48a8-9f74-5be92e3c4a29\")>, <selenium.webdriver.remote.webelement.WebElement (session=\"6ea12a108e0e9ae1c87750faa4952154\", element=\"6b6fadc2-dbf3-4947-a408-a360e684b0d9\")>, <selenium.webdriver.remote.webelement.WebElement (session=\"6ea12a108e0e9ae1c87750faa4952154\", element=\"757ca178-708b-4a22-ba5c-6aec214a8af8\")>, <selenium.webdriver.remote.webelement.WebElement (session=\"6ea12a108e0e9ae1c87750faa4952154\", element=\"05dedab8-9468-422a-8dc7-0ca72ccf3e59\")>, <selenium.webdriver.remote.webelement.WebElement (session=\"6ea12a108e0e9ae1c87750faa4952154\", element=\"56ce5872-c290-4aa9-a058-63b1287fced0\")>, <selenium.webdriver.remote.webelement.WebElement (session=\"6ea12a108e0e9ae1c87750faa4952154\", element=\"c4347433-61ca-4ca2-b4c6-2e8fd47cfe19\")>, <selenium.webdriver.remote.webelement.WebElement (session=\"6ea12a108e0e9ae1c87750faa4952154\", element=\"a1c5e5d2-969c-40c6-af66-631b2ed914c5\")>, <selenium.webdriver.remote.webelement.WebElement (session=\"6ea12a108e0e9ae1c87750faa4952154\", element=\"9aa1a9d5-2e3a-48b6-a85c-75028474d0b5\")>, <selenium.webdriver.remote.webelement.WebElement (session=\"6ea12a108e0e9ae1c87750faa4952154\", element=\"8100237a-d167-4ca0-9f5d-8bf0633b258c\")>, <selenium.webdriver.remote.webelement.WebElement (session=\"6ea12a108e0e9ae1c87750faa4952154\", element=\"2b04817f-8f36-46ba-b6ac-acabc9941a93\")>, <selenium.webdriver.remote.webelement.WebElement (session=\"6ea12a108e0e9ae1c87750faa4952154\", element=\"c31e31ab-b05a-472c-9d80-1d610a0b1ccd\")>]\n"
     ]
    }
   ],
   "source": [
    "#Lets extract all the tags having discounts from page 1, page 2 and page 3.\n",
    "discount_4_1=driver_4.find_elements_by_xpath(\"//div[@class='_3Ay6Sb']\")\n",
    "discount_4_2=driver_4.find_elements_by_xpath(\"//div[@class='_3Ay6Sb']\")\n",
    "discount_4_3=driver_4.find_elements_by_xpath(\"//div[@class='_3Ay6Sb']\")\n",
    "print(discount_4_1)\n",
    "print(discount_4_2)\n",
    "print(discount_4_3)"
   ]
  },
  {
   "cell_type": "code",
   "execution_count": 21,
   "id": "806c68e9",
   "metadata": {},
   "outputs": [
    {
     "data": {
      "text/plain": [
       "['35% off',\n",
       " '73% off',\n",
       " '88% off',\n",
       " '84% off',\n",
       " '21% off',\n",
       " '82% off',\n",
       " '92% off',\n",
       " '51% off',\n",
       " '90% off',\n",
       " '21% off',\n",
       " '87% off',\n",
       " '87% off',\n",
       " '82% off',\n",
       " '85% off',\n",
       " '89% off',\n",
       " '87% off',\n",
       " '83% off',\n",
       " '85% off',\n",
       " '87% off',\n",
       " '78% off',\n",
       " '85% off',\n",
       " '89% off',\n",
       " '85% off',\n",
       " '80% off',\n",
       " '21% off',\n",
       " '89% off',\n",
       " '82% off',\n",
       " '76% off',\n",
       " '85% off',\n",
       " '87% off',\n",
       " '90% off',\n",
       " '73% off',\n",
       " '89% off',\n",
       " '81% off',\n",
       " '15% off',\n",
       " '77% off',\n",
       " '81% off',\n",
       " '71% off',\n",
       " '84% off',\n",
       " '52% off',\n",
       " '35% off',\n",
       " '73% off',\n",
       " '88% off',\n",
       " '84% off',\n",
       " '21% off',\n",
       " '82% off',\n",
       " '92% off',\n",
       " '51% off',\n",
       " '90% off',\n",
       " '21% off',\n",
       " '87% off',\n",
       " '87% off',\n",
       " '82% off',\n",
       " '85% off',\n",
       " '89% off',\n",
       " '87% off',\n",
       " '83% off',\n",
       " '85% off',\n",
       " '87% off',\n",
       " '78% off',\n",
       " '85% off',\n",
       " '89% off',\n",
       " '85% off',\n",
       " '80% off',\n",
       " '21% off',\n",
       " '89% off',\n",
       " '82% off',\n",
       " '76% off',\n",
       " '85% off',\n",
       " '87% off',\n",
       " '90% off',\n",
       " '73% off',\n",
       " '89% off',\n",
       " '81% off',\n",
       " '15% off',\n",
       " '77% off',\n",
       " '81% off',\n",
       " '71% off',\n",
       " '84% off',\n",
       " '52% off',\n",
       " '35% off',\n",
       " '73% off',\n",
       " '88% off',\n",
       " '84% off',\n",
       " '21% off',\n",
       " '82% off',\n",
       " '92% off',\n",
       " '51% off',\n",
       " '90% off',\n",
       " '21% off',\n",
       " '87% off',\n",
       " '87% off',\n",
       " '82% off',\n",
       " '85% off',\n",
       " '89% off',\n",
       " '87% off',\n",
       " '83% off',\n",
       " '85% off',\n",
       " '87% off',\n",
       " '78% off',\n",
       " '85% off',\n",
       " '89% off',\n",
       " '85% off',\n",
       " '80% off',\n",
       " '21% off',\n",
       " '89% off',\n",
       " '82% off',\n",
       " '76% off',\n",
       " '85% off',\n",
       " '87% off',\n",
       " '90% off',\n",
       " '73% off',\n",
       " '89% off',\n",
       " '81% off',\n",
       " '15% off',\n",
       " '77% off',\n",
       " '81% off',\n",
       " '71% off',\n",
       " '84% off',\n",
       " '52% off']"
      ]
     },
     "execution_count": 21,
     "metadata": {},
     "output_type": "execute_result"
    }
   ],
   "source": [
    "for i in (discount_4_1+discount_4_2+discount_4_3):\n",
    "    discountlist_4=i.text\n",
    "    discount_4.append(discountlist_4)\n",
    "discount_4"
   ]
  },
  {
   "cell_type": "code",
   "execution_count": 22,
   "id": "d4cf5944",
   "metadata": {},
   "outputs": [
    {
     "data": {
      "text/plain": [
       "120"
      ]
     },
     "execution_count": 22,
     "metadata": {},
     "output_type": "execute_result"
    }
   ],
   "source": [
    "len(discount_4)"
   ]
  },
  {
   "cell_type": "markdown",
   "id": "ca284a5f",
   "metadata": {},
   "source": [
    "#### Checking length"
   ]
  },
  {
   "cell_type": "code",
   "execution_count": 23,
   "id": "5ad46e24",
   "metadata": {},
   "outputs": [
    {
     "name": "stdout",
     "output_type": "stream",
     "text": [
      "120 120 120 120\n"
     ]
    }
   ],
   "source": [
    "print(len(brand_names_4),len(product_description_4),len(price_4),len(discount_4))"
   ]
  },
  {
   "cell_type": "markdown",
   "id": "981879a1",
   "metadata": {},
   "source": [
    "#### Making DataFrame"
   ]
  },
  {
   "cell_type": "code",
   "execution_count": 24,
   "id": "d8db5dcc",
   "metadata": {},
   "outputs": [
    {
     "data": {
      "text/html": [
       "<div>\n",
       "<style scoped>\n",
       "    .dataframe tbody tr th:only-of-type {\n",
       "        vertical-align: middle;\n",
       "    }\n",
       "\n",
       "    .dataframe tbody tr th {\n",
       "        vertical-align: top;\n",
       "    }\n",
       "\n",
       "    .dataframe thead th {\n",
       "        text-align: right;\n",
       "    }\n",
       "</style>\n",
       "<table border=\"1\" class=\"dataframe\">\n",
       "  <thead>\n",
       "    <tr style=\"text-align: right;\">\n",
       "      <th></th>\n",
       "      <th>brand_names</th>\n",
       "      <th>product_description</th>\n",
       "      <th>pricelists</th>\n",
       "      <th>discountlists</th>\n",
       "    </tr>\n",
       "  </thead>\n",
       "  <tbody>\n",
       "    <tr>\n",
       "      <th>0</th>\n",
       "      <td>john jacobs</td>\n",
       "      <td>UV Protection Clubmaster Sunglasses (47)</td>\n",
       "      <td>₹3,850</td>\n",
       "      <td>35% off</td>\n",
       "    </tr>\n",
       "    <tr>\n",
       "      <th>1</th>\n",
       "      <td>AISLIN</td>\n",
       "      <td>UV Protection, Gradient Cat-eye Sunglasses (58)</td>\n",
       "      <td>₹409</td>\n",
       "      <td>73% off</td>\n",
       "    </tr>\n",
       "    <tr>\n",
       "      <th>2</th>\n",
       "      <td>Elligator</td>\n",
       "      <td>UV Protection Round Sunglasses (54)</td>\n",
       "      <td>₹279</td>\n",
       "      <td>88% off</td>\n",
       "    </tr>\n",
       "    <tr>\n",
       "      <th>3</th>\n",
       "      <td>SRPM</td>\n",
       "      <td>UV Protection Wayfarer Sunglasses (50)</td>\n",
       "      <td>₹199</td>\n",
       "      <td>84% off</td>\n",
       "    </tr>\n",
       "    <tr>\n",
       "      <th>4</th>\n",
       "      <td>Fastrack</td>\n",
       "      <td>UV Protection Wayfarer Sunglasses (Free Size)</td>\n",
       "      <td>₹709</td>\n",
       "      <td>21% off</td>\n",
       "    </tr>\n",
       "    <tr>\n",
       "      <th>...</th>\n",
       "      <td>...</td>\n",
       "      <td>...</td>\n",
       "      <td>...</td>\n",
       "      <td>...</td>\n",
       "    </tr>\n",
       "    <tr>\n",
       "      <th>95</th>\n",
       "      <td>NuVew</td>\n",
       "      <td>UV Protection Retro Square, Wayfarer Sunglasse...</td>\n",
       "      <td>₹135</td>\n",
       "      <td>87% off</td>\n",
       "    </tr>\n",
       "    <tr>\n",
       "      <th>96</th>\n",
       "      <td>kingsunglasses</td>\n",
       "      <td>UV Protection Round Sunglasses (Free Size)</td>\n",
       "      <td>₹265</td>\n",
       "      <td>83% off</td>\n",
       "    </tr>\n",
       "    <tr>\n",
       "      <th>97</th>\n",
       "      <td>New Specs</td>\n",
       "      <td>Mirrored, UV Protection, Riding Glasses, Other...</td>\n",
       "      <td>₹233</td>\n",
       "      <td>85% off</td>\n",
       "    </tr>\n",
       "    <tr>\n",
       "      <th>98</th>\n",
       "      <td>kingsunglasses</td>\n",
       "      <td>UV Protection, Riding Glasses, Mirrored Wayfar...</td>\n",
       "      <td>₹154</td>\n",
       "      <td>87% off</td>\n",
       "    </tr>\n",
       "    <tr>\n",
       "      <th>99</th>\n",
       "      <td>ROZZETTA CRAFT</td>\n",
       "      <td>UV Protection, Gradient Retro Square Sunglasse...</td>\n",
       "      <td>₹424</td>\n",
       "      <td>78% off</td>\n",
       "    </tr>\n",
       "  </tbody>\n",
       "</table>\n",
       "<p>100 rows × 4 columns</p>\n",
       "</div>"
      ],
      "text/plain": [
       "       brand_names                                product_description  \\\n",
       "0      john jacobs           UV Protection Clubmaster Sunglasses (47)   \n",
       "1           AISLIN    UV Protection, Gradient Cat-eye Sunglasses (58)   \n",
       "2        Elligator                UV Protection Round Sunglasses (54)   \n",
       "3             SRPM             UV Protection Wayfarer Sunglasses (50)   \n",
       "4         Fastrack      UV Protection Wayfarer Sunglasses (Free Size)   \n",
       "..             ...                                                ...   \n",
       "95           NuVew  UV Protection Retro Square, Wayfarer Sunglasse...   \n",
       "96  kingsunglasses         UV Protection Round Sunglasses (Free Size)   \n",
       "97       New Specs  Mirrored, UV Protection, Riding Glasses, Other...   \n",
       "98  kingsunglasses  UV Protection, Riding Glasses, Mirrored Wayfar...   \n",
       "99  ROZZETTA CRAFT  UV Protection, Gradient Retro Square Sunglasse...   \n",
       "\n",
       "   pricelists discountlists  \n",
       "0      ₹3,850       35% off  \n",
       "1        ₹409       73% off  \n",
       "2        ₹279       88% off  \n",
       "3        ₹199       84% off  \n",
       "4        ₹709       21% off  \n",
       "..        ...           ...  \n",
       "95       ₹135       87% off  \n",
       "96       ₹265       83% off  \n",
       "97       ₹233       85% off  \n",
       "98       ₹154       87% off  \n",
       "99       ₹424       78% off  \n",
       "\n",
       "[100 rows x 4 columns]"
      ]
     },
     "execution_count": 24,
     "metadata": {},
     "output_type": "execute_result"
    }
   ],
   "source": [
    "import pandas as pd\n",
    "df_4=pd.DataFrame({'brand_names':brand_names_4[0:100],'product_description':product_description_4[0:100],'pricelists':price_4[0:100],'discountlists':discount_4[0:100]})\n",
    "df_4"
   ]
  },
  {
   "cell_type": "code",
   "execution_count": null,
   "id": "88890dfd",
   "metadata": {},
   "outputs": [],
   "source": []
  },
  {
   "cell_type": "markdown",
   "id": "b4a5423f",
   "metadata": {},
   "source": [
    "#---------------------------------------------------------------------------------------------------------------------------------------------------------------------------------------------------------------#"
   ]
  },
  {
   "cell_type": "code",
   "execution_count": null,
   "id": "647e3d2b",
   "metadata": {},
   "outputs": [],
   "source": []
  },
  {
   "cell_type": "markdown",
   "id": "98d0ae91",
   "metadata": {},
   "source": [
    "# Q5: Scrape 100 reviews data from flipkart.com for iphone11 phone. You have to go the link:\n",
    "https://www.flipkart.com/apple-iphone-11-black-64-gb-includes-earpods-power\u0002adapter/p/itm0f37c2240b217?pid=MOBFKCTSVZAXUHGR&lid=LSTMOBFKCTSVZAXUHGREPBFGI&marketplace.\n",
    "As shown in the above page you have to scrape the tick marked attributes.These are:\n",
    "1. Rating\n",
    "2. Review summary\n",
    "3. Full review\n",
    "4. You have to scrape this data for first 100 reviews"
   ]
  },
  {
   "cell_type": "code",
   "execution_count": 25,
   "id": "494f16cb",
   "metadata": {},
   "outputs": [],
   "source": [
    "#Lets connect to the web driver\n",
    "driver_5=webdriver.Chrome(r\"C:\\Users\\X1\\chromedriver_win32\\chromedriver.exe\")"
   ]
  },
  {
   "cell_type": "code",
   "execution_count": 26,
   "id": "7e24fe2f",
   "metadata": {},
   "outputs": [],
   "source": [
    "driver_5=webdriver.Chrome('chromedriver.exe')\n",
    "time.sleep(2)"
   ]
  },
  {
   "cell_type": "code",
   "execution_count": 44,
   "id": "e7e689c9",
   "metadata": {},
   "outputs": [],
   "source": [
    "driver_5.close()"
   ]
  },
  {
   "cell_type": "code",
   "execution_count": 27,
   "id": "33351c42",
   "metadata": {},
   "outputs": [],
   "source": [
    "driver_5.get('https://www.flipkart.com/apple-iphone-11-black-64-gb-includes-earpods-power-adapter/product-reviews/itm0f37c2240b217?pid=MOBFKCTSVZAXUHGR&lid=LSTMOBFKCTSVZAXUHGREPBFGI&marketplace=FLIPKART')"
   ]
  },
  {
   "cell_type": "code",
   "execution_count": 28,
   "id": "55ce1da0",
   "metadata": {},
   "outputs": [],
   "source": [
    "#Creating 3 empty lists for 3 attributes of the dataframe\n",
    "ratings_5=[]\n",
    "review_5=[] \n",
    "full_review_5=[] "
   ]
  },
  {
   "cell_type": "code",
   "execution_count": 29,
   "id": "7c0324f7",
   "metadata": {},
   "outputs": [
    {
     "name": "stdout",
     "output_type": "stream",
     "text": [
      "[<selenium.webdriver.remote.webelement.WebElement (session=\"6223738d90f063ec51638cc616947ab1\", element=\"bdfd2d62-90de-439a-ae4f-15914ebdd6d0\")>, <selenium.webdriver.remote.webelement.WebElement (session=\"6223738d90f063ec51638cc616947ab1\", element=\"f6260338-1552-46ac-8e53-cd347ae05c4e\")>, <selenium.webdriver.remote.webelement.WebElement (session=\"6223738d90f063ec51638cc616947ab1\", element=\"47a1fe6c-00b0-4f2f-8a24-b7973e757ea1\")>, <selenium.webdriver.remote.webelement.WebElement (session=\"6223738d90f063ec51638cc616947ab1\", element=\"1e1f0847-2565-49c1-82f6-02eb9357d712\")>, <selenium.webdriver.remote.webelement.WebElement (session=\"6223738d90f063ec51638cc616947ab1\", element=\"712af24e-8df5-44f5-b7fc-fccd0334efcc\")>, <selenium.webdriver.remote.webelement.WebElement (session=\"6223738d90f063ec51638cc616947ab1\", element=\"97c6b779-e210-4edc-8821-a9299f41b43f\")>, <selenium.webdriver.remote.webelement.WebElement (session=\"6223738d90f063ec51638cc616947ab1\", element=\"385ef839-10fb-46b9-9c7d-b9ae23c7507c\")>, <selenium.webdriver.remote.webelement.WebElement (session=\"6223738d90f063ec51638cc616947ab1\", element=\"dde949e9-b597-4401-b1d3-4747fdfd4cc4\")>, <selenium.webdriver.remote.webelement.WebElement (session=\"6223738d90f063ec51638cc616947ab1\", element=\"2d577e41-c35f-4fc1-b2b2-c233327366b1\")>, <selenium.webdriver.remote.webelement.WebElement (session=\"6223738d90f063ec51638cc616947ab1\", element=\"33f8c1d5-fcb7-49c0-a519-fbf6775b7cbb\")>]\n",
      "[<selenium.webdriver.remote.webelement.WebElement (session=\"6223738d90f063ec51638cc616947ab1\", element=\"bdfd2d62-90de-439a-ae4f-15914ebdd6d0\")>, <selenium.webdriver.remote.webelement.WebElement (session=\"6223738d90f063ec51638cc616947ab1\", element=\"f6260338-1552-46ac-8e53-cd347ae05c4e\")>, <selenium.webdriver.remote.webelement.WebElement (session=\"6223738d90f063ec51638cc616947ab1\", element=\"47a1fe6c-00b0-4f2f-8a24-b7973e757ea1\")>, <selenium.webdriver.remote.webelement.WebElement (session=\"6223738d90f063ec51638cc616947ab1\", element=\"1e1f0847-2565-49c1-82f6-02eb9357d712\")>, <selenium.webdriver.remote.webelement.WebElement (session=\"6223738d90f063ec51638cc616947ab1\", element=\"712af24e-8df5-44f5-b7fc-fccd0334efcc\")>, <selenium.webdriver.remote.webelement.WebElement (session=\"6223738d90f063ec51638cc616947ab1\", element=\"97c6b779-e210-4edc-8821-a9299f41b43f\")>, <selenium.webdriver.remote.webelement.WebElement (session=\"6223738d90f063ec51638cc616947ab1\", element=\"385ef839-10fb-46b9-9c7d-b9ae23c7507c\")>, <selenium.webdriver.remote.webelement.WebElement (session=\"6223738d90f063ec51638cc616947ab1\", element=\"dde949e9-b597-4401-b1d3-4747fdfd4cc4\")>, <selenium.webdriver.remote.webelement.WebElement (session=\"6223738d90f063ec51638cc616947ab1\", element=\"2d577e41-c35f-4fc1-b2b2-c233327366b1\")>, <selenium.webdriver.remote.webelement.WebElement (session=\"6223738d90f063ec51638cc616947ab1\", element=\"33f8c1d5-fcb7-49c0-a519-fbf6775b7cbb\")>]\n",
      "[<selenium.webdriver.remote.webelement.WebElement (session=\"6223738d90f063ec51638cc616947ab1\", element=\"bdfd2d62-90de-439a-ae4f-15914ebdd6d0\")>, <selenium.webdriver.remote.webelement.WebElement (session=\"6223738d90f063ec51638cc616947ab1\", element=\"f6260338-1552-46ac-8e53-cd347ae05c4e\")>, <selenium.webdriver.remote.webelement.WebElement (session=\"6223738d90f063ec51638cc616947ab1\", element=\"47a1fe6c-00b0-4f2f-8a24-b7973e757ea1\")>, <selenium.webdriver.remote.webelement.WebElement (session=\"6223738d90f063ec51638cc616947ab1\", element=\"1e1f0847-2565-49c1-82f6-02eb9357d712\")>, <selenium.webdriver.remote.webelement.WebElement (session=\"6223738d90f063ec51638cc616947ab1\", element=\"712af24e-8df5-44f5-b7fc-fccd0334efcc\")>, <selenium.webdriver.remote.webelement.WebElement (session=\"6223738d90f063ec51638cc616947ab1\", element=\"97c6b779-e210-4edc-8821-a9299f41b43f\")>, <selenium.webdriver.remote.webelement.WebElement (session=\"6223738d90f063ec51638cc616947ab1\", element=\"385ef839-10fb-46b9-9c7d-b9ae23c7507c\")>, <selenium.webdriver.remote.webelement.WebElement (session=\"6223738d90f063ec51638cc616947ab1\", element=\"dde949e9-b597-4401-b1d3-4747fdfd4cc4\")>, <selenium.webdriver.remote.webelement.WebElement (session=\"6223738d90f063ec51638cc616947ab1\", element=\"2d577e41-c35f-4fc1-b2b2-c233327366b1\")>, <selenium.webdriver.remote.webelement.WebElement (session=\"6223738d90f063ec51638cc616947ab1\", element=\"33f8c1d5-fcb7-49c0-a519-fbf6775b7cbb\")>]\n",
      "[<selenium.webdriver.remote.webelement.WebElement (session=\"6223738d90f063ec51638cc616947ab1\", element=\"bdfd2d62-90de-439a-ae4f-15914ebdd6d0\")>, <selenium.webdriver.remote.webelement.WebElement (session=\"6223738d90f063ec51638cc616947ab1\", element=\"f6260338-1552-46ac-8e53-cd347ae05c4e\")>, <selenium.webdriver.remote.webelement.WebElement (session=\"6223738d90f063ec51638cc616947ab1\", element=\"47a1fe6c-00b0-4f2f-8a24-b7973e757ea1\")>, <selenium.webdriver.remote.webelement.WebElement (session=\"6223738d90f063ec51638cc616947ab1\", element=\"1e1f0847-2565-49c1-82f6-02eb9357d712\")>, <selenium.webdriver.remote.webelement.WebElement (session=\"6223738d90f063ec51638cc616947ab1\", element=\"712af24e-8df5-44f5-b7fc-fccd0334efcc\")>, <selenium.webdriver.remote.webelement.WebElement (session=\"6223738d90f063ec51638cc616947ab1\", element=\"97c6b779-e210-4edc-8821-a9299f41b43f\")>, <selenium.webdriver.remote.webelement.WebElement (session=\"6223738d90f063ec51638cc616947ab1\", element=\"385ef839-10fb-46b9-9c7d-b9ae23c7507c\")>, <selenium.webdriver.remote.webelement.WebElement (session=\"6223738d90f063ec51638cc616947ab1\", element=\"dde949e9-b597-4401-b1d3-4747fdfd4cc4\")>, <selenium.webdriver.remote.webelement.WebElement (session=\"6223738d90f063ec51638cc616947ab1\", element=\"2d577e41-c35f-4fc1-b2b2-c233327366b1\")>, <selenium.webdriver.remote.webelement.WebElement (session=\"6223738d90f063ec51638cc616947ab1\", element=\"33f8c1d5-fcb7-49c0-a519-fbf6775b7cbb\")>]\n",
      "[<selenium.webdriver.remote.webelement.WebElement (session=\"6223738d90f063ec51638cc616947ab1\", element=\"bdfd2d62-90de-439a-ae4f-15914ebdd6d0\")>, <selenium.webdriver.remote.webelement.WebElement (session=\"6223738d90f063ec51638cc616947ab1\", element=\"f6260338-1552-46ac-8e53-cd347ae05c4e\")>, <selenium.webdriver.remote.webelement.WebElement (session=\"6223738d90f063ec51638cc616947ab1\", element=\"47a1fe6c-00b0-4f2f-8a24-b7973e757ea1\")>, <selenium.webdriver.remote.webelement.WebElement (session=\"6223738d90f063ec51638cc616947ab1\", element=\"1e1f0847-2565-49c1-82f6-02eb9357d712\")>, <selenium.webdriver.remote.webelement.WebElement (session=\"6223738d90f063ec51638cc616947ab1\", element=\"712af24e-8df5-44f5-b7fc-fccd0334efcc\")>, <selenium.webdriver.remote.webelement.WebElement (session=\"6223738d90f063ec51638cc616947ab1\", element=\"97c6b779-e210-4edc-8821-a9299f41b43f\")>, <selenium.webdriver.remote.webelement.WebElement (session=\"6223738d90f063ec51638cc616947ab1\", element=\"385ef839-10fb-46b9-9c7d-b9ae23c7507c\")>, <selenium.webdriver.remote.webelement.WebElement (session=\"6223738d90f063ec51638cc616947ab1\", element=\"dde949e9-b597-4401-b1d3-4747fdfd4cc4\")>, <selenium.webdriver.remote.webelement.WebElement (session=\"6223738d90f063ec51638cc616947ab1\", element=\"2d577e41-c35f-4fc1-b2b2-c233327366b1\")>, <selenium.webdriver.remote.webelement.WebElement (session=\"6223738d90f063ec51638cc616947ab1\", element=\"33f8c1d5-fcb7-49c0-a519-fbf6775b7cbb\")>]\n",
      "[<selenium.webdriver.remote.webelement.WebElement (session=\"6223738d90f063ec51638cc616947ab1\", element=\"bdfd2d62-90de-439a-ae4f-15914ebdd6d0\")>, <selenium.webdriver.remote.webelement.WebElement (session=\"6223738d90f063ec51638cc616947ab1\", element=\"f6260338-1552-46ac-8e53-cd347ae05c4e\")>, <selenium.webdriver.remote.webelement.WebElement (session=\"6223738d90f063ec51638cc616947ab1\", element=\"47a1fe6c-00b0-4f2f-8a24-b7973e757ea1\")>, <selenium.webdriver.remote.webelement.WebElement (session=\"6223738d90f063ec51638cc616947ab1\", element=\"1e1f0847-2565-49c1-82f6-02eb9357d712\")>, <selenium.webdriver.remote.webelement.WebElement (session=\"6223738d90f063ec51638cc616947ab1\", element=\"712af24e-8df5-44f5-b7fc-fccd0334efcc\")>, <selenium.webdriver.remote.webelement.WebElement (session=\"6223738d90f063ec51638cc616947ab1\", element=\"97c6b779-e210-4edc-8821-a9299f41b43f\")>, <selenium.webdriver.remote.webelement.WebElement (session=\"6223738d90f063ec51638cc616947ab1\", element=\"385ef839-10fb-46b9-9c7d-b9ae23c7507c\")>, <selenium.webdriver.remote.webelement.WebElement (session=\"6223738d90f063ec51638cc616947ab1\", element=\"dde949e9-b597-4401-b1d3-4747fdfd4cc4\")>, <selenium.webdriver.remote.webelement.WebElement (session=\"6223738d90f063ec51638cc616947ab1\", element=\"2d577e41-c35f-4fc1-b2b2-c233327366b1\")>, <selenium.webdriver.remote.webelement.WebElement (session=\"6223738d90f063ec51638cc616947ab1\", element=\"33f8c1d5-fcb7-49c0-a519-fbf6775b7cbb\")>]\n",
      "[<selenium.webdriver.remote.webelement.WebElement (session=\"6223738d90f063ec51638cc616947ab1\", element=\"bdfd2d62-90de-439a-ae4f-15914ebdd6d0\")>, <selenium.webdriver.remote.webelement.WebElement (session=\"6223738d90f063ec51638cc616947ab1\", element=\"f6260338-1552-46ac-8e53-cd347ae05c4e\")>, <selenium.webdriver.remote.webelement.WebElement (session=\"6223738d90f063ec51638cc616947ab1\", element=\"47a1fe6c-00b0-4f2f-8a24-b7973e757ea1\")>, <selenium.webdriver.remote.webelement.WebElement (session=\"6223738d90f063ec51638cc616947ab1\", element=\"1e1f0847-2565-49c1-82f6-02eb9357d712\")>, <selenium.webdriver.remote.webelement.WebElement (session=\"6223738d90f063ec51638cc616947ab1\", element=\"712af24e-8df5-44f5-b7fc-fccd0334efcc\")>, <selenium.webdriver.remote.webelement.WebElement (session=\"6223738d90f063ec51638cc616947ab1\", element=\"97c6b779-e210-4edc-8821-a9299f41b43f\")>, <selenium.webdriver.remote.webelement.WebElement (session=\"6223738d90f063ec51638cc616947ab1\", element=\"385ef839-10fb-46b9-9c7d-b9ae23c7507c\")>, <selenium.webdriver.remote.webelement.WebElement (session=\"6223738d90f063ec51638cc616947ab1\", element=\"dde949e9-b597-4401-b1d3-4747fdfd4cc4\")>, <selenium.webdriver.remote.webelement.WebElement (session=\"6223738d90f063ec51638cc616947ab1\", element=\"2d577e41-c35f-4fc1-b2b2-c233327366b1\")>, <selenium.webdriver.remote.webelement.WebElement (session=\"6223738d90f063ec51638cc616947ab1\", element=\"33f8c1d5-fcb7-49c0-a519-fbf6775b7cbb\")>]\n",
      "[<selenium.webdriver.remote.webelement.WebElement (session=\"6223738d90f063ec51638cc616947ab1\", element=\"bdfd2d62-90de-439a-ae4f-15914ebdd6d0\")>, <selenium.webdriver.remote.webelement.WebElement (session=\"6223738d90f063ec51638cc616947ab1\", element=\"f6260338-1552-46ac-8e53-cd347ae05c4e\")>, <selenium.webdriver.remote.webelement.WebElement (session=\"6223738d90f063ec51638cc616947ab1\", element=\"47a1fe6c-00b0-4f2f-8a24-b7973e757ea1\")>, <selenium.webdriver.remote.webelement.WebElement (session=\"6223738d90f063ec51638cc616947ab1\", element=\"1e1f0847-2565-49c1-82f6-02eb9357d712\")>, <selenium.webdriver.remote.webelement.WebElement (session=\"6223738d90f063ec51638cc616947ab1\", element=\"712af24e-8df5-44f5-b7fc-fccd0334efcc\")>, <selenium.webdriver.remote.webelement.WebElement (session=\"6223738d90f063ec51638cc616947ab1\", element=\"97c6b779-e210-4edc-8821-a9299f41b43f\")>, <selenium.webdriver.remote.webelement.WebElement (session=\"6223738d90f063ec51638cc616947ab1\", element=\"385ef839-10fb-46b9-9c7d-b9ae23c7507c\")>, <selenium.webdriver.remote.webelement.WebElement (session=\"6223738d90f063ec51638cc616947ab1\", element=\"dde949e9-b597-4401-b1d3-4747fdfd4cc4\")>, <selenium.webdriver.remote.webelement.WebElement (session=\"6223738d90f063ec51638cc616947ab1\", element=\"2d577e41-c35f-4fc1-b2b2-c233327366b1\")>, <selenium.webdriver.remote.webelement.WebElement (session=\"6223738d90f063ec51638cc616947ab1\", element=\"33f8c1d5-fcb7-49c0-a519-fbf6775b7cbb\")>]\n",
      "[<selenium.webdriver.remote.webelement.WebElement (session=\"6223738d90f063ec51638cc616947ab1\", element=\"bdfd2d62-90de-439a-ae4f-15914ebdd6d0\")>, <selenium.webdriver.remote.webelement.WebElement (session=\"6223738d90f063ec51638cc616947ab1\", element=\"f6260338-1552-46ac-8e53-cd347ae05c4e\")>, <selenium.webdriver.remote.webelement.WebElement (session=\"6223738d90f063ec51638cc616947ab1\", element=\"47a1fe6c-00b0-4f2f-8a24-b7973e757ea1\")>, <selenium.webdriver.remote.webelement.WebElement (session=\"6223738d90f063ec51638cc616947ab1\", element=\"1e1f0847-2565-49c1-82f6-02eb9357d712\")>, <selenium.webdriver.remote.webelement.WebElement (session=\"6223738d90f063ec51638cc616947ab1\", element=\"712af24e-8df5-44f5-b7fc-fccd0334efcc\")>, <selenium.webdriver.remote.webelement.WebElement (session=\"6223738d90f063ec51638cc616947ab1\", element=\"97c6b779-e210-4edc-8821-a9299f41b43f\")>, <selenium.webdriver.remote.webelement.WebElement (session=\"6223738d90f063ec51638cc616947ab1\", element=\"385ef839-10fb-46b9-9c7d-b9ae23c7507c\")>, <selenium.webdriver.remote.webelement.WebElement (session=\"6223738d90f063ec51638cc616947ab1\", element=\"dde949e9-b597-4401-b1d3-4747fdfd4cc4\")>, <selenium.webdriver.remote.webelement.WebElement (session=\"6223738d90f063ec51638cc616947ab1\", element=\"2d577e41-c35f-4fc1-b2b2-c233327366b1\")>, <selenium.webdriver.remote.webelement.WebElement (session=\"6223738d90f063ec51638cc616947ab1\", element=\"33f8c1d5-fcb7-49c0-a519-fbf6775b7cbb\")>]\n",
      "[<selenium.webdriver.remote.webelement.WebElement (session=\"6223738d90f063ec51638cc616947ab1\", element=\"bdfd2d62-90de-439a-ae4f-15914ebdd6d0\")>, <selenium.webdriver.remote.webelement.WebElement (session=\"6223738d90f063ec51638cc616947ab1\", element=\"f6260338-1552-46ac-8e53-cd347ae05c4e\")>, <selenium.webdriver.remote.webelement.WebElement (session=\"6223738d90f063ec51638cc616947ab1\", element=\"47a1fe6c-00b0-4f2f-8a24-b7973e757ea1\")>, <selenium.webdriver.remote.webelement.WebElement (session=\"6223738d90f063ec51638cc616947ab1\", element=\"1e1f0847-2565-49c1-82f6-02eb9357d712\")>, <selenium.webdriver.remote.webelement.WebElement (session=\"6223738d90f063ec51638cc616947ab1\", element=\"712af24e-8df5-44f5-b7fc-fccd0334efcc\")>, <selenium.webdriver.remote.webelement.WebElement (session=\"6223738d90f063ec51638cc616947ab1\", element=\"97c6b779-e210-4edc-8821-a9299f41b43f\")>, <selenium.webdriver.remote.webelement.WebElement (session=\"6223738d90f063ec51638cc616947ab1\", element=\"385ef839-10fb-46b9-9c7d-b9ae23c7507c\")>, <selenium.webdriver.remote.webelement.WebElement (session=\"6223738d90f063ec51638cc616947ab1\", element=\"dde949e9-b597-4401-b1d3-4747fdfd4cc4\")>, <selenium.webdriver.remote.webelement.WebElement (session=\"6223738d90f063ec51638cc616947ab1\", element=\"2d577e41-c35f-4fc1-b2b2-c233327366b1\")>, <selenium.webdriver.remote.webelement.WebElement (session=\"6223738d90f063ec51638cc616947ab1\", element=\"33f8c1d5-fcb7-49c0-a519-fbf6775b7cbb\")>]\n"
     ]
    }
   ],
   "source": [
    "##Lets extract all the tags having ratings from page 1 to page 10.\n",
    "ratinglist_5_1=driver_5.find_elements_by_xpath(\"//div[@class='_3LWZlK _1BLPMq']\")\n",
    "ratinglist_5_2=driver_5.find_elements_by_xpath(\"//div[@class='_3LWZlK _1BLPMq']\")\n",
    "ratinglist_5_3=driver_5.find_elements_by_xpath(\"//div[@class='_3LWZlK _1BLPMq']\")\n",
    "ratinglist_5_4=driver_5.find_elements_by_xpath(\"//div[@class='_3LWZlK _1BLPMq']\")\n",
    "ratinglist_5_5=driver_5.find_elements_by_xpath(\"//div[@class='_3LWZlK _1BLPMq']\")\n",
    "ratinglist_5_6=driver_5.find_elements_by_xpath(\"//div[@class='_3LWZlK _1BLPMq']\")\n",
    "ratinglist_5_7=driver_5.find_elements_by_xpath(\"//div[@class='_3LWZlK _1BLPMq']\")\n",
    "ratinglist_5_8=driver_5.find_elements_by_xpath(\"//div[@class='_3LWZlK _1BLPMq']\")\n",
    "ratinglist_5_9=driver_5.find_elements_by_xpath(\"//div[@class='_3LWZlK _1BLPMq']\")\n",
    "ratinglist_5_10=driver_5.find_elements_by_xpath(\"//div[@class='_3LWZlK _1BLPMq']\")\n",
    "print(ratinglist_5_1)\n",
    "print(ratinglist_5_2)\n",
    "print(ratinglist_5_3)\n",
    "print(ratinglist_5_4)\n",
    "print(ratinglist_5_5)\n",
    "print(ratinglist_5_6)\n",
    "print(ratinglist_5_7)\n",
    "print(ratinglist_5_8)\n",
    "print(ratinglist_5_9)\n",
    "print(ratinglist_5_10)"
   ]
  },
  {
   "cell_type": "code",
   "execution_count": 30,
   "id": "bc3eb973",
   "metadata": {
    "scrolled": true
   },
   "outputs": [
    {
     "data": {
      "text/plain": [
       "['5',\n",
       " '5',\n",
       " '5',\n",
       " '5',\n",
       " '5',\n",
       " '5',\n",
       " '5',\n",
       " '4',\n",
       " '5',\n",
       " '5',\n",
       " '5',\n",
       " '5',\n",
       " '5',\n",
       " '5',\n",
       " '5',\n",
       " '5',\n",
       " '5',\n",
       " '4',\n",
       " '5',\n",
       " '5',\n",
       " '5',\n",
       " '5',\n",
       " '5',\n",
       " '5',\n",
       " '5',\n",
       " '5',\n",
       " '5',\n",
       " '4',\n",
       " '5',\n",
       " '5',\n",
       " '5',\n",
       " '5',\n",
       " '5',\n",
       " '5',\n",
       " '5',\n",
       " '5',\n",
       " '5',\n",
       " '4',\n",
       " '5',\n",
       " '5',\n",
       " '5',\n",
       " '5',\n",
       " '5',\n",
       " '5',\n",
       " '5',\n",
       " '5',\n",
       " '5',\n",
       " '4',\n",
       " '5',\n",
       " '5',\n",
       " '5',\n",
       " '5',\n",
       " '5',\n",
       " '5',\n",
       " '5',\n",
       " '5',\n",
       " '5',\n",
       " '4',\n",
       " '5',\n",
       " '5',\n",
       " '5',\n",
       " '5',\n",
       " '5',\n",
       " '5',\n",
       " '5',\n",
       " '5',\n",
       " '5',\n",
       " '4',\n",
       " '5',\n",
       " '5',\n",
       " '5',\n",
       " '5',\n",
       " '5',\n",
       " '5',\n",
       " '5',\n",
       " '5',\n",
       " '5',\n",
       " '4',\n",
       " '5',\n",
       " '5',\n",
       " '5',\n",
       " '5',\n",
       " '5',\n",
       " '5',\n",
       " '5',\n",
       " '5',\n",
       " '5',\n",
       " '4',\n",
       " '5',\n",
       " '5',\n",
       " '5',\n",
       " '5',\n",
       " '5',\n",
       " '5',\n",
       " '5',\n",
       " '5',\n",
       " '5',\n",
       " '4',\n",
       " '5',\n",
       " '5']"
      ]
     },
     "execution_count": 30,
     "metadata": {},
     "output_type": "execute_result"
    }
   ],
   "source": [
    "#Extracting text from tags\n",
    "for i in (ratinglist_5_1+ratinglist_5_2+ratinglist_5_3+ratinglist_5_4+ratinglist_5_5+ratinglist_5_6+ratinglist_5_7+ratinglist_5_8+ratinglist_5_9+ratinglist_5_10):\n",
    "    Rating_5=i.text\n",
    "    ratings_5.append(Rating_5)\n",
    "ratings_5"
   ]
  },
  {
   "cell_type": "code",
   "execution_count": 31,
   "id": "8aeec326",
   "metadata": {},
   "outputs": [
    {
     "data": {
      "text/plain": [
       "100"
      ]
     },
     "execution_count": 31,
     "metadata": {},
     "output_type": "execute_result"
    }
   ],
   "source": [
    "len(ratings_5)"
   ]
  },
  {
   "cell_type": "code",
   "execution_count": 32,
   "id": "ed3fd988",
   "metadata": {},
   "outputs": [
    {
     "name": "stdout",
     "output_type": "stream",
     "text": [
      "[<selenium.webdriver.remote.webelement.WebElement (session=\"6223738d90f063ec51638cc616947ab1\", element=\"d29335c7-9e0f-43f2-9696-136fe806cdd5\")>, <selenium.webdriver.remote.webelement.WebElement (session=\"6223738d90f063ec51638cc616947ab1\", element=\"2aebce7b-7dcb-4689-bdb0-9562c3329536\")>, <selenium.webdriver.remote.webelement.WebElement (session=\"6223738d90f063ec51638cc616947ab1\", element=\"f63dacbd-54b9-4528-b3a6-07bbc3dc1e69\")>, <selenium.webdriver.remote.webelement.WebElement (session=\"6223738d90f063ec51638cc616947ab1\", element=\"221ae34f-19d9-48e1-918a-b039dd14f27e\")>, <selenium.webdriver.remote.webelement.WebElement (session=\"6223738d90f063ec51638cc616947ab1\", element=\"279d5262-6f61-46b6-b804-62ffeb953d1e\")>, <selenium.webdriver.remote.webelement.WebElement (session=\"6223738d90f063ec51638cc616947ab1\", element=\"915be758-5812-40b5-8374-ae3ef9fab879\")>, <selenium.webdriver.remote.webelement.WebElement (session=\"6223738d90f063ec51638cc616947ab1\", element=\"1ece70fa-8538-4f3c-9759-631e79c83f2d\")>, <selenium.webdriver.remote.webelement.WebElement (session=\"6223738d90f063ec51638cc616947ab1\", element=\"196ecda7-2ca5-407a-a76b-feeab110d0b7\")>, <selenium.webdriver.remote.webelement.WebElement (session=\"6223738d90f063ec51638cc616947ab1\", element=\"b2adeca4-524d-4e9a-937b-2f49692abcfd\")>, <selenium.webdriver.remote.webelement.WebElement (session=\"6223738d90f063ec51638cc616947ab1\", element=\"1b05b66f-f33e-4838-a35f-4e38f579ca23\")>]\n",
      "[<selenium.webdriver.remote.webelement.WebElement (session=\"6223738d90f063ec51638cc616947ab1\", element=\"d29335c7-9e0f-43f2-9696-136fe806cdd5\")>, <selenium.webdriver.remote.webelement.WebElement (session=\"6223738d90f063ec51638cc616947ab1\", element=\"2aebce7b-7dcb-4689-bdb0-9562c3329536\")>, <selenium.webdriver.remote.webelement.WebElement (session=\"6223738d90f063ec51638cc616947ab1\", element=\"f63dacbd-54b9-4528-b3a6-07bbc3dc1e69\")>, <selenium.webdriver.remote.webelement.WebElement (session=\"6223738d90f063ec51638cc616947ab1\", element=\"221ae34f-19d9-48e1-918a-b039dd14f27e\")>, <selenium.webdriver.remote.webelement.WebElement (session=\"6223738d90f063ec51638cc616947ab1\", element=\"279d5262-6f61-46b6-b804-62ffeb953d1e\")>, <selenium.webdriver.remote.webelement.WebElement (session=\"6223738d90f063ec51638cc616947ab1\", element=\"915be758-5812-40b5-8374-ae3ef9fab879\")>, <selenium.webdriver.remote.webelement.WebElement (session=\"6223738d90f063ec51638cc616947ab1\", element=\"1ece70fa-8538-4f3c-9759-631e79c83f2d\")>, <selenium.webdriver.remote.webelement.WebElement (session=\"6223738d90f063ec51638cc616947ab1\", element=\"196ecda7-2ca5-407a-a76b-feeab110d0b7\")>, <selenium.webdriver.remote.webelement.WebElement (session=\"6223738d90f063ec51638cc616947ab1\", element=\"b2adeca4-524d-4e9a-937b-2f49692abcfd\")>, <selenium.webdriver.remote.webelement.WebElement (session=\"6223738d90f063ec51638cc616947ab1\", element=\"1b05b66f-f33e-4838-a35f-4e38f579ca23\")>]\n",
      "[<selenium.webdriver.remote.webelement.WebElement (session=\"6223738d90f063ec51638cc616947ab1\", element=\"d29335c7-9e0f-43f2-9696-136fe806cdd5\")>, <selenium.webdriver.remote.webelement.WebElement (session=\"6223738d90f063ec51638cc616947ab1\", element=\"2aebce7b-7dcb-4689-bdb0-9562c3329536\")>, <selenium.webdriver.remote.webelement.WebElement (session=\"6223738d90f063ec51638cc616947ab1\", element=\"f63dacbd-54b9-4528-b3a6-07bbc3dc1e69\")>, <selenium.webdriver.remote.webelement.WebElement (session=\"6223738d90f063ec51638cc616947ab1\", element=\"221ae34f-19d9-48e1-918a-b039dd14f27e\")>, <selenium.webdriver.remote.webelement.WebElement (session=\"6223738d90f063ec51638cc616947ab1\", element=\"279d5262-6f61-46b6-b804-62ffeb953d1e\")>, <selenium.webdriver.remote.webelement.WebElement (session=\"6223738d90f063ec51638cc616947ab1\", element=\"915be758-5812-40b5-8374-ae3ef9fab879\")>, <selenium.webdriver.remote.webelement.WebElement (session=\"6223738d90f063ec51638cc616947ab1\", element=\"1ece70fa-8538-4f3c-9759-631e79c83f2d\")>, <selenium.webdriver.remote.webelement.WebElement (session=\"6223738d90f063ec51638cc616947ab1\", element=\"196ecda7-2ca5-407a-a76b-feeab110d0b7\")>, <selenium.webdriver.remote.webelement.WebElement (session=\"6223738d90f063ec51638cc616947ab1\", element=\"b2adeca4-524d-4e9a-937b-2f49692abcfd\")>, <selenium.webdriver.remote.webelement.WebElement (session=\"6223738d90f063ec51638cc616947ab1\", element=\"1b05b66f-f33e-4838-a35f-4e38f579ca23\")>]\n",
      "[<selenium.webdriver.remote.webelement.WebElement (session=\"6223738d90f063ec51638cc616947ab1\", element=\"d29335c7-9e0f-43f2-9696-136fe806cdd5\")>, <selenium.webdriver.remote.webelement.WebElement (session=\"6223738d90f063ec51638cc616947ab1\", element=\"2aebce7b-7dcb-4689-bdb0-9562c3329536\")>, <selenium.webdriver.remote.webelement.WebElement (session=\"6223738d90f063ec51638cc616947ab1\", element=\"f63dacbd-54b9-4528-b3a6-07bbc3dc1e69\")>, <selenium.webdriver.remote.webelement.WebElement (session=\"6223738d90f063ec51638cc616947ab1\", element=\"221ae34f-19d9-48e1-918a-b039dd14f27e\")>, <selenium.webdriver.remote.webelement.WebElement (session=\"6223738d90f063ec51638cc616947ab1\", element=\"279d5262-6f61-46b6-b804-62ffeb953d1e\")>, <selenium.webdriver.remote.webelement.WebElement (session=\"6223738d90f063ec51638cc616947ab1\", element=\"915be758-5812-40b5-8374-ae3ef9fab879\")>, <selenium.webdriver.remote.webelement.WebElement (session=\"6223738d90f063ec51638cc616947ab1\", element=\"1ece70fa-8538-4f3c-9759-631e79c83f2d\")>, <selenium.webdriver.remote.webelement.WebElement (session=\"6223738d90f063ec51638cc616947ab1\", element=\"196ecda7-2ca5-407a-a76b-feeab110d0b7\")>, <selenium.webdriver.remote.webelement.WebElement (session=\"6223738d90f063ec51638cc616947ab1\", element=\"b2adeca4-524d-4e9a-937b-2f49692abcfd\")>, <selenium.webdriver.remote.webelement.WebElement (session=\"6223738d90f063ec51638cc616947ab1\", element=\"1b05b66f-f33e-4838-a35f-4e38f579ca23\")>]\n",
      "[<selenium.webdriver.remote.webelement.WebElement (session=\"6223738d90f063ec51638cc616947ab1\", element=\"d29335c7-9e0f-43f2-9696-136fe806cdd5\")>, <selenium.webdriver.remote.webelement.WebElement (session=\"6223738d90f063ec51638cc616947ab1\", element=\"2aebce7b-7dcb-4689-bdb0-9562c3329536\")>, <selenium.webdriver.remote.webelement.WebElement (session=\"6223738d90f063ec51638cc616947ab1\", element=\"f63dacbd-54b9-4528-b3a6-07bbc3dc1e69\")>, <selenium.webdriver.remote.webelement.WebElement (session=\"6223738d90f063ec51638cc616947ab1\", element=\"221ae34f-19d9-48e1-918a-b039dd14f27e\")>, <selenium.webdriver.remote.webelement.WebElement (session=\"6223738d90f063ec51638cc616947ab1\", element=\"279d5262-6f61-46b6-b804-62ffeb953d1e\")>, <selenium.webdriver.remote.webelement.WebElement (session=\"6223738d90f063ec51638cc616947ab1\", element=\"915be758-5812-40b5-8374-ae3ef9fab879\")>, <selenium.webdriver.remote.webelement.WebElement (session=\"6223738d90f063ec51638cc616947ab1\", element=\"1ece70fa-8538-4f3c-9759-631e79c83f2d\")>, <selenium.webdriver.remote.webelement.WebElement (session=\"6223738d90f063ec51638cc616947ab1\", element=\"196ecda7-2ca5-407a-a76b-feeab110d0b7\")>, <selenium.webdriver.remote.webelement.WebElement (session=\"6223738d90f063ec51638cc616947ab1\", element=\"b2adeca4-524d-4e9a-937b-2f49692abcfd\")>, <selenium.webdriver.remote.webelement.WebElement (session=\"6223738d90f063ec51638cc616947ab1\", element=\"1b05b66f-f33e-4838-a35f-4e38f579ca23\")>]\n",
      "[<selenium.webdriver.remote.webelement.WebElement (session=\"6223738d90f063ec51638cc616947ab1\", element=\"d29335c7-9e0f-43f2-9696-136fe806cdd5\")>, <selenium.webdriver.remote.webelement.WebElement (session=\"6223738d90f063ec51638cc616947ab1\", element=\"2aebce7b-7dcb-4689-bdb0-9562c3329536\")>, <selenium.webdriver.remote.webelement.WebElement (session=\"6223738d90f063ec51638cc616947ab1\", element=\"f63dacbd-54b9-4528-b3a6-07bbc3dc1e69\")>, <selenium.webdriver.remote.webelement.WebElement (session=\"6223738d90f063ec51638cc616947ab1\", element=\"221ae34f-19d9-48e1-918a-b039dd14f27e\")>, <selenium.webdriver.remote.webelement.WebElement (session=\"6223738d90f063ec51638cc616947ab1\", element=\"279d5262-6f61-46b6-b804-62ffeb953d1e\")>, <selenium.webdriver.remote.webelement.WebElement (session=\"6223738d90f063ec51638cc616947ab1\", element=\"915be758-5812-40b5-8374-ae3ef9fab879\")>, <selenium.webdriver.remote.webelement.WebElement (session=\"6223738d90f063ec51638cc616947ab1\", element=\"1ece70fa-8538-4f3c-9759-631e79c83f2d\")>, <selenium.webdriver.remote.webelement.WebElement (session=\"6223738d90f063ec51638cc616947ab1\", element=\"196ecda7-2ca5-407a-a76b-feeab110d0b7\")>, <selenium.webdriver.remote.webelement.WebElement (session=\"6223738d90f063ec51638cc616947ab1\", element=\"b2adeca4-524d-4e9a-937b-2f49692abcfd\")>, <selenium.webdriver.remote.webelement.WebElement (session=\"6223738d90f063ec51638cc616947ab1\", element=\"1b05b66f-f33e-4838-a35f-4e38f579ca23\")>]\n",
      "[<selenium.webdriver.remote.webelement.WebElement (session=\"6223738d90f063ec51638cc616947ab1\", element=\"d29335c7-9e0f-43f2-9696-136fe806cdd5\")>, <selenium.webdriver.remote.webelement.WebElement (session=\"6223738d90f063ec51638cc616947ab1\", element=\"2aebce7b-7dcb-4689-bdb0-9562c3329536\")>, <selenium.webdriver.remote.webelement.WebElement (session=\"6223738d90f063ec51638cc616947ab1\", element=\"f63dacbd-54b9-4528-b3a6-07bbc3dc1e69\")>, <selenium.webdriver.remote.webelement.WebElement (session=\"6223738d90f063ec51638cc616947ab1\", element=\"221ae34f-19d9-48e1-918a-b039dd14f27e\")>, <selenium.webdriver.remote.webelement.WebElement (session=\"6223738d90f063ec51638cc616947ab1\", element=\"279d5262-6f61-46b6-b804-62ffeb953d1e\")>, <selenium.webdriver.remote.webelement.WebElement (session=\"6223738d90f063ec51638cc616947ab1\", element=\"915be758-5812-40b5-8374-ae3ef9fab879\")>, <selenium.webdriver.remote.webelement.WebElement (session=\"6223738d90f063ec51638cc616947ab1\", element=\"1ece70fa-8538-4f3c-9759-631e79c83f2d\")>, <selenium.webdriver.remote.webelement.WebElement (session=\"6223738d90f063ec51638cc616947ab1\", element=\"196ecda7-2ca5-407a-a76b-feeab110d0b7\")>, <selenium.webdriver.remote.webelement.WebElement (session=\"6223738d90f063ec51638cc616947ab1\", element=\"b2adeca4-524d-4e9a-937b-2f49692abcfd\")>, <selenium.webdriver.remote.webelement.WebElement (session=\"6223738d90f063ec51638cc616947ab1\", element=\"1b05b66f-f33e-4838-a35f-4e38f579ca23\")>]\n",
      "[<selenium.webdriver.remote.webelement.WebElement (session=\"6223738d90f063ec51638cc616947ab1\", element=\"d29335c7-9e0f-43f2-9696-136fe806cdd5\")>, <selenium.webdriver.remote.webelement.WebElement (session=\"6223738d90f063ec51638cc616947ab1\", element=\"2aebce7b-7dcb-4689-bdb0-9562c3329536\")>, <selenium.webdriver.remote.webelement.WebElement (session=\"6223738d90f063ec51638cc616947ab1\", element=\"f63dacbd-54b9-4528-b3a6-07bbc3dc1e69\")>, <selenium.webdriver.remote.webelement.WebElement (session=\"6223738d90f063ec51638cc616947ab1\", element=\"221ae34f-19d9-48e1-918a-b039dd14f27e\")>, <selenium.webdriver.remote.webelement.WebElement (session=\"6223738d90f063ec51638cc616947ab1\", element=\"279d5262-6f61-46b6-b804-62ffeb953d1e\")>, <selenium.webdriver.remote.webelement.WebElement (session=\"6223738d90f063ec51638cc616947ab1\", element=\"915be758-5812-40b5-8374-ae3ef9fab879\")>, <selenium.webdriver.remote.webelement.WebElement (session=\"6223738d90f063ec51638cc616947ab1\", element=\"1ece70fa-8538-4f3c-9759-631e79c83f2d\")>, <selenium.webdriver.remote.webelement.WebElement (session=\"6223738d90f063ec51638cc616947ab1\", element=\"196ecda7-2ca5-407a-a76b-feeab110d0b7\")>, <selenium.webdriver.remote.webelement.WebElement (session=\"6223738d90f063ec51638cc616947ab1\", element=\"b2adeca4-524d-4e9a-937b-2f49692abcfd\")>, <selenium.webdriver.remote.webelement.WebElement (session=\"6223738d90f063ec51638cc616947ab1\", element=\"1b05b66f-f33e-4838-a35f-4e38f579ca23\")>]\n",
      "[<selenium.webdriver.remote.webelement.WebElement (session=\"6223738d90f063ec51638cc616947ab1\", element=\"d29335c7-9e0f-43f2-9696-136fe806cdd5\")>, <selenium.webdriver.remote.webelement.WebElement (session=\"6223738d90f063ec51638cc616947ab1\", element=\"2aebce7b-7dcb-4689-bdb0-9562c3329536\")>, <selenium.webdriver.remote.webelement.WebElement (session=\"6223738d90f063ec51638cc616947ab1\", element=\"f63dacbd-54b9-4528-b3a6-07bbc3dc1e69\")>, <selenium.webdriver.remote.webelement.WebElement (session=\"6223738d90f063ec51638cc616947ab1\", element=\"221ae34f-19d9-48e1-918a-b039dd14f27e\")>, <selenium.webdriver.remote.webelement.WebElement (session=\"6223738d90f063ec51638cc616947ab1\", element=\"279d5262-6f61-46b6-b804-62ffeb953d1e\")>, <selenium.webdriver.remote.webelement.WebElement (session=\"6223738d90f063ec51638cc616947ab1\", element=\"915be758-5812-40b5-8374-ae3ef9fab879\")>, <selenium.webdriver.remote.webelement.WebElement (session=\"6223738d90f063ec51638cc616947ab1\", element=\"1ece70fa-8538-4f3c-9759-631e79c83f2d\")>, <selenium.webdriver.remote.webelement.WebElement (session=\"6223738d90f063ec51638cc616947ab1\", element=\"196ecda7-2ca5-407a-a76b-feeab110d0b7\")>, <selenium.webdriver.remote.webelement.WebElement (session=\"6223738d90f063ec51638cc616947ab1\", element=\"b2adeca4-524d-4e9a-937b-2f49692abcfd\")>, <selenium.webdriver.remote.webelement.WebElement (session=\"6223738d90f063ec51638cc616947ab1\", element=\"1b05b66f-f33e-4838-a35f-4e38f579ca23\")>]\n",
      "[<selenium.webdriver.remote.webelement.WebElement (session=\"6223738d90f063ec51638cc616947ab1\", element=\"d29335c7-9e0f-43f2-9696-136fe806cdd5\")>, <selenium.webdriver.remote.webelement.WebElement (session=\"6223738d90f063ec51638cc616947ab1\", element=\"2aebce7b-7dcb-4689-bdb0-9562c3329536\")>, <selenium.webdriver.remote.webelement.WebElement (session=\"6223738d90f063ec51638cc616947ab1\", element=\"f63dacbd-54b9-4528-b3a6-07bbc3dc1e69\")>, <selenium.webdriver.remote.webelement.WebElement (session=\"6223738d90f063ec51638cc616947ab1\", element=\"221ae34f-19d9-48e1-918a-b039dd14f27e\")>, <selenium.webdriver.remote.webelement.WebElement (session=\"6223738d90f063ec51638cc616947ab1\", element=\"279d5262-6f61-46b6-b804-62ffeb953d1e\")>, <selenium.webdriver.remote.webelement.WebElement (session=\"6223738d90f063ec51638cc616947ab1\", element=\"915be758-5812-40b5-8374-ae3ef9fab879\")>, <selenium.webdriver.remote.webelement.WebElement (session=\"6223738d90f063ec51638cc616947ab1\", element=\"1ece70fa-8538-4f3c-9759-631e79c83f2d\")>, <selenium.webdriver.remote.webelement.WebElement (session=\"6223738d90f063ec51638cc616947ab1\", element=\"196ecda7-2ca5-407a-a76b-feeab110d0b7\")>, <selenium.webdriver.remote.webelement.WebElement (session=\"6223738d90f063ec51638cc616947ab1\", element=\"b2adeca4-524d-4e9a-937b-2f49692abcfd\")>, <selenium.webdriver.remote.webelement.WebElement (session=\"6223738d90f063ec51638cc616947ab1\", element=\"1b05b66f-f33e-4838-a35f-4e38f579ca23\")>]\n"
     ]
    }
   ],
   "source": [
    "## Since one page has only 10 reviews,Lets extract all the tags having reviews from page 1 to page 10 to get 1st 100 reviews.\n",
    "reviewlist_5_1=driver_5.find_elements_by_xpath(\"//p[@class='_2-N8zT']\")\n",
    "reviewlist_5_2=driver_5.find_elements_by_xpath(\"//p[@class='_2-N8zT']\")\n",
    "reviewlist_5_3=driver_5.find_elements_by_xpath(\"//p[@class='_2-N8zT']\")\n",
    "reviewlist_5_4=driver_5.find_elements_by_xpath(\"//p[@class='_2-N8zT']\")\n",
    "reviewlist_5_5=driver_5.find_elements_by_xpath(\"//p[@class='_2-N8zT']\")\n",
    "reviewlist_5_6=driver_5.find_elements_by_xpath(\"//p[@class='_2-N8zT']\")\n",
    "reviewlist_5_7=driver_5.find_elements_by_xpath(\"//p[@class='_2-N8zT']\")\n",
    "reviewlist_5_8=driver_5.find_elements_by_xpath(\"//p[@class='_2-N8zT']\")\n",
    "reviewlist_5_9=driver_5.find_elements_by_xpath(\"//p[@class='_2-N8zT']\")\n",
    "reviewlist_5_10=driver_5.find_elements_by_xpath(\"//p[@class='_2-N8zT']\")\n",
    "print(reviewlist_5_1)\n",
    "print(reviewlist_5_2)\n",
    "print(reviewlist_5_3)\n",
    "print(reviewlist_5_4)\n",
    "print(reviewlist_5_5)\n",
    "print(reviewlist_5_6)\n",
    "print(reviewlist_5_7)\n",
    "print(reviewlist_5_8)\n",
    "print(reviewlist_5_9)\n",
    "print(reviewlist_5_10)"
   ]
  },
  {
   "cell_type": "code",
   "execution_count": 33,
   "id": "141f1eda",
   "metadata": {
    "scrolled": true
   },
   "outputs": [
    {
     "data": {
      "text/plain": [
       "['Brilliant',\n",
       " 'Simply awesome',\n",
       " 'Best in the market!',\n",
       " 'Perfect product!',\n",
       " 'Fabulous!',\n",
       " 'Worth every penny',\n",
       " 'Great product',\n",
       " 'Good choice',\n",
       " 'Worth every penny',\n",
       " 'Highly recommended',\n",
       " 'Brilliant',\n",
       " 'Simply awesome',\n",
       " 'Best in the market!',\n",
       " 'Perfect product!',\n",
       " 'Fabulous!',\n",
       " 'Worth every penny',\n",
       " 'Great product',\n",
       " 'Good choice',\n",
       " 'Worth every penny',\n",
       " 'Highly recommended',\n",
       " 'Brilliant',\n",
       " 'Simply awesome',\n",
       " 'Best in the market!',\n",
       " 'Perfect product!',\n",
       " 'Fabulous!',\n",
       " 'Worth every penny',\n",
       " 'Great product',\n",
       " 'Good choice',\n",
       " 'Worth every penny',\n",
       " 'Highly recommended',\n",
       " 'Brilliant',\n",
       " 'Simply awesome',\n",
       " 'Best in the market!',\n",
       " 'Perfect product!',\n",
       " 'Fabulous!',\n",
       " 'Worth every penny',\n",
       " 'Great product',\n",
       " 'Good choice',\n",
       " 'Worth every penny',\n",
       " 'Highly recommended',\n",
       " 'Brilliant',\n",
       " 'Simply awesome',\n",
       " 'Best in the market!',\n",
       " 'Perfect product!',\n",
       " 'Fabulous!',\n",
       " 'Worth every penny',\n",
       " 'Great product',\n",
       " 'Good choice',\n",
       " 'Worth every penny',\n",
       " 'Highly recommended',\n",
       " 'Brilliant',\n",
       " 'Simply awesome',\n",
       " 'Best in the market!',\n",
       " 'Perfect product!',\n",
       " 'Fabulous!',\n",
       " 'Worth every penny',\n",
       " 'Great product',\n",
       " 'Good choice',\n",
       " 'Worth every penny',\n",
       " 'Highly recommended',\n",
       " 'Brilliant',\n",
       " 'Simply awesome',\n",
       " 'Best in the market!',\n",
       " 'Perfect product!',\n",
       " 'Fabulous!',\n",
       " 'Worth every penny',\n",
       " 'Great product',\n",
       " 'Good choice',\n",
       " 'Worth every penny',\n",
       " 'Highly recommended',\n",
       " 'Brilliant',\n",
       " 'Simply awesome',\n",
       " 'Best in the market!',\n",
       " 'Perfect product!',\n",
       " 'Fabulous!',\n",
       " 'Worth every penny',\n",
       " 'Great product',\n",
       " 'Good choice',\n",
       " 'Worth every penny',\n",
       " 'Highly recommended',\n",
       " 'Brilliant',\n",
       " 'Simply awesome',\n",
       " 'Best in the market!',\n",
       " 'Perfect product!',\n",
       " 'Fabulous!',\n",
       " 'Worth every penny',\n",
       " 'Great product',\n",
       " 'Good choice',\n",
       " 'Worth every penny',\n",
       " 'Highly recommended',\n",
       " 'Brilliant',\n",
       " 'Simply awesome',\n",
       " 'Best in the market!',\n",
       " 'Perfect product!',\n",
       " 'Fabulous!',\n",
       " 'Worth every penny',\n",
       " 'Great product',\n",
       " 'Good choice',\n",
       " 'Worth every penny',\n",
       " 'Highly recommended']"
      ]
     },
     "execution_count": 33,
     "metadata": {},
     "output_type": "execute_result"
    }
   ],
   "source": [
    "#Extracting text from tags\n",
    "for i in (reviewlist_5_1+reviewlist_5_2+reviewlist_5_3+reviewlist_5_4+reviewlist_5_5+reviewlist_5_6+reviewlist_5_7+reviewlist_5_8+reviewlist_5_9+reviewlist_5_10):\n",
    "    Review_5=i.text\n",
    "    review_5.append(Review_5)\n",
    "review_5"
   ]
  },
  {
   "cell_type": "code",
   "execution_count": 34,
   "id": "5d496f71",
   "metadata": {},
   "outputs": [
    {
     "data": {
      "text/plain": [
       "100"
      ]
     },
     "execution_count": 34,
     "metadata": {},
     "output_type": "execute_result"
    }
   ],
   "source": [
    "len(review_5)"
   ]
  },
  {
   "cell_type": "code",
   "execution_count": 35,
   "id": "85ef3957",
   "metadata": {},
   "outputs": [
    {
     "name": "stdout",
     "output_type": "stream",
     "text": [
      "[<selenium.webdriver.remote.webelement.WebElement (session=\"6223738d90f063ec51638cc616947ab1\", element=\"85f3f232-4751-4a5e-a63c-8c7df6a317a6\")>, <selenium.webdriver.remote.webelement.WebElement (session=\"6223738d90f063ec51638cc616947ab1\", element=\"453ab0e8-d33a-452b-955c-038acadbdfae\")>, <selenium.webdriver.remote.webelement.WebElement (session=\"6223738d90f063ec51638cc616947ab1\", element=\"58d85f21-b095-4c71-9402-b7185089a633\")>, <selenium.webdriver.remote.webelement.WebElement (session=\"6223738d90f063ec51638cc616947ab1\", element=\"d6f9e9af-5d86-4c02-846f-f57abcdf2c25\")>, <selenium.webdriver.remote.webelement.WebElement (session=\"6223738d90f063ec51638cc616947ab1\", element=\"a823c8b4-3e74-47a3-82c3-1e9a955a2ea6\")>, <selenium.webdriver.remote.webelement.WebElement (session=\"6223738d90f063ec51638cc616947ab1\", element=\"f76d2ef1-e272-4d69-a793-7f23e03254f2\")>, <selenium.webdriver.remote.webelement.WebElement (session=\"6223738d90f063ec51638cc616947ab1\", element=\"add7e78f-36b6-4fc3-9b84-bf53030f9b18\")>, <selenium.webdriver.remote.webelement.WebElement (session=\"6223738d90f063ec51638cc616947ab1\", element=\"feca15fc-fe0b-41cb-850b-42ac72f77e24\")>, <selenium.webdriver.remote.webelement.WebElement (session=\"6223738d90f063ec51638cc616947ab1\", element=\"e9371d1f-e2d0-4d31-9023-3c6edd72f662\")>, <selenium.webdriver.remote.webelement.WebElement (session=\"6223738d90f063ec51638cc616947ab1\", element=\"03e0d963-4513-4aba-824d-3700be286dc5\")>]\n",
      "[<selenium.webdriver.remote.webelement.WebElement (session=\"6223738d90f063ec51638cc616947ab1\", element=\"85f3f232-4751-4a5e-a63c-8c7df6a317a6\")>, <selenium.webdriver.remote.webelement.WebElement (session=\"6223738d90f063ec51638cc616947ab1\", element=\"453ab0e8-d33a-452b-955c-038acadbdfae\")>, <selenium.webdriver.remote.webelement.WebElement (session=\"6223738d90f063ec51638cc616947ab1\", element=\"58d85f21-b095-4c71-9402-b7185089a633\")>, <selenium.webdriver.remote.webelement.WebElement (session=\"6223738d90f063ec51638cc616947ab1\", element=\"d6f9e9af-5d86-4c02-846f-f57abcdf2c25\")>, <selenium.webdriver.remote.webelement.WebElement (session=\"6223738d90f063ec51638cc616947ab1\", element=\"a823c8b4-3e74-47a3-82c3-1e9a955a2ea6\")>, <selenium.webdriver.remote.webelement.WebElement (session=\"6223738d90f063ec51638cc616947ab1\", element=\"f76d2ef1-e272-4d69-a793-7f23e03254f2\")>, <selenium.webdriver.remote.webelement.WebElement (session=\"6223738d90f063ec51638cc616947ab1\", element=\"add7e78f-36b6-4fc3-9b84-bf53030f9b18\")>, <selenium.webdriver.remote.webelement.WebElement (session=\"6223738d90f063ec51638cc616947ab1\", element=\"feca15fc-fe0b-41cb-850b-42ac72f77e24\")>, <selenium.webdriver.remote.webelement.WebElement (session=\"6223738d90f063ec51638cc616947ab1\", element=\"e9371d1f-e2d0-4d31-9023-3c6edd72f662\")>, <selenium.webdriver.remote.webelement.WebElement (session=\"6223738d90f063ec51638cc616947ab1\", element=\"03e0d963-4513-4aba-824d-3700be286dc5\")>]\n",
      "[<selenium.webdriver.remote.webelement.WebElement (session=\"6223738d90f063ec51638cc616947ab1\", element=\"85f3f232-4751-4a5e-a63c-8c7df6a317a6\")>, <selenium.webdriver.remote.webelement.WebElement (session=\"6223738d90f063ec51638cc616947ab1\", element=\"453ab0e8-d33a-452b-955c-038acadbdfae\")>, <selenium.webdriver.remote.webelement.WebElement (session=\"6223738d90f063ec51638cc616947ab1\", element=\"58d85f21-b095-4c71-9402-b7185089a633\")>, <selenium.webdriver.remote.webelement.WebElement (session=\"6223738d90f063ec51638cc616947ab1\", element=\"d6f9e9af-5d86-4c02-846f-f57abcdf2c25\")>, <selenium.webdriver.remote.webelement.WebElement (session=\"6223738d90f063ec51638cc616947ab1\", element=\"a823c8b4-3e74-47a3-82c3-1e9a955a2ea6\")>, <selenium.webdriver.remote.webelement.WebElement (session=\"6223738d90f063ec51638cc616947ab1\", element=\"f76d2ef1-e272-4d69-a793-7f23e03254f2\")>, <selenium.webdriver.remote.webelement.WebElement (session=\"6223738d90f063ec51638cc616947ab1\", element=\"add7e78f-36b6-4fc3-9b84-bf53030f9b18\")>, <selenium.webdriver.remote.webelement.WebElement (session=\"6223738d90f063ec51638cc616947ab1\", element=\"feca15fc-fe0b-41cb-850b-42ac72f77e24\")>, <selenium.webdriver.remote.webelement.WebElement (session=\"6223738d90f063ec51638cc616947ab1\", element=\"e9371d1f-e2d0-4d31-9023-3c6edd72f662\")>, <selenium.webdriver.remote.webelement.WebElement (session=\"6223738d90f063ec51638cc616947ab1\", element=\"03e0d963-4513-4aba-824d-3700be286dc5\")>]\n",
      "[<selenium.webdriver.remote.webelement.WebElement (session=\"6223738d90f063ec51638cc616947ab1\", element=\"85f3f232-4751-4a5e-a63c-8c7df6a317a6\")>, <selenium.webdriver.remote.webelement.WebElement (session=\"6223738d90f063ec51638cc616947ab1\", element=\"453ab0e8-d33a-452b-955c-038acadbdfae\")>, <selenium.webdriver.remote.webelement.WebElement (session=\"6223738d90f063ec51638cc616947ab1\", element=\"58d85f21-b095-4c71-9402-b7185089a633\")>, <selenium.webdriver.remote.webelement.WebElement (session=\"6223738d90f063ec51638cc616947ab1\", element=\"d6f9e9af-5d86-4c02-846f-f57abcdf2c25\")>, <selenium.webdriver.remote.webelement.WebElement (session=\"6223738d90f063ec51638cc616947ab1\", element=\"a823c8b4-3e74-47a3-82c3-1e9a955a2ea6\")>, <selenium.webdriver.remote.webelement.WebElement (session=\"6223738d90f063ec51638cc616947ab1\", element=\"f76d2ef1-e272-4d69-a793-7f23e03254f2\")>, <selenium.webdriver.remote.webelement.WebElement (session=\"6223738d90f063ec51638cc616947ab1\", element=\"add7e78f-36b6-4fc3-9b84-bf53030f9b18\")>, <selenium.webdriver.remote.webelement.WebElement (session=\"6223738d90f063ec51638cc616947ab1\", element=\"feca15fc-fe0b-41cb-850b-42ac72f77e24\")>, <selenium.webdriver.remote.webelement.WebElement (session=\"6223738d90f063ec51638cc616947ab1\", element=\"e9371d1f-e2d0-4d31-9023-3c6edd72f662\")>, <selenium.webdriver.remote.webelement.WebElement (session=\"6223738d90f063ec51638cc616947ab1\", element=\"03e0d963-4513-4aba-824d-3700be286dc5\")>]\n",
      "[<selenium.webdriver.remote.webelement.WebElement (session=\"6223738d90f063ec51638cc616947ab1\", element=\"85f3f232-4751-4a5e-a63c-8c7df6a317a6\")>, <selenium.webdriver.remote.webelement.WebElement (session=\"6223738d90f063ec51638cc616947ab1\", element=\"453ab0e8-d33a-452b-955c-038acadbdfae\")>, <selenium.webdriver.remote.webelement.WebElement (session=\"6223738d90f063ec51638cc616947ab1\", element=\"58d85f21-b095-4c71-9402-b7185089a633\")>, <selenium.webdriver.remote.webelement.WebElement (session=\"6223738d90f063ec51638cc616947ab1\", element=\"d6f9e9af-5d86-4c02-846f-f57abcdf2c25\")>, <selenium.webdriver.remote.webelement.WebElement (session=\"6223738d90f063ec51638cc616947ab1\", element=\"a823c8b4-3e74-47a3-82c3-1e9a955a2ea6\")>, <selenium.webdriver.remote.webelement.WebElement (session=\"6223738d90f063ec51638cc616947ab1\", element=\"f76d2ef1-e272-4d69-a793-7f23e03254f2\")>, <selenium.webdriver.remote.webelement.WebElement (session=\"6223738d90f063ec51638cc616947ab1\", element=\"add7e78f-36b6-4fc3-9b84-bf53030f9b18\")>, <selenium.webdriver.remote.webelement.WebElement (session=\"6223738d90f063ec51638cc616947ab1\", element=\"feca15fc-fe0b-41cb-850b-42ac72f77e24\")>, <selenium.webdriver.remote.webelement.WebElement (session=\"6223738d90f063ec51638cc616947ab1\", element=\"e9371d1f-e2d0-4d31-9023-3c6edd72f662\")>, <selenium.webdriver.remote.webelement.WebElement (session=\"6223738d90f063ec51638cc616947ab1\", element=\"03e0d963-4513-4aba-824d-3700be286dc5\")>]\n",
      "[<selenium.webdriver.remote.webelement.WebElement (session=\"6223738d90f063ec51638cc616947ab1\", element=\"85f3f232-4751-4a5e-a63c-8c7df6a317a6\")>, <selenium.webdriver.remote.webelement.WebElement (session=\"6223738d90f063ec51638cc616947ab1\", element=\"453ab0e8-d33a-452b-955c-038acadbdfae\")>, <selenium.webdriver.remote.webelement.WebElement (session=\"6223738d90f063ec51638cc616947ab1\", element=\"58d85f21-b095-4c71-9402-b7185089a633\")>, <selenium.webdriver.remote.webelement.WebElement (session=\"6223738d90f063ec51638cc616947ab1\", element=\"d6f9e9af-5d86-4c02-846f-f57abcdf2c25\")>, <selenium.webdriver.remote.webelement.WebElement (session=\"6223738d90f063ec51638cc616947ab1\", element=\"a823c8b4-3e74-47a3-82c3-1e9a955a2ea6\")>, <selenium.webdriver.remote.webelement.WebElement (session=\"6223738d90f063ec51638cc616947ab1\", element=\"f76d2ef1-e272-4d69-a793-7f23e03254f2\")>, <selenium.webdriver.remote.webelement.WebElement (session=\"6223738d90f063ec51638cc616947ab1\", element=\"add7e78f-36b6-4fc3-9b84-bf53030f9b18\")>, <selenium.webdriver.remote.webelement.WebElement (session=\"6223738d90f063ec51638cc616947ab1\", element=\"feca15fc-fe0b-41cb-850b-42ac72f77e24\")>, <selenium.webdriver.remote.webelement.WebElement (session=\"6223738d90f063ec51638cc616947ab1\", element=\"e9371d1f-e2d0-4d31-9023-3c6edd72f662\")>, <selenium.webdriver.remote.webelement.WebElement (session=\"6223738d90f063ec51638cc616947ab1\", element=\"03e0d963-4513-4aba-824d-3700be286dc5\")>]\n",
      "[<selenium.webdriver.remote.webelement.WebElement (session=\"6223738d90f063ec51638cc616947ab1\", element=\"85f3f232-4751-4a5e-a63c-8c7df6a317a6\")>, <selenium.webdriver.remote.webelement.WebElement (session=\"6223738d90f063ec51638cc616947ab1\", element=\"453ab0e8-d33a-452b-955c-038acadbdfae\")>, <selenium.webdriver.remote.webelement.WebElement (session=\"6223738d90f063ec51638cc616947ab1\", element=\"58d85f21-b095-4c71-9402-b7185089a633\")>, <selenium.webdriver.remote.webelement.WebElement (session=\"6223738d90f063ec51638cc616947ab1\", element=\"d6f9e9af-5d86-4c02-846f-f57abcdf2c25\")>, <selenium.webdriver.remote.webelement.WebElement (session=\"6223738d90f063ec51638cc616947ab1\", element=\"a823c8b4-3e74-47a3-82c3-1e9a955a2ea6\")>, <selenium.webdriver.remote.webelement.WebElement (session=\"6223738d90f063ec51638cc616947ab1\", element=\"f76d2ef1-e272-4d69-a793-7f23e03254f2\")>, <selenium.webdriver.remote.webelement.WebElement (session=\"6223738d90f063ec51638cc616947ab1\", element=\"add7e78f-36b6-4fc3-9b84-bf53030f9b18\")>, <selenium.webdriver.remote.webelement.WebElement (session=\"6223738d90f063ec51638cc616947ab1\", element=\"feca15fc-fe0b-41cb-850b-42ac72f77e24\")>, <selenium.webdriver.remote.webelement.WebElement (session=\"6223738d90f063ec51638cc616947ab1\", element=\"e9371d1f-e2d0-4d31-9023-3c6edd72f662\")>, <selenium.webdriver.remote.webelement.WebElement (session=\"6223738d90f063ec51638cc616947ab1\", element=\"03e0d963-4513-4aba-824d-3700be286dc5\")>]\n",
      "[<selenium.webdriver.remote.webelement.WebElement (session=\"6223738d90f063ec51638cc616947ab1\", element=\"85f3f232-4751-4a5e-a63c-8c7df6a317a6\")>, <selenium.webdriver.remote.webelement.WebElement (session=\"6223738d90f063ec51638cc616947ab1\", element=\"453ab0e8-d33a-452b-955c-038acadbdfae\")>, <selenium.webdriver.remote.webelement.WebElement (session=\"6223738d90f063ec51638cc616947ab1\", element=\"58d85f21-b095-4c71-9402-b7185089a633\")>, <selenium.webdriver.remote.webelement.WebElement (session=\"6223738d90f063ec51638cc616947ab1\", element=\"d6f9e9af-5d86-4c02-846f-f57abcdf2c25\")>, <selenium.webdriver.remote.webelement.WebElement (session=\"6223738d90f063ec51638cc616947ab1\", element=\"a823c8b4-3e74-47a3-82c3-1e9a955a2ea6\")>, <selenium.webdriver.remote.webelement.WebElement (session=\"6223738d90f063ec51638cc616947ab1\", element=\"f76d2ef1-e272-4d69-a793-7f23e03254f2\")>, <selenium.webdriver.remote.webelement.WebElement (session=\"6223738d90f063ec51638cc616947ab1\", element=\"add7e78f-36b6-4fc3-9b84-bf53030f9b18\")>, <selenium.webdriver.remote.webelement.WebElement (session=\"6223738d90f063ec51638cc616947ab1\", element=\"feca15fc-fe0b-41cb-850b-42ac72f77e24\")>, <selenium.webdriver.remote.webelement.WebElement (session=\"6223738d90f063ec51638cc616947ab1\", element=\"e9371d1f-e2d0-4d31-9023-3c6edd72f662\")>, <selenium.webdriver.remote.webelement.WebElement (session=\"6223738d90f063ec51638cc616947ab1\", element=\"03e0d963-4513-4aba-824d-3700be286dc5\")>]\n",
      "[<selenium.webdriver.remote.webelement.WebElement (session=\"6223738d90f063ec51638cc616947ab1\", element=\"85f3f232-4751-4a5e-a63c-8c7df6a317a6\")>, <selenium.webdriver.remote.webelement.WebElement (session=\"6223738d90f063ec51638cc616947ab1\", element=\"453ab0e8-d33a-452b-955c-038acadbdfae\")>, <selenium.webdriver.remote.webelement.WebElement (session=\"6223738d90f063ec51638cc616947ab1\", element=\"58d85f21-b095-4c71-9402-b7185089a633\")>, <selenium.webdriver.remote.webelement.WebElement (session=\"6223738d90f063ec51638cc616947ab1\", element=\"d6f9e9af-5d86-4c02-846f-f57abcdf2c25\")>, <selenium.webdriver.remote.webelement.WebElement (session=\"6223738d90f063ec51638cc616947ab1\", element=\"a823c8b4-3e74-47a3-82c3-1e9a955a2ea6\")>, <selenium.webdriver.remote.webelement.WebElement (session=\"6223738d90f063ec51638cc616947ab1\", element=\"f76d2ef1-e272-4d69-a793-7f23e03254f2\")>, <selenium.webdriver.remote.webelement.WebElement (session=\"6223738d90f063ec51638cc616947ab1\", element=\"add7e78f-36b6-4fc3-9b84-bf53030f9b18\")>, <selenium.webdriver.remote.webelement.WebElement (session=\"6223738d90f063ec51638cc616947ab1\", element=\"feca15fc-fe0b-41cb-850b-42ac72f77e24\")>, <selenium.webdriver.remote.webelement.WebElement (session=\"6223738d90f063ec51638cc616947ab1\", element=\"e9371d1f-e2d0-4d31-9023-3c6edd72f662\")>, <selenium.webdriver.remote.webelement.WebElement (session=\"6223738d90f063ec51638cc616947ab1\", element=\"03e0d963-4513-4aba-824d-3700be286dc5\")>]\n",
      "[<selenium.webdriver.remote.webelement.WebElement (session=\"6223738d90f063ec51638cc616947ab1\", element=\"85f3f232-4751-4a5e-a63c-8c7df6a317a6\")>, <selenium.webdriver.remote.webelement.WebElement (session=\"6223738d90f063ec51638cc616947ab1\", element=\"453ab0e8-d33a-452b-955c-038acadbdfae\")>, <selenium.webdriver.remote.webelement.WebElement (session=\"6223738d90f063ec51638cc616947ab1\", element=\"58d85f21-b095-4c71-9402-b7185089a633\")>, <selenium.webdriver.remote.webelement.WebElement (session=\"6223738d90f063ec51638cc616947ab1\", element=\"d6f9e9af-5d86-4c02-846f-f57abcdf2c25\")>, <selenium.webdriver.remote.webelement.WebElement (session=\"6223738d90f063ec51638cc616947ab1\", element=\"a823c8b4-3e74-47a3-82c3-1e9a955a2ea6\")>, <selenium.webdriver.remote.webelement.WebElement (session=\"6223738d90f063ec51638cc616947ab1\", element=\"f76d2ef1-e272-4d69-a793-7f23e03254f2\")>, <selenium.webdriver.remote.webelement.WebElement (session=\"6223738d90f063ec51638cc616947ab1\", element=\"add7e78f-36b6-4fc3-9b84-bf53030f9b18\")>, <selenium.webdriver.remote.webelement.WebElement (session=\"6223738d90f063ec51638cc616947ab1\", element=\"feca15fc-fe0b-41cb-850b-42ac72f77e24\")>, <selenium.webdriver.remote.webelement.WebElement (session=\"6223738d90f063ec51638cc616947ab1\", element=\"e9371d1f-e2d0-4d31-9023-3c6edd72f662\")>, <selenium.webdriver.remote.webelement.WebElement (session=\"6223738d90f063ec51638cc616947ab1\", element=\"03e0d963-4513-4aba-824d-3700be286dc5\")>]\n"
     ]
    }
   ],
   "source": [
    "## Since one page has only 10 deatils of reviews,Lets extract all the tags having reviews from page 1 to page 10 to get 1st 100 reviews details.\n",
    "detailrev_5_1=driver_5.find_elements_by_xpath(\"//div[@class='t-ZTKy']\")\n",
    "detailrev_5_2=driver_5.find_elements_by_xpath(\"//div[@class='t-ZTKy']\")\n",
    "detailrev_5_3=driver_5.find_elements_by_xpath(\"//div[@class='t-ZTKy']\")\n",
    "detailrev_5_4=driver_5.find_elements_by_xpath(\"//div[@class='t-ZTKy']\")\n",
    "detailrev_5_5=driver_5.find_elements_by_xpath(\"//div[@class='t-ZTKy']\")\n",
    "detailrev_5_6=driver_5.find_elements_by_xpath(\"//div[@class='t-ZTKy']\")\n",
    "detailrev_5_7=driver_5.find_elements_by_xpath(\"//div[@class='t-ZTKy']\")\n",
    "detailrev_5_8=driver_5.find_elements_by_xpath(\"//div[@class='t-ZTKy']\")\n",
    "detailrev_5_9=driver_5.find_elements_by_xpath(\"//div[@class='t-ZTKy']\")\n",
    "detailrev_5_10=driver_5.find_elements_by_xpath(\"//div[@class='t-ZTKy']\")\n",
    "print(detailrev_5_1)\n",
    "print(detailrev_5_2)\n",
    "print(detailrev_5_3)\n",
    "print(detailrev_5_4)\n",
    "print(detailrev_5_5)\n",
    "print(detailrev_5_6)\n",
    "print(detailrev_5_7)\n",
    "print(detailrev_5_8)\n",
    "print(detailrev_5_9)\n",
    "print(detailrev_5_10)"
   ]
  },
  {
   "cell_type": "code",
   "execution_count": 36,
   "id": "ee69b087",
   "metadata": {},
   "outputs": [
    {
     "data": {
      "text/plain": [
       "['The Best Phone for the Money\\n\\nThe iPhone 11 offers superb cameras, a more durable design and excellent battery life for an affordable price.\\n\\nCompelling ultra-wide camera\\nNew Night mode is excellent\\nLong battery life',\n",
       " 'Really satisfied with the Product I received... It’s totally genuine and the packaging was also really good so if ur planning to buy just go for it.',\n",
       " 'Great iPhone very snappy experience as apple kind. Upgraded from iPhone 7.\\nPros\\n-Camera top class\\n- Battery top performed\\n-Chipset no need to say as apple kind\\n-Security as you expect from apple\\n- Display super bright industry leading colour\\naccuracy and super responsive\\n-Build quality as expect from apple sturdy\\npremium durable beautiful stylish.\\n-Os most stable os in smartphone industry\\n\\nCons\\n-No 5G\\n-Display is not based on OLED technology\\n-Charger headphones and 1 apple stic...\\nREAD MORE',\n",
       " 'Amazing phone with great cameras and better battery which gives you the best performance. I just love the camera .',\n",
       " 'This is my first iOS phone. I am very happy with this product. Very much satisfied with this. I love this phone.',\n",
       " 'Previously I was using one plus 3t it was a great phone\\nAnd then I decided to upgrade I am stuck between Samsung s10 plus or iPhone 11\\nI have seen the specs and everything were good except the display it’s somewhere between 720-1080 and it’s not even an amoled it’s an LCD display\\nBut I decided to go with iPhone because I have never used an IOS device I have Been an android user from the past 9 years I ordered IPhone 11 (128gb) product red\\nMy experience after using 3 weeks\\n1. The delivery ...\\nREAD MORE',\n",
       " 'Amazing Powerful and Durable Gadget.\\n\\nI’m am very happy with the camera picture quality, Amazing face id unlocked in dark room, Strong battery with perfect screen size as you can carry easily in pocket. This is my third iPhone.\\n\\nI shifted from android Samsung Note series to iPhone because of the strong build quality and peace of mind for next 3-4 years.\\n\\nDon’t think to much just go for it and I suggest you to go for minimum 128gb variant or more 256gb.\\n\\nI’ve attached my puppy pics and no fi...\\nREAD MORE',\n",
       " 'So far it’s been an AMAZING experience coming back to iOS after nearly a decade but it’s not as versatile as android though phone is sturdy dropped it accidentally a couple of times and nothing happened fortunately camera is awesome',\n",
       " 'i11 is worthy to buy, too much happy with the product. Thank u flipkart I received the item on time..loved it..',\n",
       " 'What a camera .....just awesome ..you can feel this iPhone just awesome . Good for gaming also ...try pubg in hd it’s just wow',\n",
       " 'The Best Phone for the Money\\n\\nThe iPhone 11 offers superb cameras, a more durable design and excellent battery life for an affordable price.\\n\\nCompelling ultra-wide camera\\nNew Night mode is excellent\\nLong battery life',\n",
       " 'Really satisfied with the Product I received... It’s totally genuine and the packaging was also really good so if ur planning to buy just go for it.',\n",
       " 'Great iPhone very snappy experience as apple kind. Upgraded from iPhone 7.\\nPros\\n-Camera top class\\n- Battery top performed\\n-Chipset no need to say as apple kind\\n-Security as you expect from apple\\n- Display super bright industry leading colour\\naccuracy and super responsive\\n-Build quality as expect from apple sturdy\\npremium durable beautiful stylish.\\n-Os most stable os in smartphone industry\\n\\nCons\\n-No 5G\\n-Display is not based on OLED technology\\n-Charger headphones and 1 apple stic...\\nREAD MORE',\n",
       " 'Amazing phone with great cameras and better battery which gives you the best performance. I just love the camera .',\n",
       " 'This is my first iOS phone. I am very happy with this product. Very much satisfied with this. I love this phone.',\n",
       " 'Previously I was using one plus 3t it was a great phone\\nAnd then I decided to upgrade I am stuck between Samsung s10 plus or iPhone 11\\nI have seen the specs and everything were good except the display it’s somewhere between 720-1080 and it’s not even an amoled it’s an LCD display\\nBut I decided to go with iPhone because I have never used an IOS device I have Been an android user from the past 9 years I ordered IPhone 11 (128gb) product red\\nMy experience after using 3 weeks\\n1. The delivery ...\\nREAD MORE',\n",
       " 'Amazing Powerful and Durable Gadget.\\n\\nI’m am very happy with the camera picture quality, Amazing face id unlocked in dark room, Strong battery with perfect screen size as you can carry easily in pocket. This is my third iPhone.\\n\\nI shifted from android Samsung Note series to iPhone because of the strong build quality and peace of mind for next 3-4 years.\\n\\nDon’t think to much just go for it and I suggest you to go for minimum 128gb variant or more 256gb.\\n\\nI’ve attached my puppy pics and no fi...\\nREAD MORE',\n",
       " 'So far it’s been an AMAZING experience coming back to iOS after nearly a decade but it’s not as versatile as android though phone is sturdy dropped it accidentally a couple of times and nothing happened fortunately camera is awesome',\n",
       " 'i11 is worthy to buy, too much happy with the product. Thank u flipkart I received the item on time..loved it..',\n",
       " 'What a camera .....just awesome ..you can feel this iPhone just awesome . Good for gaming also ...try pubg in hd it’s just wow',\n",
       " 'The Best Phone for the Money\\n\\nThe iPhone 11 offers superb cameras, a more durable design and excellent battery life for an affordable price.\\n\\nCompelling ultra-wide camera\\nNew Night mode is excellent\\nLong battery life',\n",
       " 'Really satisfied with the Product I received... It’s totally genuine and the packaging was also really good so if ur planning to buy just go for it.',\n",
       " 'Great iPhone very snappy experience as apple kind. Upgraded from iPhone 7.\\nPros\\n-Camera top class\\n- Battery top performed\\n-Chipset no need to say as apple kind\\n-Security as you expect from apple\\n- Display super bright industry leading colour\\naccuracy and super responsive\\n-Build quality as expect from apple sturdy\\npremium durable beautiful stylish.\\n-Os most stable os in smartphone industry\\n\\nCons\\n-No 5G\\n-Display is not based on OLED technology\\n-Charger headphones and 1 apple stic...\\nREAD MORE',\n",
       " 'Amazing phone with great cameras and better battery which gives you the best performance. I just love the camera .',\n",
       " 'This is my first iOS phone. I am very happy with this product. Very much satisfied with this. I love this phone.',\n",
       " 'Previously I was using one plus 3t it was a great phone\\nAnd then I decided to upgrade I am stuck between Samsung s10 plus or iPhone 11\\nI have seen the specs and everything were good except the display it’s somewhere between 720-1080 and it’s not even an amoled it’s an LCD display\\nBut I decided to go with iPhone because I have never used an IOS device I have Been an android user from the past 9 years I ordered IPhone 11 (128gb) product red\\nMy experience after using 3 weeks\\n1. The delivery ...\\nREAD MORE',\n",
       " 'Amazing Powerful and Durable Gadget.\\n\\nI’m am very happy with the camera picture quality, Amazing face id unlocked in dark room, Strong battery with perfect screen size as you can carry easily in pocket. This is my third iPhone.\\n\\nI shifted from android Samsung Note series to iPhone because of the strong build quality and peace of mind for next 3-4 years.\\n\\nDon’t think to much just go for it and I suggest you to go for minimum 128gb variant or more 256gb.\\n\\nI’ve attached my puppy pics and no fi...\\nREAD MORE',\n",
       " 'So far it’s been an AMAZING experience coming back to iOS after nearly a decade but it’s not as versatile as android though phone is sturdy dropped it accidentally a couple of times and nothing happened fortunately camera is awesome',\n",
       " 'i11 is worthy to buy, too much happy with the product. Thank u flipkart I received the item on time..loved it..',\n",
       " 'What a camera .....just awesome ..you can feel this iPhone just awesome . Good for gaming also ...try pubg in hd it’s just wow',\n",
       " 'The Best Phone for the Money\\n\\nThe iPhone 11 offers superb cameras, a more durable design and excellent battery life for an affordable price.\\n\\nCompelling ultra-wide camera\\nNew Night mode is excellent\\nLong battery life',\n",
       " 'Really satisfied with the Product I received... It’s totally genuine and the packaging was also really good so if ur planning to buy just go for it.',\n",
       " 'Great iPhone very snappy experience as apple kind. Upgraded from iPhone 7.\\nPros\\n-Camera top class\\n- Battery top performed\\n-Chipset no need to say as apple kind\\n-Security as you expect from apple\\n- Display super bright industry leading colour\\naccuracy and super responsive\\n-Build quality as expect from apple sturdy\\npremium durable beautiful stylish.\\n-Os most stable os in smartphone industry\\n\\nCons\\n-No 5G\\n-Display is not based on OLED technology\\n-Charger headphones and 1 apple stic...\\nREAD MORE',\n",
       " 'Amazing phone with great cameras and better battery which gives you the best performance. I just love the camera .',\n",
       " 'This is my first iOS phone. I am very happy with this product. Very much satisfied with this. I love this phone.',\n",
       " 'Previously I was using one plus 3t it was a great phone\\nAnd then I decided to upgrade I am stuck between Samsung s10 plus or iPhone 11\\nI have seen the specs and everything were good except the display it’s somewhere between 720-1080 and it’s not even an amoled it’s an LCD display\\nBut I decided to go with iPhone because I have never used an IOS device I have Been an android user from the past 9 years I ordered IPhone 11 (128gb) product red\\nMy experience after using 3 weeks\\n1. The delivery ...\\nREAD MORE',\n",
       " 'Amazing Powerful and Durable Gadget.\\n\\nI’m am very happy with the camera picture quality, Amazing face id unlocked in dark room, Strong battery with perfect screen size as you can carry easily in pocket. This is my third iPhone.\\n\\nI shifted from android Samsung Note series to iPhone because of the strong build quality and peace of mind for next 3-4 years.\\n\\nDon’t think to much just go for it and I suggest you to go for minimum 128gb variant or more 256gb.\\n\\nI’ve attached my puppy pics and no fi...\\nREAD MORE',\n",
       " 'So far it’s been an AMAZING experience coming back to iOS after nearly a decade but it’s not as versatile as android though phone is sturdy dropped it accidentally a couple of times and nothing happened fortunately camera is awesome',\n",
       " 'i11 is worthy to buy, too much happy with the product. Thank u flipkart I received the item on time..loved it..',\n",
       " 'What a camera .....just awesome ..you can feel this iPhone just awesome . Good for gaming also ...try pubg in hd it’s just wow',\n",
       " 'The Best Phone for the Money\\n\\nThe iPhone 11 offers superb cameras, a more durable design and excellent battery life for an affordable price.\\n\\nCompelling ultra-wide camera\\nNew Night mode is excellent\\nLong battery life',\n",
       " 'Really satisfied with the Product I received... It’s totally genuine and the packaging was also really good so if ur planning to buy just go for it.',\n",
       " 'Great iPhone very snappy experience as apple kind. Upgraded from iPhone 7.\\nPros\\n-Camera top class\\n- Battery top performed\\n-Chipset no need to say as apple kind\\n-Security as you expect from apple\\n- Display super bright industry leading colour\\naccuracy and super responsive\\n-Build quality as expect from apple sturdy\\npremium durable beautiful stylish.\\n-Os most stable os in smartphone industry\\n\\nCons\\n-No 5G\\n-Display is not based on OLED technology\\n-Charger headphones and 1 apple stic...\\nREAD MORE',\n",
       " 'Amazing phone with great cameras and better battery which gives you the best performance. I just love the camera .',\n",
       " 'This is my first iOS phone. I am very happy with this product. Very much satisfied with this. I love this phone.',\n",
       " 'Previously I was using one plus 3t it was a great phone\\nAnd then I decided to upgrade I am stuck between Samsung s10 plus or iPhone 11\\nI have seen the specs and everything were good except the display it’s somewhere between 720-1080 and it’s not even an amoled it’s an LCD display\\nBut I decided to go with iPhone because I have never used an IOS device I have Been an android user from the past 9 years I ordered IPhone 11 (128gb) product red\\nMy experience after using 3 weeks\\n1. The delivery ...\\nREAD MORE',\n",
       " 'Amazing Powerful and Durable Gadget.\\n\\nI’m am very happy with the camera picture quality, Amazing face id unlocked in dark room, Strong battery with perfect screen size as you can carry easily in pocket. This is my third iPhone.\\n\\nI shifted from android Samsung Note series to iPhone because of the strong build quality and peace of mind for next 3-4 years.\\n\\nDon’t think to much just go for it and I suggest you to go for minimum 128gb variant or more 256gb.\\n\\nI’ve attached my puppy pics and no fi...\\nREAD MORE',\n",
       " 'So far it’s been an AMAZING experience coming back to iOS after nearly a decade but it’s not as versatile as android though phone is sturdy dropped it accidentally a couple of times and nothing happened fortunately camera is awesome',\n",
       " 'i11 is worthy to buy, too much happy with the product. Thank u flipkart I received the item on time..loved it..',\n",
       " 'What a camera .....just awesome ..you can feel this iPhone just awesome . Good for gaming also ...try pubg in hd it’s just wow',\n",
       " 'The Best Phone for the Money\\n\\nThe iPhone 11 offers superb cameras, a more durable design and excellent battery life for an affordable price.\\n\\nCompelling ultra-wide camera\\nNew Night mode is excellent\\nLong battery life',\n",
       " 'Really satisfied with the Product I received... It’s totally genuine and the packaging was also really good so if ur planning to buy just go for it.',\n",
       " 'Great iPhone very snappy experience as apple kind. Upgraded from iPhone 7.\\nPros\\n-Camera top class\\n- Battery top performed\\n-Chipset no need to say as apple kind\\n-Security as you expect from apple\\n- Display super bright industry leading colour\\naccuracy and super responsive\\n-Build quality as expect from apple sturdy\\npremium durable beautiful stylish.\\n-Os most stable os in smartphone industry\\n\\nCons\\n-No 5G\\n-Display is not based on OLED technology\\n-Charger headphones and 1 apple stic...\\nREAD MORE',\n",
       " 'Amazing phone with great cameras and better battery which gives you the best performance. I just love the camera .',\n",
       " 'This is my first iOS phone. I am very happy with this product. Very much satisfied with this. I love this phone.',\n",
       " 'Previously I was using one plus 3t it was a great phone\\nAnd then I decided to upgrade I am stuck between Samsung s10 plus or iPhone 11\\nI have seen the specs and everything were good except the display it’s somewhere between 720-1080 and it’s not even an amoled it’s an LCD display\\nBut I decided to go with iPhone because I have never used an IOS device I have Been an android user from the past 9 years I ordered IPhone 11 (128gb) product red\\nMy experience after using 3 weeks\\n1. The delivery ...\\nREAD MORE',\n",
       " 'Amazing Powerful and Durable Gadget.\\n\\nI’m am very happy with the camera picture quality, Amazing face id unlocked in dark room, Strong battery with perfect screen size as you can carry easily in pocket. This is my third iPhone.\\n\\nI shifted from android Samsung Note series to iPhone because of the strong build quality and peace of mind for next 3-4 years.\\n\\nDon’t think to much just go for it and I suggest you to go for minimum 128gb variant or more 256gb.\\n\\nI’ve attached my puppy pics and no fi...\\nREAD MORE',\n",
       " 'So far it’s been an AMAZING experience coming back to iOS after nearly a decade but it’s not as versatile as android though phone is sturdy dropped it accidentally a couple of times and nothing happened fortunately camera is awesome',\n",
       " 'i11 is worthy to buy, too much happy with the product. Thank u flipkart I received the item on time..loved it..',\n",
       " 'What a camera .....just awesome ..you can feel this iPhone just awesome . Good for gaming also ...try pubg in hd it’s just wow',\n",
       " 'The Best Phone for the Money\\n\\nThe iPhone 11 offers superb cameras, a more durable design and excellent battery life for an affordable price.\\n\\nCompelling ultra-wide camera\\nNew Night mode is excellent\\nLong battery life',\n",
       " 'Really satisfied with the Product I received... It’s totally genuine and the packaging was also really good so if ur planning to buy just go for it.',\n",
       " 'Great iPhone very snappy experience as apple kind. Upgraded from iPhone 7.\\nPros\\n-Camera top class\\n- Battery top performed\\n-Chipset no need to say as apple kind\\n-Security as you expect from apple\\n- Display super bright industry leading colour\\naccuracy and super responsive\\n-Build quality as expect from apple sturdy\\npremium durable beautiful stylish.\\n-Os most stable os in smartphone industry\\n\\nCons\\n-No 5G\\n-Display is not based on OLED technology\\n-Charger headphones and 1 apple stic...\\nREAD MORE',\n",
       " 'Amazing phone with great cameras and better battery which gives you the best performance. I just love the camera .',\n",
       " 'This is my first iOS phone. I am very happy with this product. Very much satisfied with this. I love this phone.',\n",
       " 'Previously I was using one plus 3t it was a great phone\\nAnd then I decided to upgrade I am stuck between Samsung s10 plus or iPhone 11\\nI have seen the specs and everything were good except the display it’s somewhere between 720-1080 and it’s not even an amoled it’s an LCD display\\nBut I decided to go with iPhone because I have never used an IOS device I have Been an android user from the past 9 years I ordered IPhone 11 (128gb) product red\\nMy experience after using 3 weeks\\n1. The delivery ...\\nREAD MORE',\n",
       " 'Amazing Powerful and Durable Gadget.\\n\\nI’m am very happy with the camera picture quality, Amazing face id unlocked in dark room, Strong battery with perfect screen size as you can carry easily in pocket. This is my third iPhone.\\n\\nI shifted from android Samsung Note series to iPhone because of the strong build quality and peace of mind for next 3-4 years.\\n\\nDon’t think to much just go for it and I suggest you to go for minimum 128gb variant or more 256gb.\\n\\nI’ve attached my puppy pics and no fi...\\nREAD MORE',\n",
       " 'So far it’s been an AMAZING experience coming back to iOS after nearly a decade but it’s not as versatile as android though phone is sturdy dropped it accidentally a couple of times and nothing happened fortunately camera is awesome',\n",
       " 'i11 is worthy to buy, too much happy with the product. Thank u flipkart I received the item on time..loved it..',\n",
       " 'What a camera .....just awesome ..you can feel this iPhone just awesome . Good for gaming also ...try pubg in hd it’s just wow',\n",
       " 'The Best Phone for the Money\\n\\nThe iPhone 11 offers superb cameras, a more durable design and excellent battery life for an affordable price.\\n\\nCompelling ultra-wide camera\\nNew Night mode is excellent\\nLong battery life',\n",
       " 'Really satisfied with the Product I received... It’s totally genuine and the packaging was also really good so if ur planning to buy just go for it.',\n",
       " 'Great iPhone very snappy experience as apple kind. Upgraded from iPhone 7.\\nPros\\n-Camera top class\\n- Battery top performed\\n-Chipset no need to say as apple kind\\n-Security as you expect from apple\\n- Display super bright industry leading colour\\naccuracy and super responsive\\n-Build quality as expect from apple sturdy\\npremium durable beautiful stylish.\\n-Os most stable os in smartphone industry\\n\\nCons\\n-No 5G\\n-Display is not based on OLED technology\\n-Charger headphones and 1 apple stic...\\nREAD MORE',\n",
       " 'Amazing phone with great cameras and better battery which gives you the best performance. I just love the camera .',\n",
       " 'This is my first iOS phone. I am very happy with this product. Very much satisfied with this. I love this phone.',\n",
       " 'Previously I was using one plus 3t it was a great phone\\nAnd then I decided to upgrade I am stuck between Samsung s10 plus or iPhone 11\\nI have seen the specs and everything were good except the display it’s somewhere between 720-1080 and it’s not even an amoled it’s an LCD display\\nBut I decided to go with iPhone because I have never used an IOS device I have Been an android user from the past 9 years I ordered IPhone 11 (128gb) product red\\nMy experience after using 3 weeks\\n1. The delivery ...\\nREAD MORE',\n",
       " 'Amazing Powerful and Durable Gadget.\\n\\nI’m am very happy with the camera picture quality, Amazing face id unlocked in dark room, Strong battery with perfect screen size as you can carry easily in pocket. This is my third iPhone.\\n\\nI shifted from android Samsung Note series to iPhone because of the strong build quality and peace of mind for next 3-4 years.\\n\\nDon’t think to much just go for it and I suggest you to go for minimum 128gb variant or more 256gb.\\n\\nI’ve attached my puppy pics and no fi...\\nREAD MORE',\n",
       " 'So far it’s been an AMAZING experience coming back to iOS after nearly a decade but it’s not as versatile as android though phone is sturdy dropped it accidentally a couple of times and nothing happened fortunately camera is awesome',\n",
       " 'i11 is worthy to buy, too much happy with the product. Thank u flipkart I received the item on time..loved it..',\n",
       " 'What a camera .....just awesome ..you can feel this iPhone just awesome . Good for gaming also ...try pubg in hd it’s just wow',\n",
       " 'The Best Phone for the Money\\n\\nThe iPhone 11 offers superb cameras, a more durable design and excellent battery life for an affordable price.\\n\\nCompelling ultra-wide camera\\nNew Night mode is excellent\\nLong battery life',\n",
       " 'Really satisfied with the Product I received... It’s totally genuine and the packaging was also really good so if ur planning to buy just go for it.',\n",
       " 'Great iPhone very snappy experience as apple kind. Upgraded from iPhone 7.\\nPros\\n-Camera top class\\n- Battery top performed\\n-Chipset no need to say as apple kind\\n-Security as you expect from apple\\n- Display super bright industry leading colour\\naccuracy and super responsive\\n-Build quality as expect from apple sturdy\\npremium durable beautiful stylish.\\n-Os most stable os in smartphone industry\\n\\nCons\\n-No 5G\\n-Display is not based on OLED technology\\n-Charger headphones and 1 apple stic...\\nREAD MORE',\n",
       " 'Amazing phone with great cameras and better battery which gives you the best performance. I just love the camera .',\n",
       " 'This is my first iOS phone. I am very happy with this product. Very much satisfied with this. I love this phone.',\n",
       " 'Previously I was using one plus 3t it was a great phone\\nAnd then I decided to upgrade I am stuck between Samsung s10 plus or iPhone 11\\nI have seen the specs and everything were good except the display it’s somewhere between 720-1080 and it’s not even an amoled it’s an LCD display\\nBut I decided to go with iPhone because I have never used an IOS device I have Been an android user from the past 9 years I ordered IPhone 11 (128gb) product red\\nMy experience after using 3 weeks\\n1. The delivery ...\\nREAD MORE',\n",
       " 'Amazing Powerful and Durable Gadget.\\n\\nI’m am very happy with the camera picture quality, Amazing face id unlocked in dark room, Strong battery with perfect screen size as you can carry easily in pocket. This is my third iPhone.\\n\\nI shifted from android Samsung Note series to iPhone because of the strong build quality and peace of mind for next 3-4 years.\\n\\nDon’t think to much just go for it and I suggest you to go for minimum 128gb variant or more 256gb.\\n\\nI’ve attached my puppy pics and no fi...\\nREAD MORE',\n",
       " 'So far it’s been an AMAZING experience coming back to iOS after nearly a decade but it’s not as versatile as android though phone is sturdy dropped it accidentally a couple of times and nothing happened fortunately camera is awesome',\n",
       " 'i11 is worthy to buy, too much happy with the product. Thank u flipkart I received the item on time..loved it..',\n",
       " 'What a camera .....just awesome ..you can feel this iPhone just awesome . Good for gaming also ...try pubg in hd it’s just wow',\n",
       " 'The Best Phone for the Money\\n\\nThe iPhone 11 offers superb cameras, a more durable design and excellent battery life for an affordable price.\\n\\nCompelling ultra-wide camera\\nNew Night mode is excellent\\nLong battery life',\n",
       " 'Really satisfied with the Product I received... It’s totally genuine and the packaging was also really good so if ur planning to buy just go for it.',\n",
       " 'Great iPhone very snappy experience as apple kind. Upgraded from iPhone 7.\\nPros\\n-Camera top class\\n- Battery top performed\\n-Chipset no need to say as apple kind\\n-Security as you expect from apple\\n- Display super bright industry leading colour\\naccuracy and super responsive\\n-Build quality as expect from apple sturdy\\npremium durable beautiful stylish.\\n-Os most stable os in smartphone industry\\n\\nCons\\n-No 5G\\n-Display is not based on OLED technology\\n-Charger headphones and 1 apple stic...\\nREAD MORE',\n",
       " 'Amazing phone with great cameras and better battery which gives you the best performance. I just love the camera .',\n",
       " 'This is my first iOS phone. I am very happy with this product. Very much satisfied with this. I love this phone.',\n",
       " 'Previously I was using one plus 3t it was a great phone\\nAnd then I decided to upgrade I am stuck between Samsung s10 plus or iPhone 11\\nI have seen the specs and everything were good except the display it’s somewhere between 720-1080 and it’s not even an amoled it’s an LCD display\\nBut I decided to go with iPhone because I have never used an IOS device I have Been an android user from the past 9 years I ordered IPhone 11 (128gb) product red\\nMy experience after using 3 weeks\\n1. The delivery ...\\nREAD MORE',\n",
       " 'Amazing Powerful and Durable Gadget.\\n\\nI’m am very happy with the camera picture quality, Amazing face id unlocked in dark room, Strong battery with perfect screen size as you can carry easily in pocket. This is my third iPhone.\\n\\nI shifted from android Samsung Note series to iPhone because of the strong build quality and peace of mind for next 3-4 years.\\n\\nDon’t think to much just go for it and I suggest you to go for minimum 128gb variant or more 256gb.\\n\\nI’ve attached my puppy pics and no fi...\\nREAD MORE',\n",
       " 'So far it’s been an AMAZING experience coming back to iOS after nearly a decade but it’s not as versatile as android though phone is sturdy dropped it accidentally a couple of times and nothing happened fortunately camera is awesome',\n",
       " 'i11 is worthy to buy, too much happy with the product. Thank u flipkart I received the item on time..loved it..',\n",
       " 'What a camera .....just awesome ..you can feel this iPhone just awesome . Good for gaming also ...try pubg in hd it’s just wow']"
      ]
     },
     "execution_count": 36,
     "metadata": {},
     "output_type": "execute_result"
    }
   ],
   "source": [
    "#Extracting text from tags\n",
    "for i in (detailrev_5_1+detailrev_5_2+detailrev_5_3+detailrev_5_4+detailrev_5_5+detailrev_5_6+detailrev_5_7+detailrev_5_8+detailrev_5_9+detailrev_5_10):\n",
    "    Detail_5=i.text\n",
    "    full_review_5.append(Detail_5)\n",
    "full_review_5"
   ]
  },
  {
   "cell_type": "markdown",
   "id": "e9541c02",
   "metadata": {},
   "source": [
    "#### Checking Length"
   ]
  },
  {
   "cell_type": "code",
   "execution_count": 37,
   "id": "d95452b3",
   "metadata": {},
   "outputs": [
    {
     "name": "stdout",
     "output_type": "stream",
     "text": [
      "100 100 100\n"
     ]
    }
   ],
   "source": [
    "print(len(ratings_5),len(review_5),len(full_review_5))"
   ]
  },
  {
   "cell_type": "markdown",
   "id": "ae62faec",
   "metadata": {},
   "source": [
    "#### Making DataFrame"
   ]
  },
  {
   "cell_type": "code",
   "execution_count": 38,
   "id": "80a8883c",
   "metadata": {},
   "outputs": [
    {
     "data": {
      "text/html": [
       "<div>\n",
       "<style scoped>\n",
       "    .dataframe tbody tr th:only-of-type {\n",
       "        vertical-align: middle;\n",
       "    }\n",
       "\n",
       "    .dataframe tbody tr th {\n",
       "        vertical-align: top;\n",
       "    }\n",
       "\n",
       "    .dataframe thead th {\n",
       "        text-align: right;\n",
       "    }\n",
       "</style>\n",
       "<table border=\"1\" class=\"dataframe\">\n",
       "  <thead>\n",
       "    <tr style=\"text-align: right;\">\n",
       "      <th></th>\n",
       "      <th>ratings</th>\n",
       "      <th>review</th>\n",
       "      <th>full_review</th>\n",
       "    </tr>\n",
       "  </thead>\n",
       "  <tbody>\n",
       "    <tr>\n",
       "      <th>0</th>\n",
       "      <td>5</td>\n",
       "      <td>Brilliant</td>\n",
       "      <td>The Best Phone for the Money\\n\\nThe iPhone 11 ...</td>\n",
       "    </tr>\n",
       "    <tr>\n",
       "      <th>1</th>\n",
       "      <td>5</td>\n",
       "      <td>Simply awesome</td>\n",
       "      <td>Really satisfied with the Product I received.....</td>\n",
       "    </tr>\n",
       "    <tr>\n",
       "      <th>2</th>\n",
       "      <td>5</td>\n",
       "      <td>Best in the market!</td>\n",
       "      <td>Great iPhone very snappy experience as apple k...</td>\n",
       "    </tr>\n",
       "    <tr>\n",
       "      <th>3</th>\n",
       "      <td>5</td>\n",
       "      <td>Perfect product!</td>\n",
       "      <td>Amazing phone with great cameras and better ba...</td>\n",
       "    </tr>\n",
       "    <tr>\n",
       "      <th>4</th>\n",
       "      <td>5</td>\n",
       "      <td>Fabulous!</td>\n",
       "      <td>This is my first iOS phone. I am very happy wi...</td>\n",
       "    </tr>\n",
       "    <tr>\n",
       "      <th>...</th>\n",
       "      <td>...</td>\n",
       "      <td>...</td>\n",
       "      <td>...</td>\n",
       "    </tr>\n",
       "    <tr>\n",
       "      <th>95</th>\n",
       "      <td>5</td>\n",
       "      <td>Worth every penny</td>\n",
       "      <td>Previously I was using one plus 3t it was a gr...</td>\n",
       "    </tr>\n",
       "    <tr>\n",
       "      <th>96</th>\n",
       "      <td>5</td>\n",
       "      <td>Great product</td>\n",
       "      <td>Amazing Powerful and Durable Gadget.\\n\\nI’m am...</td>\n",
       "    </tr>\n",
       "    <tr>\n",
       "      <th>97</th>\n",
       "      <td>4</td>\n",
       "      <td>Good choice</td>\n",
       "      <td>So far it’s been an AMAZING experience coming ...</td>\n",
       "    </tr>\n",
       "    <tr>\n",
       "      <th>98</th>\n",
       "      <td>5</td>\n",
       "      <td>Worth every penny</td>\n",
       "      <td>i11 is worthy to buy, too much happy with the ...</td>\n",
       "    </tr>\n",
       "    <tr>\n",
       "      <th>99</th>\n",
       "      <td>5</td>\n",
       "      <td>Highly recommended</td>\n",
       "      <td>What a camera .....just awesome ..you can feel...</td>\n",
       "    </tr>\n",
       "  </tbody>\n",
       "</table>\n",
       "<p>100 rows × 3 columns</p>\n",
       "</div>"
      ],
      "text/plain": [
       "   ratings               review  \\\n",
       "0        5            Brilliant   \n",
       "1        5       Simply awesome   \n",
       "2        5  Best in the market!   \n",
       "3        5     Perfect product!   \n",
       "4        5            Fabulous!   \n",
       "..     ...                  ...   \n",
       "95       5    Worth every penny   \n",
       "96       5        Great product   \n",
       "97       4          Good choice   \n",
       "98       5    Worth every penny   \n",
       "99       5   Highly recommended   \n",
       "\n",
       "                                          full_review  \n",
       "0   The Best Phone for the Money\\n\\nThe iPhone 11 ...  \n",
       "1   Really satisfied with the Product I received.....  \n",
       "2   Great iPhone very snappy experience as apple k...  \n",
       "3   Amazing phone with great cameras and better ba...  \n",
       "4   This is my first iOS phone. I am very happy wi...  \n",
       "..                                                ...  \n",
       "95  Previously I was using one plus 3t it was a gr...  \n",
       "96  Amazing Powerful and Durable Gadget.\\n\\nI’m am...  \n",
       "97  So far it’s been an AMAZING experience coming ...  \n",
       "98  i11 is worthy to buy, too much happy with the ...  \n",
       "99  What a camera .....just awesome ..you can feel...  \n",
       "\n",
       "[100 rows x 3 columns]"
      ]
     },
     "execution_count": 38,
     "metadata": {},
     "output_type": "execute_result"
    }
   ],
   "source": [
    "import pandas as pd\n",
    "df_5=pd.DataFrame({'ratings':ratings_5,'review':review_5,'full_review':full_review_5})\n",
    "df_5"
   ]
  },
  {
   "cell_type": "code",
   "execution_count": null,
   "id": "0eee66b2",
   "metadata": {},
   "outputs": [],
   "source": []
  },
  {
   "cell_type": "markdown",
   "id": "e3a0e634",
   "metadata": {},
   "source": [
    "#---------------------------------------------------------------------------------------------------------------------------------------------------------------------------------------------------------------#"
   ]
  },
  {
   "cell_type": "code",
   "execution_count": null,
   "id": "85468d08",
   "metadata": {},
   "outputs": [],
   "source": []
  },
  {
   "cell_type": "markdown",
   "id": "9160a7a2",
   "metadata": {},
   "source": [
    "# Q6: Scrape data for first 100 sneakers you find when you visit flipkart.com andsearch for “sneakers” in the search field.\n",
    "You have to scrape 4 attributes of each sneaker:\n",
    "1. Brand\n",
    "2. Product Description\n",
    "3. Price\n",
    "As shown in the below image, you have to scrape the tick marked attributes"
   ]
  },
  {
   "cell_type": "code",
   "execution_count": 39,
   "id": "b919c647",
   "metadata": {},
   "outputs": [],
   "source": [
    "#Lets connect to the web driver\n",
    "driver_6=webdriver.Chrome(r\"C:\\Users\\X1\\chromedriver_win32\\chromedriver.exe\")"
   ]
  },
  {
   "cell_type": "code",
   "execution_count": 40,
   "id": "f3c5e1c2",
   "metadata": {},
   "outputs": [],
   "source": [
    "driver_6=webdriver.Chrome('chromedriver.exe')\n",
    "time.sleep(2)"
   ]
  },
  {
   "cell_type": "code",
   "execution_count": 5,
   "id": "d6c5c3ad",
   "metadata": {},
   "outputs": [],
   "source": [
    "driver_6.close()"
   ]
  },
  {
   "cell_type": "code",
   "execution_count": 41,
   "id": "d493f4bf",
   "metadata": {},
   "outputs": [],
   "source": [
    "driver_6.get('https://www.flipkart.com/')"
   ]
  },
  {
   "cell_type": "code",
   "execution_count": 42,
   "id": "5fd4a192",
   "metadata": {},
   "outputs": [],
   "source": [
    "search_product_6=driver_6.find_element_by_class_name(\"_3704LK\") # brand search bar\n",
    "search_product_6.send_keys(\"sneakers\")"
   ]
  },
  {
   "cell_type": "code",
   "execution_count": 43,
   "id": "243100a5",
   "metadata": {},
   "outputs": [],
   "source": [
    "search_button_6=driver_6.find_element_by_xpath(\"/html/body/div[1]/div/div[1]/div[1]/div[2]/div[2]/form/div/button\")\n",
    "search_button_6.click()"
   ]
  },
  {
   "cell_type": "code",
   "execution_count": 44,
   "id": "8aadb866",
   "metadata": {},
   "outputs": [],
   "source": [
    "# Specifying the url of the page to be scraped\n",
    "url_6=(\"https://www.flipkart.com/search?q=sneakers&otracker=search&otracker1=search&marketplace=FLIPKART&as-show=on&as=off\")"
   ]
  },
  {
   "cell_type": "code",
   "execution_count": 45,
   "id": "3beee453",
   "metadata": {},
   "outputs": [],
   "source": [
    "#Let's open the web page through the web driver\n",
    "driver_6.get(url_6)"
   ]
  },
  {
   "cell_type": "markdown",
   "id": "660ba2b9",
   "metadata": {},
   "source": [
    "Now let's create 4 empty lists for 4 atrributes"
   ]
  },
  {
   "cell_type": "code",
   "execution_count": 46,
   "id": "71cdeeb7",
   "metadata": {},
   "outputs": [],
   "source": [
    "brand_names_6=[]\n",
    "product_description_6=[] \n",
    "price_6=[] \n",
    "discount_6=[]"
   ]
  },
  {
   "cell_type": "code",
   "execution_count": 47,
   "id": "190616ec",
   "metadata": {},
   "outputs": [
    {
     "name": "stdout",
     "output_type": "stream",
     "text": [
      "[<selenium.webdriver.remote.webelement.WebElement (session=\"b28c8e8d3bf8cd6eb150a89b5e2e4737\", element=\"64bbd998-feb2-4265-9106-8d551d3548eb\")>, <selenium.webdriver.remote.webelement.WebElement (session=\"b28c8e8d3bf8cd6eb150a89b5e2e4737\", element=\"36b32182-7271-47a0-926d-967d0336c3c2\")>, <selenium.webdriver.remote.webelement.WebElement (session=\"b28c8e8d3bf8cd6eb150a89b5e2e4737\", element=\"b8f9737e-3ea5-4c82-b6af-f641f5cf82da\")>, <selenium.webdriver.remote.webelement.WebElement (session=\"b28c8e8d3bf8cd6eb150a89b5e2e4737\", element=\"22b5a7ea-b206-4008-9730-a9906b13ad6b\")>, <selenium.webdriver.remote.webelement.WebElement (session=\"b28c8e8d3bf8cd6eb150a89b5e2e4737\", element=\"0d37f715-e8cf-4c43-927a-cc1b4ccfab93\")>, <selenium.webdriver.remote.webelement.WebElement (session=\"b28c8e8d3bf8cd6eb150a89b5e2e4737\", element=\"e319443b-d085-4a51-b4b5-d107a87af07c\")>, <selenium.webdriver.remote.webelement.WebElement (session=\"b28c8e8d3bf8cd6eb150a89b5e2e4737\", element=\"326cd831-acaa-4e30-83d5-edbb33a4dee0\")>, <selenium.webdriver.remote.webelement.WebElement (session=\"b28c8e8d3bf8cd6eb150a89b5e2e4737\", element=\"62bca490-e84f-420f-9148-bc8f2ae6f385\")>, <selenium.webdriver.remote.webelement.WebElement (session=\"b28c8e8d3bf8cd6eb150a89b5e2e4737\", element=\"ac6bee7d-c56d-439d-9efd-a23e84fe9984\")>, <selenium.webdriver.remote.webelement.WebElement (session=\"b28c8e8d3bf8cd6eb150a89b5e2e4737\", element=\"ef70ba74-3720-4baa-9095-cc455c239dbe\")>, <selenium.webdriver.remote.webelement.WebElement (session=\"b28c8e8d3bf8cd6eb150a89b5e2e4737\", element=\"69141816-a7e1-479e-8acc-8bcbe025aeeb\")>, <selenium.webdriver.remote.webelement.WebElement (session=\"b28c8e8d3bf8cd6eb150a89b5e2e4737\", element=\"4dcc9bd9-f5a2-494c-bb37-37fb937ea174\")>, <selenium.webdriver.remote.webelement.WebElement (session=\"b28c8e8d3bf8cd6eb150a89b5e2e4737\", element=\"8f15bac5-d9a0-47de-8913-54330e20edf5\")>, <selenium.webdriver.remote.webelement.WebElement (session=\"b28c8e8d3bf8cd6eb150a89b5e2e4737\", element=\"dc62fa8e-5aff-44a3-b524-86a39a572bb4\")>, <selenium.webdriver.remote.webelement.WebElement (session=\"b28c8e8d3bf8cd6eb150a89b5e2e4737\", element=\"d0895aef-ed7d-4042-a617-bfce43306c03\")>, <selenium.webdriver.remote.webelement.WebElement (session=\"b28c8e8d3bf8cd6eb150a89b5e2e4737\", element=\"ed2c89c9-d6aa-406f-896a-54e86cf11f8e\")>, <selenium.webdriver.remote.webelement.WebElement (session=\"b28c8e8d3bf8cd6eb150a89b5e2e4737\", element=\"4976b330-9a19-4e12-8258-2a98c8aa2065\")>, <selenium.webdriver.remote.webelement.WebElement (session=\"b28c8e8d3bf8cd6eb150a89b5e2e4737\", element=\"3ca23938-2757-42ab-92c7-d75e061cb6da\")>, <selenium.webdriver.remote.webelement.WebElement (session=\"b28c8e8d3bf8cd6eb150a89b5e2e4737\", element=\"b3b7da6b-deda-40e6-80ad-f439348599a2\")>, <selenium.webdriver.remote.webelement.WebElement (session=\"b28c8e8d3bf8cd6eb150a89b5e2e4737\", element=\"d1c15f77-d82c-4155-954a-8bc1a9474840\")>, <selenium.webdriver.remote.webelement.WebElement (session=\"b28c8e8d3bf8cd6eb150a89b5e2e4737\", element=\"ec3937d4-76ec-4e3c-9e4c-f435a911aa46\")>, <selenium.webdriver.remote.webelement.WebElement (session=\"b28c8e8d3bf8cd6eb150a89b5e2e4737\", element=\"4d3cffd8-b7f1-40cc-a466-152a9259f0fd\")>, <selenium.webdriver.remote.webelement.WebElement (session=\"b28c8e8d3bf8cd6eb150a89b5e2e4737\", element=\"a9a0dba8-9464-4a47-8b0c-5d6f7a332877\")>, <selenium.webdriver.remote.webelement.WebElement (session=\"b28c8e8d3bf8cd6eb150a89b5e2e4737\", element=\"ddf02205-a791-4e46-93c9-ec7070383a48\")>, <selenium.webdriver.remote.webelement.WebElement (session=\"b28c8e8d3bf8cd6eb150a89b5e2e4737\", element=\"c5554350-968a-483d-9c32-f31551be677b\")>, <selenium.webdriver.remote.webelement.WebElement (session=\"b28c8e8d3bf8cd6eb150a89b5e2e4737\", element=\"13d1c2f4-a3d7-44e2-b74b-9b874f209584\")>, <selenium.webdriver.remote.webelement.WebElement (session=\"b28c8e8d3bf8cd6eb150a89b5e2e4737\", element=\"727c52c2-5b75-460d-a74e-aaf17d9359a8\")>, <selenium.webdriver.remote.webelement.WebElement (session=\"b28c8e8d3bf8cd6eb150a89b5e2e4737\", element=\"3a86c13e-db27-432c-ae25-cf5b0d9e5eea\")>, <selenium.webdriver.remote.webelement.WebElement (session=\"b28c8e8d3bf8cd6eb150a89b5e2e4737\", element=\"c655640d-ba7b-4d4c-b296-fb5289a4291f\")>, <selenium.webdriver.remote.webelement.WebElement (session=\"b28c8e8d3bf8cd6eb150a89b5e2e4737\", element=\"c1004d14-f558-4ab3-9e4c-e37929b89ab3\")>, <selenium.webdriver.remote.webelement.WebElement (session=\"b28c8e8d3bf8cd6eb150a89b5e2e4737\", element=\"e5dbc933-6842-4c95-b03a-54cd9602bca1\")>, <selenium.webdriver.remote.webelement.WebElement (session=\"b28c8e8d3bf8cd6eb150a89b5e2e4737\", element=\"1ba49e89-ab6b-43ea-847a-a76662aec1fe\")>, <selenium.webdriver.remote.webelement.WebElement (session=\"b28c8e8d3bf8cd6eb150a89b5e2e4737\", element=\"9d5ce84b-789e-4125-a2b0-95da49e4e3c1\")>, <selenium.webdriver.remote.webelement.WebElement (session=\"b28c8e8d3bf8cd6eb150a89b5e2e4737\", element=\"5c671e50-bed3-4eca-975a-7c2cb74a8e47\")>, <selenium.webdriver.remote.webelement.WebElement (session=\"b28c8e8d3bf8cd6eb150a89b5e2e4737\", element=\"a3688c03-d689-4b0d-bb29-e3bae44e450e\")>, <selenium.webdriver.remote.webelement.WebElement (session=\"b28c8e8d3bf8cd6eb150a89b5e2e4737\", element=\"2ffa7cfe-e7a8-4105-9724-fc61134f6bf9\")>, <selenium.webdriver.remote.webelement.WebElement (session=\"b28c8e8d3bf8cd6eb150a89b5e2e4737\", element=\"69a75516-6776-4798-8a81-838a10c095ae\")>, <selenium.webdriver.remote.webelement.WebElement (session=\"b28c8e8d3bf8cd6eb150a89b5e2e4737\", element=\"1174080a-385f-464c-8300-0bc114c6f766\")>, <selenium.webdriver.remote.webelement.WebElement (session=\"b28c8e8d3bf8cd6eb150a89b5e2e4737\", element=\"5de9fd5b-560e-466b-bab9-18351e0a9629\")>, <selenium.webdriver.remote.webelement.WebElement (session=\"b28c8e8d3bf8cd6eb150a89b5e2e4737\", element=\"1a4b39c1-e993-4423-b844-5e1bed8b68a3\")>]\n",
      "[<selenium.webdriver.remote.webelement.WebElement (session=\"b28c8e8d3bf8cd6eb150a89b5e2e4737\", element=\"64bbd998-feb2-4265-9106-8d551d3548eb\")>, <selenium.webdriver.remote.webelement.WebElement (session=\"b28c8e8d3bf8cd6eb150a89b5e2e4737\", element=\"36b32182-7271-47a0-926d-967d0336c3c2\")>, <selenium.webdriver.remote.webelement.WebElement (session=\"b28c8e8d3bf8cd6eb150a89b5e2e4737\", element=\"b8f9737e-3ea5-4c82-b6af-f641f5cf82da\")>, <selenium.webdriver.remote.webelement.WebElement (session=\"b28c8e8d3bf8cd6eb150a89b5e2e4737\", element=\"22b5a7ea-b206-4008-9730-a9906b13ad6b\")>, <selenium.webdriver.remote.webelement.WebElement (session=\"b28c8e8d3bf8cd6eb150a89b5e2e4737\", element=\"0d37f715-e8cf-4c43-927a-cc1b4ccfab93\")>, <selenium.webdriver.remote.webelement.WebElement (session=\"b28c8e8d3bf8cd6eb150a89b5e2e4737\", element=\"e319443b-d085-4a51-b4b5-d107a87af07c\")>, <selenium.webdriver.remote.webelement.WebElement (session=\"b28c8e8d3bf8cd6eb150a89b5e2e4737\", element=\"326cd831-acaa-4e30-83d5-edbb33a4dee0\")>, <selenium.webdriver.remote.webelement.WebElement (session=\"b28c8e8d3bf8cd6eb150a89b5e2e4737\", element=\"62bca490-e84f-420f-9148-bc8f2ae6f385\")>, <selenium.webdriver.remote.webelement.WebElement (session=\"b28c8e8d3bf8cd6eb150a89b5e2e4737\", element=\"ac6bee7d-c56d-439d-9efd-a23e84fe9984\")>, <selenium.webdriver.remote.webelement.WebElement (session=\"b28c8e8d3bf8cd6eb150a89b5e2e4737\", element=\"ef70ba74-3720-4baa-9095-cc455c239dbe\")>, <selenium.webdriver.remote.webelement.WebElement (session=\"b28c8e8d3bf8cd6eb150a89b5e2e4737\", element=\"69141816-a7e1-479e-8acc-8bcbe025aeeb\")>, <selenium.webdriver.remote.webelement.WebElement (session=\"b28c8e8d3bf8cd6eb150a89b5e2e4737\", element=\"4dcc9bd9-f5a2-494c-bb37-37fb937ea174\")>, <selenium.webdriver.remote.webelement.WebElement (session=\"b28c8e8d3bf8cd6eb150a89b5e2e4737\", element=\"8f15bac5-d9a0-47de-8913-54330e20edf5\")>, <selenium.webdriver.remote.webelement.WebElement (session=\"b28c8e8d3bf8cd6eb150a89b5e2e4737\", element=\"dc62fa8e-5aff-44a3-b524-86a39a572bb4\")>, <selenium.webdriver.remote.webelement.WebElement (session=\"b28c8e8d3bf8cd6eb150a89b5e2e4737\", element=\"d0895aef-ed7d-4042-a617-bfce43306c03\")>, <selenium.webdriver.remote.webelement.WebElement (session=\"b28c8e8d3bf8cd6eb150a89b5e2e4737\", element=\"ed2c89c9-d6aa-406f-896a-54e86cf11f8e\")>, <selenium.webdriver.remote.webelement.WebElement (session=\"b28c8e8d3bf8cd6eb150a89b5e2e4737\", element=\"4976b330-9a19-4e12-8258-2a98c8aa2065\")>, <selenium.webdriver.remote.webelement.WebElement (session=\"b28c8e8d3bf8cd6eb150a89b5e2e4737\", element=\"3ca23938-2757-42ab-92c7-d75e061cb6da\")>, <selenium.webdriver.remote.webelement.WebElement (session=\"b28c8e8d3bf8cd6eb150a89b5e2e4737\", element=\"b3b7da6b-deda-40e6-80ad-f439348599a2\")>, <selenium.webdriver.remote.webelement.WebElement (session=\"b28c8e8d3bf8cd6eb150a89b5e2e4737\", element=\"d1c15f77-d82c-4155-954a-8bc1a9474840\")>, <selenium.webdriver.remote.webelement.WebElement (session=\"b28c8e8d3bf8cd6eb150a89b5e2e4737\", element=\"ec3937d4-76ec-4e3c-9e4c-f435a911aa46\")>, <selenium.webdriver.remote.webelement.WebElement (session=\"b28c8e8d3bf8cd6eb150a89b5e2e4737\", element=\"4d3cffd8-b7f1-40cc-a466-152a9259f0fd\")>, <selenium.webdriver.remote.webelement.WebElement (session=\"b28c8e8d3bf8cd6eb150a89b5e2e4737\", element=\"a9a0dba8-9464-4a47-8b0c-5d6f7a332877\")>, <selenium.webdriver.remote.webelement.WebElement (session=\"b28c8e8d3bf8cd6eb150a89b5e2e4737\", element=\"ddf02205-a791-4e46-93c9-ec7070383a48\")>, <selenium.webdriver.remote.webelement.WebElement (session=\"b28c8e8d3bf8cd6eb150a89b5e2e4737\", element=\"c5554350-968a-483d-9c32-f31551be677b\")>, <selenium.webdriver.remote.webelement.WebElement (session=\"b28c8e8d3bf8cd6eb150a89b5e2e4737\", element=\"13d1c2f4-a3d7-44e2-b74b-9b874f209584\")>, <selenium.webdriver.remote.webelement.WebElement (session=\"b28c8e8d3bf8cd6eb150a89b5e2e4737\", element=\"727c52c2-5b75-460d-a74e-aaf17d9359a8\")>, <selenium.webdriver.remote.webelement.WebElement (session=\"b28c8e8d3bf8cd6eb150a89b5e2e4737\", element=\"3a86c13e-db27-432c-ae25-cf5b0d9e5eea\")>, <selenium.webdriver.remote.webelement.WebElement (session=\"b28c8e8d3bf8cd6eb150a89b5e2e4737\", element=\"c655640d-ba7b-4d4c-b296-fb5289a4291f\")>, <selenium.webdriver.remote.webelement.WebElement (session=\"b28c8e8d3bf8cd6eb150a89b5e2e4737\", element=\"c1004d14-f558-4ab3-9e4c-e37929b89ab3\")>, <selenium.webdriver.remote.webelement.WebElement (session=\"b28c8e8d3bf8cd6eb150a89b5e2e4737\", element=\"e5dbc933-6842-4c95-b03a-54cd9602bca1\")>, <selenium.webdriver.remote.webelement.WebElement (session=\"b28c8e8d3bf8cd6eb150a89b5e2e4737\", element=\"1ba49e89-ab6b-43ea-847a-a76662aec1fe\")>, <selenium.webdriver.remote.webelement.WebElement (session=\"b28c8e8d3bf8cd6eb150a89b5e2e4737\", element=\"9d5ce84b-789e-4125-a2b0-95da49e4e3c1\")>, <selenium.webdriver.remote.webelement.WebElement (session=\"b28c8e8d3bf8cd6eb150a89b5e2e4737\", element=\"5c671e50-bed3-4eca-975a-7c2cb74a8e47\")>, <selenium.webdriver.remote.webelement.WebElement (session=\"b28c8e8d3bf8cd6eb150a89b5e2e4737\", element=\"a3688c03-d689-4b0d-bb29-e3bae44e450e\")>, <selenium.webdriver.remote.webelement.WebElement (session=\"b28c8e8d3bf8cd6eb150a89b5e2e4737\", element=\"2ffa7cfe-e7a8-4105-9724-fc61134f6bf9\")>, <selenium.webdriver.remote.webelement.WebElement (session=\"b28c8e8d3bf8cd6eb150a89b5e2e4737\", element=\"69a75516-6776-4798-8a81-838a10c095ae\")>, <selenium.webdriver.remote.webelement.WebElement (session=\"b28c8e8d3bf8cd6eb150a89b5e2e4737\", element=\"1174080a-385f-464c-8300-0bc114c6f766\")>, <selenium.webdriver.remote.webelement.WebElement (session=\"b28c8e8d3bf8cd6eb150a89b5e2e4737\", element=\"5de9fd5b-560e-466b-bab9-18351e0a9629\")>, <selenium.webdriver.remote.webelement.WebElement (session=\"b28c8e8d3bf8cd6eb150a89b5e2e4737\", element=\"1a4b39c1-e993-4423-b844-5e1bed8b68a3\")>]\n",
      "[<selenium.webdriver.remote.webelement.WebElement (session=\"b28c8e8d3bf8cd6eb150a89b5e2e4737\", element=\"64bbd998-feb2-4265-9106-8d551d3548eb\")>, <selenium.webdriver.remote.webelement.WebElement (session=\"b28c8e8d3bf8cd6eb150a89b5e2e4737\", element=\"36b32182-7271-47a0-926d-967d0336c3c2\")>, <selenium.webdriver.remote.webelement.WebElement (session=\"b28c8e8d3bf8cd6eb150a89b5e2e4737\", element=\"b8f9737e-3ea5-4c82-b6af-f641f5cf82da\")>, <selenium.webdriver.remote.webelement.WebElement (session=\"b28c8e8d3bf8cd6eb150a89b5e2e4737\", element=\"22b5a7ea-b206-4008-9730-a9906b13ad6b\")>, <selenium.webdriver.remote.webelement.WebElement (session=\"b28c8e8d3bf8cd6eb150a89b5e2e4737\", element=\"0d37f715-e8cf-4c43-927a-cc1b4ccfab93\")>, <selenium.webdriver.remote.webelement.WebElement (session=\"b28c8e8d3bf8cd6eb150a89b5e2e4737\", element=\"e319443b-d085-4a51-b4b5-d107a87af07c\")>, <selenium.webdriver.remote.webelement.WebElement (session=\"b28c8e8d3bf8cd6eb150a89b5e2e4737\", element=\"326cd831-acaa-4e30-83d5-edbb33a4dee0\")>, <selenium.webdriver.remote.webelement.WebElement (session=\"b28c8e8d3bf8cd6eb150a89b5e2e4737\", element=\"62bca490-e84f-420f-9148-bc8f2ae6f385\")>, <selenium.webdriver.remote.webelement.WebElement (session=\"b28c8e8d3bf8cd6eb150a89b5e2e4737\", element=\"ac6bee7d-c56d-439d-9efd-a23e84fe9984\")>, <selenium.webdriver.remote.webelement.WebElement (session=\"b28c8e8d3bf8cd6eb150a89b5e2e4737\", element=\"ef70ba74-3720-4baa-9095-cc455c239dbe\")>, <selenium.webdriver.remote.webelement.WebElement (session=\"b28c8e8d3bf8cd6eb150a89b5e2e4737\", element=\"69141816-a7e1-479e-8acc-8bcbe025aeeb\")>, <selenium.webdriver.remote.webelement.WebElement (session=\"b28c8e8d3bf8cd6eb150a89b5e2e4737\", element=\"4dcc9bd9-f5a2-494c-bb37-37fb937ea174\")>, <selenium.webdriver.remote.webelement.WebElement (session=\"b28c8e8d3bf8cd6eb150a89b5e2e4737\", element=\"8f15bac5-d9a0-47de-8913-54330e20edf5\")>, <selenium.webdriver.remote.webelement.WebElement (session=\"b28c8e8d3bf8cd6eb150a89b5e2e4737\", element=\"dc62fa8e-5aff-44a3-b524-86a39a572bb4\")>, <selenium.webdriver.remote.webelement.WebElement (session=\"b28c8e8d3bf8cd6eb150a89b5e2e4737\", element=\"d0895aef-ed7d-4042-a617-bfce43306c03\")>, <selenium.webdriver.remote.webelement.WebElement (session=\"b28c8e8d3bf8cd6eb150a89b5e2e4737\", element=\"ed2c89c9-d6aa-406f-896a-54e86cf11f8e\")>, <selenium.webdriver.remote.webelement.WebElement (session=\"b28c8e8d3bf8cd6eb150a89b5e2e4737\", element=\"4976b330-9a19-4e12-8258-2a98c8aa2065\")>, <selenium.webdriver.remote.webelement.WebElement (session=\"b28c8e8d3bf8cd6eb150a89b5e2e4737\", element=\"3ca23938-2757-42ab-92c7-d75e061cb6da\")>, <selenium.webdriver.remote.webelement.WebElement (session=\"b28c8e8d3bf8cd6eb150a89b5e2e4737\", element=\"b3b7da6b-deda-40e6-80ad-f439348599a2\")>, <selenium.webdriver.remote.webelement.WebElement (session=\"b28c8e8d3bf8cd6eb150a89b5e2e4737\", element=\"d1c15f77-d82c-4155-954a-8bc1a9474840\")>, <selenium.webdriver.remote.webelement.WebElement (session=\"b28c8e8d3bf8cd6eb150a89b5e2e4737\", element=\"ec3937d4-76ec-4e3c-9e4c-f435a911aa46\")>, <selenium.webdriver.remote.webelement.WebElement (session=\"b28c8e8d3bf8cd6eb150a89b5e2e4737\", element=\"4d3cffd8-b7f1-40cc-a466-152a9259f0fd\")>, <selenium.webdriver.remote.webelement.WebElement (session=\"b28c8e8d3bf8cd6eb150a89b5e2e4737\", element=\"a9a0dba8-9464-4a47-8b0c-5d6f7a332877\")>, <selenium.webdriver.remote.webelement.WebElement (session=\"b28c8e8d3bf8cd6eb150a89b5e2e4737\", element=\"ddf02205-a791-4e46-93c9-ec7070383a48\")>, <selenium.webdriver.remote.webelement.WebElement (session=\"b28c8e8d3bf8cd6eb150a89b5e2e4737\", element=\"c5554350-968a-483d-9c32-f31551be677b\")>, <selenium.webdriver.remote.webelement.WebElement (session=\"b28c8e8d3bf8cd6eb150a89b5e2e4737\", element=\"13d1c2f4-a3d7-44e2-b74b-9b874f209584\")>, <selenium.webdriver.remote.webelement.WebElement (session=\"b28c8e8d3bf8cd6eb150a89b5e2e4737\", element=\"727c52c2-5b75-460d-a74e-aaf17d9359a8\")>, <selenium.webdriver.remote.webelement.WebElement (session=\"b28c8e8d3bf8cd6eb150a89b5e2e4737\", element=\"3a86c13e-db27-432c-ae25-cf5b0d9e5eea\")>, <selenium.webdriver.remote.webelement.WebElement (session=\"b28c8e8d3bf8cd6eb150a89b5e2e4737\", element=\"c655640d-ba7b-4d4c-b296-fb5289a4291f\")>, <selenium.webdriver.remote.webelement.WebElement (session=\"b28c8e8d3bf8cd6eb150a89b5e2e4737\", element=\"c1004d14-f558-4ab3-9e4c-e37929b89ab3\")>, <selenium.webdriver.remote.webelement.WebElement (session=\"b28c8e8d3bf8cd6eb150a89b5e2e4737\", element=\"e5dbc933-6842-4c95-b03a-54cd9602bca1\")>, <selenium.webdriver.remote.webelement.WebElement (session=\"b28c8e8d3bf8cd6eb150a89b5e2e4737\", element=\"1ba49e89-ab6b-43ea-847a-a76662aec1fe\")>, <selenium.webdriver.remote.webelement.WebElement (session=\"b28c8e8d3bf8cd6eb150a89b5e2e4737\", element=\"9d5ce84b-789e-4125-a2b0-95da49e4e3c1\")>, <selenium.webdriver.remote.webelement.WebElement (session=\"b28c8e8d3bf8cd6eb150a89b5e2e4737\", element=\"5c671e50-bed3-4eca-975a-7c2cb74a8e47\")>, <selenium.webdriver.remote.webelement.WebElement (session=\"b28c8e8d3bf8cd6eb150a89b5e2e4737\", element=\"a3688c03-d689-4b0d-bb29-e3bae44e450e\")>, <selenium.webdriver.remote.webelement.WebElement (session=\"b28c8e8d3bf8cd6eb150a89b5e2e4737\", element=\"2ffa7cfe-e7a8-4105-9724-fc61134f6bf9\")>, <selenium.webdriver.remote.webelement.WebElement (session=\"b28c8e8d3bf8cd6eb150a89b5e2e4737\", element=\"69a75516-6776-4798-8a81-838a10c095ae\")>, <selenium.webdriver.remote.webelement.WebElement (session=\"b28c8e8d3bf8cd6eb150a89b5e2e4737\", element=\"1174080a-385f-464c-8300-0bc114c6f766\")>, <selenium.webdriver.remote.webelement.WebElement (session=\"b28c8e8d3bf8cd6eb150a89b5e2e4737\", element=\"5de9fd5b-560e-466b-bab9-18351e0a9629\")>, <selenium.webdriver.remote.webelement.WebElement (session=\"b28c8e8d3bf8cd6eb150a89b5e2e4737\", element=\"1a4b39c1-e993-4423-b844-5e1bed8b68a3\")>]\n"
     ]
    }
   ],
   "source": [
    "#Since on page has 40 items,Lets extract all the tags having brand names from page 1, page 2 and page 3 to get 100 items\n",
    "brand_6_1=driver_6.find_elements_by_xpath(\"//div[@class='_2WkVRV']\")\n",
    "brand_6_2=driver_6.find_elements_by_xpath(\"//div[@class='_2WkVRV']\")\n",
    "brand_6_3=driver_6.find_elements_by_xpath(\"//div[@class='_2WkVRV']\")\n",
    "print(brand_6_1)\n",
    "print(brand_6_2)\n",
    "print(brand_6_3)"
   ]
  },
  {
   "cell_type": "code",
   "execution_count": 48,
   "id": "5b71d35f",
   "metadata": {},
   "outputs": [
    {
     "data": {
      "text/plain": [
       "['HIGHLANDER',\n",
       " 'HIGHLANDER',\n",
       " 'ASTEROID',\n",
       " 'Magnolia',\n",
       " 'Chevit',\n",
       " 'KWIK FIT',\n",
       " 'BRUTON',\n",
       " 'HIGHLANDER',\n",
       " 'Layasa',\n",
       " 'World Wear Footwear',\n",
       " 'D-SNEAKERZ',\n",
       " 'HIGHLANDER',\n",
       " 'World Wear Footwear',\n",
       " 'URBANBOX',\n",
       " 'Chevit',\n",
       " 'Shoes Icon',\n",
       " 'SCATCHITE',\n",
       " 'aadi',\n",
       " 'India hub',\n",
       " 'HIGHLANDER',\n",
       " 'Labbin',\n",
       " 'Rzisbo',\n",
       " 'Shoes Bank',\n",
       " 'HIGHLANDER',\n",
       " 'BRUTON',\n",
       " 'Kraasa',\n",
       " 'World Wear Footwear',\n",
       " 'HIGHLANDER',\n",
       " 'Chevit',\n",
       " 'luxury fashion',\n",
       " 'Magnolia',\n",
       " 'ADIDAS',\n",
       " 'BRUTON',\n",
       " 'aadi',\n",
       " 'World Wear Footwear',\n",
       " 'HIGHLANDER',\n",
       " 'Kraasa',\n",
       " 'Chevit',\n",
       " 'Chevit',\n",
       " 'Strollin',\n",
       " 'HIGHLANDER',\n",
       " 'HIGHLANDER',\n",
       " 'ASTEROID',\n",
       " 'Magnolia',\n",
       " 'Chevit',\n",
       " 'KWIK FIT',\n",
       " 'BRUTON',\n",
       " 'HIGHLANDER',\n",
       " 'Layasa',\n",
       " 'World Wear Footwear',\n",
       " 'D-SNEAKERZ',\n",
       " 'HIGHLANDER',\n",
       " 'World Wear Footwear',\n",
       " 'URBANBOX',\n",
       " 'Chevit',\n",
       " 'Shoes Icon',\n",
       " 'SCATCHITE',\n",
       " 'aadi',\n",
       " 'India hub',\n",
       " 'HIGHLANDER',\n",
       " 'Labbin',\n",
       " 'Rzisbo',\n",
       " 'Shoes Bank',\n",
       " 'HIGHLANDER',\n",
       " 'BRUTON',\n",
       " 'Kraasa',\n",
       " 'World Wear Footwear',\n",
       " 'HIGHLANDER',\n",
       " 'Chevit',\n",
       " 'luxury fashion',\n",
       " 'Magnolia',\n",
       " 'ADIDAS',\n",
       " 'BRUTON',\n",
       " 'aadi',\n",
       " 'World Wear Footwear',\n",
       " 'HIGHLANDER',\n",
       " 'Kraasa',\n",
       " 'Chevit',\n",
       " 'Chevit',\n",
       " 'Strollin',\n",
       " 'HIGHLANDER',\n",
       " 'HIGHLANDER',\n",
       " 'ASTEROID',\n",
       " 'Magnolia',\n",
       " 'Chevit',\n",
       " 'KWIK FIT',\n",
       " 'BRUTON',\n",
       " 'HIGHLANDER',\n",
       " 'Layasa',\n",
       " 'World Wear Footwear',\n",
       " 'D-SNEAKERZ',\n",
       " 'HIGHLANDER',\n",
       " 'World Wear Footwear',\n",
       " 'URBANBOX',\n",
       " 'Chevit',\n",
       " 'Shoes Icon',\n",
       " 'SCATCHITE',\n",
       " 'aadi',\n",
       " 'India hub',\n",
       " 'HIGHLANDER',\n",
       " 'Labbin',\n",
       " 'Rzisbo',\n",
       " 'Shoes Bank',\n",
       " 'HIGHLANDER',\n",
       " 'BRUTON',\n",
       " 'Kraasa',\n",
       " 'World Wear Footwear',\n",
       " 'HIGHLANDER',\n",
       " 'Chevit',\n",
       " 'luxury fashion',\n",
       " 'Magnolia',\n",
       " 'ADIDAS',\n",
       " 'BRUTON',\n",
       " 'aadi',\n",
       " 'World Wear Footwear',\n",
       " 'HIGHLANDER',\n",
       " 'Kraasa',\n",
       " 'Chevit',\n",
       " 'Chevit',\n",
       " 'Strollin']"
      ]
     },
     "execution_count": 48,
     "metadata": {},
     "output_type": "execute_result"
    }
   ],
   "source": [
    "for i in (brand_6_1+brand_6_2+brand_6_3):\n",
    "    brand_6=i.text\n",
    "    brand_names_6.append(brand_6)\n",
    "brand_names_6"
   ]
  },
  {
   "cell_type": "code",
   "execution_count": 49,
   "id": "729022bd",
   "metadata": {
    "scrolled": true
   },
   "outputs": [
    {
     "name": "stdout",
     "output_type": "stream",
     "text": [
      "[<selenium.webdriver.remote.webelement.WebElement (session=\"b28c8e8d3bf8cd6eb150a89b5e2e4737\", element=\"fccb4cd7-90e3-4981-82f8-c3a0cb1bcad0\")>, <selenium.webdriver.remote.webelement.WebElement (session=\"b28c8e8d3bf8cd6eb150a89b5e2e4737\", element=\"81f0b81f-9990-4a1f-93d8-e4750b889451\")>, <selenium.webdriver.remote.webelement.WebElement (session=\"b28c8e8d3bf8cd6eb150a89b5e2e4737\", element=\"e2972b7f-9ed0-458c-b6c2-fe1f1d809fad\")>, <selenium.webdriver.remote.webelement.WebElement (session=\"b28c8e8d3bf8cd6eb150a89b5e2e4737\", element=\"996c7664-94dc-4c16-82d2-83e9e60912bb\")>, <selenium.webdriver.remote.webelement.WebElement (session=\"b28c8e8d3bf8cd6eb150a89b5e2e4737\", element=\"706eaf57-acec-4c17-b229-bbb79f11c49c\")>, <selenium.webdriver.remote.webelement.WebElement (session=\"b28c8e8d3bf8cd6eb150a89b5e2e4737\", element=\"92926975-fd63-4be5-a559-8d5458598caa\")>, <selenium.webdriver.remote.webelement.WebElement (session=\"b28c8e8d3bf8cd6eb150a89b5e2e4737\", element=\"25fc9fee-c630-4ca9-b865-ebbf3f505bd4\")>, <selenium.webdriver.remote.webelement.WebElement (session=\"b28c8e8d3bf8cd6eb150a89b5e2e4737\", element=\"47de0323-45e8-40e4-8a19-798398039aff\")>, <selenium.webdriver.remote.webelement.WebElement (session=\"b28c8e8d3bf8cd6eb150a89b5e2e4737\", element=\"ba6ce970-166e-44ad-ada0-485bcf20ebc7\")>, <selenium.webdriver.remote.webelement.WebElement (session=\"b28c8e8d3bf8cd6eb150a89b5e2e4737\", element=\"27f47136-6331-41e5-9ec3-5c565f1b33f0\")>, <selenium.webdriver.remote.webelement.WebElement (session=\"b28c8e8d3bf8cd6eb150a89b5e2e4737\", element=\"71a2af5a-590b-40e9-a7af-bac410e05805\")>, <selenium.webdriver.remote.webelement.WebElement (session=\"b28c8e8d3bf8cd6eb150a89b5e2e4737\", element=\"f15e3c63-d320-4e63-b57f-6324d0cfeafa\")>, <selenium.webdriver.remote.webelement.WebElement (session=\"b28c8e8d3bf8cd6eb150a89b5e2e4737\", element=\"3108cdd6-faf6-4559-8de8-d6cc5d2b52b4\")>, <selenium.webdriver.remote.webelement.WebElement (session=\"b28c8e8d3bf8cd6eb150a89b5e2e4737\", element=\"6a054fd3-9fdd-4295-aefb-1f5b7eedcad8\")>, <selenium.webdriver.remote.webelement.WebElement (session=\"b28c8e8d3bf8cd6eb150a89b5e2e4737\", element=\"1f9a95bb-06dc-4def-ad4d-e7b1f6b323e7\")>, <selenium.webdriver.remote.webelement.WebElement (session=\"b28c8e8d3bf8cd6eb150a89b5e2e4737\", element=\"c202d4d8-1ce2-4e02-bcc1-b5f577b4342d\")>, <selenium.webdriver.remote.webelement.WebElement (session=\"b28c8e8d3bf8cd6eb150a89b5e2e4737\", element=\"b9448ec7-3914-4187-ac58-bc0f0fb6fbd7\")>, <selenium.webdriver.remote.webelement.WebElement (session=\"b28c8e8d3bf8cd6eb150a89b5e2e4737\", element=\"67319374-2c44-411b-9193-66b22acb527d\")>, <selenium.webdriver.remote.webelement.WebElement (session=\"b28c8e8d3bf8cd6eb150a89b5e2e4737\", element=\"c844cd65-1054-439c-8967-7d8556224e59\")>, <selenium.webdriver.remote.webelement.WebElement (session=\"b28c8e8d3bf8cd6eb150a89b5e2e4737\", element=\"d98dbe01-209b-4bf9-9c30-2123a88808cd\")>, <selenium.webdriver.remote.webelement.WebElement (session=\"b28c8e8d3bf8cd6eb150a89b5e2e4737\", element=\"d30c9b03-bbe4-4eba-9487-08db47ab9152\")>, <selenium.webdriver.remote.webelement.WebElement (session=\"b28c8e8d3bf8cd6eb150a89b5e2e4737\", element=\"945a973e-a48e-4dfc-87e3-160e6cdcf185\")>, <selenium.webdriver.remote.webelement.WebElement (session=\"b28c8e8d3bf8cd6eb150a89b5e2e4737\", element=\"1cfb1e83-eecc-4bb7-bf0a-8c7fc0c950d5\")>, <selenium.webdriver.remote.webelement.WebElement (session=\"b28c8e8d3bf8cd6eb150a89b5e2e4737\", element=\"443d7b0c-541f-4b0f-a082-d8e5ebf3cca6\")>, <selenium.webdriver.remote.webelement.WebElement (session=\"b28c8e8d3bf8cd6eb150a89b5e2e4737\", element=\"accbfa34-d35a-431e-8c5e-b400351e98b6\")>, <selenium.webdriver.remote.webelement.WebElement (session=\"b28c8e8d3bf8cd6eb150a89b5e2e4737\", element=\"32a26716-2542-4dcb-b658-ed185326c051\")>, <selenium.webdriver.remote.webelement.WebElement (session=\"b28c8e8d3bf8cd6eb150a89b5e2e4737\", element=\"f95dabc9-c09d-4873-8ba7-94b13d4a9fec\")>, <selenium.webdriver.remote.webelement.WebElement (session=\"b28c8e8d3bf8cd6eb150a89b5e2e4737\", element=\"ed225c21-2ac2-42a5-b961-8b2c4d6415cc\")>, <selenium.webdriver.remote.webelement.WebElement (session=\"b28c8e8d3bf8cd6eb150a89b5e2e4737\", element=\"5e256c27-4fe8-412d-a5f7-823c41ab8286\")>, <selenium.webdriver.remote.webelement.WebElement (session=\"b28c8e8d3bf8cd6eb150a89b5e2e4737\", element=\"ddabc1ce-a1f6-47e7-aebd-d6dc7c3fbc06\")>, <selenium.webdriver.remote.webelement.WebElement (session=\"b28c8e8d3bf8cd6eb150a89b5e2e4737\", element=\"40b0e67f-3d57-4cd8-bf32-531a1d396707\")>, <selenium.webdriver.remote.webelement.WebElement (session=\"b28c8e8d3bf8cd6eb150a89b5e2e4737\", element=\"a73f3256-626e-4925-8195-e45528c7a199\")>, <selenium.webdriver.remote.webelement.WebElement (session=\"b28c8e8d3bf8cd6eb150a89b5e2e4737\", element=\"7ebb5b76-c928-4255-861f-b938c6eb8564\")>, <selenium.webdriver.remote.webelement.WebElement (session=\"b28c8e8d3bf8cd6eb150a89b5e2e4737\", element=\"5b5050ba-fd5a-4ad2-8529-67808010601d\")>, <selenium.webdriver.remote.webelement.WebElement (session=\"b28c8e8d3bf8cd6eb150a89b5e2e4737\", element=\"cc6f3d09-e42c-4d12-9e24-1dcaf51f2cbd\")>, <selenium.webdriver.remote.webelement.WebElement (session=\"b28c8e8d3bf8cd6eb150a89b5e2e4737\", element=\"dfd4f550-a86a-4af9-96a7-b1cf3cd795d0\")>, <selenium.webdriver.remote.webelement.WebElement (session=\"b28c8e8d3bf8cd6eb150a89b5e2e4737\", element=\"2901c07c-3ddc-42bc-b657-6fd9aa7e7158\")>]\n",
      "[<selenium.webdriver.remote.webelement.WebElement (session=\"b28c8e8d3bf8cd6eb150a89b5e2e4737\", element=\"fccb4cd7-90e3-4981-82f8-c3a0cb1bcad0\")>, <selenium.webdriver.remote.webelement.WebElement (session=\"b28c8e8d3bf8cd6eb150a89b5e2e4737\", element=\"81f0b81f-9990-4a1f-93d8-e4750b889451\")>, <selenium.webdriver.remote.webelement.WebElement (session=\"b28c8e8d3bf8cd6eb150a89b5e2e4737\", element=\"e2972b7f-9ed0-458c-b6c2-fe1f1d809fad\")>, <selenium.webdriver.remote.webelement.WebElement (session=\"b28c8e8d3bf8cd6eb150a89b5e2e4737\", element=\"996c7664-94dc-4c16-82d2-83e9e60912bb\")>, <selenium.webdriver.remote.webelement.WebElement (session=\"b28c8e8d3bf8cd6eb150a89b5e2e4737\", element=\"706eaf57-acec-4c17-b229-bbb79f11c49c\")>, <selenium.webdriver.remote.webelement.WebElement (session=\"b28c8e8d3bf8cd6eb150a89b5e2e4737\", element=\"92926975-fd63-4be5-a559-8d5458598caa\")>, <selenium.webdriver.remote.webelement.WebElement (session=\"b28c8e8d3bf8cd6eb150a89b5e2e4737\", element=\"25fc9fee-c630-4ca9-b865-ebbf3f505bd4\")>, <selenium.webdriver.remote.webelement.WebElement (session=\"b28c8e8d3bf8cd6eb150a89b5e2e4737\", element=\"47de0323-45e8-40e4-8a19-798398039aff\")>, <selenium.webdriver.remote.webelement.WebElement (session=\"b28c8e8d3bf8cd6eb150a89b5e2e4737\", element=\"ba6ce970-166e-44ad-ada0-485bcf20ebc7\")>, <selenium.webdriver.remote.webelement.WebElement (session=\"b28c8e8d3bf8cd6eb150a89b5e2e4737\", element=\"27f47136-6331-41e5-9ec3-5c565f1b33f0\")>, <selenium.webdriver.remote.webelement.WebElement (session=\"b28c8e8d3bf8cd6eb150a89b5e2e4737\", element=\"71a2af5a-590b-40e9-a7af-bac410e05805\")>, <selenium.webdriver.remote.webelement.WebElement (session=\"b28c8e8d3bf8cd6eb150a89b5e2e4737\", element=\"f15e3c63-d320-4e63-b57f-6324d0cfeafa\")>, <selenium.webdriver.remote.webelement.WebElement (session=\"b28c8e8d3bf8cd6eb150a89b5e2e4737\", element=\"3108cdd6-faf6-4559-8de8-d6cc5d2b52b4\")>, <selenium.webdriver.remote.webelement.WebElement (session=\"b28c8e8d3bf8cd6eb150a89b5e2e4737\", element=\"6a054fd3-9fdd-4295-aefb-1f5b7eedcad8\")>, <selenium.webdriver.remote.webelement.WebElement (session=\"b28c8e8d3bf8cd6eb150a89b5e2e4737\", element=\"1f9a95bb-06dc-4def-ad4d-e7b1f6b323e7\")>, <selenium.webdriver.remote.webelement.WebElement (session=\"b28c8e8d3bf8cd6eb150a89b5e2e4737\", element=\"c202d4d8-1ce2-4e02-bcc1-b5f577b4342d\")>, <selenium.webdriver.remote.webelement.WebElement (session=\"b28c8e8d3bf8cd6eb150a89b5e2e4737\", element=\"b9448ec7-3914-4187-ac58-bc0f0fb6fbd7\")>, <selenium.webdriver.remote.webelement.WebElement (session=\"b28c8e8d3bf8cd6eb150a89b5e2e4737\", element=\"67319374-2c44-411b-9193-66b22acb527d\")>, <selenium.webdriver.remote.webelement.WebElement (session=\"b28c8e8d3bf8cd6eb150a89b5e2e4737\", element=\"c844cd65-1054-439c-8967-7d8556224e59\")>, <selenium.webdriver.remote.webelement.WebElement (session=\"b28c8e8d3bf8cd6eb150a89b5e2e4737\", element=\"d98dbe01-209b-4bf9-9c30-2123a88808cd\")>, <selenium.webdriver.remote.webelement.WebElement (session=\"b28c8e8d3bf8cd6eb150a89b5e2e4737\", element=\"d30c9b03-bbe4-4eba-9487-08db47ab9152\")>, <selenium.webdriver.remote.webelement.WebElement (session=\"b28c8e8d3bf8cd6eb150a89b5e2e4737\", element=\"945a973e-a48e-4dfc-87e3-160e6cdcf185\")>, <selenium.webdriver.remote.webelement.WebElement (session=\"b28c8e8d3bf8cd6eb150a89b5e2e4737\", element=\"1cfb1e83-eecc-4bb7-bf0a-8c7fc0c950d5\")>, <selenium.webdriver.remote.webelement.WebElement (session=\"b28c8e8d3bf8cd6eb150a89b5e2e4737\", element=\"443d7b0c-541f-4b0f-a082-d8e5ebf3cca6\")>, <selenium.webdriver.remote.webelement.WebElement (session=\"b28c8e8d3bf8cd6eb150a89b5e2e4737\", element=\"accbfa34-d35a-431e-8c5e-b400351e98b6\")>, <selenium.webdriver.remote.webelement.WebElement (session=\"b28c8e8d3bf8cd6eb150a89b5e2e4737\", element=\"32a26716-2542-4dcb-b658-ed185326c051\")>, <selenium.webdriver.remote.webelement.WebElement (session=\"b28c8e8d3bf8cd6eb150a89b5e2e4737\", element=\"f95dabc9-c09d-4873-8ba7-94b13d4a9fec\")>, <selenium.webdriver.remote.webelement.WebElement (session=\"b28c8e8d3bf8cd6eb150a89b5e2e4737\", element=\"ed225c21-2ac2-42a5-b961-8b2c4d6415cc\")>, <selenium.webdriver.remote.webelement.WebElement (session=\"b28c8e8d3bf8cd6eb150a89b5e2e4737\", element=\"5e256c27-4fe8-412d-a5f7-823c41ab8286\")>, <selenium.webdriver.remote.webelement.WebElement (session=\"b28c8e8d3bf8cd6eb150a89b5e2e4737\", element=\"ddabc1ce-a1f6-47e7-aebd-d6dc7c3fbc06\")>, <selenium.webdriver.remote.webelement.WebElement (session=\"b28c8e8d3bf8cd6eb150a89b5e2e4737\", element=\"40b0e67f-3d57-4cd8-bf32-531a1d396707\")>, <selenium.webdriver.remote.webelement.WebElement (session=\"b28c8e8d3bf8cd6eb150a89b5e2e4737\", element=\"a73f3256-626e-4925-8195-e45528c7a199\")>, <selenium.webdriver.remote.webelement.WebElement (session=\"b28c8e8d3bf8cd6eb150a89b5e2e4737\", element=\"7ebb5b76-c928-4255-861f-b938c6eb8564\")>, <selenium.webdriver.remote.webelement.WebElement (session=\"b28c8e8d3bf8cd6eb150a89b5e2e4737\", element=\"5b5050ba-fd5a-4ad2-8529-67808010601d\")>, <selenium.webdriver.remote.webelement.WebElement (session=\"b28c8e8d3bf8cd6eb150a89b5e2e4737\", element=\"cc6f3d09-e42c-4d12-9e24-1dcaf51f2cbd\")>, <selenium.webdriver.remote.webelement.WebElement (session=\"b28c8e8d3bf8cd6eb150a89b5e2e4737\", element=\"dfd4f550-a86a-4af9-96a7-b1cf3cd795d0\")>, <selenium.webdriver.remote.webelement.WebElement (session=\"b28c8e8d3bf8cd6eb150a89b5e2e4737\", element=\"2901c07c-3ddc-42bc-b657-6fd9aa7e7158\")>]\n",
      "[<selenium.webdriver.remote.webelement.WebElement (session=\"b28c8e8d3bf8cd6eb150a89b5e2e4737\", element=\"fccb4cd7-90e3-4981-82f8-c3a0cb1bcad0\")>, <selenium.webdriver.remote.webelement.WebElement (session=\"b28c8e8d3bf8cd6eb150a89b5e2e4737\", element=\"81f0b81f-9990-4a1f-93d8-e4750b889451\")>, <selenium.webdriver.remote.webelement.WebElement (session=\"b28c8e8d3bf8cd6eb150a89b5e2e4737\", element=\"e2972b7f-9ed0-458c-b6c2-fe1f1d809fad\")>, <selenium.webdriver.remote.webelement.WebElement (session=\"b28c8e8d3bf8cd6eb150a89b5e2e4737\", element=\"996c7664-94dc-4c16-82d2-83e9e60912bb\")>, <selenium.webdriver.remote.webelement.WebElement (session=\"b28c8e8d3bf8cd6eb150a89b5e2e4737\", element=\"706eaf57-acec-4c17-b229-bbb79f11c49c\")>, <selenium.webdriver.remote.webelement.WebElement (session=\"b28c8e8d3bf8cd6eb150a89b5e2e4737\", element=\"92926975-fd63-4be5-a559-8d5458598caa\")>, <selenium.webdriver.remote.webelement.WebElement (session=\"b28c8e8d3bf8cd6eb150a89b5e2e4737\", element=\"25fc9fee-c630-4ca9-b865-ebbf3f505bd4\")>, <selenium.webdriver.remote.webelement.WebElement (session=\"b28c8e8d3bf8cd6eb150a89b5e2e4737\", element=\"47de0323-45e8-40e4-8a19-798398039aff\")>, <selenium.webdriver.remote.webelement.WebElement (session=\"b28c8e8d3bf8cd6eb150a89b5e2e4737\", element=\"ba6ce970-166e-44ad-ada0-485bcf20ebc7\")>, <selenium.webdriver.remote.webelement.WebElement (session=\"b28c8e8d3bf8cd6eb150a89b5e2e4737\", element=\"27f47136-6331-41e5-9ec3-5c565f1b33f0\")>, <selenium.webdriver.remote.webelement.WebElement (session=\"b28c8e8d3bf8cd6eb150a89b5e2e4737\", element=\"71a2af5a-590b-40e9-a7af-bac410e05805\")>, <selenium.webdriver.remote.webelement.WebElement (session=\"b28c8e8d3bf8cd6eb150a89b5e2e4737\", element=\"f15e3c63-d320-4e63-b57f-6324d0cfeafa\")>, <selenium.webdriver.remote.webelement.WebElement (session=\"b28c8e8d3bf8cd6eb150a89b5e2e4737\", element=\"3108cdd6-faf6-4559-8de8-d6cc5d2b52b4\")>, <selenium.webdriver.remote.webelement.WebElement (session=\"b28c8e8d3bf8cd6eb150a89b5e2e4737\", element=\"6a054fd3-9fdd-4295-aefb-1f5b7eedcad8\")>, <selenium.webdriver.remote.webelement.WebElement (session=\"b28c8e8d3bf8cd6eb150a89b5e2e4737\", element=\"1f9a95bb-06dc-4def-ad4d-e7b1f6b323e7\")>, <selenium.webdriver.remote.webelement.WebElement (session=\"b28c8e8d3bf8cd6eb150a89b5e2e4737\", element=\"c202d4d8-1ce2-4e02-bcc1-b5f577b4342d\")>, <selenium.webdriver.remote.webelement.WebElement (session=\"b28c8e8d3bf8cd6eb150a89b5e2e4737\", element=\"b9448ec7-3914-4187-ac58-bc0f0fb6fbd7\")>, <selenium.webdriver.remote.webelement.WebElement (session=\"b28c8e8d3bf8cd6eb150a89b5e2e4737\", element=\"67319374-2c44-411b-9193-66b22acb527d\")>, <selenium.webdriver.remote.webelement.WebElement (session=\"b28c8e8d3bf8cd6eb150a89b5e2e4737\", element=\"c844cd65-1054-439c-8967-7d8556224e59\")>, <selenium.webdriver.remote.webelement.WebElement (session=\"b28c8e8d3bf8cd6eb150a89b5e2e4737\", element=\"d98dbe01-209b-4bf9-9c30-2123a88808cd\")>, <selenium.webdriver.remote.webelement.WebElement (session=\"b28c8e8d3bf8cd6eb150a89b5e2e4737\", element=\"d30c9b03-bbe4-4eba-9487-08db47ab9152\")>, <selenium.webdriver.remote.webelement.WebElement (session=\"b28c8e8d3bf8cd6eb150a89b5e2e4737\", element=\"945a973e-a48e-4dfc-87e3-160e6cdcf185\")>, <selenium.webdriver.remote.webelement.WebElement (session=\"b28c8e8d3bf8cd6eb150a89b5e2e4737\", element=\"1cfb1e83-eecc-4bb7-bf0a-8c7fc0c950d5\")>, <selenium.webdriver.remote.webelement.WebElement (session=\"b28c8e8d3bf8cd6eb150a89b5e2e4737\", element=\"443d7b0c-541f-4b0f-a082-d8e5ebf3cca6\")>, <selenium.webdriver.remote.webelement.WebElement (session=\"b28c8e8d3bf8cd6eb150a89b5e2e4737\", element=\"accbfa34-d35a-431e-8c5e-b400351e98b6\")>, <selenium.webdriver.remote.webelement.WebElement (session=\"b28c8e8d3bf8cd6eb150a89b5e2e4737\", element=\"32a26716-2542-4dcb-b658-ed185326c051\")>, <selenium.webdriver.remote.webelement.WebElement (session=\"b28c8e8d3bf8cd6eb150a89b5e2e4737\", element=\"f95dabc9-c09d-4873-8ba7-94b13d4a9fec\")>, <selenium.webdriver.remote.webelement.WebElement (session=\"b28c8e8d3bf8cd6eb150a89b5e2e4737\", element=\"ed225c21-2ac2-42a5-b961-8b2c4d6415cc\")>, <selenium.webdriver.remote.webelement.WebElement (session=\"b28c8e8d3bf8cd6eb150a89b5e2e4737\", element=\"5e256c27-4fe8-412d-a5f7-823c41ab8286\")>, <selenium.webdriver.remote.webelement.WebElement (session=\"b28c8e8d3bf8cd6eb150a89b5e2e4737\", element=\"ddabc1ce-a1f6-47e7-aebd-d6dc7c3fbc06\")>, <selenium.webdriver.remote.webelement.WebElement (session=\"b28c8e8d3bf8cd6eb150a89b5e2e4737\", element=\"40b0e67f-3d57-4cd8-bf32-531a1d396707\")>, <selenium.webdriver.remote.webelement.WebElement (session=\"b28c8e8d3bf8cd6eb150a89b5e2e4737\", element=\"a73f3256-626e-4925-8195-e45528c7a199\")>, <selenium.webdriver.remote.webelement.WebElement (session=\"b28c8e8d3bf8cd6eb150a89b5e2e4737\", element=\"7ebb5b76-c928-4255-861f-b938c6eb8564\")>, <selenium.webdriver.remote.webelement.WebElement (session=\"b28c8e8d3bf8cd6eb150a89b5e2e4737\", element=\"5b5050ba-fd5a-4ad2-8529-67808010601d\")>, <selenium.webdriver.remote.webelement.WebElement (session=\"b28c8e8d3bf8cd6eb150a89b5e2e4737\", element=\"cc6f3d09-e42c-4d12-9e24-1dcaf51f2cbd\")>, <selenium.webdriver.remote.webelement.WebElement (session=\"b28c8e8d3bf8cd6eb150a89b5e2e4737\", element=\"dfd4f550-a86a-4af9-96a7-b1cf3cd795d0\")>, <selenium.webdriver.remote.webelement.WebElement (session=\"b28c8e8d3bf8cd6eb150a89b5e2e4737\", element=\"2901c07c-3ddc-42bc-b657-6fd9aa7e7158\")>]\n"
     ]
    }
   ],
   "source": [
    "#Lets extract all the tags having product description from page 1, page 2 and page 3 to get 100 product details\n",
    "product_6_1=driver_6.find_elements_by_xpath(\"//a[@class='IRpwTa']\")\n",
    "product_6_2=driver_6.find_elements_by_xpath(\"//a[@class='IRpwTa']\")\n",
    "product_6_3=driver_6.find_elements_by_xpath(\"//a[@class='IRpwTa']\")\n",
    "print(product_6_1)\n",
    "print(product_6_2)\n",
    "print(product_6_3)"
   ]
  },
  {
   "cell_type": "code",
   "execution_count": 50,
   "id": "f5077c74",
   "metadata": {
    "scrolled": true
   },
   "outputs": [
    {
     "data": {
      "text/plain": [
       "['Sneakers For Men',\n",
       " 'Sneakers For Men',\n",
       " \"Luxury Branded Fashionable Men's Casual Walking Partywe...\",\n",
       " 'Sneakers For Men',\n",
       " 'Super Stylish & Trendy Combo Pack of 02 Pairs Sneakers ...',\n",
       " 'Kwik FIT casual sneaker shoes and partywear shoes Casua...',\n",
       " 'Modern Trendy Sneakers Shoes Sneakers For Men',\n",
       " 'Sneakers For Men',\n",
       " 'Sneakers For Men',\n",
       " '5013-Latest Collection Stylish & Trendy of casuals Snea...',\n",
       " \"Casual , Partywear Sneakers Shoes For Men's And Boys Wh...\",\n",
       " '5011-Latest Collection Stylish & Trendy Casual Sneakers...',\n",
       " '516 Trendy Star Perfect Sneakers For Men',\n",
       " 'Sneakers Sneakers For Men',\n",
       " 'Sneakers For Men',\n",
       " 'casual sneaker shoes for men kardam&sons Sneakers For M...',\n",
       " 'Sneakers For Men',\n",
       " 'Sneakers For Men',\n",
       " 'Sneakers For Men',\n",
       " \"White Sneaker For Men's/Boy's Sneakers For Men\",\n",
       " 'Sneakers For Men',\n",
       " 'Combo Pack Of 4 Casual Shoes Loafer Shoes Sneakers For ...',\n",
       " 'Casuals, Canvas, Partywear Sneakers For Men',\n",
       " 'Men 5014 Latest Collection Stylish Casual Sports Loafer...',\n",
       " 'Sneakers For Men',\n",
       " 'Super 445 Fashion Sneakers For Men',\n",
       " 'Luxury Fashionable casual sneaker shoes Sneakers For Me...',\n",
       " 'Sneakers For Men',\n",
       " 'Easy Vulc 2.0 Sneakers For Men',\n",
       " 'Lattest Sneakers Shoe Sneakers For Men',\n",
       " 'Sneakers For Men',\n",
       " 'Latest Collection-1215 Stylish Casual Sports Sneakers F...',\n",
       " 'Sneakers For Men',\n",
       " 'Series 7 Sneakers For Men',\n",
       " 'Unique & Perfect Collection Combo Pack of 02 Shoes for ...',\n",
       " 'Sneakers For Men',\n",
       " 'Sneakers For Men',\n",
       " 'Sneakers For Men',\n",
       " 'Sneakers For Men',\n",
       " \"Luxury Branded Fashionable Men's Casual Walking Partywe...\",\n",
       " 'Sneakers For Men',\n",
       " 'Super Stylish & Trendy Combo Pack of 02 Pairs Sneakers ...',\n",
       " 'Kwik FIT casual sneaker shoes and partywear shoes Casua...',\n",
       " 'Modern Trendy Sneakers Shoes Sneakers For Men',\n",
       " 'Sneakers For Men',\n",
       " 'Sneakers For Men',\n",
       " '5013-Latest Collection Stylish & Trendy of casuals Snea...',\n",
       " \"Casual , Partywear Sneakers Shoes For Men's And Boys Wh...\",\n",
       " '5011-Latest Collection Stylish & Trendy Casual Sneakers...',\n",
       " '516 Trendy Star Perfect Sneakers For Men',\n",
       " 'Sneakers Sneakers For Men',\n",
       " 'Sneakers For Men',\n",
       " 'casual sneaker shoes for men kardam&sons Sneakers For M...',\n",
       " 'Sneakers For Men',\n",
       " 'Sneakers For Men',\n",
       " 'Sneakers For Men',\n",
       " \"White Sneaker For Men's/Boy's Sneakers For Men\",\n",
       " 'Sneakers For Men',\n",
       " 'Combo Pack Of 4 Casual Shoes Loafer Shoes Sneakers For ...',\n",
       " 'Casuals, Canvas, Partywear Sneakers For Men',\n",
       " 'Men 5014 Latest Collection Stylish Casual Sports Loafer...',\n",
       " 'Sneakers For Men',\n",
       " 'Super 445 Fashion Sneakers For Men',\n",
       " 'Luxury Fashionable casual sneaker shoes Sneakers For Me...',\n",
       " 'Sneakers For Men',\n",
       " 'Easy Vulc 2.0 Sneakers For Men',\n",
       " 'Lattest Sneakers Shoe Sneakers For Men',\n",
       " 'Sneakers For Men',\n",
       " 'Latest Collection-1215 Stylish Casual Sports Sneakers F...',\n",
       " 'Sneakers For Men',\n",
       " 'Series 7 Sneakers For Men',\n",
       " 'Unique & Perfect Collection Combo Pack of 02 Shoes for ...',\n",
       " 'Sneakers For Men',\n",
       " 'Sneakers For Men',\n",
       " 'Sneakers For Men',\n",
       " 'Sneakers For Men',\n",
       " \"Luxury Branded Fashionable Men's Casual Walking Partywe...\",\n",
       " 'Sneakers For Men',\n",
       " 'Super Stylish & Trendy Combo Pack of 02 Pairs Sneakers ...',\n",
       " 'Kwik FIT casual sneaker shoes and partywear shoes Casua...',\n",
       " 'Modern Trendy Sneakers Shoes Sneakers For Men',\n",
       " 'Sneakers For Men',\n",
       " 'Sneakers For Men',\n",
       " '5013-Latest Collection Stylish & Trendy of casuals Snea...',\n",
       " \"Casual , Partywear Sneakers Shoes For Men's And Boys Wh...\",\n",
       " '5011-Latest Collection Stylish & Trendy Casual Sneakers...',\n",
       " '516 Trendy Star Perfect Sneakers For Men',\n",
       " 'Sneakers Sneakers For Men',\n",
       " 'Sneakers For Men',\n",
       " 'casual sneaker shoes for men kardam&sons Sneakers For M...',\n",
       " 'Sneakers For Men',\n",
       " 'Sneakers For Men',\n",
       " 'Sneakers For Men',\n",
       " \"White Sneaker For Men's/Boy's Sneakers For Men\",\n",
       " 'Sneakers For Men',\n",
       " 'Combo Pack Of 4 Casual Shoes Loafer Shoes Sneakers For ...',\n",
       " 'Casuals, Canvas, Partywear Sneakers For Men',\n",
       " 'Men 5014 Latest Collection Stylish Casual Sports Loafer...',\n",
       " 'Sneakers For Men',\n",
       " 'Super 445 Fashion Sneakers For Men',\n",
       " 'Luxury Fashionable casual sneaker shoes Sneakers For Me...',\n",
       " 'Sneakers For Men',\n",
       " 'Easy Vulc 2.0 Sneakers For Men',\n",
       " 'Lattest Sneakers Shoe Sneakers For Men',\n",
       " 'Sneakers For Men',\n",
       " 'Latest Collection-1215 Stylish Casual Sports Sneakers F...',\n",
       " 'Sneakers For Men',\n",
       " 'Series 7 Sneakers For Men',\n",
       " 'Unique & Perfect Collection Combo Pack of 02 Shoes for ...',\n",
       " 'Sneakers For Men',\n",
       " 'Sneakers For Men']"
      ]
     },
     "execution_count": 50,
     "metadata": {},
     "output_type": "execute_result"
    }
   ],
   "source": [
    "for i in (product_6_1+product_6_2+product_6_3):\n",
    "    product_6=i.text\n",
    "    product_description_6.append(product_6)\n",
    "product_description_6"
   ]
  },
  {
   "cell_type": "code",
   "execution_count": 51,
   "id": "856fdb83",
   "metadata": {},
   "outputs": [
    {
     "data": {
      "text/plain": [
       "111"
      ]
     },
     "execution_count": 51,
     "metadata": {},
     "output_type": "execute_result"
    }
   ],
   "source": [
    "len(product_description_6)"
   ]
  },
  {
   "cell_type": "code",
   "execution_count": 53,
   "id": "2247b993",
   "metadata": {},
   "outputs": [
    {
     "name": "stdout",
     "output_type": "stream",
     "text": [
      "[<selenium.webdriver.remote.webelement.WebElement (session=\"b28c8e8d3bf8cd6eb150a89b5e2e4737\", element=\"32d32e01-474b-4e84-ae84-7fbe487e8913\")>, <selenium.webdriver.remote.webelement.WebElement (session=\"b28c8e8d3bf8cd6eb150a89b5e2e4737\", element=\"160e774f-0e3a-4634-9930-8934856afb81\")>, <selenium.webdriver.remote.webelement.WebElement (session=\"b28c8e8d3bf8cd6eb150a89b5e2e4737\", element=\"d07eea11-62bb-4c9d-98ed-908f9244b8e4\")>, <selenium.webdriver.remote.webelement.WebElement (session=\"b28c8e8d3bf8cd6eb150a89b5e2e4737\", element=\"f472a28b-2b1b-40bd-a295-ea21e95d0161\")>, <selenium.webdriver.remote.webelement.WebElement (session=\"b28c8e8d3bf8cd6eb150a89b5e2e4737\", element=\"40d93f8b-2f1f-4421-bb8e-93e158965249\")>, <selenium.webdriver.remote.webelement.WebElement (session=\"b28c8e8d3bf8cd6eb150a89b5e2e4737\", element=\"6caab2f8-18fd-44ea-a197-5a8c6020e8ce\")>, <selenium.webdriver.remote.webelement.WebElement (session=\"b28c8e8d3bf8cd6eb150a89b5e2e4737\", element=\"a70eec1c-240d-4efe-b90c-6b62981855b1\")>, <selenium.webdriver.remote.webelement.WebElement (session=\"b28c8e8d3bf8cd6eb150a89b5e2e4737\", element=\"504d602b-19fa-49b1-bbc2-0a6212c2b174\")>, <selenium.webdriver.remote.webelement.WebElement (session=\"b28c8e8d3bf8cd6eb150a89b5e2e4737\", element=\"3f3c499f-2901-4b01-9a26-0b6018c6653c\")>, <selenium.webdriver.remote.webelement.WebElement (session=\"b28c8e8d3bf8cd6eb150a89b5e2e4737\", element=\"358f5919-346b-4e3d-9a49-7e0d0d8d61c5\")>, <selenium.webdriver.remote.webelement.WebElement (session=\"b28c8e8d3bf8cd6eb150a89b5e2e4737\", element=\"d6defa6c-e929-4887-b689-98971fceeb8b\")>, <selenium.webdriver.remote.webelement.WebElement (session=\"b28c8e8d3bf8cd6eb150a89b5e2e4737\", element=\"23d9d4ac-8328-4ab8-a43a-194ab50087b8\")>, <selenium.webdriver.remote.webelement.WebElement (session=\"b28c8e8d3bf8cd6eb150a89b5e2e4737\", element=\"f5b98f14-6422-4d10-8016-d7329dc65e55\")>, <selenium.webdriver.remote.webelement.WebElement (session=\"b28c8e8d3bf8cd6eb150a89b5e2e4737\", element=\"5b94b1d0-f79e-47fc-b3a3-8f2b792f52fd\")>, <selenium.webdriver.remote.webelement.WebElement (session=\"b28c8e8d3bf8cd6eb150a89b5e2e4737\", element=\"a9a40ee8-d963-424b-bca7-9142ddcf4db6\")>, <selenium.webdriver.remote.webelement.WebElement (session=\"b28c8e8d3bf8cd6eb150a89b5e2e4737\", element=\"ad7b6eb2-9f8f-4f28-8a59-582826e648ce\")>, <selenium.webdriver.remote.webelement.WebElement (session=\"b28c8e8d3bf8cd6eb150a89b5e2e4737\", element=\"a463fe8f-2471-4412-8851-a58cbed2a7d0\")>, <selenium.webdriver.remote.webelement.WebElement (session=\"b28c8e8d3bf8cd6eb150a89b5e2e4737\", element=\"4865cafb-3cd1-4a63-8bc6-7539c085a5c9\")>, <selenium.webdriver.remote.webelement.WebElement (session=\"b28c8e8d3bf8cd6eb150a89b5e2e4737\", element=\"d76dc4de-a0a3-40f1-9dc2-852f785061b1\")>, <selenium.webdriver.remote.webelement.WebElement (session=\"b28c8e8d3bf8cd6eb150a89b5e2e4737\", element=\"c2892d23-9547-47fa-8f21-a811af28bcc7\")>, <selenium.webdriver.remote.webelement.WebElement (session=\"b28c8e8d3bf8cd6eb150a89b5e2e4737\", element=\"8eb0995d-5f13-4a68-af5a-d596ee4ddc66\")>, <selenium.webdriver.remote.webelement.WebElement (session=\"b28c8e8d3bf8cd6eb150a89b5e2e4737\", element=\"9b2b2a0f-8f86-405d-97e7-039712f43744\")>, <selenium.webdriver.remote.webelement.WebElement (session=\"b28c8e8d3bf8cd6eb150a89b5e2e4737\", element=\"33d88ab1-5cc3-44a1-8422-ebdc36a761c8\")>, <selenium.webdriver.remote.webelement.WebElement (session=\"b28c8e8d3bf8cd6eb150a89b5e2e4737\", element=\"e9ea9a6c-eaf8-4ba3-a686-03c2a2ea86df\")>, <selenium.webdriver.remote.webelement.WebElement (session=\"b28c8e8d3bf8cd6eb150a89b5e2e4737\", element=\"f06ea154-227c-4654-9cac-284b16058ea5\")>, <selenium.webdriver.remote.webelement.WebElement (session=\"b28c8e8d3bf8cd6eb150a89b5e2e4737\", element=\"3d543413-f11e-4577-b2bf-7843ad4fa133\")>, <selenium.webdriver.remote.webelement.WebElement (session=\"b28c8e8d3bf8cd6eb150a89b5e2e4737\", element=\"c11d5528-e2af-4ef8-90d7-8c28a370d764\")>, <selenium.webdriver.remote.webelement.WebElement (session=\"b28c8e8d3bf8cd6eb150a89b5e2e4737\", element=\"8c7fc988-258e-4e44-9157-87664d3b668a\")>, <selenium.webdriver.remote.webelement.WebElement (session=\"b28c8e8d3bf8cd6eb150a89b5e2e4737\", element=\"9623f4be-1b38-4b6f-8d41-3e09ab800c47\")>, <selenium.webdriver.remote.webelement.WebElement (session=\"b28c8e8d3bf8cd6eb150a89b5e2e4737\", element=\"7733f0fa-5a4c-4ebc-a605-366fa80a069d\")>, <selenium.webdriver.remote.webelement.WebElement (session=\"b28c8e8d3bf8cd6eb150a89b5e2e4737\", element=\"26b15a13-9645-43a7-a6f3-67d188dfe76b\")>, <selenium.webdriver.remote.webelement.WebElement (session=\"b28c8e8d3bf8cd6eb150a89b5e2e4737\", element=\"911c2149-c0f4-426c-8c5e-c3dac0dee457\")>, <selenium.webdriver.remote.webelement.WebElement (session=\"b28c8e8d3bf8cd6eb150a89b5e2e4737\", element=\"cbfe143e-1621-4306-8c66-50e8d0851c0f\")>, <selenium.webdriver.remote.webelement.WebElement (session=\"b28c8e8d3bf8cd6eb150a89b5e2e4737\", element=\"94712028-ee46-49dd-8fa3-3f1d67118712\")>, <selenium.webdriver.remote.webelement.WebElement (session=\"b28c8e8d3bf8cd6eb150a89b5e2e4737\", element=\"13e582da-9311-4949-9108-779dcbb3d6ed\")>, <selenium.webdriver.remote.webelement.WebElement (session=\"b28c8e8d3bf8cd6eb150a89b5e2e4737\", element=\"b2b6b448-0435-46b8-9f72-4bb7087cc1ec\")>, <selenium.webdriver.remote.webelement.WebElement (session=\"b28c8e8d3bf8cd6eb150a89b5e2e4737\", element=\"41902349-353c-4a45-80d0-1ff364f6d702\")>, <selenium.webdriver.remote.webelement.WebElement (session=\"b28c8e8d3bf8cd6eb150a89b5e2e4737\", element=\"9af5bd4f-6c89-4461-9fa8-27d104a2d4db\")>, <selenium.webdriver.remote.webelement.WebElement (session=\"b28c8e8d3bf8cd6eb150a89b5e2e4737\", element=\"092517cb-122d-496c-9b5c-0b89bfd44e8e\")>, <selenium.webdriver.remote.webelement.WebElement (session=\"b28c8e8d3bf8cd6eb150a89b5e2e4737\", element=\"87e01bfc-342d-4559-ae8f-033124b5b79a\")>]\n",
      "[<selenium.webdriver.remote.webelement.WebElement (session=\"b28c8e8d3bf8cd6eb150a89b5e2e4737\", element=\"32d32e01-474b-4e84-ae84-7fbe487e8913\")>, <selenium.webdriver.remote.webelement.WebElement (session=\"b28c8e8d3bf8cd6eb150a89b5e2e4737\", element=\"160e774f-0e3a-4634-9930-8934856afb81\")>, <selenium.webdriver.remote.webelement.WebElement (session=\"b28c8e8d3bf8cd6eb150a89b5e2e4737\", element=\"d07eea11-62bb-4c9d-98ed-908f9244b8e4\")>, <selenium.webdriver.remote.webelement.WebElement (session=\"b28c8e8d3bf8cd6eb150a89b5e2e4737\", element=\"f472a28b-2b1b-40bd-a295-ea21e95d0161\")>, <selenium.webdriver.remote.webelement.WebElement (session=\"b28c8e8d3bf8cd6eb150a89b5e2e4737\", element=\"40d93f8b-2f1f-4421-bb8e-93e158965249\")>, <selenium.webdriver.remote.webelement.WebElement (session=\"b28c8e8d3bf8cd6eb150a89b5e2e4737\", element=\"6caab2f8-18fd-44ea-a197-5a8c6020e8ce\")>, <selenium.webdriver.remote.webelement.WebElement (session=\"b28c8e8d3bf8cd6eb150a89b5e2e4737\", element=\"a70eec1c-240d-4efe-b90c-6b62981855b1\")>, <selenium.webdriver.remote.webelement.WebElement (session=\"b28c8e8d3bf8cd6eb150a89b5e2e4737\", element=\"504d602b-19fa-49b1-bbc2-0a6212c2b174\")>, <selenium.webdriver.remote.webelement.WebElement (session=\"b28c8e8d3bf8cd6eb150a89b5e2e4737\", element=\"3f3c499f-2901-4b01-9a26-0b6018c6653c\")>, <selenium.webdriver.remote.webelement.WebElement (session=\"b28c8e8d3bf8cd6eb150a89b5e2e4737\", element=\"358f5919-346b-4e3d-9a49-7e0d0d8d61c5\")>, <selenium.webdriver.remote.webelement.WebElement (session=\"b28c8e8d3bf8cd6eb150a89b5e2e4737\", element=\"d6defa6c-e929-4887-b689-98971fceeb8b\")>, <selenium.webdriver.remote.webelement.WebElement (session=\"b28c8e8d3bf8cd6eb150a89b5e2e4737\", element=\"23d9d4ac-8328-4ab8-a43a-194ab50087b8\")>, <selenium.webdriver.remote.webelement.WebElement (session=\"b28c8e8d3bf8cd6eb150a89b5e2e4737\", element=\"f5b98f14-6422-4d10-8016-d7329dc65e55\")>, <selenium.webdriver.remote.webelement.WebElement (session=\"b28c8e8d3bf8cd6eb150a89b5e2e4737\", element=\"5b94b1d0-f79e-47fc-b3a3-8f2b792f52fd\")>, <selenium.webdriver.remote.webelement.WebElement (session=\"b28c8e8d3bf8cd6eb150a89b5e2e4737\", element=\"a9a40ee8-d963-424b-bca7-9142ddcf4db6\")>, <selenium.webdriver.remote.webelement.WebElement (session=\"b28c8e8d3bf8cd6eb150a89b5e2e4737\", element=\"ad7b6eb2-9f8f-4f28-8a59-582826e648ce\")>, <selenium.webdriver.remote.webelement.WebElement (session=\"b28c8e8d3bf8cd6eb150a89b5e2e4737\", element=\"a463fe8f-2471-4412-8851-a58cbed2a7d0\")>, <selenium.webdriver.remote.webelement.WebElement (session=\"b28c8e8d3bf8cd6eb150a89b5e2e4737\", element=\"4865cafb-3cd1-4a63-8bc6-7539c085a5c9\")>, <selenium.webdriver.remote.webelement.WebElement (session=\"b28c8e8d3bf8cd6eb150a89b5e2e4737\", element=\"d76dc4de-a0a3-40f1-9dc2-852f785061b1\")>, <selenium.webdriver.remote.webelement.WebElement (session=\"b28c8e8d3bf8cd6eb150a89b5e2e4737\", element=\"c2892d23-9547-47fa-8f21-a811af28bcc7\")>, <selenium.webdriver.remote.webelement.WebElement (session=\"b28c8e8d3bf8cd6eb150a89b5e2e4737\", element=\"8eb0995d-5f13-4a68-af5a-d596ee4ddc66\")>, <selenium.webdriver.remote.webelement.WebElement (session=\"b28c8e8d3bf8cd6eb150a89b5e2e4737\", element=\"9b2b2a0f-8f86-405d-97e7-039712f43744\")>, <selenium.webdriver.remote.webelement.WebElement (session=\"b28c8e8d3bf8cd6eb150a89b5e2e4737\", element=\"33d88ab1-5cc3-44a1-8422-ebdc36a761c8\")>, <selenium.webdriver.remote.webelement.WebElement (session=\"b28c8e8d3bf8cd6eb150a89b5e2e4737\", element=\"e9ea9a6c-eaf8-4ba3-a686-03c2a2ea86df\")>, <selenium.webdriver.remote.webelement.WebElement (session=\"b28c8e8d3bf8cd6eb150a89b5e2e4737\", element=\"f06ea154-227c-4654-9cac-284b16058ea5\")>, <selenium.webdriver.remote.webelement.WebElement (session=\"b28c8e8d3bf8cd6eb150a89b5e2e4737\", element=\"3d543413-f11e-4577-b2bf-7843ad4fa133\")>, <selenium.webdriver.remote.webelement.WebElement (session=\"b28c8e8d3bf8cd6eb150a89b5e2e4737\", element=\"c11d5528-e2af-4ef8-90d7-8c28a370d764\")>, <selenium.webdriver.remote.webelement.WebElement (session=\"b28c8e8d3bf8cd6eb150a89b5e2e4737\", element=\"8c7fc988-258e-4e44-9157-87664d3b668a\")>, <selenium.webdriver.remote.webelement.WebElement (session=\"b28c8e8d3bf8cd6eb150a89b5e2e4737\", element=\"9623f4be-1b38-4b6f-8d41-3e09ab800c47\")>, <selenium.webdriver.remote.webelement.WebElement (session=\"b28c8e8d3bf8cd6eb150a89b5e2e4737\", element=\"7733f0fa-5a4c-4ebc-a605-366fa80a069d\")>, <selenium.webdriver.remote.webelement.WebElement (session=\"b28c8e8d3bf8cd6eb150a89b5e2e4737\", element=\"26b15a13-9645-43a7-a6f3-67d188dfe76b\")>, <selenium.webdriver.remote.webelement.WebElement (session=\"b28c8e8d3bf8cd6eb150a89b5e2e4737\", element=\"911c2149-c0f4-426c-8c5e-c3dac0dee457\")>, <selenium.webdriver.remote.webelement.WebElement (session=\"b28c8e8d3bf8cd6eb150a89b5e2e4737\", element=\"cbfe143e-1621-4306-8c66-50e8d0851c0f\")>, <selenium.webdriver.remote.webelement.WebElement (session=\"b28c8e8d3bf8cd6eb150a89b5e2e4737\", element=\"94712028-ee46-49dd-8fa3-3f1d67118712\")>, <selenium.webdriver.remote.webelement.WebElement (session=\"b28c8e8d3bf8cd6eb150a89b5e2e4737\", element=\"13e582da-9311-4949-9108-779dcbb3d6ed\")>, <selenium.webdriver.remote.webelement.WebElement (session=\"b28c8e8d3bf8cd6eb150a89b5e2e4737\", element=\"b2b6b448-0435-46b8-9f72-4bb7087cc1ec\")>, <selenium.webdriver.remote.webelement.WebElement (session=\"b28c8e8d3bf8cd6eb150a89b5e2e4737\", element=\"41902349-353c-4a45-80d0-1ff364f6d702\")>, <selenium.webdriver.remote.webelement.WebElement (session=\"b28c8e8d3bf8cd6eb150a89b5e2e4737\", element=\"9af5bd4f-6c89-4461-9fa8-27d104a2d4db\")>, <selenium.webdriver.remote.webelement.WebElement (session=\"b28c8e8d3bf8cd6eb150a89b5e2e4737\", element=\"092517cb-122d-496c-9b5c-0b89bfd44e8e\")>, <selenium.webdriver.remote.webelement.WebElement (session=\"b28c8e8d3bf8cd6eb150a89b5e2e4737\", element=\"87e01bfc-342d-4559-ae8f-033124b5b79a\")>]\n",
      "[<selenium.webdriver.remote.webelement.WebElement (session=\"b28c8e8d3bf8cd6eb150a89b5e2e4737\", element=\"32d32e01-474b-4e84-ae84-7fbe487e8913\")>, <selenium.webdriver.remote.webelement.WebElement (session=\"b28c8e8d3bf8cd6eb150a89b5e2e4737\", element=\"160e774f-0e3a-4634-9930-8934856afb81\")>, <selenium.webdriver.remote.webelement.WebElement (session=\"b28c8e8d3bf8cd6eb150a89b5e2e4737\", element=\"d07eea11-62bb-4c9d-98ed-908f9244b8e4\")>, <selenium.webdriver.remote.webelement.WebElement (session=\"b28c8e8d3bf8cd6eb150a89b5e2e4737\", element=\"f472a28b-2b1b-40bd-a295-ea21e95d0161\")>, <selenium.webdriver.remote.webelement.WebElement (session=\"b28c8e8d3bf8cd6eb150a89b5e2e4737\", element=\"40d93f8b-2f1f-4421-bb8e-93e158965249\")>, <selenium.webdriver.remote.webelement.WebElement (session=\"b28c8e8d3bf8cd6eb150a89b5e2e4737\", element=\"6caab2f8-18fd-44ea-a197-5a8c6020e8ce\")>, <selenium.webdriver.remote.webelement.WebElement (session=\"b28c8e8d3bf8cd6eb150a89b5e2e4737\", element=\"a70eec1c-240d-4efe-b90c-6b62981855b1\")>, <selenium.webdriver.remote.webelement.WebElement (session=\"b28c8e8d3bf8cd6eb150a89b5e2e4737\", element=\"504d602b-19fa-49b1-bbc2-0a6212c2b174\")>, <selenium.webdriver.remote.webelement.WebElement (session=\"b28c8e8d3bf8cd6eb150a89b5e2e4737\", element=\"3f3c499f-2901-4b01-9a26-0b6018c6653c\")>, <selenium.webdriver.remote.webelement.WebElement (session=\"b28c8e8d3bf8cd6eb150a89b5e2e4737\", element=\"358f5919-346b-4e3d-9a49-7e0d0d8d61c5\")>, <selenium.webdriver.remote.webelement.WebElement (session=\"b28c8e8d3bf8cd6eb150a89b5e2e4737\", element=\"d6defa6c-e929-4887-b689-98971fceeb8b\")>, <selenium.webdriver.remote.webelement.WebElement (session=\"b28c8e8d3bf8cd6eb150a89b5e2e4737\", element=\"23d9d4ac-8328-4ab8-a43a-194ab50087b8\")>, <selenium.webdriver.remote.webelement.WebElement (session=\"b28c8e8d3bf8cd6eb150a89b5e2e4737\", element=\"f5b98f14-6422-4d10-8016-d7329dc65e55\")>, <selenium.webdriver.remote.webelement.WebElement (session=\"b28c8e8d3bf8cd6eb150a89b5e2e4737\", element=\"5b94b1d0-f79e-47fc-b3a3-8f2b792f52fd\")>, <selenium.webdriver.remote.webelement.WebElement (session=\"b28c8e8d3bf8cd6eb150a89b5e2e4737\", element=\"a9a40ee8-d963-424b-bca7-9142ddcf4db6\")>, <selenium.webdriver.remote.webelement.WebElement (session=\"b28c8e8d3bf8cd6eb150a89b5e2e4737\", element=\"ad7b6eb2-9f8f-4f28-8a59-582826e648ce\")>, <selenium.webdriver.remote.webelement.WebElement (session=\"b28c8e8d3bf8cd6eb150a89b5e2e4737\", element=\"a463fe8f-2471-4412-8851-a58cbed2a7d0\")>, <selenium.webdriver.remote.webelement.WebElement (session=\"b28c8e8d3bf8cd6eb150a89b5e2e4737\", element=\"4865cafb-3cd1-4a63-8bc6-7539c085a5c9\")>, <selenium.webdriver.remote.webelement.WebElement (session=\"b28c8e8d3bf8cd6eb150a89b5e2e4737\", element=\"d76dc4de-a0a3-40f1-9dc2-852f785061b1\")>, <selenium.webdriver.remote.webelement.WebElement (session=\"b28c8e8d3bf8cd6eb150a89b5e2e4737\", element=\"c2892d23-9547-47fa-8f21-a811af28bcc7\")>, <selenium.webdriver.remote.webelement.WebElement (session=\"b28c8e8d3bf8cd6eb150a89b5e2e4737\", element=\"8eb0995d-5f13-4a68-af5a-d596ee4ddc66\")>, <selenium.webdriver.remote.webelement.WebElement (session=\"b28c8e8d3bf8cd6eb150a89b5e2e4737\", element=\"9b2b2a0f-8f86-405d-97e7-039712f43744\")>, <selenium.webdriver.remote.webelement.WebElement (session=\"b28c8e8d3bf8cd6eb150a89b5e2e4737\", element=\"33d88ab1-5cc3-44a1-8422-ebdc36a761c8\")>, <selenium.webdriver.remote.webelement.WebElement (session=\"b28c8e8d3bf8cd6eb150a89b5e2e4737\", element=\"e9ea9a6c-eaf8-4ba3-a686-03c2a2ea86df\")>, <selenium.webdriver.remote.webelement.WebElement (session=\"b28c8e8d3bf8cd6eb150a89b5e2e4737\", element=\"f06ea154-227c-4654-9cac-284b16058ea5\")>, <selenium.webdriver.remote.webelement.WebElement (session=\"b28c8e8d3bf8cd6eb150a89b5e2e4737\", element=\"3d543413-f11e-4577-b2bf-7843ad4fa133\")>, <selenium.webdriver.remote.webelement.WebElement (session=\"b28c8e8d3bf8cd6eb150a89b5e2e4737\", element=\"c11d5528-e2af-4ef8-90d7-8c28a370d764\")>, <selenium.webdriver.remote.webelement.WebElement (session=\"b28c8e8d3bf8cd6eb150a89b5e2e4737\", element=\"8c7fc988-258e-4e44-9157-87664d3b668a\")>, <selenium.webdriver.remote.webelement.WebElement (session=\"b28c8e8d3bf8cd6eb150a89b5e2e4737\", element=\"9623f4be-1b38-4b6f-8d41-3e09ab800c47\")>, <selenium.webdriver.remote.webelement.WebElement (session=\"b28c8e8d3bf8cd6eb150a89b5e2e4737\", element=\"7733f0fa-5a4c-4ebc-a605-366fa80a069d\")>, <selenium.webdriver.remote.webelement.WebElement (session=\"b28c8e8d3bf8cd6eb150a89b5e2e4737\", element=\"26b15a13-9645-43a7-a6f3-67d188dfe76b\")>, <selenium.webdriver.remote.webelement.WebElement (session=\"b28c8e8d3bf8cd6eb150a89b5e2e4737\", element=\"911c2149-c0f4-426c-8c5e-c3dac0dee457\")>, <selenium.webdriver.remote.webelement.WebElement (session=\"b28c8e8d3bf8cd6eb150a89b5e2e4737\", element=\"cbfe143e-1621-4306-8c66-50e8d0851c0f\")>, <selenium.webdriver.remote.webelement.WebElement (session=\"b28c8e8d3bf8cd6eb150a89b5e2e4737\", element=\"94712028-ee46-49dd-8fa3-3f1d67118712\")>, <selenium.webdriver.remote.webelement.WebElement (session=\"b28c8e8d3bf8cd6eb150a89b5e2e4737\", element=\"13e582da-9311-4949-9108-779dcbb3d6ed\")>, <selenium.webdriver.remote.webelement.WebElement (session=\"b28c8e8d3bf8cd6eb150a89b5e2e4737\", element=\"b2b6b448-0435-46b8-9f72-4bb7087cc1ec\")>, <selenium.webdriver.remote.webelement.WebElement (session=\"b28c8e8d3bf8cd6eb150a89b5e2e4737\", element=\"41902349-353c-4a45-80d0-1ff364f6d702\")>, <selenium.webdriver.remote.webelement.WebElement (session=\"b28c8e8d3bf8cd6eb150a89b5e2e4737\", element=\"9af5bd4f-6c89-4461-9fa8-27d104a2d4db\")>, <selenium.webdriver.remote.webelement.WebElement (session=\"b28c8e8d3bf8cd6eb150a89b5e2e4737\", element=\"092517cb-122d-496c-9b5c-0b89bfd44e8e\")>, <selenium.webdriver.remote.webelement.WebElement (session=\"b28c8e8d3bf8cd6eb150a89b5e2e4737\", element=\"87e01bfc-342d-4559-ae8f-033124b5b79a\")>]\n"
     ]
    }
   ],
   "source": [
    "#Lets extract all the tags having price from page 1, page 2 and page 3.\n",
    "price_6_1=driver_6.find_elements_by_xpath(\"//div[@class='_30jeq3']\")\n",
    "price_6_2=driver_6.find_elements_by_xpath(\"//div[@class='_30jeq3']\")\n",
    "price_6_3=driver_6.find_elements_by_xpath(\"//div[@class='_30jeq3']\")\n",
    "print(price_6_1)\n",
    "print(price_6_2)\n",
    "print(price_6_3)"
   ]
  },
  {
   "cell_type": "code",
   "execution_count": 54,
   "id": "b6150668",
   "metadata": {},
   "outputs": [
    {
     "data": {
      "text/plain": [
       "['₹945',\n",
       " '₹746',\n",
       " '₹449',\n",
       " '₹374',\n",
       " '₹501',\n",
       " '₹349',\n",
       " '₹209',\n",
       " '₹945',\n",
       " '₹399',\n",
       " '₹149',\n",
       " '₹249',\n",
       " '₹746',\n",
       " '₹149',\n",
       " '₹148',\n",
       " '₹209',\n",
       " '₹399',\n",
       " '₹348',\n",
       " '₹349',\n",
       " '₹399',\n",
       " '₹945',\n",
       " '₹424',\n",
       " '₹499',\n",
       " '₹349',\n",
       " '₹669',\n",
       " '₹449',\n",
       " '₹394',\n",
       " '₹209',\n",
       " '₹669',\n",
       " '₹282',\n",
       " '₹449',\n",
       " '₹351',\n",
       " '₹1,190',\n",
       " '₹249',\n",
       " '₹269',\n",
       " '₹149',\n",
       " '₹746',\n",
       " '₹394',\n",
       " '₹373',\n",
       " '₹249',\n",
       " '₹449',\n",
       " '₹945',\n",
       " '₹746',\n",
       " '₹449',\n",
       " '₹374',\n",
       " '₹501',\n",
       " '₹349',\n",
       " '₹209',\n",
       " '₹945',\n",
       " '₹399',\n",
       " '₹149',\n",
       " '₹249',\n",
       " '₹746',\n",
       " '₹149',\n",
       " '₹148',\n",
       " '₹209',\n",
       " '₹399',\n",
       " '₹348',\n",
       " '₹349',\n",
       " '₹399',\n",
       " '₹945',\n",
       " '₹424',\n",
       " '₹499',\n",
       " '₹349',\n",
       " '₹669',\n",
       " '₹449',\n",
       " '₹394',\n",
       " '₹209',\n",
       " '₹669',\n",
       " '₹282',\n",
       " '₹449',\n",
       " '₹351',\n",
       " '₹1,190',\n",
       " '₹249',\n",
       " '₹269',\n",
       " '₹149',\n",
       " '₹746',\n",
       " '₹394',\n",
       " '₹373',\n",
       " '₹249',\n",
       " '₹449',\n",
       " '₹945',\n",
       " '₹746',\n",
       " '₹449',\n",
       " '₹374',\n",
       " '₹501',\n",
       " '₹349',\n",
       " '₹209',\n",
       " '₹945',\n",
       " '₹399',\n",
       " '₹149',\n",
       " '₹249',\n",
       " '₹746',\n",
       " '₹149',\n",
       " '₹148',\n",
       " '₹209',\n",
       " '₹399',\n",
       " '₹348',\n",
       " '₹349',\n",
       " '₹399',\n",
       " '₹945',\n",
       " '₹424',\n",
       " '₹499',\n",
       " '₹349',\n",
       " '₹669',\n",
       " '₹449',\n",
       " '₹394',\n",
       " '₹209',\n",
       " '₹669',\n",
       " '₹282',\n",
       " '₹449',\n",
       " '₹351',\n",
       " '₹1,190',\n",
       " '₹249',\n",
       " '₹269',\n",
       " '₹149',\n",
       " '₹746',\n",
       " '₹394',\n",
       " '₹373',\n",
       " '₹249',\n",
       " '₹449']"
      ]
     },
     "execution_count": 54,
     "metadata": {},
     "output_type": "execute_result"
    }
   ],
   "source": [
    "for i in (price_6_1+price_6_2+price_6_3):\n",
    "    pricelist_6=i.text\n",
    "    price_6.append(pricelist_6)\n",
    "price_6"
   ]
  },
  {
   "cell_type": "code",
   "execution_count": 55,
   "id": "5ecf5336",
   "metadata": {},
   "outputs": [
    {
     "name": "stdout",
     "output_type": "stream",
     "text": [
      "[<selenium.webdriver.remote.webelement.WebElement (session=\"b28c8e8d3bf8cd6eb150a89b5e2e4737\", element=\"d3b0bcd9-fb2b-448a-9639-8d5cace61ec4\")>, <selenium.webdriver.remote.webelement.WebElement (session=\"b28c8e8d3bf8cd6eb150a89b5e2e4737\", element=\"be30b408-d262-45d7-9f0e-bb5ae567531a\")>, <selenium.webdriver.remote.webelement.WebElement (session=\"b28c8e8d3bf8cd6eb150a89b5e2e4737\", element=\"262ff550-995a-4898-814a-48c36aff6d60\")>, <selenium.webdriver.remote.webelement.WebElement (session=\"b28c8e8d3bf8cd6eb150a89b5e2e4737\", element=\"6bb5a1fa-f95b-4762-bdf4-8d4532c98886\")>, <selenium.webdriver.remote.webelement.WebElement (session=\"b28c8e8d3bf8cd6eb150a89b5e2e4737\", element=\"ec6e4a03-b528-48fe-8fc1-8dc84a764689\")>, <selenium.webdriver.remote.webelement.WebElement (session=\"b28c8e8d3bf8cd6eb150a89b5e2e4737\", element=\"82359236-bc34-44f7-8eda-fa9e018531be\")>, <selenium.webdriver.remote.webelement.WebElement (session=\"b28c8e8d3bf8cd6eb150a89b5e2e4737\", element=\"cb42504d-5e69-435c-aa65-d9b4a8e0e099\")>, <selenium.webdriver.remote.webelement.WebElement (session=\"b28c8e8d3bf8cd6eb150a89b5e2e4737\", element=\"2e7ece2e-c8b8-4aac-a862-049b20693f1b\")>, <selenium.webdriver.remote.webelement.WebElement (session=\"b28c8e8d3bf8cd6eb150a89b5e2e4737\", element=\"88e35f2d-d8f7-4a33-b500-f013e1019d75\")>, <selenium.webdriver.remote.webelement.WebElement (session=\"b28c8e8d3bf8cd6eb150a89b5e2e4737\", element=\"2cfee69c-18aa-4714-a477-b957273ce14b\")>, <selenium.webdriver.remote.webelement.WebElement (session=\"b28c8e8d3bf8cd6eb150a89b5e2e4737\", element=\"828733aa-0e44-4545-bc70-050ea6842814\")>, <selenium.webdriver.remote.webelement.WebElement (session=\"b28c8e8d3bf8cd6eb150a89b5e2e4737\", element=\"69906231-4e5f-48eb-ab5b-799167d88fe4\")>, <selenium.webdriver.remote.webelement.WebElement (session=\"b28c8e8d3bf8cd6eb150a89b5e2e4737\", element=\"7ba3826c-f66f-4cc2-a763-44a512cb2338\")>, <selenium.webdriver.remote.webelement.WebElement (session=\"b28c8e8d3bf8cd6eb150a89b5e2e4737\", element=\"a936f909-ef1e-4141-9033-93347d858170\")>, <selenium.webdriver.remote.webelement.WebElement (session=\"b28c8e8d3bf8cd6eb150a89b5e2e4737\", element=\"872b8970-1190-4aa5-8409-9c245486e6fc\")>, <selenium.webdriver.remote.webelement.WebElement (session=\"b28c8e8d3bf8cd6eb150a89b5e2e4737\", element=\"a7b9bf53-8a2b-4b88-9d9a-d2833ae511b7\")>, <selenium.webdriver.remote.webelement.WebElement (session=\"b28c8e8d3bf8cd6eb150a89b5e2e4737\", element=\"c25eb8c6-0e4b-4e3b-90ad-01377c0386f9\")>, <selenium.webdriver.remote.webelement.WebElement (session=\"b28c8e8d3bf8cd6eb150a89b5e2e4737\", element=\"9acd6d62-50c0-4c88-b63e-c2b0be27362b\")>, <selenium.webdriver.remote.webelement.WebElement (session=\"b28c8e8d3bf8cd6eb150a89b5e2e4737\", element=\"a063165b-a47f-4150-a866-5ac742c51282\")>, <selenium.webdriver.remote.webelement.WebElement (session=\"b28c8e8d3bf8cd6eb150a89b5e2e4737\", element=\"25ec9d6f-20cd-471a-904d-899e5923af0b\")>, <selenium.webdriver.remote.webelement.WebElement (session=\"b28c8e8d3bf8cd6eb150a89b5e2e4737\", element=\"c52ba2a9-41d7-42b1-858c-c68da8010462\")>, <selenium.webdriver.remote.webelement.WebElement (session=\"b28c8e8d3bf8cd6eb150a89b5e2e4737\", element=\"f9ccea87-0dd5-4b05-837c-90f6973ce8ad\")>, <selenium.webdriver.remote.webelement.WebElement (session=\"b28c8e8d3bf8cd6eb150a89b5e2e4737\", element=\"e26bb0fc-d339-4f4c-be54-555b24227853\")>, <selenium.webdriver.remote.webelement.WebElement (session=\"b28c8e8d3bf8cd6eb150a89b5e2e4737\", element=\"8ea60471-acef-4a3d-931d-6eef59a62ca6\")>, <selenium.webdriver.remote.webelement.WebElement (session=\"b28c8e8d3bf8cd6eb150a89b5e2e4737\", element=\"a352b230-b6e4-49ba-bae1-880d1e869d27\")>, <selenium.webdriver.remote.webelement.WebElement (session=\"b28c8e8d3bf8cd6eb150a89b5e2e4737\", element=\"78a3814b-a70c-46c8-99fd-14929407272e\")>, <selenium.webdriver.remote.webelement.WebElement (session=\"b28c8e8d3bf8cd6eb150a89b5e2e4737\", element=\"90c01e20-e62a-4bf8-b96d-a8ffe5dd7888\")>, <selenium.webdriver.remote.webelement.WebElement (session=\"b28c8e8d3bf8cd6eb150a89b5e2e4737\", element=\"43adef3b-ec20-43b6-bcae-828c30291a90\")>, <selenium.webdriver.remote.webelement.WebElement (session=\"b28c8e8d3bf8cd6eb150a89b5e2e4737\", element=\"39078348-76ca-4ad7-a6ac-80865c43607a\")>, <selenium.webdriver.remote.webelement.WebElement (session=\"b28c8e8d3bf8cd6eb150a89b5e2e4737\", element=\"1732f759-e4dd-4300-ac05-26773ee979c3\")>, <selenium.webdriver.remote.webelement.WebElement (session=\"b28c8e8d3bf8cd6eb150a89b5e2e4737\", element=\"7d718f51-7279-4eea-bcfc-5de4ca0022bd\")>, <selenium.webdriver.remote.webelement.WebElement (session=\"b28c8e8d3bf8cd6eb150a89b5e2e4737\", element=\"f9f6ce38-832a-4388-837b-6a79d16c9f17\")>, <selenium.webdriver.remote.webelement.WebElement (session=\"b28c8e8d3bf8cd6eb150a89b5e2e4737\", element=\"a3f7b57a-7392-4ee6-ad62-d46572935743\")>, <selenium.webdriver.remote.webelement.WebElement (session=\"b28c8e8d3bf8cd6eb150a89b5e2e4737\", element=\"44d55035-99ba-4d2c-a020-09198d8ac1e3\")>, <selenium.webdriver.remote.webelement.WebElement (session=\"b28c8e8d3bf8cd6eb150a89b5e2e4737\", element=\"db812963-1438-40aa-b360-2991b94884eb\")>, <selenium.webdriver.remote.webelement.WebElement (session=\"b28c8e8d3bf8cd6eb150a89b5e2e4737\", element=\"061af043-39e7-4e4f-bf45-64b11e731e47\")>, <selenium.webdriver.remote.webelement.WebElement (session=\"b28c8e8d3bf8cd6eb150a89b5e2e4737\", element=\"0158168b-74ae-4508-a385-dabe8a4153b6\")>, <selenium.webdriver.remote.webelement.WebElement (session=\"b28c8e8d3bf8cd6eb150a89b5e2e4737\", element=\"2f13a26a-2a94-483f-bcdf-6effbac17ade\")>, <selenium.webdriver.remote.webelement.WebElement (session=\"b28c8e8d3bf8cd6eb150a89b5e2e4737\", element=\"3407e095-7cdd-40ee-9dd9-890a1e363b2d\")>, <selenium.webdriver.remote.webelement.WebElement (session=\"b28c8e8d3bf8cd6eb150a89b5e2e4737\", element=\"51264dc2-e57a-4536-80db-ae020b7b9998\")>]\n",
      "[<selenium.webdriver.remote.webelement.WebElement (session=\"b28c8e8d3bf8cd6eb150a89b5e2e4737\", element=\"d3b0bcd9-fb2b-448a-9639-8d5cace61ec4\")>, <selenium.webdriver.remote.webelement.WebElement (session=\"b28c8e8d3bf8cd6eb150a89b5e2e4737\", element=\"be30b408-d262-45d7-9f0e-bb5ae567531a\")>, <selenium.webdriver.remote.webelement.WebElement (session=\"b28c8e8d3bf8cd6eb150a89b5e2e4737\", element=\"262ff550-995a-4898-814a-48c36aff6d60\")>, <selenium.webdriver.remote.webelement.WebElement (session=\"b28c8e8d3bf8cd6eb150a89b5e2e4737\", element=\"6bb5a1fa-f95b-4762-bdf4-8d4532c98886\")>, <selenium.webdriver.remote.webelement.WebElement (session=\"b28c8e8d3bf8cd6eb150a89b5e2e4737\", element=\"ec6e4a03-b528-48fe-8fc1-8dc84a764689\")>, <selenium.webdriver.remote.webelement.WebElement (session=\"b28c8e8d3bf8cd6eb150a89b5e2e4737\", element=\"82359236-bc34-44f7-8eda-fa9e018531be\")>, <selenium.webdriver.remote.webelement.WebElement (session=\"b28c8e8d3bf8cd6eb150a89b5e2e4737\", element=\"cb42504d-5e69-435c-aa65-d9b4a8e0e099\")>, <selenium.webdriver.remote.webelement.WebElement (session=\"b28c8e8d3bf8cd6eb150a89b5e2e4737\", element=\"2e7ece2e-c8b8-4aac-a862-049b20693f1b\")>, <selenium.webdriver.remote.webelement.WebElement (session=\"b28c8e8d3bf8cd6eb150a89b5e2e4737\", element=\"88e35f2d-d8f7-4a33-b500-f013e1019d75\")>, <selenium.webdriver.remote.webelement.WebElement (session=\"b28c8e8d3bf8cd6eb150a89b5e2e4737\", element=\"2cfee69c-18aa-4714-a477-b957273ce14b\")>, <selenium.webdriver.remote.webelement.WebElement (session=\"b28c8e8d3bf8cd6eb150a89b5e2e4737\", element=\"828733aa-0e44-4545-bc70-050ea6842814\")>, <selenium.webdriver.remote.webelement.WebElement (session=\"b28c8e8d3bf8cd6eb150a89b5e2e4737\", element=\"69906231-4e5f-48eb-ab5b-799167d88fe4\")>, <selenium.webdriver.remote.webelement.WebElement (session=\"b28c8e8d3bf8cd6eb150a89b5e2e4737\", element=\"7ba3826c-f66f-4cc2-a763-44a512cb2338\")>, <selenium.webdriver.remote.webelement.WebElement (session=\"b28c8e8d3bf8cd6eb150a89b5e2e4737\", element=\"a936f909-ef1e-4141-9033-93347d858170\")>, <selenium.webdriver.remote.webelement.WebElement (session=\"b28c8e8d3bf8cd6eb150a89b5e2e4737\", element=\"872b8970-1190-4aa5-8409-9c245486e6fc\")>, <selenium.webdriver.remote.webelement.WebElement (session=\"b28c8e8d3bf8cd6eb150a89b5e2e4737\", element=\"a7b9bf53-8a2b-4b88-9d9a-d2833ae511b7\")>, <selenium.webdriver.remote.webelement.WebElement (session=\"b28c8e8d3bf8cd6eb150a89b5e2e4737\", element=\"c25eb8c6-0e4b-4e3b-90ad-01377c0386f9\")>, <selenium.webdriver.remote.webelement.WebElement (session=\"b28c8e8d3bf8cd6eb150a89b5e2e4737\", element=\"9acd6d62-50c0-4c88-b63e-c2b0be27362b\")>, <selenium.webdriver.remote.webelement.WebElement (session=\"b28c8e8d3bf8cd6eb150a89b5e2e4737\", element=\"a063165b-a47f-4150-a866-5ac742c51282\")>, <selenium.webdriver.remote.webelement.WebElement (session=\"b28c8e8d3bf8cd6eb150a89b5e2e4737\", element=\"25ec9d6f-20cd-471a-904d-899e5923af0b\")>, <selenium.webdriver.remote.webelement.WebElement (session=\"b28c8e8d3bf8cd6eb150a89b5e2e4737\", element=\"c52ba2a9-41d7-42b1-858c-c68da8010462\")>, <selenium.webdriver.remote.webelement.WebElement (session=\"b28c8e8d3bf8cd6eb150a89b5e2e4737\", element=\"f9ccea87-0dd5-4b05-837c-90f6973ce8ad\")>, <selenium.webdriver.remote.webelement.WebElement (session=\"b28c8e8d3bf8cd6eb150a89b5e2e4737\", element=\"e26bb0fc-d339-4f4c-be54-555b24227853\")>, <selenium.webdriver.remote.webelement.WebElement (session=\"b28c8e8d3bf8cd6eb150a89b5e2e4737\", element=\"8ea60471-acef-4a3d-931d-6eef59a62ca6\")>, <selenium.webdriver.remote.webelement.WebElement (session=\"b28c8e8d3bf8cd6eb150a89b5e2e4737\", element=\"a352b230-b6e4-49ba-bae1-880d1e869d27\")>, <selenium.webdriver.remote.webelement.WebElement (session=\"b28c8e8d3bf8cd6eb150a89b5e2e4737\", element=\"78a3814b-a70c-46c8-99fd-14929407272e\")>, <selenium.webdriver.remote.webelement.WebElement (session=\"b28c8e8d3bf8cd6eb150a89b5e2e4737\", element=\"90c01e20-e62a-4bf8-b96d-a8ffe5dd7888\")>, <selenium.webdriver.remote.webelement.WebElement (session=\"b28c8e8d3bf8cd6eb150a89b5e2e4737\", element=\"43adef3b-ec20-43b6-bcae-828c30291a90\")>, <selenium.webdriver.remote.webelement.WebElement (session=\"b28c8e8d3bf8cd6eb150a89b5e2e4737\", element=\"39078348-76ca-4ad7-a6ac-80865c43607a\")>, <selenium.webdriver.remote.webelement.WebElement (session=\"b28c8e8d3bf8cd6eb150a89b5e2e4737\", element=\"1732f759-e4dd-4300-ac05-26773ee979c3\")>, <selenium.webdriver.remote.webelement.WebElement (session=\"b28c8e8d3bf8cd6eb150a89b5e2e4737\", element=\"7d718f51-7279-4eea-bcfc-5de4ca0022bd\")>, <selenium.webdriver.remote.webelement.WebElement (session=\"b28c8e8d3bf8cd6eb150a89b5e2e4737\", element=\"f9f6ce38-832a-4388-837b-6a79d16c9f17\")>, <selenium.webdriver.remote.webelement.WebElement (session=\"b28c8e8d3bf8cd6eb150a89b5e2e4737\", element=\"a3f7b57a-7392-4ee6-ad62-d46572935743\")>, <selenium.webdriver.remote.webelement.WebElement (session=\"b28c8e8d3bf8cd6eb150a89b5e2e4737\", element=\"44d55035-99ba-4d2c-a020-09198d8ac1e3\")>, <selenium.webdriver.remote.webelement.WebElement (session=\"b28c8e8d3bf8cd6eb150a89b5e2e4737\", element=\"db812963-1438-40aa-b360-2991b94884eb\")>, <selenium.webdriver.remote.webelement.WebElement (session=\"b28c8e8d3bf8cd6eb150a89b5e2e4737\", element=\"061af043-39e7-4e4f-bf45-64b11e731e47\")>, <selenium.webdriver.remote.webelement.WebElement (session=\"b28c8e8d3bf8cd6eb150a89b5e2e4737\", element=\"0158168b-74ae-4508-a385-dabe8a4153b6\")>, <selenium.webdriver.remote.webelement.WebElement (session=\"b28c8e8d3bf8cd6eb150a89b5e2e4737\", element=\"2f13a26a-2a94-483f-bcdf-6effbac17ade\")>, <selenium.webdriver.remote.webelement.WebElement (session=\"b28c8e8d3bf8cd6eb150a89b5e2e4737\", element=\"3407e095-7cdd-40ee-9dd9-890a1e363b2d\")>, <selenium.webdriver.remote.webelement.WebElement (session=\"b28c8e8d3bf8cd6eb150a89b5e2e4737\", element=\"51264dc2-e57a-4536-80db-ae020b7b9998\")>]\n",
      "[<selenium.webdriver.remote.webelement.WebElement (session=\"b28c8e8d3bf8cd6eb150a89b5e2e4737\", element=\"d3b0bcd9-fb2b-448a-9639-8d5cace61ec4\")>, <selenium.webdriver.remote.webelement.WebElement (session=\"b28c8e8d3bf8cd6eb150a89b5e2e4737\", element=\"be30b408-d262-45d7-9f0e-bb5ae567531a\")>, <selenium.webdriver.remote.webelement.WebElement (session=\"b28c8e8d3bf8cd6eb150a89b5e2e4737\", element=\"262ff550-995a-4898-814a-48c36aff6d60\")>, <selenium.webdriver.remote.webelement.WebElement (session=\"b28c8e8d3bf8cd6eb150a89b5e2e4737\", element=\"6bb5a1fa-f95b-4762-bdf4-8d4532c98886\")>, <selenium.webdriver.remote.webelement.WebElement (session=\"b28c8e8d3bf8cd6eb150a89b5e2e4737\", element=\"ec6e4a03-b528-48fe-8fc1-8dc84a764689\")>, <selenium.webdriver.remote.webelement.WebElement (session=\"b28c8e8d3bf8cd6eb150a89b5e2e4737\", element=\"82359236-bc34-44f7-8eda-fa9e018531be\")>, <selenium.webdriver.remote.webelement.WebElement (session=\"b28c8e8d3bf8cd6eb150a89b5e2e4737\", element=\"cb42504d-5e69-435c-aa65-d9b4a8e0e099\")>, <selenium.webdriver.remote.webelement.WebElement (session=\"b28c8e8d3bf8cd6eb150a89b5e2e4737\", element=\"2e7ece2e-c8b8-4aac-a862-049b20693f1b\")>, <selenium.webdriver.remote.webelement.WebElement (session=\"b28c8e8d3bf8cd6eb150a89b5e2e4737\", element=\"88e35f2d-d8f7-4a33-b500-f013e1019d75\")>, <selenium.webdriver.remote.webelement.WebElement (session=\"b28c8e8d3bf8cd6eb150a89b5e2e4737\", element=\"2cfee69c-18aa-4714-a477-b957273ce14b\")>, <selenium.webdriver.remote.webelement.WebElement (session=\"b28c8e8d3bf8cd6eb150a89b5e2e4737\", element=\"828733aa-0e44-4545-bc70-050ea6842814\")>, <selenium.webdriver.remote.webelement.WebElement (session=\"b28c8e8d3bf8cd6eb150a89b5e2e4737\", element=\"69906231-4e5f-48eb-ab5b-799167d88fe4\")>, <selenium.webdriver.remote.webelement.WebElement (session=\"b28c8e8d3bf8cd6eb150a89b5e2e4737\", element=\"7ba3826c-f66f-4cc2-a763-44a512cb2338\")>, <selenium.webdriver.remote.webelement.WebElement (session=\"b28c8e8d3bf8cd6eb150a89b5e2e4737\", element=\"a936f909-ef1e-4141-9033-93347d858170\")>, <selenium.webdriver.remote.webelement.WebElement (session=\"b28c8e8d3bf8cd6eb150a89b5e2e4737\", element=\"872b8970-1190-4aa5-8409-9c245486e6fc\")>, <selenium.webdriver.remote.webelement.WebElement (session=\"b28c8e8d3bf8cd6eb150a89b5e2e4737\", element=\"a7b9bf53-8a2b-4b88-9d9a-d2833ae511b7\")>, <selenium.webdriver.remote.webelement.WebElement (session=\"b28c8e8d3bf8cd6eb150a89b5e2e4737\", element=\"c25eb8c6-0e4b-4e3b-90ad-01377c0386f9\")>, <selenium.webdriver.remote.webelement.WebElement (session=\"b28c8e8d3bf8cd6eb150a89b5e2e4737\", element=\"9acd6d62-50c0-4c88-b63e-c2b0be27362b\")>, <selenium.webdriver.remote.webelement.WebElement (session=\"b28c8e8d3bf8cd6eb150a89b5e2e4737\", element=\"a063165b-a47f-4150-a866-5ac742c51282\")>, <selenium.webdriver.remote.webelement.WebElement (session=\"b28c8e8d3bf8cd6eb150a89b5e2e4737\", element=\"25ec9d6f-20cd-471a-904d-899e5923af0b\")>, <selenium.webdriver.remote.webelement.WebElement (session=\"b28c8e8d3bf8cd6eb150a89b5e2e4737\", element=\"c52ba2a9-41d7-42b1-858c-c68da8010462\")>, <selenium.webdriver.remote.webelement.WebElement (session=\"b28c8e8d3bf8cd6eb150a89b5e2e4737\", element=\"f9ccea87-0dd5-4b05-837c-90f6973ce8ad\")>, <selenium.webdriver.remote.webelement.WebElement (session=\"b28c8e8d3bf8cd6eb150a89b5e2e4737\", element=\"e26bb0fc-d339-4f4c-be54-555b24227853\")>, <selenium.webdriver.remote.webelement.WebElement (session=\"b28c8e8d3bf8cd6eb150a89b5e2e4737\", element=\"8ea60471-acef-4a3d-931d-6eef59a62ca6\")>, <selenium.webdriver.remote.webelement.WebElement (session=\"b28c8e8d3bf8cd6eb150a89b5e2e4737\", element=\"a352b230-b6e4-49ba-bae1-880d1e869d27\")>, <selenium.webdriver.remote.webelement.WebElement (session=\"b28c8e8d3bf8cd6eb150a89b5e2e4737\", element=\"78a3814b-a70c-46c8-99fd-14929407272e\")>, <selenium.webdriver.remote.webelement.WebElement (session=\"b28c8e8d3bf8cd6eb150a89b5e2e4737\", element=\"90c01e20-e62a-4bf8-b96d-a8ffe5dd7888\")>, <selenium.webdriver.remote.webelement.WebElement (session=\"b28c8e8d3bf8cd6eb150a89b5e2e4737\", element=\"43adef3b-ec20-43b6-bcae-828c30291a90\")>, <selenium.webdriver.remote.webelement.WebElement (session=\"b28c8e8d3bf8cd6eb150a89b5e2e4737\", element=\"39078348-76ca-4ad7-a6ac-80865c43607a\")>, <selenium.webdriver.remote.webelement.WebElement (session=\"b28c8e8d3bf8cd6eb150a89b5e2e4737\", element=\"1732f759-e4dd-4300-ac05-26773ee979c3\")>, <selenium.webdriver.remote.webelement.WebElement (session=\"b28c8e8d3bf8cd6eb150a89b5e2e4737\", element=\"7d718f51-7279-4eea-bcfc-5de4ca0022bd\")>, <selenium.webdriver.remote.webelement.WebElement (session=\"b28c8e8d3bf8cd6eb150a89b5e2e4737\", element=\"f9f6ce38-832a-4388-837b-6a79d16c9f17\")>, <selenium.webdriver.remote.webelement.WebElement (session=\"b28c8e8d3bf8cd6eb150a89b5e2e4737\", element=\"a3f7b57a-7392-4ee6-ad62-d46572935743\")>, <selenium.webdriver.remote.webelement.WebElement (session=\"b28c8e8d3bf8cd6eb150a89b5e2e4737\", element=\"44d55035-99ba-4d2c-a020-09198d8ac1e3\")>, <selenium.webdriver.remote.webelement.WebElement (session=\"b28c8e8d3bf8cd6eb150a89b5e2e4737\", element=\"db812963-1438-40aa-b360-2991b94884eb\")>, <selenium.webdriver.remote.webelement.WebElement (session=\"b28c8e8d3bf8cd6eb150a89b5e2e4737\", element=\"061af043-39e7-4e4f-bf45-64b11e731e47\")>, <selenium.webdriver.remote.webelement.WebElement (session=\"b28c8e8d3bf8cd6eb150a89b5e2e4737\", element=\"0158168b-74ae-4508-a385-dabe8a4153b6\")>, <selenium.webdriver.remote.webelement.WebElement (session=\"b28c8e8d3bf8cd6eb150a89b5e2e4737\", element=\"2f13a26a-2a94-483f-bcdf-6effbac17ade\")>, <selenium.webdriver.remote.webelement.WebElement (session=\"b28c8e8d3bf8cd6eb150a89b5e2e4737\", element=\"3407e095-7cdd-40ee-9dd9-890a1e363b2d\")>, <selenium.webdriver.remote.webelement.WebElement (session=\"b28c8e8d3bf8cd6eb150a89b5e2e4737\", element=\"51264dc2-e57a-4536-80db-ae020b7b9998\")>]\n"
     ]
    }
   ],
   "source": [
    "#Lets extract all the tags having discounts from page 1, page 2 and page 3.\n",
    "discount_6_1=driver_6.find_elements_by_xpath(\"//div[@class='_3Ay6Sb']\")\n",
    "discount_6_2=driver_6.find_elements_by_xpath(\"//div[@class='_3Ay6Sb']\")\n",
    "discount_6_3=driver_6.find_elements_by_xpath(\"//div[@class='_3Ay6Sb']\")\n",
    "print(discount_6_1)\n",
    "print(discount_6_2)\n",
    "print(discount_6_3)"
   ]
  },
  {
   "cell_type": "code",
   "execution_count": 56,
   "id": "243c7bfd",
   "metadata": {},
   "outputs": [
    {
     "data": {
      "text/plain": [
       "['52% off',\n",
       " '62% off',\n",
       " '77% off',\n",
       " '62% off',\n",
       " '68% off',\n",
       " '82% off',\n",
       " '83% off',\n",
       " '52% off',\n",
       " '60% off',\n",
       " '70% off',\n",
       " '62% off',\n",
       " '62% off',\n",
       " '70% off',\n",
       " '85% off',\n",
       " '73% off',\n",
       " '60% off',\n",
       " '65% off',\n",
       " '65% off',\n",
       " '69% off',\n",
       " '52% off',\n",
       " '57% off',\n",
       " '50% off',\n",
       " '65% off',\n",
       " '44% off',\n",
       " '87% off',\n",
       " '60% off',\n",
       " '58% off',\n",
       " '62% off',\n",
       " '43% off',\n",
       " '65% off',\n",
       " '64% off',\n",
       " '70% off',\n",
       " '80% off',\n",
       " '73% off',\n",
       " '70% off',\n",
       " '62% off',\n",
       " '60% off',\n",
       " '75% off',\n",
       " '68% off',\n",
       " '77% off',\n",
       " '52% off',\n",
       " '62% off',\n",
       " '77% off',\n",
       " '62% off',\n",
       " '68% off',\n",
       " '82% off',\n",
       " '83% off',\n",
       " '52% off',\n",
       " '60% off',\n",
       " '70% off',\n",
       " '62% off',\n",
       " '62% off',\n",
       " '70% off',\n",
       " '85% off',\n",
       " '73% off',\n",
       " '60% off',\n",
       " '65% off',\n",
       " '65% off',\n",
       " '69% off',\n",
       " '52% off',\n",
       " '57% off',\n",
       " '50% off',\n",
       " '65% off',\n",
       " '44% off',\n",
       " '87% off',\n",
       " '60% off',\n",
       " '58% off',\n",
       " '62% off',\n",
       " '43% off',\n",
       " '65% off',\n",
       " '64% off',\n",
       " '70% off',\n",
       " '80% off',\n",
       " '73% off',\n",
       " '70% off',\n",
       " '62% off',\n",
       " '60% off',\n",
       " '75% off',\n",
       " '68% off',\n",
       " '77% off',\n",
       " '52% off',\n",
       " '62% off',\n",
       " '77% off',\n",
       " '62% off',\n",
       " '68% off',\n",
       " '82% off',\n",
       " '83% off',\n",
       " '52% off',\n",
       " '60% off',\n",
       " '70% off',\n",
       " '62% off',\n",
       " '62% off',\n",
       " '70% off',\n",
       " '85% off',\n",
       " '73% off',\n",
       " '60% off',\n",
       " '65% off',\n",
       " '65% off',\n",
       " '69% off',\n",
       " '52% off',\n",
       " '57% off',\n",
       " '50% off',\n",
       " '65% off',\n",
       " '44% off',\n",
       " '87% off',\n",
       " '60% off',\n",
       " '58% off',\n",
       " '62% off',\n",
       " '43% off',\n",
       " '65% off',\n",
       " '64% off',\n",
       " '70% off',\n",
       " '80% off',\n",
       " '73% off',\n",
       " '70% off',\n",
       " '62% off',\n",
       " '60% off',\n",
       " '75% off',\n",
       " '68% off',\n",
       " '77% off']"
      ]
     },
     "execution_count": 56,
     "metadata": {},
     "output_type": "execute_result"
    }
   ],
   "source": [
    "for i in (discount_6_1+discount_6_2+discount_6_3):\n",
    "    discountlist_6=i.text\n",
    "    discount_6.append(discountlist_6)\n",
    "discount_6"
   ]
  },
  {
   "cell_type": "markdown",
   "id": "abbe1c3c",
   "metadata": {},
   "source": [
    "#### Checking length of each attributes"
   ]
  },
  {
   "cell_type": "code",
   "execution_count": 57,
   "id": "97a6830b",
   "metadata": {},
   "outputs": [
    {
     "name": "stdout",
     "output_type": "stream",
     "text": [
      "120 111 120 120\n"
     ]
    }
   ],
   "source": [
    "print(len(brand_names_6),len(product_description_6),len(price_6),len(discount_6))"
   ]
  },
  {
   "cell_type": "markdown",
   "id": "66178aa1",
   "metadata": {},
   "source": [
    "#### Making DataFrame"
   ]
  },
  {
   "cell_type": "code",
   "execution_count": 58,
   "id": "71d22d74",
   "metadata": {},
   "outputs": [
    {
     "data": {
      "text/html": [
       "<div>\n",
       "<style scoped>\n",
       "    .dataframe tbody tr th:only-of-type {\n",
       "        vertical-align: middle;\n",
       "    }\n",
       "\n",
       "    .dataframe tbody tr th {\n",
       "        vertical-align: top;\n",
       "    }\n",
       "\n",
       "    .dataframe thead th {\n",
       "        text-align: right;\n",
       "    }\n",
       "</style>\n",
       "<table border=\"1\" class=\"dataframe\">\n",
       "  <thead>\n",
       "    <tr style=\"text-align: right;\">\n",
       "      <th></th>\n",
       "      <th>brand_names</th>\n",
       "      <th>product_description</th>\n",
       "      <th>pricelists</th>\n",
       "      <th>discountlists</th>\n",
       "    </tr>\n",
       "  </thead>\n",
       "  <tbody>\n",
       "    <tr>\n",
       "      <th>0</th>\n",
       "      <td>HIGHLANDER</td>\n",
       "      <td>Sneakers For Men</td>\n",
       "      <td>₹945</td>\n",
       "      <td>52% off</td>\n",
       "    </tr>\n",
       "    <tr>\n",
       "      <th>1</th>\n",
       "      <td>HIGHLANDER</td>\n",
       "      <td>Sneakers For Men</td>\n",
       "      <td>₹746</td>\n",
       "      <td>62% off</td>\n",
       "    </tr>\n",
       "    <tr>\n",
       "      <th>2</th>\n",
       "      <td>ASTEROID</td>\n",
       "      <td>Luxury Branded Fashionable Men's Casual Walkin...</td>\n",
       "      <td>₹449</td>\n",
       "      <td>77% off</td>\n",
       "    </tr>\n",
       "    <tr>\n",
       "      <th>3</th>\n",
       "      <td>Magnolia</td>\n",
       "      <td>Sneakers For Men</td>\n",
       "      <td>₹374</td>\n",
       "      <td>62% off</td>\n",
       "    </tr>\n",
       "    <tr>\n",
       "      <th>4</th>\n",
       "      <td>Chevit</td>\n",
       "      <td>Super Stylish &amp; Trendy Combo Pack of 02 Pairs ...</td>\n",
       "      <td>₹501</td>\n",
       "      <td>68% off</td>\n",
       "    </tr>\n",
       "    <tr>\n",
       "      <th>...</th>\n",
       "      <td>...</td>\n",
       "      <td>...</td>\n",
       "      <td>...</td>\n",
       "      <td>...</td>\n",
       "    </tr>\n",
       "    <tr>\n",
       "      <th>95</th>\n",
       "      <td>Shoes Icon</td>\n",
       "      <td>Combo Pack Of 4 Casual Shoes Loafer Shoes Snea...</td>\n",
       "      <td>₹399</td>\n",
       "      <td>60% off</td>\n",
       "    </tr>\n",
       "    <tr>\n",
       "      <th>96</th>\n",
       "      <td>SCATCHITE</td>\n",
       "      <td>Casuals, Canvas, Partywear Sneakers For Men</td>\n",
       "      <td>₹348</td>\n",
       "      <td>65% off</td>\n",
       "    </tr>\n",
       "    <tr>\n",
       "      <th>97</th>\n",
       "      <td>aadi</td>\n",
       "      <td>Men 5014 Latest Collection Stylish Casual Spor...</td>\n",
       "      <td>₹349</td>\n",
       "      <td>65% off</td>\n",
       "    </tr>\n",
       "    <tr>\n",
       "      <th>98</th>\n",
       "      <td>India hub</td>\n",
       "      <td>Sneakers For Men</td>\n",
       "      <td>₹399</td>\n",
       "      <td>69% off</td>\n",
       "    </tr>\n",
       "    <tr>\n",
       "      <th>99</th>\n",
       "      <td>HIGHLANDER</td>\n",
       "      <td>Super 445 Fashion Sneakers For Men</td>\n",
       "      <td>₹945</td>\n",
       "      <td>52% off</td>\n",
       "    </tr>\n",
       "  </tbody>\n",
       "</table>\n",
       "<p>100 rows × 4 columns</p>\n",
       "</div>"
      ],
      "text/plain": [
       "   brand_names                                product_description pricelists  \\\n",
       "0   HIGHLANDER                                   Sneakers For Men       ₹945   \n",
       "1   HIGHLANDER                                   Sneakers For Men       ₹746   \n",
       "2     ASTEROID  Luxury Branded Fashionable Men's Casual Walkin...       ₹449   \n",
       "3     Magnolia                                   Sneakers For Men       ₹374   \n",
       "4       Chevit  Super Stylish & Trendy Combo Pack of 02 Pairs ...       ₹501   \n",
       "..         ...                                                ...        ...   \n",
       "95  Shoes Icon  Combo Pack Of 4 Casual Shoes Loafer Shoes Snea...       ₹399   \n",
       "96   SCATCHITE        Casuals, Canvas, Partywear Sneakers For Men       ₹348   \n",
       "97        aadi  Men 5014 Latest Collection Stylish Casual Spor...       ₹349   \n",
       "98   India hub                                   Sneakers For Men       ₹399   \n",
       "99  HIGHLANDER                 Super 445 Fashion Sneakers For Men       ₹945   \n",
       "\n",
       "   discountlists  \n",
       "0        52% off  \n",
       "1        62% off  \n",
       "2        77% off  \n",
       "3        62% off  \n",
       "4        68% off  \n",
       "..           ...  \n",
       "95       60% off  \n",
       "96       65% off  \n",
       "97       65% off  \n",
       "98       69% off  \n",
       "99       52% off  \n",
       "\n",
       "[100 rows x 4 columns]"
      ]
     },
     "execution_count": 58,
     "metadata": {},
     "output_type": "execute_result"
    }
   ],
   "source": [
    "import pandas as pd\n",
    "df_6=pd.DataFrame({'brand_names':brand_names_6[0:100],'product_description':product_description_6[0:100],'pricelists':price_6[0:100],'discountlists':discount_6[0:100]})\n",
    "df_6"
   ]
  },
  {
   "cell_type": "code",
   "execution_count": null,
   "id": "c27dbd82",
   "metadata": {},
   "outputs": [],
   "source": []
  },
  {
   "cell_type": "markdown",
   "id": "1f514e79",
   "metadata": {},
   "source": [
    "#---------------------------------------------------------------------------------------------------------------------------------------------------------------------------------------------------------------#"
   ]
  },
  {
   "cell_type": "code",
   "execution_count": null,
   "id": "0c1251e2",
   "metadata": {},
   "outputs": [],
   "source": []
  },
  {
   "cell_type": "markdown",
   "id": "914076ac",
   "metadata": {},
   "source": [
    "# Q7: Go to the link - https://www.myntra.com/shoes\n",
    "Set Price filter to “Rs. 7149 to Rs. 14099 ” , Color filter to “Black”, as shown inthe below image.And then scrape First 100 shoes data you get. The data should include “Brand” of the shoes , Short Shoe\n",
    "description, price of the shoe as shown in the below image"
   ]
  },
  {
   "cell_type": "code",
   "execution_count": 92,
   "id": "8e91035a",
   "metadata": {},
   "outputs": [],
   "source": [
    "#Lets connect to the web driver\n",
    "driver_7=webdriver.Chrome(r\"C:\\Users\\X1\\chromedriver_win32\\chromedriver.exe\")"
   ]
  },
  {
   "cell_type": "code",
   "execution_count": 93,
   "id": "e0cea7fa",
   "metadata": {},
   "outputs": [],
   "source": [
    "driver_7=webdriver.Chrome('chromedriver.exe')\n",
    "time.sleep(2)"
   ]
  },
  {
   "cell_type": "code",
   "execution_count": 34,
   "id": "5c2d2344",
   "metadata": {},
   "outputs": [],
   "source": [
    "driver_7.close()"
   ]
  },
  {
   "cell_type": "code",
   "execution_count": 94,
   "id": "9ac3409e",
   "metadata": {},
   "outputs": [],
   "source": [
    "driver_7.get('https://www.myntra.com/shoes')"
   ]
  },
  {
   "cell_type": "code",
   "execution_count": 95,
   "id": "045516fe",
   "metadata": {},
   "outputs": [],
   "source": [
    "# Specifying the url of the page to be scraped\n",
    "url_7=(\"https://www.myntra.com/shoes?f=Color%3ABlack_36454f&rf=Price%3A7187.0_14125.0_7187.0%20TO%2014125.0\")"
   ]
  },
  {
   "cell_type": "code",
   "execution_count": 96,
   "id": "1e8cdba9",
   "metadata": {},
   "outputs": [],
   "source": [
    "#Let's open the web page through the web driver\n",
    "driver_7.get(url_7)"
   ]
  },
  {
   "cell_type": "markdown",
   "id": "46eb5197",
   "metadata": {},
   "source": [
    "Now lets create 3 empty lists for 3 attributes required"
   ]
  },
  {
   "cell_type": "code",
   "execution_count": 97,
   "id": "51c07062",
   "metadata": {},
   "outputs": [],
   "source": [
    "brand_names_7=[]\n",
    "product_description_7=[] \n",
    "price_7=[] "
   ]
  },
  {
   "cell_type": "code",
   "execution_count": 100,
   "id": "92184ad3",
   "metadata": {},
   "outputs": [
    {
     "name": "stdout",
     "output_type": "stream",
     "text": [
      "[<selenium.webdriver.remote.webelement.WebElement (session=\"c6f5ec002dbff4b61b1e19f8ecd55ab0\", element=\"9cd6c46a-c4b7-41cc-aa6d-6297d853849d\")>, <selenium.webdriver.remote.webelement.WebElement (session=\"c6f5ec002dbff4b61b1e19f8ecd55ab0\", element=\"f4687a8e-03b4-4a1f-8d8c-871e1dcabebf\")>, <selenium.webdriver.remote.webelement.WebElement (session=\"c6f5ec002dbff4b61b1e19f8ecd55ab0\", element=\"619ea65c-a879-4537-80be-af0cbb66c210\")>, <selenium.webdriver.remote.webelement.WebElement (session=\"c6f5ec002dbff4b61b1e19f8ecd55ab0\", element=\"c8fb2a4e-fe80-429d-9b9c-7d897509d520\")>, <selenium.webdriver.remote.webelement.WebElement (session=\"c6f5ec002dbff4b61b1e19f8ecd55ab0\", element=\"c6628f6f-d32a-434e-84b9-9dbbcc020178\")>, <selenium.webdriver.remote.webelement.WebElement (session=\"c6f5ec002dbff4b61b1e19f8ecd55ab0\", element=\"419adeb9-61c5-4a24-a480-0d72c13bf32b\")>, <selenium.webdriver.remote.webelement.WebElement (session=\"c6f5ec002dbff4b61b1e19f8ecd55ab0\", element=\"5ac3f1e4-4472-4054-962a-7ad031ca6efc\")>, <selenium.webdriver.remote.webelement.WebElement (session=\"c6f5ec002dbff4b61b1e19f8ecd55ab0\", element=\"36a9d692-554e-4e75-bfac-a20ecca5676d\")>, <selenium.webdriver.remote.webelement.WebElement (session=\"c6f5ec002dbff4b61b1e19f8ecd55ab0\", element=\"d0241fff-984f-42bf-a0e2-6435e7b8244d\")>, <selenium.webdriver.remote.webelement.WebElement (session=\"c6f5ec002dbff4b61b1e19f8ecd55ab0\", element=\"84772204-c40e-4230-b13a-237718c25587\")>, <selenium.webdriver.remote.webelement.WebElement (session=\"c6f5ec002dbff4b61b1e19f8ecd55ab0\", element=\"79c1c3a4-b316-4bd7-9485-7d2927dd885e\")>, <selenium.webdriver.remote.webelement.WebElement (session=\"c6f5ec002dbff4b61b1e19f8ecd55ab0\", element=\"012ef744-d78a-4839-afef-d54a89800ea3\")>, <selenium.webdriver.remote.webelement.WebElement (session=\"c6f5ec002dbff4b61b1e19f8ecd55ab0\", element=\"694756de-b693-417f-b230-d84f34f6713d\")>, <selenium.webdriver.remote.webelement.WebElement (session=\"c6f5ec002dbff4b61b1e19f8ecd55ab0\", element=\"4b3bd600-873d-4d56-b200-4e04c786f2c6\")>, <selenium.webdriver.remote.webelement.WebElement (session=\"c6f5ec002dbff4b61b1e19f8ecd55ab0\", element=\"cdd6e0de-8e9b-4dbb-99a9-dfcb780812b1\")>, <selenium.webdriver.remote.webelement.WebElement (session=\"c6f5ec002dbff4b61b1e19f8ecd55ab0\", element=\"fa0d136a-8814-4836-a1a4-4e7895757405\")>, <selenium.webdriver.remote.webelement.WebElement (session=\"c6f5ec002dbff4b61b1e19f8ecd55ab0\", element=\"2b0359d6-69b0-4649-b888-4c52f8980bce\")>, <selenium.webdriver.remote.webelement.WebElement (session=\"c6f5ec002dbff4b61b1e19f8ecd55ab0\", element=\"a627645b-6c55-4fc6-ab8b-98f07d0e4f65\")>, <selenium.webdriver.remote.webelement.WebElement (session=\"c6f5ec002dbff4b61b1e19f8ecd55ab0\", element=\"44e4c94a-9a34-450d-8bec-62c3a65e8d03\")>, <selenium.webdriver.remote.webelement.WebElement (session=\"c6f5ec002dbff4b61b1e19f8ecd55ab0\", element=\"9598e99f-8da9-4997-94cc-8a7cd0baca65\")>, <selenium.webdriver.remote.webelement.WebElement (session=\"c6f5ec002dbff4b61b1e19f8ecd55ab0\", element=\"ef839755-dd72-4047-a018-f829e1535b62\")>, <selenium.webdriver.remote.webelement.WebElement (session=\"c6f5ec002dbff4b61b1e19f8ecd55ab0\", element=\"73bba5e0-ac2a-4d56-b7f9-c00d98c18720\")>, <selenium.webdriver.remote.webelement.WebElement (session=\"c6f5ec002dbff4b61b1e19f8ecd55ab0\", element=\"98a8f668-b190-4a28-9155-04179a0e9835\")>, <selenium.webdriver.remote.webelement.WebElement (session=\"c6f5ec002dbff4b61b1e19f8ecd55ab0\", element=\"4734aa19-f9b5-4870-bcb5-c1bcb0eda4ee\")>, <selenium.webdriver.remote.webelement.WebElement (session=\"c6f5ec002dbff4b61b1e19f8ecd55ab0\", element=\"5bb02e50-fb72-4cd3-88f7-3b8367c8d366\")>, <selenium.webdriver.remote.webelement.WebElement (session=\"c6f5ec002dbff4b61b1e19f8ecd55ab0\", element=\"78c23277-2367-45b5-9ccf-e2b40501e2d1\")>, <selenium.webdriver.remote.webelement.WebElement (session=\"c6f5ec002dbff4b61b1e19f8ecd55ab0\", element=\"403eb12a-f688-49e2-b611-58b4498ebd2e\")>, <selenium.webdriver.remote.webelement.WebElement (session=\"c6f5ec002dbff4b61b1e19f8ecd55ab0\", element=\"f2b1cae7-8451-4472-94f3-2f8f1d84aad4\")>, <selenium.webdriver.remote.webelement.WebElement (session=\"c6f5ec002dbff4b61b1e19f8ecd55ab0\", element=\"ad88080c-74c1-4ff8-a925-c66847af72f2\")>, <selenium.webdriver.remote.webelement.WebElement (session=\"c6f5ec002dbff4b61b1e19f8ecd55ab0\", element=\"873185e7-1ac8-405e-9c6c-bf1c8d1e2723\")>, <selenium.webdriver.remote.webelement.WebElement (session=\"c6f5ec002dbff4b61b1e19f8ecd55ab0\", element=\"c1bcd556-7f99-4baa-9de2-bd3bc14fa1fe\")>, <selenium.webdriver.remote.webelement.WebElement (session=\"c6f5ec002dbff4b61b1e19f8ecd55ab0\", element=\"97572242-d7f1-4dcc-85c9-a875d6b9edc8\")>, <selenium.webdriver.remote.webelement.WebElement (session=\"c6f5ec002dbff4b61b1e19f8ecd55ab0\", element=\"f0a1dd81-e249-4dd9-b864-0feb1262260c\")>, <selenium.webdriver.remote.webelement.WebElement (session=\"c6f5ec002dbff4b61b1e19f8ecd55ab0\", element=\"5099f045-af4e-44f5-bbbc-9f585bfa0540\")>, <selenium.webdriver.remote.webelement.WebElement (session=\"c6f5ec002dbff4b61b1e19f8ecd55ab0\", element=\"3b0aa1d5-fb38-479e-a444-ba138c4bd70e\")>, <selenium.webdriver.remote.webelement.WebElement (session=\"c6f5ec002dbff4b61b1e19f8ecd55ab0\", element=\"fc0f836e-8ba6-4b78-8c1c-e83cab3d31f4\")>, <selenium.webdriver.remote.webelement.WebElement (session=\"c6f5ec002dbff4b61b1e19f8ecd55ab0\", element=\"097c154f-10b6-4291-af8c-689eca1105de\")>, <selenium.webdriver.remote.webelement.WebElement (session=\"c6f5ec002dbff4b61b1e19f8ecd55ab0\", element=\"44db9ac0-a271-4cb9-8573-0243562c1667\")>, <selenium.webdriver.remote.webelement.WebElement (session=\"c6f5ec002dbff4b61b1e19f8ecd55ab0\", element=\"546b3e5a-4a03-49f3-84cb-99339fc1709b\")>, <selenium.webdriver.remote.webelement.WebElement (session=\"c6f5ec002dbff4b61b1e19f8ecd55ab0\", element=\"5f12b772-83ba-4042-9cce-c21f08774eb6\")>, <selenium.webdriver.remote.webelement.WebElement (session=\"c6f5ec002dbff4b61b1e19f8ecd55ab0\", element=\"7f8f7b4f-4924-4dac-a02b-a34d0cc3d1a8\")>, <selenium.webdriver.remote.webelement.WebElement (session=\"c6f5ec002dbff4b61b1e19f8ecd55ab0\", element=\"912f36a5-76f5-4949-ae62-1be24dc2b409\")>, <selenium.webdriver.remote.webelement.WebElement (session=\"c6f5ec002dbff4b61b1e19f8ecd55ab0\", element=\"aab28eef-9629-421f-a291-38bb74e84121\")>, <selenium.webdriver.remote.webelement.WebElement (session=\"c6f5ec002dbff4b61b1e19f8ecd55ab0\", element=\"5666251b-41d8-4e07-a88d-bf86f251b764\")>, <selenium.webdriver.remote.webelement.WebElement (session=\"c6f5ec002dbff4b61b1e19f8ecd55ab0\", element=\"f5ebe37b-0848-434f-b850-b130435fcdca\")>, <selenium.webdriver.remote.webelement.WebElement (session=\"c6f5ec002dbff4b61b1e19f8ecd55ab0\", element=\"9a8ad9b7-4bb3-4243-8659-61ce95359e1c\")>, <selenium.webdriver.remote.webelement.WebElement (session=\"c6f5ec002dbff4b61b1e19f8ecd55ab0\", element=\"81b9ca7b-3237-4db6-b51b-f66601dbd728\")>, <selenium.webdriver.remote.webelement.WebElement (session=\"c6f5ec002dbff4b61b1e19f8ecd55ab0\", element=\"0822461b-0bae-4cca-81d2-a8a8b6bdd273\")>, <selenium.webdriver.remote.webelement.WebElement (session=\"c6f5ec002dbff4b61b1e19f8ecd55ab0\", element=\"e8aa586b-4d04-458a-868f-3dfd14830fc2\")>, <selenium.webdriver.remote.webelement.WebElement (session=\"c6f5ec002dbff4b61b1e19f8ecd55ab0\", element=\"890fdc70-7536-42a5-b619-4dc68752ba01\")>]\n",
      "[<selenium.webdriver.remote.webelement.WebElement (session=\"c6f5ec002dbff4b61b1e19f8ecd55ab0\", element=\"9cd6c46a-c4b7-41cc-aa6d-6297d853849d\")>, <selenium.webdriver.remote.webelement.WebElement (session=\"c6f5ec002dbff4b61b1e19f8ecd55ab0\", element=\"f4687a8e-03b4-4a1f-8d8c-871e1dcabebf\")>, <selenium.webdriver.remote.webelement.WebElement (session=\"c6f5ec002dbff4b61b1e19f8ecd55ab0\", element=\"619ea65c-a879-4537-80be-af0cbb66c210\")>, <selenium.webdriver.remote.webelement.WebElement (session=\"c6f5ec002dbff4b61b1e19f8ecd55ab0\", element=\"c8fb2a4e-fe80-429d-9b9c-7d897509d520\")>, <selenium.webdriver.remote.webelement.WebElement (session=\"c6f5ec002dbff4b61b1e19f8ecd55ab0\", element=\"c6628f6f-d32a-434e-84b9-9dbbcc020178\")>, <selenium.webdriver.remote.webelement.WebElement (session=\"c6f5ec002dbff4b61b1e19f8ecd55ab0\", element=\"419adeb9-61c5-4a24-a480-0d72c13bf32b\")>, <selenium.webdriver.remote.webelement.WebElement (session=\"c6f5ec002dbff4b61b1e19f8ecd55ab0\", element=\"5ac3f1e4-4472-4054-962a-7ad031ca6efc\")>, <selenium.webdriver.remote.webelement.WebElement (session=\"c6f5ec002dbff4b61b1e19f8ecd55ab0\", element=\"36a9d692-554e-4e75-bfac-a20ecca5676d\")>, <selenium.webdriver.remote.webelement.WebElement (session=\"c6f5ec002dbff4b61b1e19f8ecd55ab0\", element=\"d0241fff-984f-42bf-a0e2-6435e7b8244d\")>, <selenium.webdriver.remote.webelement.WebElement (session=\"c6f5ec002dbff4b61b1e19f8ecd55ab0\", element=\"84772204-c40e-4230-b13a-237718c25587\")>, <selenium.webdriver.remote.webelement.WebElement (session=\"c6f5ec002dbff4b61b1e19f8ecd55ab0\", element=\"79c1c3a4-b316-4bd7-9485-7d2927dd885e\")>, <selenium.webdriver.remote.webelement.WebElement (session=\"c6f5ec002dbff4b61b1e19f8ecd55ab0\", element=\"012ef744-d78a-4839-afef-d54a89800ea3\")>, <selenium.webdriver.remote.webelement.WebElement (session=\"c6f5ec002dbff4b61b1e19f8ecd55ab0\", element=\"694756de-b693-417f-b230-d84f34f6713d\")>, <selenium.webdriver.remote.webelement.WebElement (session=\"c6f5ec002dbff4b61b1e19f8ecd55ab0\", element=\"4b3bd600-873d-4d56-b200-4e04c786f2c6\")>, <selenium.webdriver.remote.webelement.WebElement (session=\"c6f5ec002dbff4b61b1e19f8ecd55ab0\", element=\"cdd6e0de-8e9b-4dbb-99a9-dfcb780812b1\")>, <selenium.webdriver.remote.webelement.WebElement (session=\"c6f5ec002dbff4b61b1e19f8ecd55ab0\", element=\"fa0d136a-8814-4836-a1a4-4e7895757405\")>, <selenium.webdriver.remote.webelement.WebElement (session=\"c6f5ec002dbff4b61b1e19f8ecd55ab0\", element=\"2b0359d6-69b0-4649-b888-4c52f8980bce\")>, <selenium.webdriver.remote.webelement.WebElement (session=\"c6f5ec002dbff4b61b1e19f8ecd55ab0\", element=\"a627645b-6c55-4fc6-ab8b-98f07d0e4f65\")>, <selenium.webdriver.remote.webelement.WebElement (session=\"c6f5ec002dbff4b61b1e19f8ecd55ab0\", element=\"44e4c94a-9a34-450d-8bec-62c3a65e8d03\")>, <selenium.webdriver.remote.webelement.WebElement (session=\"c6f5ec002dbff4b61b1e19f8ecd55ab0\", element=\"9598e99f-8da9-4997-94cc-8a7cd0baca65\")>, <selenium.webdriver.remote.webelement.WebElement (session=\"c6f5ec002dbff4b61b1e19f8ecd55ab0\", element=\"ef839755-dd72-4047-a018-f829e1535b62\")>, <selenium.webdriver.remote.webelement.WebElement (session=\"c6f5ec002dbff4b61b1e19f8ecd55ab0\", element=\"73bba5e0-ac2a-4d56-b7f9-c00d98c18720\")>, <selenium.webdriver.remote.webelement.WebElement (session=\"c6f5ec002dbff4b61b1e19f8ecd55ab0\", element=\"98a8f668-b190-4a28-9155-04179a0e9835\")>, <selenium.webdriver.remote.webelement.WebElement (session=\"c6f5ec002dbff4b61b1e19f8ecd55ab0\", element=\"4734aa19-f9b5-4870-bcb5-c1bcb0eda4ee\")>, <selenium.webdriver.remote.webelement.WebElement (session=\"c6f5ec002dbff4b61b1e19f8ecd55ab0\", element=\"5bb02e50-fb72-4cd3-88f7-3b8367c8d366\")>, <selenium.webdriver.remote.webelement.WebElement (session=\"c6f5ec002dbff4b61b1e19f8ecd55ab0\", element=\"78c23277-2367-45b5-9ccf-e2b40501e2d1\")>, <selenium.webdriver.remote.webelement.WebElement (session=\"c6f5ec002dbff4b61b1e19f8ecd55ab0\", element=\"403eb12a-f688-49e2-b611-58b4498ebd2e\")>, <selenium.webdriver.remote.webelement.WebElement (session=\"c6f5ec002dbff4b61b1e19f8ecd55ab0\", element=\"f2b1cae7-8451-4472-94f3-2f8f1d84aad4\")>, <selenium.webdriver.remote.webelement.WebElement (session=\"c6f5ec002dbff4b61b1e19f8ecd55ab0\", element=\"ad88080c-74c1-4ff8-a925-c66847af72f2\")>, <selenium.webdriver.remote.webelement.WebElement (session=\"c6f5ec002dbff4b61b1e19f8ecd55ab0\", element=\"873185e7-1ac8-405e-9c6c-bf1c8d1e2723\")>, <selenium.webdriver.remote.webelement.WebElement (session=\"c6f5ec002dbff4b61b1e19f8ecd55ab0\", element=\"c1bcd556-7f99-4baa-9de2-bd3bc14fa1fe\")>, <selenium.webdriver.remote.webelement.WebElement (session=\"c6f5ec002dbff4b61b1e19f8ecd55ab0\", element=\"97572242-d7f1-4dcc-85c9-a875d6b9edc8\")>, <selenium.webdriver.remote.webelement.WebElement (session=\"c6f5ec002dbff4b61b1e19f8ecd55ab0\", element=\"f0a1dd81-e249-4dd9-b864-0feb1262260c\")>, <selenium.webdriver.remote.webelement.WebElement (session=\"c6f5ec002dbff4b61b1e19f8ecd55ab0\", element=\"5099f045-af4e-44f5-bbbc-9f585bfa0540\")>, <selenium.webdriver.remote.webelement.WebElement (session=\"c6f5ec002dbff4b61b1e19f8ecd55ab0\", element=\"3b0aa1d5-fb38-479e-a444-ba138c4bd70e\")>, <selenium.webdriver.remote.webelement.WebElement (session=\"c6f5ec002dbff4b61b1e19f8ecd55ab0\", element=\"fc0f836e-8ba6-4b78-8c1c-e83cab3d31f4\")>, <selenium.webdriver.remote.webelement.WebElement (session=\"c6f5ec002dbff4b61b1e19f8ecd55ab0\", element=\"097c154f-10b6-4291-af8c-689eca1105de\")>, <selenium.webdriver.remote.webelement.WebElement (session=\"c6f5ec002dbff4b61b1e19f8ecd55ab0\", element=\"44db9ac0-a271-4cb9-8573-0243562c1667\")>, <selenium.webdriver.remote.webelement.WebElement (session=\"c6f5ec002dbff4b61b1e19f8ecd55ab0\", element=\"546b3e5a-4a03-49f3-84cb-99339fc1709b\")>, <selenium.webdriver.remote.webelement.WebElement (session=\"c6f5ec002dbff4b61b1e19f8ecd55ab0\", element=\"5f12b772-83ba-4042-9cce-c21f08774eb6\")>, <selenium.webdriver.remote.webelement.WebElement (session=\"c6f5ec002dbff4b61b1e19f8ecd55ab0\", element=\"7f8f7b4f-4924-4dac-a02b-a34d0cc3d1a8\")>, <selenium.webdriver.remote.webelement.WebElement (session=\"c6f5ec002dbff4b61b1e19f8ecd55ab0\", element=\"912f36a5-76f5-4949-ae62-1be24dc2b409\")>, <selenium.webdriver.remote.webelement.WebElement (session=\"c6f5ec002dbff4b61b1e19f8ecd55ab0\", element=\"aab28eef-9629-421f-a291-38bb74e84121\")>, <selenium.webdriver.remote.webelement.WebElement (session=\"c6f5ec002dbff4b61b1e19f8ecd55ab0\", element=\"5666251b-41d8-4e07-a88d-bf86f251b764\")>, <selenium.webdriver.remote.webelement.WebElement (session=\"c6f5ec002dbff4b61b1e19f8ecd55ab0\", element=\"f5ebe37b-0848-434f-b850-b130435fcdca\")>, <selenium.webdriver.remote.webelement.WebElement (session=\"c6f5ec002dbff4b61b1e19f8ecd55ab0\", element=\"9a8ad9b7-4bb3-4243-8659-61ce95359e1c\")>, <selenium.webdriver.remote.webelement.WebElement (session=\"c6f5ec002dbff4b61b1e19f8ecd55ab0\", element=\"81b9ca7b-3237-4db6-b51b-f66601dbd728\")>, <selenium.webdriver.remote.webelement.WebElement (session=\"c6f5ec002dbff4b61b1e19f8ecd55ab0\", element=\"0822461b-0bae-4cca-81d2-a8a8b6bdd273\")>, <selenium.webdriver.remote.webelement.WebElement (session=\"c6f5ec002dbff4b61b1e19f8ecd55ab0\", element=\"e8aa586b-4d04-458a-868f-3dfd14830fc2\")>, <selenium.webdriver.remote.webelement.WebElement (session=\"c6f5ec002dbff4b61b1e19f8ecd55ab0\", element=\"890fdc70-7536-42a5-b619-4dc68752ba01\")>]\n"
     ]
    }
   ],
   "source": [
    "#Lets extract all the tags having brand names from page 1, and page 2.\n",
    "brand_7_1=driver_7.find_elements_by_xpath(\"//h3[@class='product-brand']\")\n",
    "brand_7_2=driver_7.find_elements_by_xpath(\"//h3[@class='product-brand']\")\n",
    "print(brand_7_1)\n",
    "print(brand_7_2)"
   ]
  },
  {
   "cell_type": "code",
   "execution_count": 101,
   "id": "b9e7cac1",
   "metadata": {
    "scrolled": true
   },
   "outputs": [
    {
     "data": {
      "text/plain": [
       "['ALDO',\n",
       " 'ALDO',\n",
       " 'Nike',\n",
       " 'ALDO',\n",
       " 'Skechers',\n",
       " 'Hush Puppies',\n",
       " 'Puma',\n",
       " 'ADIDAS',\n",
       " 'ASICS',\n",
       " 'Puma',\n",
       " 'Puma',\n",
       " 'Skechers',\n",
       " 'PUMA Motorsport',\n",
       " 'Hush Puppies',\n",
       " 'Puma',\n",
       " 'ADIDAS',\n",
       " 'Tommy Hilfiger',\n",
       " 'PUMA Motorsport',\n",
       " 'Hush Puppies',\n",
       " 'Puma',\n",
       " 'PUMA Motorsport',\n",
       " 'Bugatti',\n",
       " 'Bugatti',\n",
       " 'Hush Puppies',\n",
       " 'Clarks',\n",
       " 'Bugatti',\n",
       " 'Skechers',\n",
       " 'ADIDAS',\n",
       " 'Tommy Hilfiger',\n",
       " 'Bugatti',\n",
       " 'Tommy Hilfiger',\n",
       " 'Puma',\n",
       " 'Bugatti',\n",
       " 'Puma',\n",
       " 'Puma',\n",
       " 'FILA',\n",
       " 'Columbia',\n",
       " 'Puma',\n",
       " 'Puma',\n",
       " 'DEL MONDO',\n",
       " 'FILA',\n",
       " 'DAVINCHI',\n",
       " 'Bugatti',\n",
       " 'PERFLY By Decathlon',\n",
       " 'Bugatti',\n",
       " 'Hush Puppies',\n",
       " 'Saint G',\n",
       " 'ADIDAS Originals',\n",
       " 'ADIDAS',\n",
       " 'Puma',\n",
       " 'ALDO',\n",
       " 'ALDO',\n",
       " 'Nike',\n",
       " 'ALDO',\n",
       " 'Skechers',\n",
       " 'Hush Puppies',\n",
       " 'Puma',\n",
       " 'ADIDAS',\n",
       " 'ASICS',\n",
       " 'Puma',\n",
       " 'Puma',\n",
       " 'Skechers',\n",
       " 'PUMA Motorsport',\n",
       " 'Hush Puppies',\n",
       " 'Puma',\n",
       " 'ADIDAS',\n",
       " 'Tommy Hilfiger',\n",
       " 'PUMA Motorsport',\n",
       " 'Hush Puppies',\n",
       " 'Puma',\n",
       " 'PUMA Motorsport',\n",
       " 'Bugatti',\n",
       " 'Bugatti',\n",
       " 'Hush Puppies',\n",
       " 'Clarks',\n",
       " 'Bugatti',\n",
       " 'Skechers',\n",
       " 'ADIDAS',\n",
       " 'Tommy Hilfiger',\n",
       " 'Bugatti',\n",
       " 'Tommy Hilfiger',\n",
       " 'Puma',\n",
       " 'Bugatti',\n",
       " 'Puma',\n",
       " 'Puma',\n",
       " 'FILA',\n",
       " 'Columbia',\n",
       " 'Puma',\n",
       " 'Puma',\n",
       " 'DEL MONDO',\n",
       " 'FILA',\n",
       " 'DAVINCHI',\n",
       " 'Bugatti',\n",
       " 'PERFLY By Decathlon',\n",
       " 'Bugatti',\n",
       " 'Hush Puppies',\n",
       " 'Saint G',\n",
       " 'ADIDAS Originals',\n",
       " 'ADIDAS',\n",
       " 'Puma']"
      ]
     },
     "execution_count": 101,
     "metadata": {},
     "output_type": "execute_result"
    }
   ],
   "source": [
    "for i in (brand_7_1+brand_7_2):\n",
    "    brand_7=i.text\n",
    "    brand_names_7.append(brand_7)\n",
    "brand_names_7"
   ]
  },
  {
   "cell_type": "code",
   "execution_count": 102,
   "id": "aed641b5",
   "metadata": {},
   "outputs": [
    {
     "data": {
      "text/plain": [
       "100"
      ]
     },
     "execution_count": 102,
     "metadata": {},
     "output_type": "execute_result"
    }
   ],
   "source": [
    "len(brand_names_7)"
   ]
  },
  {
   "cell_type": "code",
   "execution_count": 103,
   "id": "07c34ed5",
   "metadata": {},
   "outputs": [
    {
     "name": "stdout",
     "output_type": "stream",
     "text": [
      "[<selenium.webdriver.remote.webelement.WebElement (session=\"c6f5ec002dbff4b61b1e19f8ecd55ab0\", element=\"0eed38d7-e7a4-4b47-8681-e65efa9225da\")>, <selenium.webdriver.remote.webelement.WebElement (session=\"c6f5ec002dbff4b61b1e19f8ecd55ab0\", element=\"4f28338a-3683-4f6d-9071-b2b16007b31f\")>, <selenium.webdriver.remote.webelement.WebElement (session=\"c6f5ec002dbff4b61b1e19f8ecd55ab0\", element=\"f2abe4ec-6bb5-414a-953a-c440fb1ed14a\")>, <selenium.webdriver.remote.webelement.WebElement (session=\"c6f5ec002dbff4b61b1e19f8ecd55ab0\", element=\"b38e9dad-9c71-45bf-b9ef-b0e8e9fac8e6\")>, <selenium.webdriver.remote.webelement.WebElement (session=\"c6f5ec002dbff4b61b1e19f8ecd55ab0\", element=\"d3a63c7b-7a28-4e26-ac71-e49c6dfb09cd\")>, <selenium.webdriver.remote.webelement.WebElement (session=\"c6f5ec002dbff4b61b1e19f8ecd55ab0\", element=\"d4c00903-cc2a-4c0f-80e8-e7424787e616\")>, <selenium.webdriver.remote.webelement.WebElement (session=\"c6f5ec002dbff4b61b1e19f8ecd55ab0\", element=\"44172478-9077-4e10-97a5-9fc7aa53efde\")>, <selenium.webdriver.remote.webelement.WebElement (session=\"c6f5ec002dbff4b61b1e19f8ecd55ab0\", element=\"46414908-bdde-42e1-8ada-d25bf0208aa5\")>, <selenium.webdriver.remote.webelement.WebElement (session=\"c6f5ec002dbff4b61b1e19f8ecd55ab0\", element=\"ff724ab0-5601-422f-aa60-d0140fa87402\")>, <selenium.webdriver.remote.webelement.WebElement (session=\"c6f5ec002dbff4b61b1e19f8ecd55ab0\", element=\"d247890b-4e06-4bef-a7c2-af4c81a34027\")>, <selenium.webdriver.remote.webelement.WebElement (session=\"c6f5ec002dbff4b61b1e19f8ecd55ab0\", element=\"7e96cf96-b786-4cd7-87da-b10cf8166fbf\")>, <selenium.webdriver.remote.webelement.WebElement (session=\"c6f5ec002dbff4b61b1e19f8ecd55ab0\", element=\"fe406845-2048-4ef9-9a72-19ee0a6dcea4\")>, <selenium.webdriver.remote.webelement.WebElement (session=\"c6f5ec002dbff4b61b1e19f8ecd55ab0\", element=\"f15d9e7e-a1bf-41a1-9ab7-fac04dc3c02d\")>, <selenium.webdriver.remote.webelement.WebElement (session=\"c6f5ec002dbff4b61b1e19f8ecd55ab0\", element=\"330d98d5-5a29-4c58-a025-9c95e42751c8\")>, <selenium.webdriver.remote.webelement.WebElement (session=\"c6f5ec002dbff4b61b1e19f8ecd55ab0\", element=\"bf3a7a85-585b-4e9d-a85c-82bc31862e53\")>, <selenium.webdriver.remote.webelement.WebElement (session=\"c6f5ec002dbff4b61b1e19f8ecd55ab0\", element=\"886d1d8f-6aac-4dc2-838d-fe5893b77fbc\")>, <selenium.webdriver.remote.webelement.WebElement (session=\"c6f5ec002dbff4b61b1e19f8ecd55ab0\", element=\"fee0d7f5-b766-4554-b425-ea79cf40e9a0\")>, <selenium.webdriver.remote.webelement.WebElement (session=\"c6f5ec002dbff4b61b1e19f8ecd55ab0\", element=\"aade60c7-4f6c-4f52-beb8-fd91cc33f257\")>, <selenium.webdriver.remote.webelement.WebElement (session=\"c6f5ec002dbff4b61b1e19f8ecd55ab0\", element=\"cc41b592-64be-4d37-8d2e-dd00743c4f0c\")>, <selenium.webdriver.remote.webelement.WebElement (session=\"c6f5ec002dbff4b61b1e19f8ecd55ab0\", element=\"13a83736-8686-467d-8e05-80b1e4bc21ba\")>, <selenium.webdriver.remote.webelement.WebElement (session=\"c6f5ec002dbff4b61b1e19f8ecd55ab0\", element=\"3e0d6a03-8cf5-4a79-b233-1fdb0eb7266d\")>, <selenium.webdriver.remote.webelement.WebElement (session=\"c6f5ec002dbff4b61b1e19f8ecd55ab0\", element=\"0c3fc30d-d54e-4845-bc4c-fa71d8410925\")>, <selenium.webdriver.remote.webelement.WebElement (session=\"c6f5ec002dbff4b61b1e19f8ecd55ab0\", element=\"0d29984e-066b-4dc2-b68a-014ed26e289b\")>, <selenium.webdriver.remote.webelement.WebElement (session=\"c6f5ec002dbff4b61b1e19f8ecd55ab0\", element=\"9c4d5851-dd93-467b-b98b-f931a697a227\")>, <selenium.webdriver.remote.webelement.WebElement (session=\"c6f5ec002dbff4b61b1e19f8ecd55ab0\", element=\"87f57f66-8abd-426a-af11-a65798e52a7a\")>, <selenium.webdriver.remote.webelement.WebElement (session=\"c6f5ec002dbff4b61b1e19f8ecd55ab0\", element=\"0c6151d7-a798-4222-859f-7a2615c44291\")>, <selenium.webdriver.remote.webelement.WebElement (session=\"c6f5ec002dbff4b61b1e19f8ecd55ab0\", element=\"eecc11cd-f3a2-4853-b98e-9022aea9b3d8\")>, <selenium.webdriver.remote.webelement.WebElement (session=\"c6f5ec002dbff4b61b1e19f8ecd55ab0\", element=\"e71f0647-fd68-4099-8c03-714ab3a7fef9\")>, <selenium.webdriver.remote.webelement.WebElement (session=\"c6f5ec002dbff4b61b1e19f8ecd55ab0\", element=\"789d69c1-11fe-49dd-966d-0bf0783b79b8\")>, <selenium.webdriver.remote.webelement.WebElement (session=\"c6f5ec002dbff4b61b1e19f8ecd55ab0\", element=\"013a0a87-a916-4b3b-84ff-a3252027c08a\")>, <selenium.webdriver.remote.webelement.WebElement (session=\"c6f5ec002dbff4b61b1e19f8ecd55ab0\", element=\"d9c5cb3c-fcf9-4ddf-89e9-9f697f176585\")>, <selenium.webdriver.remote.webelement.WebElement (session=\"c6f5ec002dbff4b61b1e19f8ecd55ab0\", element=\"1e342b79-ec8e-452f-a177-897ccfd9edd0\")>, <selenium.webdriver.remote.webelement.WebElement (session=\"c6f5ec002dbff4b61b1e19f8ecd55ab0\", element=\"028bbf01-d823-4a0a-aed8-7c151e43e640\")>, <selenium.webdriver.remote.webelement.WebElement (session=\"c6f5ec002dbff4b61b1e19f8ecd55ab0\", element=\"8f606289-2ccc-4cd2-a092-a743f153e5e8\")>, <selenium.webdriver.remote.webelement.WebElement (session=\"c6f5ec002dbff4b61b1e19f8ecd55ab0\", element=\"87611c01-f50f-4f18-b81f-c5c188d21abc\")>, <selenium.webdriver.remote.webelement.WebElement (session=\"c6f5ec002dbff4b61b1e19f8ecd55ab0\", element=\"929b4c70-1acc-42ac-875d-6d2b22b516eb\")>, <selenium.webdriver.remote.webelement.WebElement (session=\"c6f5ec002dbff4b61b1e19f8ecd55ab0\", element=\"2e0b126b-9528-4c91-a48c-6c08fc45d9aa\")>, <selenium.webdriver.remote.webelement.WebElement (session=\"c6f5ec002dbff4b61b1e19f8ecd55ab0\", element=\"e257d81a-3f84-4e53-997d-b2e8c3b4d83a\")>, <selenium.webdriver.remote.webelement.WebElement (session=\"c6f5ec002dbff4b61b1e19f8ecd55ab0\", element=\"9bc338a7-355e-4bf7-82cc-96e6fbbd9af4\")>, <selenium.webdriver.remote.webelement.WebElement (session=\"c6f5ec002dbff4b61b1e19f8ecd55ab0\", element=\"b1e9a459-da7f-48f4-a3a8-a3d479ffabdb\")>, <selenium.webdriver.remote.webelement.WebElement (session=\"c6f5ec002dbff4b61b1e19f8ecd55ab0\", element=\"818a62e5-f79e-4c61-81e3-b5ffa41a1d04\")>, <selenium.webdriver.remote.webelement.WebElement (session=\"c6f5ec002dbff4b61b1e19f8ecd55ab0\", element=\"b8802ae7-a9ef-4d75-a64b-88d58c6ebf6c\")>, <selenium.webdriver.remote.webelement.WebElement (session=\"c6f5ec002dbff4b61b1e19f8ecd55ab0\", element=\"f7da703e-e42b-4122-9b08-0a3061e47d61\")>, <selenium.webdriver.remote.webelement.WebElement (session=\"c6f5ec002dbff4b61b1e19f8ecd55ab0\", element=\"e335fdfe-4b38-49f4-a734-f6779b962c39\")>, <selenium.webdriver.remote.webelement.WebElement (session=\"c6f5ec002dbff4b61b1e19f8ecd55ab0\", element=\"276fcbe2-8100-4114-b751-1144343eaebb\")>, <selenium.webdriver.remote.webelement.WebElement (session=\"c6f5ec002dbff4b61b1e19f8ecd55ab0\", element=\"cb912e20-4019-4eda-9772-c5f91089b21e\")>, <selenium.webdriver.remote.webelement.WebElement (session=\"c6f5ec002dbff4b61b1e19f8ecd55ab0\", element=\"e2683e1b-a27d-4f65-8195-d37434bbed77\")>, <selenium.webdriver.remote.webelement.WebElement (session=\"c6f5ec002dbff4b61b1e19f8ecd55ab0\", element=\"4fc2fd17-b301-45b3-8c92-1a7a1d573d7f\")>, <selenium.webdriver.remote.webelement.WebElement (session=\"c6f5ec002dbff4b61b1e19f8ecd55ab0\", element=\"45679ccb-2bbe-4057-ad8b-0f0cbfca8633\")>, <selenium.webdriver.remote.webelement.WebElement (session=\"c6f5ec002dbff4b61b1e19f8ecd55ab0\", element=\"4e238121-21fc-4f23-901e-f165304f5e22\")>]\n",
      "[<selenium.webdriver.remote.webelement.WebElement (session=\"c6f5ec002dbff4b61b1e19f8ecd55ab0\", element=\"0eed38d7-e7a4-4b47-8681-e65efa9225da\")>, <selenium.webdriver.remote.webelement.WebElement (session=\"c6f5ec002dbff4b61b1e19f8ecd55ab0\", element=\"4f28338a-3683-4f6d-9071-b2b16007b31f\")>, <selenium.webdriver.remote.webelement.WebElement (session=\"c6f5ec002dbff4b61b1e19f8ecd55ab0\", element=\"f2abe4ec-6bb5-414a-953a-c440fb1ed14a\")>, <selenium.webdriver.remote.webelement.WebElement (session=\"c6f5ec002dbff4b61b1e19f8ecd55ab0\", element=\"b38e9dad-9c71-45bf-b9ef-b0e8e9fac8e6\")>, <selenium.webdriver.remote.webelement.WebElement (session=\"c6f5ec002dbff4b61b1e19f8ecd55ab0\", element=\"d3a63c7b-7a28-4e26-ac71-e49c6dfb09cd\")>, <selenium.webdriver.remote.webelement.WebElement (session=\"c6f5ec002dbff4b61b1e19f8ecd55ab0\", element=\"d4c00903-cc2a-4c0f-80e8-e7424787e616\")>, <selenium.webdriver.remote.webelement.WebElement (session=\"c6f5ec002dbff4b61b1e19f8ecd55ab0\", element=\"44172478-9077-4e10-97a5-9fc7aa53efde\")>, <selenium.webdriver.remote.webelement.WebElement (session=\"c6f5ec002dbff4b61b1e19f8ecd55ab0\", element=\"46414908-bdde-42e1-8ada-d25bf0208aa5\")>, <selenium.webdriver.remote.webelement.WebElement (session=\"c6f5ec002dbff4b61b1e19f8ecd55ab0\", element=\"ff724ab0-5601-422f-aa60-d0140fa87402\")>, <selenium.webdriver.remote.webelement.WebElement (session=\"c6f5ec002dbff4b61b1e19f8ecd55ab0\", element=\"d247890b-4e06-4bef-a7c2-af4c81a34027\")>, <selenium.webdriver.remote.webelement.WebElement (session=\"c6f5ec002dbff4b61b1e19f8ecd55ab0\", element=\"7e96cf96-b786-4cd7-87da-b10cf8166fbf\")>, <selenium.webdriver.remote.webelement.WebElement (session=\"c6f5ec002dbff4b61b1e19f8ecd55ab0\", element=\"fe406845-2048-4ef9-9a72-19ee0a6dcea4\")>, <selenium.webdriver.remote.webelement.WebElement (session=\"c6f5ec002dbff4b61b1e19f8ecd55ab0\", element=\"f15d9e7e-a1bf-41a1-9ab7-fac04dc3c02d\")>, <selenium.webdriver.remote.webelement.WebElement (session=\"c6f5ec002dbff4b61b1e19f8ecd55ab0\", element=\"330d98d5-5a29-4c58-a025-9c95e42751c8\")>, <selenium.webdriver.remote.webelement.WebElement (session=\"c6f5ec002dbff4b61b1e19f8ecd55ab0\", element=\"bf3a7a85-585b-4e9d-a85c-82bc31862e53\")>, <selenium.webdriver.remote.webelement.WebElement (session=\"c6f5ec002dbff4b61b1e19f8ecd55ab0\", element=\"886d1d8f-6aac-4dc2-838d-fe5893b77fbc\")>, <selenium.webdriver.remote.webelement.WebElement (session=\"c6f5ec002dbff4b61b1e19f8ecd55ab0\", element=\"fee0d7f5-b766-4554-b425-ea79cf40e9a0\")>, <selenium.webdriver.remote.webelement.WebElement (session=\"c6f5ec002dbff4b61b1e19f8ecd55ab0\", element=\"aade60c7-4f6c-4f52-beb8-fd91cc33f257\")>, <selenium.webdriver.remote.webelement.WebElement (session=\"c6f5ec002dbff4b61b1e19f8ecd55ab0\", element=\"cc41b592-64be-4d37-8d2e-dd00743c4f0c\")>, <selenium.webdriver.remote.webelement.WebElement (session=\"c6f5ec002dbff4b61b1e19f8ecd55ab0\", element=\"13a83736-8686-467d-8e05-80b1e4bc21ba\")>, <selenium.webdriver.remote.webelement.WebElement (session=\"c6f5ec002dbff4b61b1e19f8ecd55ab0\", element=\"3e0d6a03-8cf5-4a79-b233-1fdb0eb7266d\")>, <selenium.webdriver.remote.webelement.WebElement (session=\"c6f5ec002dbff4b61b1e19f8ecd55ab0\", element=\"0c3fc30d-d54e-4845-bc4c-fa71d8410925\")>, <selenium.webdriver.remote.webelement.WebElement (session=\"c6f5ec002dbff4b61b1e19f8ecd55ab0\", element=\"0d29984e-066b-4dc2-b68a-014ed26e289b\")>, <selenium.webdriver.remote.webelement.WebElement (session=\"c6f5ec002dbff4b61b1e19f8ecd55ab0\", element=\"9c4d5851-dd93-467b-b98b-f931a697a227\")>, <selenium.webdriver.remote.webelement.WebElement (session=\"c6f5ec002dbff4b61b1e19f8ecd55ab0\", element=\"87f57f66-8abd-426a-af11-a65798e52a7a\")>, <selenium.webdriver.remote.webelement.WebElement (session=\"c6f5ec002dbff4b61b1e19f8ecd55ab0\", element=\"0c6151d7-a798-4222-859f-7a2615c44291\")>, <selenium.webdriver.remote.webelement.WebElement (session=\"c6f5ec002dbff4b61b1e19f8ecd55ab0\", element=\"eecc11cd-f3a2-4853-b98e-9022aea9b3d8\")>, <selenium.webdriver.remote.webelement.WebElement (session=\"c6f5ec002dbff4b61b1e19f8ecd55ab0\", element=\"e71f0647-fd68-4099-8c03-714ab3a7fef9\")>, <selenium.webdriver.remote.webelement.WebElement (session=\"c6f5ec002dbff4b61b1e19f8ecd55ab0\", element=\"789d69c1-11fe-49dd-966d-0bf0783b79b8\")>, <selenium.webdriver.remote.webelement.WebElement (session=\"c6f5ec002dbff4b61b1e19f8ecd55ab0\", element=\"013a0a87-a916-4b3b-84ff-a3252027c08a\")>, <selenium.webdriver.remote.webelement.WebElement (session=\"c6f5ec002dbff4b61b1e19f8ecd55ab0\", element=\"d9c5cb3c-fcf9-4ddf-89e9-9f697f176585\")>, <selenium.webdriver.remote.webelement.WebElement (session=\"c6f5ec002dbff4b61b1e19f8ecd55ab0\", element=\"1e342b79-ec8e-452f-a177-897ccfd9edd0\")>, <selenium.webdriver.remote.webelement.WebElement (session=\"c6f5ec002dbff4b61b1e19f8ecd55ab0\", element=\"028bbf01-d823-4a0a-aed8-7c151e43e640\")>, <selenium.webdriver.remote.webelement.WebElement (session=\"c6f5ec002dbff4b61b1e19f8ecd55ab0\", element=\"8f606289-2ccc-4cd2-a092-a743f153e5e8\")>, <selenium.webdriver.remote.webelement.WebElement (session=\"c6f5ec002dbff4b61b1e19f8ecd55ab0\", element=\"87611c01-f50f-4f18-b81f-c5c188d21abc\")>, <selenium.webdriver.remote.webelement.WebElement (session=\"c6f5ec002dbff4b61b1e19f8ecd55ab0\", element=\"929b4c70-1acc-42ac-875d-6d2b22b516eb\")>, <selenium.webdriver.remote.webelement.WebElement (session=\"c6f5ec002dbff4b61b1e19f8ecd55ab0\", element=\"2e0b126b-9528-4c91-a48c-6c08fc45d9aa\")>, <selenium.webdriver.remote.webelement.WebElement (session=\"c6f5ec002dbff4b61b1e19f8ecd55ab0\", element=\"e257d81a-3f84-4e53-997d-b2e8c3b4d83a\")>, <selenium.webdriver.remote.webelement.WebElement (session=\"c6f5ec002dbff4b61b1e19f8ecd55ab0\", element=\"9bc338a7-355e-4bf7-82cc-96e6fbbd9af4\")>, <selenium.webdriver.remote.webelement.WebElement (session=\"c6f5ec002dbff4b61b1e19f8ecd55ab0\", element=\"b1e9a459-da7f-48f4-a3a8-a3d479ffabdb\")>, <selenium.webdriver.remote.webelement.WebElement (session=\"c6f5ec002dbff4b61b1e19f8ecd55ab0\", element=\"818a62e5-f79e-4c61-81e3-b5ffa41a1d04\")>, <selenium.webdriver.remote.webelement.WebElement (session=\"c6f5ec002dbff4b61b1e19f8ecd55ab0\", element=\"b8802ae7-a9ef-4d75-a64b-88d58c6ebf6c\")>, <selenium.webdriver.remote.webelement.WebElement (session=\"c6f5ec002dbff4b61b1e19f8ecd55ab0\", element=\"f7da703e-e42b-4122-9b08-0a3061e47d61\")>, <selenium.webdriver.remote.webelement.WebElement (session=\"c6f5ec002dbff4b61b1e19f8ecd55ab0\", element=\"e335fdfe-4b38-49f4-a734-f6779b962c39\")>, <selenium.webdriver.remote.webelement.WebElement (session=\"c6f5ec002dbff4b61b1e19f8ecd55ab0\", element=\"276fcbe2-8100-4114-b751-1144343eaebb\")>, <selenium.webdriver.remote.webelement.WebElement (session=\"c6f5ec002dbff4b61b1e19f8ecd55ab0\", element=\"cb912e20-4019-4eda-9772-c5f91089b21e\")>, <selenium.webdriver.remote.webelement.WebElement (session=\"c6f5ec002dbff4b61b1e19f8ecd55ab0\", element=\"e2683e1b-a27d-4f65-8195-d37434bbed77\")>, <selenium.webdriver.remote.webelement.WebElement (session=\"c6f5ec002dbff4b61b1e19f8ecd55ab0\", element=\"4fc2fd17-b301-45b3-8c92-1a7a1d573d7f\")>, <selenium.webdriver.remote.webelement.WebElement (session=\"c6f5ec002dbff4b61b1e19f8ecd55ab0\", element=\"45679ccb-2bbe-4057-ad8b-0f0cbfca8633\")>, <selenium.webdriver.remote.webelement.WebElement (session=\"c6f5ec002dbff4b61b1e19f8ecd55ab0\", element=\"4e238121-21fc-4f23-901e-f165304f5e22\")>]\n"
     ]
    }
   ],
   "source": [
    "#Lets extract all the tags having product description from page 1, and page 2.\n",
    "product_7_1=driver_7.find_elements_by_xpath(\"//h4[@class='product-product']\")\n",
    "product_7_2=driver_7.find_elements_by_xpath(\"//h4[@class='product-product']\")\n",
    "print(product_7_1)\n",
    "print(product_7_2)"
   ]
  },
  {
   "cell_type": "code",
   "execution_count": 104,
   "id": "77bdd3ae",
   "metadata": {
    "scrolled": true
   },
   "outputs": [
    {
     "data": {
      "text/plain": [
       "['Men Leather Loafers',\n",
       " 'Men Leather Driving Shoes',\n",
       " 'Men Zoom Fly 4 Running Shoes',\n",
       " 'Men Woven Design Sneakers',\n",
       " 'Men Max Cushioning Running',\n",
       " 'Men Solid Leather Formal Slip-Ons',\n",
       " 'Men Jamming 2.0 Running Shoes',\n",
       " 'Men Dropset Training Shoes',\n",
       " 'Men Running Shoes',\n",
       " 'Men Colourblocked RS-Z Core',\n",
       " 'Electrify Nitro Running Shoes',\n",
       " 'Men Walking Shoes',\n",
       " 'Unisex Ferrari IONSpeed',\n",
       " 'Men Solid Leather Formal Derbys',\n",
       " 'Eternity Nitro Running Shoes',\n",
       " 'Men Sl20.3 Running Shoes',\n",
       " 'Men Textured Loafers',\n",
       " 'Unisex Speed Fusion Sneakers',\n",
       " 'Men Formal Derbys',\n",
       " 'Men D Nitro WTR Running Shoes',\n",
       " 'Unisex Ferrari Drift Cat Delta',\n",
       " 'Men Solid Sneakers',\n",
       " 'Men Leather Driving Shoes',\n",
       " 'Men Solid Leather Formal Slip-Ons',\n",
       " 'Men Leather Derbys',\n",
       " 'Men Black Formal Derby Shoes',\n",
       " 'Men Sky Vault Walking Shoes',\n",
       " 'Men Solar Glide 5 Running Shoe',\n",
       " 'Men Flexi Sneakers',\n",
       " 'Men Solid Formal Oxfords',\n",
       " 'Men Leather Sneakers',\n",
       " 'Women Velocity NITRO Runners',\n",
       " 'Men Solid Leather Formal Derbys',\n",
       " 'Women Kosmo Rider DC5 Sneakers',\n",
       " 'Men Training or Gym Shoes',\n",
       " 'Men Printed PU Sneakers',\n",
       " 'Men FACET OUTDRY Trekking Shoe',\n",
       " 'Men Deviate Nitro Shoes',\n",
       " 'Women LQDC OP Training Shoes',\n",
       " 'Men Leather Sneakers',\n",
       " 'Men Printed Trekking Shoes',\n",
       " 'Men Solid Leather Formal Loafers',\n",
       " 'Men Leather Monks',\n",
       " 'Men Textile Badminton Shoes',\n",
       " 'Men Walking Shoes',\n",
       " 'Men Solid Formal Slip-Ons',\n",
       " 'Leather Block Sandals',\n",
       " 'Women New Her Court Sneakers',\n",
       " 'Women Dropset Training Shoes',\n",
       " 'Women Eternity NITRO Shoes',\n",
       " 'Men Leather Loafers',\n",
       " 'Men Leather Driving Shoes',\n",
       " 'Men Zoom Fly 4 Running Shoes',\n",
       " 'Men Woven Design Sneakers',\n",
       " 'Men Max Cushioning Running',\n",
       " 'Men Solid Leather Formal Slip-Ons',\n",
       " 'Men Jamming 2.0 Running Shoes',\n",
       " 'Men Dropset Training Shoes',\n",
       " 'Men Running Shoes',\n",
       " 'Men Colourblocked RS-Z Core',\n",
       " 'Electrify Nitro Running Shoes',\n",
       " 'Men Walking Shoes',\n",
       " 'Unisex Ferrari IONSpeed',\n",
       " 'Men Solid Leather Formal Derbys',\n",
       " 'Eternity Nitro Running Shoes',\n",
       " 'Men Sl20.3 Running Shoes',\n",
       " 'Men Textured Loafers',\n",
       " 'Unisex Speed Fusion Sneakers',\n",
       " 'Men Formal Derbys',\n",
       " 'Men D Nitro WTR Running Shoes',\n",
       " 'Unisex Ferrari Drift Cat Delta',\n",
       " 'Men Solid Sneakers',\n",
       " 'Men Leather Driving Shoes',\n",
       " 'Men Solid Leather Formal Slip-Ons',\n",
       " 'Men Leather Derbys',\n",
       " 'Men Black Formal Derby Shoes',\n",
       " 'Men Sky Vault Walking Shoes',\n",
       " 'Men Solar Glide 5 Running Shoe',\n",
       " 'Men Flexi Sneakers',\n",
       " 'Men Solid Formal Oxfords',\n",
       " 'Men Leather Sneakers',\n",
       " 'Women Velocity NITRO Runners',\n",
       " 'Men Solid Leather Formal Derbys',\n",
       " 'Women Kosmo Rider DC5 Sneakers',\n",
       " 'Men Training or Gym Shoes',\n",
       " 'Men Printed PU Sneakers',\n",
       " 'Men FACET OUTDRY Trekking Shoe',\n",
       " 'Men Deviate Nitro Shoes',\n",
       " 'Women LQDC OP Training Shoes',\n",
       " 'Men Leather Sneakers',\n",
       " 'Men Printed Trekking Shoes',\n",
       " 'Men Solid Leather Formal Loafers',\n",
       " 'Men Leather Monks',\n",
       " 'Men Textile Badminton Shoes',\n",
       " 'Men Walking Shoes',\n",
       " 'Men Solid Formal Slip-Ons',\n",
       " 'Leather Block Sandals',\n",
       " 'Women New Her Court Sneakers',\n",
       " 'Women Dropset Training Shoes',\n",
       " 'Women Eternity NITRO Shoes']"
      ]
     },
     "execution_count": 104,
     "metadata": {},
     "output_type": "execute_result"
    }
   ],
   "source": [
    "for i in (product_7_1+product_7_2):\n",
    "    product_7=i.text\n",
    "    product_description_7.append(product_7)\n",
    "product_description_7"
   ]
  },
  {
   "cell_type": "code",
   "execution_count": 105,
   "id": "a6eafcf0",
   "metadata": {},
   "outputs": [
    {
     "data": {
      "text/plain": [
       "100"
      ]
     },
     "execution_count": 105,
     "metadata": {},
     "output_type": "execute_result"
    }
   ],
   "source": [
    "len(product_description_7)"
   ]
  },
  {
   "cell_type": "code",
   "execution_count": 106,
   "id": "2ac51620",
   "metadata": {
    "scrolled": true
   },
   "outputs": [
    {
     "name": "stdout",
     "output_type": "stream",
     "text": [
      "[<selenium.webdriver.remote.webelement.WebElement (session=\"c6f5ec002dbff4b61b1e19f8ecd55ab0\", element=\"cd9c3066-f6e1-4ce2-9cad-ff6d4c84ae65\")>, <selenium.webdriver.remote.webelement.WebElement (session=\"c6f5ec002dbff4b61b1e19f8ecd55ab0\", element=\"b4d91c9e-8eea-43e7-b923-d3dc548a2b58\")>, <selenium.webdriver.remote.webelement.WebElement (session=\"c6f5ec002dbff4b61b1e19f8ecd55ab0\", element=\"39d20dc1-3537-4156-9927-e201945f3461\")>, <selenium.webdriver.remote.webelement.WebElement (session=\"c6f5ec002dbff4b61b1e19f8ecd55ab0\", element=\"514fd32a-5456-4d91-bb5b-d8aef7c759eb\")>, <selenium.webdriver.remote.webelement.WebElement (session=\"c6f5ec002dbff4b61b1e19f8ecd55ab0\", element=\"def2226a-7271-42b6-93f5-ecadf77bc889\")>, <selenium.webdriver.remote.webelement.WebElement (session=\"c6f5ec002dbff4b61b1e19f8ecd55ab0\", element=\"dec5be15-918a-4f71-839f-8a35abf5eb11\")>, <selenium.webdriver.remote.webelement.WebElement (session=\"c6f5ec002dbff4b61b1e19f8ecd55ab0\", element=\"5934758f-5166-4d79-a08c-935d1f589eef\")>, <selenium.webdriver.remote.webelement.WebElement (session=\"c6f5ec002dbff4b61b1e19f8ecd55ab0\", element=\"fbcb27ab-dade-4f33-939a-8591944c4331\")>, <selenium.webdriver.remote.webelement.WebElement (session=\"c6f5ec002dbff4b61b1e19f8ecd55ab0\", element=\"e6b42613-596a-41ca-8120-f7578d21efff\")>, <selenium.webdriver.remote.webelement.WebElement (session=\"c6f5ec002dbff4b61b1e19f8ecd55ab0\", element=\"7d68209d-9f8c-4da3-bfd2-6fbff1b54983\")>, <selenium.webdriver.remote.webelement.WebElement (session=\"c6f5ec002dbff4b61b1e19f8ecd55ab0\", element=\"b53b216d-766b-424f-8b3f-d2370b6b26e8\")>, <selenium.webdriver.remote.webelement.WebElement (session=\"c6f5ec002dbff4b61b1e19f8ecd55ab0\", element=\"529e87cf-1982-4ef5-9659-5b40a32a3c2d\")>, <selenium.webdriver.remote.webelement.WebElement (session=\"c6f5ec002dbff4b61b1e19f8ecd55ab0\", element=\"21eb62f3-4548-4dc5-ac74-f1b3a71fe7c6\")>, <selenium.webdriver.remote.webelement.WebElement (session=\"c6f5ec002dbff4b61b1e19f8ecd55ab0\", element=\"b1db19e3-a7b5-411e-a339-e20af3b1f4e8\")>, <selenium.webdriver.remote.webelement.WebElement (session=\"c6f5ec002dbff4b61b1e19f8ecd55ab0\", element=\"c9a55d9a-fea8-46d8-8d60-d9e9dc768a6e\")>, <selenium.webdriver.remote.webelement.WebElement (session=\"c6f5ec002dbff4b61b1e19f8ecd55ab0\", element=\"90e8560b-69ff-4a53-a679-5fd0af8fb4b1\")>, <selenium.webdriver.remote.webelement.WebElement (session=\"c6f5ec002dbff4b61b1e19f8ecd55ab0\", element=\"c876a653-de4b-4237-89da-389211321cfa\")>, <selenium.webdriver.remote.webelement.WebElement (session=\"c6f5ec002dbff4b61b1e19f8ecd55ab0\", element=\"f98d9f86-1e2d-4155-b63d-44f4b62b4202\")>, <selenium.webdriver.remote.webelement.WebElement (session=\"c6f5ec002dbff4b61b1e19f8ecd55ab0\", element=\"85b052fc-b40a-4785-b847-7f1bee8744c4\")>, <selenium.webdriver.remote.webelement.WebElement (session=\"c6f5ec002dbff4b61b1e19f8ecd55ab0\", element=\"1d150f1c-580a-487f-8ad5-e82cbadab563\")>, <selenium.webdriver.remote.webelement.WebElement (session=\"c6f5ec002dbff4b61b1e19f8ecd55ab0\", element=\"e2c8d714-6c70-48e1-86c0-0c8c0329520d\")>, <selenium.webdriver.remote.webelement.WebElement (session=\"c6f5ec002dbff4b61b1e19f8ecd55ab0\", element=\"a5352c50-799b-4b41-97d3-e88467efbed3\")>, <selenium.webdriver.remote.webelement.WebElement (session=\"c6f5ec002dbff4b61b1e19f8ecd55ab0\", element=\"c89b4227-11d2-4167-86a4-232c2bf8ee78\")>, <selenium.webdriver.remote.webelement.WebElement (session=\"c6f5ec002dbff4b61b1e19f8ecd55ab0\", element=\"8e4c58bd-6612-40ed-825a-ad6e6b5b0e67\")>, <selenium.webdriver.remote.webelement.WebElement (session=\"c6f5ec002dbff4b61b1e19f8ecd55ab0\", element=\"b53c74dc-c882-449f-953e-6512b67ece14\")>]\n",
      "[<selenium.webdriver.remote.webelement.WebElement (session=\"c6f5ec002dbff4b61b1e19f8ecd55ab0\", element=\"cd9c3066-f6e1-4ce2-9cad-ff6d4c84ae65\")>, <selenium.webdriver.remote.webelement.WebElement (session=\"c6f5ec002dbff4b61b1e19f8ecd55ab0\", element=\"b4d91c9e-8eea-43e7-b923-d3dc548a2b58\")>, <selenium.webdriver.remote.webelement.WebElement (session=\"c6f5ec002dbff4b61b1e19f8ecd55ab0\", element=\"39d20dc1-3537-4156-9927-e201945f3461\")>, <selenium.webdriver.remote.webelement.WebElement (session=\"c6f5ec002dbff4b61b1e19f8ecd55ab0\", element=\"514fd32a-5456-4d91-bb5b-d8aef7c759eb\")>, <selenium.webdriver.remote.webelement.WebElement (session=\"c6f5ec002dbff4b61b1e19f8ecd55ab0\", element=\"def2226a-7271-42b6-93f5-ecadf77bc889\")>, <selenium.webdriver.remote.webelement.WebElement (session=\"c6f5ec002dbff4b61b1e19f8ecd55ab0\", element=\"dec5be15-918a-4f71-839f-8a35abf5eb11\")>, <selenium.webdriver.remote.webelement.WebElement (session=\"c6f5ec002dbff4b61b1e19f8ecd55ab0\", element=\"5934758f-5166-4d79-a08c-935d1f589eef\")>, <selenium.webdriver.remote.webelement.WebElement (session=\"c6f5ec002dbff4b61b1e19f8ecd55ab0\", element=\"fbcb27ab-dade-4f33-939a-8591944c4331\")>, <selenium.webdriver.remote.webelement.WebElement (session=\"c6f5ec002dbff4b61b1e19f8ecd55ab0\", element=\"e6b42613-596a-41ca-8120-f7578d21efff\")>, <selenium.webdriver.remote.webelement.WebElement (session=\"c6f5ec002dbff4b61b1e19f8ecd55ab0\", element=\"7d68209d-9f8c-4da3-bfd2-6fbff1b54983\")>, <selenium.webdriver.remote.webelement.WebElement (session=\"c6f5ec002dbff4b61b1e19f8ecd55ab0\", element=\"b53b216d-766b-424f-8b3f-d2370b6b26e8\")>, <selenium.webdriver.remote.webelement.WebElement (session=\"c6f5ec002dbff4b61b1e19f8ecd55ab0\", element=\"529e87cf-1982-4ef5-9659-5b40a32a3c2d\")>, <selenium.webdriver.remote.webelement.WebElement (session=\"c6f5ec002dbff4b61b1e19f8ecd55ab0\", element=\"21eb62f3-4548-4dc5-ac74-f1b3a71fe7c6\")>, <selenium.webdriver.remote.webelement.WebElement (session=\"c6f5ec002dbff4b61b1e19f8ecd55ab0\", element=\"b1db19e3-a7b5-411e-a339-e20af3b1f4e8\")>, <selenium.webdriver.remote.webelement.WebElement (session=\"c6f5ec002dbff4b61b1e19f8ecd55ab0\", element=\"c9a55d9a-fea8-46d8-8d60-d9e9dc768a6e\")>, <selenium.webdriver.remote.webelement.WebElement (session=\"c6f5ec002dbff4b61b1e19f8ecd55ab0\", element=\"90e8560b-69ff-4a53-a679-5fd0af8fb4b1\")>, <selenium.webdriver.remote.webelement.WebElement (session=\"c6f5ec002dbff4b61b1e19f8ecd55ab0\", element=\"c876a653-de4b-4237-89da-389211321cfa\")>, <selenium.webdriver.remote.webelement.WebElement (session=\"c6f5ec002dbff4b61b1e19f8ecd55ab0\", element=\"f98d9f86-1e2d-4155-b63d-44f4b62b4202\")>, <selenium.webdriver.remote.webelement.WebElement (session=\"c6f5ec002dbff4b61b1e19f8ecd55ab0\", element=\"85b052fc-b40a-4785-b847-7f1bee8744c4\")>, <selenium.webdriver.remote.webelement.WebElement (session=\"c6f5ec002dbff4b61b1e19f8ecd55ab0\", element=\"1d150f1c-580a-487f-8ad5-e82cbadab563\")>, <selenium.webdriver.remote.webelement.WebElement (session=\"c6f5ec002dbff4b61b1e19f8ecd55ab0\", element=\"e2c8d714-6c70-48e1-86c0-0c8c0329520d\")>, <selenium.webdriver.remote.webelement.WebElement (session=\"c6f5ec002dbff4b61b1e19f8ecd55ab0\", element=\"a5352c50-799b-4b41-97d3-e88467efbed3\")>, <selenium.webdriver.remote.webelement.WebElement (session=\"c6f5ec002dbff4b61b1e19f8ecd55ab0\", element=\"c89b4227-11d2-4167-86a4-232c2bf8ee78\")>, <selenium.webdriver.remote.webelement.WebElement (session=\"c6f5ec002dbff4b61b1e19f8ecd55ab0\", element=\"8e4c58bd-6612-40ed-825a-ad6e6b5b0e67\")>, <selenium.webdriver.remote.webelement.WebElement (session=\"c6f5ec002dbff4b61b1e19f8ecd55ab0\", element=\"b53c74dc-c882-449f-953e-6512b67ece14\")>]\n"
     ]
    }
   ],
   "source": [
    "#Lets extract all the tags having price from page 1, and page 2.\n",
    "price_7_1=driver_7.find_elements_by_xpath(\"//span[@class='product-discountedPrice']\")\n",
    "price_7_2=driver_7.find_elements_by_xpath(\"//span[@class='product-discountedPrice']\")\n",
    "print(price_7_1)\n",
    "print(price_7_2)"
   ]
  },
  {
   "cell_type": "code",
   "execution_count": 109,
   "id": "f2b73e48",
   "metadata": {
    "scrolled": true
   },
   "outputs": [
    {
     "data": {
      "text/plain": [
       "['Rs. 11199',\n",
       " 'Rs. 9099',\n",
       " 'Rs. 13045',\n",
       " 'Rs. 7649',\n",
       " 'Rs. 7649',\n",
       " 'Rs. 11049',\n",
       " 'Rs. 11049',\n",
       " 'Rs. 8499',\n",
       " 'Rs. 7649',\n",
       " 'Rs. 8499',\n",
       " 'Rs. 10399',\n",
       " 'Rs. 10199',\n",
       " 'Rs. 8499',\n",
       " 'Rs. 13599',\n",
       " 'Rs. 8499',\n",
       " 'Rs. 11899',\n",
       " 'Rs. 7699',\n",
       " 'Rs. 12749',\n",
       " 'Rs. 8499',\n",
       " 'Rs. 9211',\n",
       " 'Rs. 8499',\n",
       " 'Rs. 9810',\n",
       " 'Rs. 8249',\n",
       " 'Rs. 11049',\n",
       " 'Rs. 7799',\n",
       " 'Rs. 11199',\n",
       " 'Rs. 9099',\n",
       " 'Rs. 13045',\n",
       " 'Rs. 7649',\n",
       " 'Rs. 7649',\n",
       " 'Rs. 11049',\n",
       " 'Rs. 11049',\n",
       " 'Rs. 8499',\n",
       " 'Rs. 7649',\n",
       " 'Rs. 8499',\n",
       " 'Rs. 10399',\n",
       " 'Rs. 10199',\n",
       " 'Rs. 8499',\n",
       " 'Rs. 13599',\n",
       " 'Rs. 8499',\n",
       " 'Rs. 11899',\n",
       " 'Rs. 7699',\n",
       " 'Rs. 12749',\n",
       " 'Rs. 8499',\n",
       " 'Rs. 9211',\n",
       " 'Rs. 8499',\n",
       " 'Rs. 9810',\n",
       " 'Rs. 8249',\n",
       " 'Rs. 11049',\n",
       " 'Rs. 7799',\n",
       " 'Rs. 11199',\n",
       " 'Rs. 9099',\n",
       " 'Rs. 13045',\n",
       " 'Rs. 7649',\n",
       " 'Rs. 7649',\n",
       " 'Rs. 11049',\n",
       " 'Rs. 11049',\n",
       " 'Rs. 8499',\n",
       " 'Rs. 7649',\n",
       " 'Rs. 8499',\n",
       " 'Rs. 10399',\n",
       " 'Rs. 10199',\n",
       " 'Rs. 8499',\n",
       " 'Rs. 13599',\n",
       " 'Rs. 8499',\n",
       " 'Rs. 11899',\n",
       " 'Rs. 7699',\n",
       " 'Rs. 12749',\n",
       " 'Rs. 8499',\n",
       " 'Rs. 9211',\n",
       " 'Rs. 8499',\n",
       " 'Rs. 9810',\n",
       " 'Rs. 8249',\n",
       " 'Rs. 11049',\n",
       " 'Rs. 7799',\n",
       " 'Rs. 11199',\n",
       " 'Rs. 9099',\n",
       " 'Rs. 13045',\n",
       " 'Rs. 7649',\n",
       " 'Rs. 7649',\n",
       " 'Rs. 11049',\n",
       " 'Rs. 11049',\n",
       " 'Rs. 8499',\n",
       " 'Rs. 7649',\n",
       " 'Rs. 8499',\n",
       " 'Rs. 10399',\n",
       " 'Rs. 10199',\n",
       " 'Rs. 8499',\n",
       " 'Rs. 13599',\n",
       " 'Rs. 8499',\n",
       " 'Rs. 11899',\n",
       " 'Rs. 7699',\n",
       " 'Rs. 12749',\n",
       " 'Rs. 8499',\n",
       " 'Rs. 9211',\n",
       " 'Rs. 8499',\n",
       " 'Rs. 9810',\n",
       " 'Rs. 8249',\n",
       " 'Rs. 11049',\n",
       " 'Rs. 7799']"
      ]
     },
     "execution_count": 109,
     "metadata": {},
     "output_type": "execute_result"
    }
   ],
   "source": [
    "for i in (price_7_1+price_7_2):\n",
    "    pricelist_7=i.text\n",
    "    price_7.append(pricelist_7)\n",
    "price_7"
   ]
  },
  {
   "cell_type": "code",
   "execution_count": 110,
   "id": "2824c9fb",
   "metadata": {},
   "outputs": [
    {
     "data": {
      "text/plain": [
       "100"
      ]
     },
     "execution_count": 110,
     "metadata": {},
     "output_type": "execute_result"
    }
   ],
   "source": [
    "len(price_7)"
   ]
  },
  {
   "cell_type": "markdown",
   "id": "ed2c4493",
   "metadata": {},
   "source": [
    "#### Checking Length"
   ]
  },
  {
   "cell_type": "code",
   "execution_count": 112,
   "id": "879dcfcd",
   "metadata": {},
   "outputs": [
    {
     "name": "stdout",
     "output_type": "stream",
     "text": [
      "100 100 100\n"
     ]
    }
   ],
   "source": [
    "print(len(brand_names_7),len(product_description_7),len(price_7))"
   ]
  },
  {
   "cell_type": "markdown",
   "id": "3a178552",
   "metadata": {},
   "source": [
    "#### Making DataFrame"
   ]
  },
  {
   "cell_type": "code",
   "execution_count": 113,
   "id": "0f436766",
   "metadata": {},
   "outputs": [
    {
     "data": {
      "text/html": [
       "<div>\n",
       "<style scoped>\n",
       "    .dataframe tbody tr th:only-of-type {\n",
       "        vertical-align: middle;\n",
       "    }\n",
       "\n",
       "    .dataframe tbody tr th {\n",
       "        vertical-align: top;\n",
       "    }\n",
       "\n",
       "    .dataframe thead th {\n",
       "        text-align: right;\n",
       "    }\n",
       "</style>\n",
       "<table border=\"1\" class=\"dataframe\">\n",
       "  <thead>\n",
       "    <tr style=\"text-align: right;\">\n",
       "      <th></th>\n",
       "      <th>brand_names</th>\n",
       "      <th>product_description</th>\n",
       "      <th>pricelists</th>\n",
       "    </tr>\n",
       "  </thead>\n",
       "  <tbody>\n",
       "    <tr>\n",
       "      <th>0</th>\n",
       "      <td>ALDO</td>\n",
       "      <td>Men Leather Loafers</td>\n",
       "      <td>Rs. 11199</td>\n",
       "    </tr>\n",
       "    <tr>\n",
       "      <th>1</th>\n",
       "      <td>ALDO</td>\n",
       "      <td>Men Leather Driving Shoes</td>\n",
       "      <td>Rs. 9099</td>\n",
       "    </tr>\n",
       "    <tr>\n",
       "      <th>2</th>\n",
       "      <td>Nike</td>\n",
       "      <td>Men Zoom Fly 4 Running Shoes</td>\n",
       "      <td>Rs. 13045</td>\n",
       "    </tr>\n",
       "    <tr>\n",
       "      <th>3</th>\n",
       "      <td>ALDO</td>\n",
       "      <td>Men Woven Design Sneakers</td>\n",
       "      <td>Rs. 7649</td>\n",
       "    </tr>\n",
       "    <tr>\n",
       "      <th>4</th>\n",
       "      <td>Skechers</td>\n",
       "      <td>Men Max Cushioning Running</td>\n",
       "      <td>Rs. 7649</td>\n",
       "    </tr>\n",
       "    <tr>\n",
       "      <th>...</th>\n",
       "      <td>...</td>\n",
       "      <td>...</td>\n",
       "      <td>...</td>\n",
       "    </tr>\n",
       "    <tr>\n",
       "      <th>95</th>\n",
       "      <td>Hush Puppies</td>\n",
       "      <td>Men Solid Formal Slip-Ons</td>\n",
       "      <td>Rs. 8499</td>\n",
       "    </tr>\n",
       "    <tr>\n",
       "      <th>96</th>\n",
       "      <td>Saint G</td>\n",
       "      <td>Leather Block Sandals</td>\n",
       "      <td>Rs. 9810</td>\n",
       "    </tr>\n",
       "    <tr>\n",
       "      <th>97</th>\n",
       "      <td>ADIDAS Originals</td>\n",
       "      <td>Women New Her Court Sneakers</td>\n",
       "      <td>Rs. 8249</td>\n",
       "    </tr>\n",
       "    <tr>\n",
       "      <th>98</th>\n",
       "      <td>ADIDAS</td>\n",
       "      <td>Women Dropset Training Shoes</td>\n",
       "      <td>Rs. 11049</td>\n",
       "    </tr>\n",
       "    <tr>\n",
       "      <th>99</th>\n",
       "      <td>Puma</td>\n",
       "      <td>Women Eternity NITRO Shoes</td>\n",
       "      <td>Rs. 7799</td>\n",
       "    </tr>\n",
       "  </tbody>\n",
       "</table>\n",
       "<p>100 rows × 3 columns</p>\n",
       "</div>"
      ],
      "text/plain": [
       "         brand_names           product_description pricelists\n",
       "0               ALDO           Men Leather Loafers  Rs. 11199\n",
       "1               ALDO     Men Leather Driving Shoes   Rs. 9099\n",
       "2               Nike  Men Zoom Fly 4 Running Shoes  Rs. 13045\n",
       "3               ALDO     Men Woven Design Sneakers   Rs. 7649\n",
       "4           Skechers    Men Max Cushioning Running   Rs. 7649\n",
       "..               ...                           ...        ...\n",
       "95      Hush Puppies     Men Solid Formal Slip-Ons   Rs. 8499\n",
       "96           Saint G         Leather Block Sandals   Rs. 9810\n",
       "97  ADIDAS Originals  Women New Her Court Sneakers   Rs. 8249\n",
       "98            ADIDAS  Women Dropset Training Shoes  Rs. 11049\n",
       "99              Puma    Women Eternity NITRO Shoes   Rs. 7799\n",
       "\n",
       "[100 rows x 3 columns]"
      ]
     },
     "execution_count": 113,
     "metadata": {},
     "output_type": "execute_result"
    }
   ],
   "source": [
    "import pandas as pd\n",
    "df_7=pd.DataFrame({'brand_names':brand_names_7,'product_description':product_description_7,'pricelists':price_7})\n",
    "df_7"
   ]
  },
  {
   "cell_type": "code",
   "execution_count": null,
   "id": "f7e02207",
   "metadata": {},
   "outputs": [],
   "source": []
  },
  {
   "cell_type": "markdown",
   "id": "64490fdd",
   "metadata": {},
   "source": [
    "#---------------------------------------------------------------------------------------------------------------------------------------------------------------------------------------------------------------#"
   ]
  },
  {
   "cell_type": "code",
   "execution_count": null,
   "id": "bf8202a0",
   "metadata": {},
   "outputs": [],
   "source": []
  },
  {
   "cell_type": "markdown",
   "id": "6797f2ec",
   "metadata": {},
   "source": [
    "# Q8: Go to webpage https://www.amazon.in/\n",
    "Enter “Laptop” in the search field and then click the search icon.\n",
    "Then set CPU Type filter to “Intel Core i7” and “Intel Core i9” as shown in the below image:After setting the filters scrape first 10 laptops data. You have to scrape 3 attributesfor each laptop:\n",
    "1. Title\n",
    "2. Ratings\n",
    "3. Price\n",
    "As shown in the below image as the tick marked attributes"
   ]
  },
  {
   "cell_type": "code",
   "execution_count": 3,
   "id": "1c2de5fe",
   "metadata": {},
   "outputs": [],
   "source": [
    "#Lets connect to the web driver\n",
    "driver_8=webdriver.Chrome(r\"C:\\Users\\X1\\chromedriver_win32\\chromedriver.exe\")"
   ]
  },
  {
   "cell_type": "code",
   "execution_count": 4,
   "id": "fd059084",
   "metadata": {},
   "outputs": [],
   "source": [
    "driver_8=webdriver.Chrome('chromedriver.exe')\n",
    "time.sleep(2)"
   ]
  },
  {
   "cell_type": "code",
   "execution_count": 61,
   "id": "da3a8a76",
   "metadata": {},
   "outputs": [],
   "source": [
    "driver_8.close()"
   ]
  },
  {
   "cell_type": "code",
   "execution_count": 5,
   "id": "0342ad41",
   "metadata": {},
   "outputs": [],
   "source": [
    "driver_8.get('https://www.amazon.in/')"
   ]
  },
  {
   "cell_type": "code",
   "execution_count": 6,
   "id": "3055e2b0",
   "metadata": {},
   "outputs": [],
   "source": [
    "search_product_8=driver_8.find_element_by_class_name(\"nav-input.nav-progressive-attribute\") # product search bar\n",
    "search_product_8.send_keys(\"laptop\")"
   ]
  },
  {
   "cell_type": "code",
   "execution_count": 7,
   "id": "b06354ef",
   "metadata": {},
   "outputs": [],
   "source": [
    "search_button_8=driver_8.find_element_by_xpath(\"/html/body/div[2]/header/div/div[1]/div[2]/div/form/div[3]/div/span/input\")\n",
    "search_button_8.click()"
   ]
  },
  {
   "cell_type": "code",
   "execution_count": 8,
   "id": "44a72f74",
   "metadata": {},
   "outputs": [],
   "source": [
    "# Specifying the url of the page to be scraped\n",
    "url_8=('https://www.amazon.in/s?k=laptop&crid=1ZO74DMDC6C4H&sprefix=laptop%2Caps%2C508&ref=nb_sb_noss_1')"
   ]
  },
  {
   "cell_type": "code",
   "execution_count": 9,
   "id": "f928ffb8",
   "metadata": {},
   "outputs": [],
   "source": [
    "#Let's open the web page through the web driver\n",
    "driver_8.get(url_8)"
   ]
  },
  {
   "cell_type": "markdown",
   "id": "2f6fe324",
   "metadata": {},
   "source": [
    "### CPU- Intel Core i7"
   ]
  },
  {
   "cell_type": "code",
   "execution_count": 10,
   "id": "c0c988ec",
   "metadata": {},
   "outputs": [],
   "source": [
    "#Let,s Create 3 empty lists to scrap 3 atrributes about intel core i7 cpu\n",
    "\n",
    "Title8_i7=[]\n",
    "Ratings8_i7=[]\n",
    "Price8_i7=[]"
   ]
  },
  {
   "cell_type": "code",
   "execution_count": 11,
   "id": "7ee0d596",
   "metadata": {},
   "outputs": [
    {
     "data": {
      "text/plain": [
       "[<selenium.webdriver.remote.webelement.WebElement (session=\"3c965e23d303a3ca41121c488b452614\", element=\"53cb6a96-5b8b-4eda-a696-8555901acff0\")>,\n",
       " <selenium.webdriver.remote.webelement.WebElement (session=\"3c965e23d303a3ca41121c488b452614\", element=\"d283bca0-7697-464f-bac5-487c94acc641\")>,\n",
       " <selenium.webdriver.remote.webelement.WebElement (session=\"3c965e23d303a3ca41121c488b452614\", element=\"9a858f2b-8f9f-407f-b736-861ba5f25899\")>,\n",
       " <selenium.webdriver.remote.webelement.WebElement (session=\"3c965e23d303a3ca41121c488b452614\", element=\"080c7865-f719-482d-9852-8426ce5ebfb3\")>,\n",
       " <selenium.webdriver.remote.webelement.WebElement (session=\"3c965e23d303a3ca41121c488b452614\", element=\"8b07b87e-8071-4f3d-8171-d51a7fb9f9f6\")>,\n",
       " <selenium.webdriver.remote.webelement.WebElement (session=\"3c965e23d303a3ca41121c488b452614\", element=\"6a6db637-8cdc-43c4-8f88-fa5093b6e2ac\")>,\n",
       " <selenium.webdriver.remote.webelement.WebElement (session=\"3c965e23d303a3ca41121c488b452614\", element=\"b67c352e-16ff-4489-8066-9bce4a24800f\")>,\n",
       " <selenium.webdriver.remote.webelement.WebElement (session=\"3c965e23d303a3ca41121c488b452614\", element=\"709ebb63-b917-47d7-825d-81fe9cfb9cc8\")>,\n",
       " <selenium.webdriver.remote.webelement.WebElement (session=\"3c965e23d303a3ca41121c488b452614\", element=\"31eabbf8-d4fb-448d-8ccb-7ebfd54ebff4\")>,\n",
       " <selenium.webdriver.remote.webelement.WebElement (session=\"3c965e23d303a3ca41121c488b452614\", element=\"30a61cf2-cc5b-46a0-a542-d0cd303740ca\")>]"
      ]
     },
     "execution_count": 11,
     "metadata": {},
     "output_type": "execute_result"
    }
   ],
   "source": [
    "#Lets extract all the tags having titles.\n",
    "titles_i7=driver_8.find_elements_by_xpath(\"//span[@class='a-size-medium a-color-base a-text-normal']\")\n",
    "titles_i7[0:10]"
   ]
  },
  {
   "cell_type": "code",
   "execution_count": 12,
   "id": "fcec97fd",
   "metadata": {},
   "outputs": [
    {
     "data": {
      "text/plain": [
       "['Samsung Galaxy Book2 Pro 360 Intel 12th Gen i7 EvoTM 15.6 inch Touchscreen 2-in-1 AMOLED Thin & Light Laptop (16 GB/512 GB SSD/Windows 11/MSO Home & Student 2021/Graphite/1.41Kg), NP950QED-KA1IN',\n",
       " 'Samsung Galaxy Book2 360 Intel 12th Gen i7 EvoTM  33.78cm (13.3\") AMOLED Thin & Light Laptop (16 GB/512 GB SSD/Windows 11/MS Office Home & Student 2021/Graphite/1.16Kg), NP730QED-KA1IN',\n",
       " 'ASUS VivoBook 14 (2021), 14-inch (35.56 cms) FHD, Intel Core i7-1065G7 10th Gen, Thin and Light Laptop (16GB/512GB SSD/Integrated Graphics/Office 2021/Windows 11/Silver/1.6 Kg), X415JA-EK701WS',\n",
       " 'Lenovo ThinkBook 15 Intel 11th Gen Core i7 15.6\"(39.62 cm)FHD Thin and Light Laptop (16GB/512GB SSD/Windows 11 Home/MS Office H&S 2021/Iris® Xe Graphics/Backlit/Mineral Grey/1.7 Kg) 20VE00W4IH',\n",
       " 'HP Pavilion 14, 11th Gen Intel Core i7-16GB RAM/1TB SSD 14 inch(35.6 cm) Laptop/Intel Iris Xe Graphics/Backlit Keyboard/Alexa/B&O Audio/Fast Charge/FPR/Win 11/MS Office, 14-dv1029TU,Natural Silver',\n",
       " 'ASUS TUF Gaming F15 (2021), 15.6\" (39.62 cms) FHD 144Hz, Intel Core i7-11600H 11th Gen, 4GB RTX 3050 Graphics, Gaming Laptop (16GB/512GB SSD/Windows 10/Office 2019/Gray/2.3 Kg), FX566HCB-HN299TS',\n",
       " 'LG Gram Intel Evo 11th Gen Core i7 17 inches Ultra-Light Laptop (16 GB RAM, 512 GB SSD, New Windows 11 Home Preload, Iris Xe Graphics, USC -C x 2 (with Power), 1.35 kg, 17Z90P-G.AH85A2, Black)',\n",
       " 'LG Gram 16 inches Intel Evo 11th Gen Core i7 Ultra-Light Laptop (16 GB RAM, 512 GB SSD, New Windows 11 Home Preload, Iris Xe Graphics, USC -C x 2 (with Power), 1.19 kg, 16Z90P-G.AH85A2, Black)',\n",
       " 'Lenovo IdeaPad Gaming 3 Intel Core i7 10th Gen 39.62 cm (15.6\") FHD IPS 250Nits Gaming Laptop (8GB/512GB SSD/Win10/NVIDIA GTX 1650 4GB GDDR6 Graphics/120Hz/Onyx Black/2.2Kg), 81Y4019EIN',\n",
       " 'Lenovo IdeaPad Flex 5 11th Gen Intel Core i7 14\" FHD 2-in-1 Convertible Laptop (16 GB/512GB SDD/Windows 11/MS Office 2021/Backlit Keyboard /3months Xbox Game Pass/Graphite Grey/1.5Kg), 82HS018XIN']"
      ]
     },
     "execution_count": 12,
     "metadata": {},
     "output_type": "execute_result"
    }
   ],
   "source": [
    "for i in titles_i7:\n",
    "    title8i7=i.text\n",
    "    Title8_i7.append(title8i7)\n",
    "Title8_i7[0:10]"
   ]
  },
  {
   "cell_type": "code",
   "execution_count": 13,
   "id": "d3684f06",
   "metadata": {},
   "outputs": [
    {
     "data": {
      "text/plain": [
       "[<selenium.webdriver.remote.webelement.WebElement (session=\"3c965e23d303a3ca41121c488b452614\", element=\"1e714663-3aa0-4383-89a1-f04d7b92f136\")>,\n",
       " <selenium.webdriver.remote.webelement.WebElement (session=\"3c965e23d303a3ca41121c488b452614\", element=\"6c431cf6-d7dd-4115-ad3f-cbce25b49550\")>,\n",
       " <selenium.webdriver.remote.webelement.WebElement (session=\"3c965e23d303a3ca41121c488b452614\", element=\"a3e98984-082b-4d42-832e-77fc39314cf7\")>,\n",
       " <selenium.webdriver.remote.webelement.WebElement (session=\"3c965e23d303a3ca41121c488b452614\", element=\"dcb335da-c1b1-4f4a-b059-af87c1e1e93a\")>,\n",
       " <selenium.webdriver.remote.webelement.WebElement (session=\"3c965e23d303a3ca41121c488b452614\", element=\"50667a61-e89b-4493-8b84-550d508402f2\")>,\n",
       " <selenium.webdriver.remote.webelement.WebElement (session=\"3c965e23d303a3ca41121c488b452614\", element=\"f2fcb333-e874-4942-812e-7f9c05ecf135\")>,\n",
       " <selenium.webdriver.remote.webelement.WebElement (session=\"3c965e23d303a3ca41121c488b452614\", element=\"a40b9615-1a82-42d8-9836-fcf7964d800d\")>,\n",
       " <selenium.webdriver.remote.webelement.WebElement (session=\"3c965e23d303a3ca41121c488b452614\", element=\"0b69ac33-da16-40bd-84bd-dd52ec9a8379\")>,\n",
       " <selenium.webdriver.remote.webelement.WebElement (session=\"3c965e23d303a3ca41121c488b452614\", element=\"a31aabcd-18e3-424d-9d83-19c3cb7e2741\")>,\n",
       " <selenium.webdriver.remote.webelement.WebElement (session=\"3c965e23d303a3ca41121c488b452614\", element=\"da59519a-d198-404f-aa73-a6bd560fd7a5\")>]"
      ]
     },
     "execution_count": 13,
     "metadata": {},
     "output_type": "execute_result"
    }
   ],
   "source": [
    "#Lets extract all the tags having price.\n",
    "price_i7=driver_8.find_elements_by_xpath(\"//span[@class='a-price-whole']\")\n",
    "price_i7[0:10]"
   ]
  },
  {
   "cell_type": "code",
   "execution_count": 14,
   "id": "773771e3",
   "metadata": {},
   "outputs": [
    {
     "data": {
      "text/plain": [
       "['1,29,990',\n",
       " '1,05,990',\n",
       " '57,490',\n",
       " '86,990',\n",
       " '86,990',\n",
       " '89,990',\n",
       " '94,819',\n",
       " '89,611',\n",
       " '73,990',\n",
       " '81,990']"
      ]
     },
     "execution_count": 14,
     "metadata": {},
     "output_type": "execute_result"
    }
   ],
   "source": [
    "for i in price_i7:\n",
    "    price8i7=i.text\n",
    "    Price8_i7.append(price8i7)\n",
    "Price8_i7[0:10]"
   ]
  },
  {
   "cell_type": "code",
   "execution_count": 15,
   "id": "3c6bd7b0",
   "metadata": {},
   "outputs": [
    {
     "data": {
      "text/plain": [
       "[<selenium.webdriver.remote.webelement.WebElement (session=\"3c965e23d303a3ca41121c488b452614\", element=\"6795dde1-f37c-459c-9a1b-a6c4bbad0871\")>,\n",
       " <selenium.webdriver.remote.webelement.WebElement (session=\"3c965e23d303a3ca41121c488b452614\", element=\"defcf397-0234-4990-bd3f-4269d3861dce\")>,\n",
       " <selenium.webdriver.remote.webelement.WebElement (session=\"3c965e23d303a3ca41121c488b452614\", element=\"7d6ea25b-6b3f-4ce2-8c8a-fc29b50ef3b6\")>,\n",
       " <selenium.webdriver.remote.webelement.WebElement (session=\"3c965e23d303a3ca41121c488b452614\", element=\"15769d21-93fb-4c5a-9a60-f4d01b9b3963\")>,\n",
       " <selenium.webdriver.remote.webelement.WebElement (session=\"3c965e23d303a3ca41121c488b452614\", element=\"f42bde8b-4d8e-4efc-9c92-eb4135316d6e\")>,\n",
       " <selenium.webdriver.remote.webelement.WebElement (session=\"3c965e23d303a3ca41121c488b452614\", element=\"ced2fb0f-a0c8-47c1-9061-fd1ae2c6fb1d\")>,\n",
       " <selenium.webdriver.remote.webelement.WebElement (session=\"3c965e23d303a3ca41121c488b452614\", element=\"b006fa26-bb39-4517-82ac-f9a5364d2237\")>,\n",
       " <selenium.webdriver.remote.webelement.WebElement (session=\"3c965e23d303a3ca41121c488b452614\", element=\"fb9146f8-e2d4-4b14-89dd-21c0f80d1d07\")>,\n",
       " <selenium.webdriver.remote.webelement.WebElement (session=\"3c965e23d303a3ca41121c488b452614\", element=\"b268243d-376e-4cdd-a2dc-68b134f5c3b7\")>,\n",
       " <selenium.webdriver.remote.webelement.WebElement (session=\"3c965e23d303a3ca41121c488b452614\", element=\"5bce70d3-fde3-461a-96c3-3b69affa5db0\")>]"
      ]
     },
     "execution_count": 15,
     "metadata": {},
     "output_type": "execute_result"
    }
   ],
   "source": [
    "#Lets extract all the tags having ratings.\n",
    "rating_i7=driver_8.find_elements_by_xpath(\"//span[@class='a-size-base s-underline-text']\")\n",
    "rating_i7[0:10]"
   ]
  },
  {
   "cell_type": "code",
   "execution_count": 16,
   "id": "98ee0c65",
   "metadata": {},
   "outputs": [
    {
     "data": {
      "text/plain": [
       "['3', '55', '38', '1', '4', '147', '123', '13', '82', '1']"
      ]
     },
     "execution_count": 16,
     "metadata": {},
     "output_type": "execute_result"
    }
   ],
   "source": [
    "Rating8_i7=[]\n",
    "for i in rating_i7:\n",
    "    rating8i7=i.text\n",
    "    Ratings8_i7.append(rating8i7)\n",
    "Ratings8_i7[0:10]                        "
   ]
  },
  {
   "cell_type": "markdown",
   "id": "962d24ed",
   "metadata": {},
   "source": [
    "### Making Dataframe for core intel i7 cpu"
   ]
  },
  {
   "cell_type": "code",
   "execution_count": 17,
   "id": "308606f9",
   "metadata": {},
   "outputs": [
    {
     "data": {
      "text/html": [
       "<div>\n",
       "<style scoped>\n",
       "    .dataframe tbody tr th:only-of-type {\n",
       "        vertical-align: middle;\n",
       "    }\n",
       "\n",
       "    .dataframe tbody tr th {\n",
       "        vertical-align: top;\n",
       "    }\n",
       "\n",
       "    .dataframe thead th {\n",
       "        text-align: right;\n",
       "    }\n",
       "</style>\n",
       "<table border=\"1\" class=\"dataframe\">\n",
       "  <thead>\n",
       "    <tr style=\"text-align: right;\">\n",
       "      <th></th>\n",
       "      <th>Title8_i7</th>\n",
       "      <th>Price8_i7</th>\n",
       "      <th>Ratings8_i7</th>\n",
       "    </tr>\n",
       "  </thead>\n",
       "  <tbody>\n",
       "    <tr>\n",
       "      <th>0</th>\n",
       "      <td>Samsung Galaxy Book2 Pro 360 Intel 12th Gen i7...</td>\n",
       "      <td>1,29,990</td>\n",
       "      <td>3</td>\n",
       "    </tr>\n",
       "    <tr>\n",
       "      <th>1</th>\n",
       "      <td>Samsung Galaxy Book2 360 Intel 12th Gen i7 Evo...</td>\n",
       "      <td>1,05,990</td>\n",
       "      <td>55</td>\n",
       "    </tr>\n",
       "    <tr>\n",
       "      <th>2</th>\n",
       "      <td>ASUS VivoBook 14 (2021), 14-inch (35.56 cms) F...</td>\n",
       "      <td>57,490</td>\n",
       "      <td>38</td>\n",
       "    </tr>\n",
       "    <tr>\n",
       "      <th>3</th>\n",
       "      <td>Lenovo ThinkBook 15 Intel 11th Gen Core i7 15....</td>\n",
       "      <td>86,990</td>\n",
       "      <td>1</td>\n",
       "    </tr>\n",
       "    <tr>\n",
       "      <th>4</th>\n",
       "      <td>HP Pavilion 14, 11th Gen Intel Core i7-16GB RA...</td>\n",
       "      <td>86,990</td>\n",
       "      <td>4</td>\n",
       "    </tr>\n",
       "    <tr>\n",
       "      <th>5</th>\n",
       "      <td>ASUS TUF Gaming F15 (2021), 15.6\" (39.62 cms) ...</td>\n",
       "      <td>89,990</td>\n",
       "      <td>147</td>\n",
       "    </tr>\n",
       "    <tr>\n",
       "      <th>6</th>\n",
       "      <td>LG Gram Intel Evo 11th Gen Core i7 17 inches U...</td>\n",
       "      <td>94,819</td>\n",
       "      <td>123</td>\n",
       "    </tr>\n",
       "    <tr>\n",
       "      <th>7</th>\n",
       "      <td>LG Gram 16 inches Intel Evo 11th Gen Core i7 U...</td>\n",
       "      <td>89,611</td>\n",
       "      <td>13</td>\n",
       "    </tr>\n",
       "    <tr>\n",
       "      <th>8</th>\n",
       "      <td>Lenovo IdeaPad Gaming 3 Intel Core i7 10th Gen...</td>\n",
       "      <td>73,990</td>\n",
       "      <td>82</td>\n",
       "    </tr>\n",
       "    <tr>\n",
       "      <th>9</th>\n",
       "      <td>Lenovo IdeaPad Flex 5 11th Gen Intel Core i7 1...</td>\n",
       "      <td>81,990</td>\n",
       "      <td>1</td>\n",
       "    </tr>\n",
       "  </tbody>\n",
       "</table>\n",
       "</div>"
      ],
      "text/plain": [
       "                                           Title8_i7 Price8_i7 Ratings8_i7\n",
       "0  Samsung Galaxy Book2 Pro 360 Intel 12th Gen i7...  1,29,990           3\n",
       "1  Samsung Galaxy Book2 360 Intel 12th Gen i7 Evo...  1,05,990          55\n",
       "2  ASUS VivoBook 14 (2021), 14-inch (35.56 cms) F...    57,490          38\n",
       "3  Lenovo ThinkBook 15 Intel 11th Gen Core i7 15....    86,990           1\n",
       "4  HP Pavilion 14, 11th Gen Intel Core i7-16GB RA...    86,990           4\n",
       "5  ASUS TUF Gaming F15 (2021), 15.6\" (39.62 cms) ...    89,990         147\n",
       "6  LG Gram Intel Evo 11th Gen Core i7 17 inches U...    94,819         123\n",
       "7  LG Gram 16 inches Intel Evo 11th Gen Core i7 U...    89,611          13\n",
       "8  Lenovo IdeaPad Gaming 3 Intel Core i7 10th Gen...    73,990          82\n",
       "9  Lenovo IdeaPad Flex 5 11th Gen Intel Core i7 1...    81,990           1"
      ]
     },
     "execution_count": 17,
     "metadata": {},
     "output_type": "execute_result"
    }
   ],
   "source": [
    "import pandas as pd\n",
    "df_8i7=pd.DataFrame({'Title8_i7':Title8_i7[0:10],'Price8_i7':Price8_i7[0:10],'Ratings8_i7':Ratings8_i7[0:10]})\n",
    "df_8i7"
   ]
  },
  {
   "cell_type": "markdown",
   "id": "1ec12083",
   "metadata": {},
   "source": [
    "### CPU- Intel Core i9"
   ]
  },
  {
   "cell_type": "code",
   "execution_count": 18,
   "id": "14e8a4a8",
   "metadata": {},
   "outputs": [],
   "source": [
    "#Let,s Create 3 empty lists to scrap 3 atrributes about intel core i7 cpu\n",
    "\n",
    "Title8_i9=[]\n",
    "Ratings8_i9=[]\n",
    "Price8_i9=[]"
   ]
  },
  {
   "cell_type": "code",
   "execution_count": 19,
   "id": "aad7f0a7",
   "metadata": {},
   "outputs": [
    {
     "data": {
      "text/plain": [
       "[<selenium.webdriver.remote.webelement.WebElement (session=\"3c965e23d303a3ca41121c488b452614\", element=\"194c3134-bcc5-4071-8507-ffdb88c3eb6d\")>,\n",
       " <selenium.webdriver.remote.webelement.WebElement (session=\"3c965e23d303a3ca41121c488b452614\", element=\"d273b480-a2d0-4662-ae97-b127b4eb0949\")>,\n",
       " <selenium.webdriver.remote.webelement.WebElement (session=\"3c965e23d303a3ca41121c488b452614\", element=\"1ac85fb3-cc04-4ca6-843d-d3bc76ea8646\")>,\n",
       " <selenium.webdriver.remote.webelement.WebElement (session=\"3c965e23d303a3ca41121c488b452614\", element=\"b523c741-860b-46dd-b414-f9c712e1a4db\")>,\n",
       " <selenium.webdriver.remote.webelement.WebElement (session=\"3c965e23d303a3ca41121c488b452614\", element=\"e74ecdf2-be13-42bc-82d8-3743549e0f00\")>,\n",
       " <selenium.webdriver.remote.webelement.WebElement (session=\"3c965e23d303a3ca41121c488b452614\", element=\"e4ad27d8-28e2-4e92-9b7e-67fa9b4248af\")>,\n",
       " <selenium.webdriver.remote.webelement.WebElement (session=\"3c965e23d303a3ca41121c488b452614\", element=\"089cc772-f06e-4fee-b411-90dac8063056\")>,\n",
       " <selenium.webdriver.remote.webelement.WebElement (session=\"3c965e23d303a3ca41121c488b452614\", element=\"af9a35c3-13fa-4262-8b4d-49ce88d76594\")>,\n",
       " <selenium.webdriver.remote.webelement.WebElement (session=\"3c965e23d303a3ca41121c488b452614\", element=\"fe5b0568-d85c-4d10-ab93-82a8e6f90f88\")>,\n",
       " <selenium.webdriver.remote.webelement.WebElement (session=\"3c965e23d303a3ca41121c488b452614\", element=\"9aaa6dbc-14e2-4f07-a1de-2199f5ed5d0c\")>]"
      ]
     },
     "execution_count": 19,
     "metadata": {},
     "output_type": "execute_result"
    }
   ],
   "source": [
    "#Lets extract all the tags having titles.\n",
    "titles_i9=driver_8.find_elements_by_xpath(\"//span[@class='a-size-medium a-color-base a-text-normal']\")\n",
    "titles_i9[0:10]"
   ]
  },
  {
   "cell_type": "code",
   "execution_count": 20,
   "id": "c4c72c84",
   "metadata": {},
   "outputs": [
    {
     "data": {
      "text/plain": [
       "['Acer Predator Helios 300 11th Gen Intel Core i9-11900H 15.6\" (39.62cms) FHD IPS Gaming Laptop (16 GB/1TB SSD/Win 11 Home/6 GB Graphics/NVIDIA GeForce RTX 3060/360 Hz, Black, 2.3 kg) PH315-54',\n",
       " 'ASUS ROG Strix SCAR 15 (2022), 15.6-inch (39.62 cms) 2K WQHD 240Hz/3ms, Core i9-12900H 12th Gen, RTX 3080 Ti 16GB Graphics, Gaming Laptop (32GB/1TB SSD/Win 11/Office 2021/Black/2.3 Kg), G533ZX-LN024WS',\n",
       " 'ASUS ROG Strix Scar 15 (2022), 15.6-inch (39.62 cms) 2K WQHD 240Hz/3ms, Core i9-12900H 12th Gen, RTX 3070 Ti 8GB Graphics, Gaming Laptop (32GB/2TB SSD/Win 11/Office 2021/Black/2.3 Kg), G533ZW-LN106WS',\n",
       " 'ASUS TUF Gaming F15 (2021), 15.6\" (39.62 cms) FHD 240Hz, Intel Core i9-11900H 11th Gen, GeForce RTX 3060 6GB Graphics, Gaming Laptop(16GB/1TB SSD/Office 2019/Windows 10/Gray/2.3 Kg), FX566HM-AZ096TS',\n",
       " 'ASUS ROG Zephyrus M16 (2022), 16-inch (40.64 cms) 2K QHD 165Hz/3ms, Core i9-12900H 12th Gen, RTX 3080 Ti 16GB Graphics, Gaming Laptop (32GB/2TB SSD/Win 11/Office 2021/Black/2 Kg), GU603ZX-K8024WS',\n",
       " 'ASUS ROG Strix Scar 15 (2022), 15.6\" (39.62 cms) 2K WQHD 240Hz/3ms, Intel Core i9-12900H 12th Gen, RTX 3070 Ti 8GB Graphics, Gaming Laptop (32GB/1TB SSD/Win 11/Office 2021/Black/2.3 kg) G533ZW-LN136WS',\n",
       " 'Acer Predator Helios 300 11th Gen Intel Core i9-11900H 15.6\" (39.62cms) FHD IPS Gaming Laptop (16 GB/1TB SSD/Win 11 Home/6 GB Graphics/NVIDIA GeForce RTX 3060/360 Hz, Black, 2.3 kg) PH315-54',\n",
       " '(Renewed) HP Omen 15-dh0139TX Gaming Laptop (9th Gen i9-9880H/16GB/1TB HDD + 512GB SSD/Win 10/8GB NVIDIA RTX 2080 Graphics) & Z3700 Wireless Mouse',\n",
       " 'HP Envy 15- 11th Gen Intel Core i9/32GB/1TB SSD/15.6 inch(39.6 cm) 400 nits,4K AMOLED Touch, TUV + Win 11 Pro 64/NVIDIA GeForce RTX 3060 6GB Graphics/Alexa/FPR /B&O/2.14kg,15-ep1087TX, Natural Silver',\n",
       " 'Dell Precision 5550 || i9 -10885H || 16GB || 1TB NVMe || T2000 4 GB || Win 10 Pro (Free Upgrade Win 11Pro) / 15.6 FHD+ / 3 Year ADP']"
      ]
     },
     "execution_count": 20,
     "metadata": {},
     "output_type": "execute_result"
    }
   ],
   "source": [
    "for i in titles_i9:\n",
    "    title8i9=i.text\n",
    "    Title8_i9.append(title8i9)\n",
    "Title8_i9[0:10]"
   ]
  },
  {
   "cell_type": "code",
   "execution_count": 21,
   "id": "129f936d",
   "metadata": {},
   "outputs": [
    {
     "data": {
      "text/plain": [
       "[<selenium.webdriver.remote.webelement.WebElement (session=\"3c965e23d303a3ca41121c488b452614\", element=\"1a3eb554-6b3e-4672-b426-3983fd1ea6e7\")>,\n",
       " <selenium.webdriver.remote.webelement.WebElement (session=\"3c965e23d303a3ca41121c488b452614\", element=\"2f37ad3e-fd4d-4f96-9073-57dba3d67ce1\")>,\n",
       " <selenium.webdriver.remote.webelement.WebElement (session=\"3c965e23d303a3ca41121c488b452614\", element=\"b2f81c42-1a67-47e8-a32b-ff8db4ee0a62\")>,\n",
       " <selenium.webdriver.remote.webelement.WebElement (session=\"3c965e23d303a3ca41121c488b452614\", element=\"ffb54bd7-1d60-4c3a-9dc9-6e6a6593af1f\")>,\n",
       " <selenium.webdriver.remote.webelement.WebElement (session=\"3c965e23d303a3ca41121c488b452614\", element=\"ffad25a3-67f1-4a1d-b156-291b760a925b\")>,\n",
       " <selenium.webdriver.remote.webelement.WebElement (session=\"3c965e23d303a3ca41121c488b452614\", element=\"cd4e8dad-6d5a-4203-befc-7aba1929fdd3\")>,\n",
       " <selenium.webdriver.remote.webelement.WebElement (session=\"3c965e23d303a3ca41121c488b452614\", element=\"b3dbd575-faeb-4e31-be59-0fba395f8633\")>,\n",
       " <selenium.webdriver.remote.webelement.WebElement (session=\"3c965e23d303a3ca41121c488b452614\", element=\"f3ef9061-5817-4d90-95e5-9d75c2014991\")>,\n",
       " <selenium.webdriver.remote.webelement.WebElement (session=\"3c965e23d303a3ca41121c488b452614\", element=\"68e7a72e-a799-40a9-813c-fcffebe21f3c\")>,\n",
       " <selenium.webdriver.remote.webelement.WebElement (session=\"3c965e23d303a3ca41121c488b452614\", element=\"2d8d122d-fd94-410c-8b81-2ce4be9df10a\")>]"
      ]
     },
     "execution_count": 21,
     "metadata": {},
     "output_type": "execute_result"
    }
   ],
   "source": [
    "#Lets extract all the tags having price.\n",
    "price_i9=driver_8.find_elements_by_xpath(\"//span[@class='a-price-whole']\")\n",
    "price_i9[0:10]"
   ]
  },
  {
   "cell_type": "code",
   "execution_count": 22,
   "id": "6a13a66b",
   "metadata": {},
   "outputs": [
    {
     "data": {
      "text/plain": [
       "['1,44,990',\n",
       " '3,15,100',\n",
       " '2,85,990',\n",
       " '1,77,885',\n",
       " '3,31,990',\n",
       " '2,90,499',\n",
       " '1,44,990',\n",
       " '1,38,000',\n",
       " '2,02,990',\n",
       " '2,25,000']"
      ]
     },
     "execution_count": 22,
     "metadata": {},
     "output_type": "execute_result"
    }
   ],
   "source": [
    "for i in price_i9:\n",
    "    price8i9=i.text\n",
    "    Price8_i9.append(price8i9)\n",
    "Price8_i9[0:10]"
   ]
  },
  {
   "cell_type": "code",
   "execution_count": 24,
   "id": "3e497797",
   "metadata": {},
   "outputs": [
    {
     "data": {
      "text/plain": [
       "[<selenium.webdriver.remote.webelement.WebElement (session=\"3c965e23d303a3ca41121c488b452614\", element=\"e2c95eef-919e-4f09-a8c2-4b1fc095c0cc\")>,\n",
       " <selenium.webdriver.remote.webelement.WebElement (session=\"3c965e23d303a3ca41121c488b452614\", element=\"01e4fd39-0171-4479-87bd-a76be6b33640\")>,\n",
       " <selenium.webdriver.remote.webelement.WebElement (session=\"3c965e23d303a3ca41121c488b452614\", element=\"b7a9764a-a19e-4347-a643-2b3cdd0eb518\")>,\n",
       " <selenium.webdriver.remote.webelement.WebElement (session=\"3c965e23d303a3ca41121c488b452614\", element=\"29094cdd-d91b-4736-a594-90ce06796f7c\")>]"
      ]
     },
     "execution_count": 24,
     "metadata": {},
     "output_type": "execute_result"
    }
   ],
   "source": [
    "#Lets extract all the tags having ratings.\n",
    "rating_i9=driver_8.find_elements_by_xpath(\"//span[@class='a-size-base s-underline-text']\")\n",
    "rating_i9[0:10]"
   ]
  },
  {
   "cell_type": "code",
   "execution_count": 25,
   "id": "c8a6401a",
   "metadata": {},
   "outputs": [
    {
     "data": {
      "text/plain": [
       "['6', '11', '6', '1']"
      ]
     },
     "execution_count": 25,
     "metadata": {},
     "output_type": "execute_result"
    }
   ],
   "source": [
    "Rating8_i9=[]\n",
    "for i in rating_i9:\n",
    "    rating8i9=i.text\n",
    "    Ratings8_i9.append(rating8i9)\n",
    "Ratings8_i9[0:10]"
   ]
  },
  {
   "cell_type": "markdown",
   "id": "c8691b1a",
   "metadata": {},
   "source": [
    "only four random laptops are having ratings among 1st 10 core intel i9 laptops.6 other left laptops are having no rating"
   ]
  },
  {
   "cell_type": "markdown",
   "id": "8edf57e1",
   "metadata": {},
   "source": [
    "### Making Dataframe for cpu core intel i9"
   ]
  },
  {
   "cell_type": "code",
   "execution_count": 26,
   "id": "71dd7526",
   "metadata": {},
   "outputs": [
    {
     "data": {
      "text/html": [
       "<div>\n",
       "<style scoped>\n",
       "    .dataframe tbody tr th:only-of-type {\n",
       "        vertical-align: middle;\n",
       "    }\n",
       "\n",
       "    .dataframe tbody tr th {\n",
       "        vertical-align: top;\n",
       "    }\n",
       "\n",
       "    .dataframe thead th {\n",
       "        text-align: right;\n",
       "    }\n",
       "</style>\n",
       "<table border=\"1\" class=\"dataframe\">\n",
       "  <thead>\n",
       "    <tr style=\"text-align: right;\">\n",
       "      <th></th>\n",
       "      <th>Title8_i9</th>\n",
       "      <th>Price8_i9</th>\n",
       "    </tr>\n",
       "  </thead>\n",
       "  <tbody>\n",
       "    <tr>\n",
       "      <th>0</th>\n",
       "      <td>Acer Predator Helios 300 11th Gen Intel Core i...</td>\n",
       "      <td>1,44,990</td>\n",
       "    </tr>\n",
       "    <tr>\n",
       "      <th>1</th>\n",
       "      <td>ASUS ROG Strix SCAR 15 (2022), 15.6-inch (39.6...</td>\n",
       "      <td>3,15,100</td>\n",
       "    </tr>\n",
       "    <tr>\n",
       "      <th>2</th>\n",
       "      <td>ASUS ROG Strix Scar 15 (2022), 15.6-inch (39.6...</td>\n",
       "      <td>2,85,990</td>\n",
       "    </tr>\n",
       "    <tr>\n",
       "      <th>3</th>\n",
       "      <td>ASUS TUF Gaming F15 (2021), 15.6\" (39.62 cms) ...</td>\n",
       "      <td>1,77,885</td>\n",
       "    </tr>\n",
       "    <tr>\n",
       "      <th>4</th>\n",
       "      <td>ASUS ROG Zephyrus M16 (2022), 16-inch (40.64 c...</td>\n",
       "      <td>3,31,990</td>\n",
       "    </tr>\n",
       "    <tr>\n",
       "      <th>5</th>\n",
       "      <td>ASUS ROG Strix Scar 15 (2022), 15.6\" (39.62 cm...</td>\n",
       "      <td>2,90,499</td>\n",
       "    </tr>\n",
       "    <tr>\n",
       "      <th>6</th>\n",
       "      <td>Acer Predator Helios 300 11th Gen Intel Core i...</td>\n",
       "      <td>1,44,990</td>\n",
       "    </tr>\n",
       "    <tr>\n",
       "      <th>7</th>\n",
       "      <td>(Renewed) HP Omen 15-dh0139TX Gaming Laptop (9...</td>\n",
       "      <td>1,38,000</td>\n",
       "    </tr>\n",
       "    <tr>\n",
       "      <th>8</th>\n",
       "      <td>HP Envy 15- 11th Gen Intel Core i9/32GB/1TB SS...</td>\n",
       "      <td>2,02,990</td>\n",
       "    </tr>\n",
       "    <tr>\n",
       "      <th>9</th>\n",
       "      <td>Dell Precision 5550 || i9 -10885H || 16GB || 1...</td>\n",
       "      <td>2,25,000</td>\n",
       "    </tr>\n",
       "  </tbody>\n",
       "</table>\n",
       "</div>"
      ],
      "text/plain": [
       "                                           Title8_i9 Price8_i9\n",
       "0  Acer Predator Helios 300 11th Gen Intel Core i...  1,44,990\n",
       "1  ASUS ROG Strix SCAR 15 (2022), 15.6-inch (39.6...  3,15,100\n",
       "2  ASUS ROG Strix Scar 15 (2022), 15.6-inch (39.6...  2,85,990\n",
       "3  ASUS TUF Gaming F15 (2021), 15.6\" (39.62 cms) ...  1,77,885\n",
       "4  ASUS ROG Zephyrus M16 (2022), 16-inch (40.64 c...  3,31,990\n",
       "5  ASUS ROG Strix Scar 15 (2022), 15.6\" (39.62 cm...  2,90,499\n",
       "6  Acer Predator Helios 300 11th Gen Intel Core i...  1,44,990\n",
       "7  (Renewed) HP Omen 15-dh0139TX Gaming Laptop (9...  1,38,000\n",
       "8  HP Envy 15- 11th Gen Intel Core i9/32GB/1TB SS...  2,02,990\n",
       "9  Dell Precision 5550 || i9 -10885H || 16GB || 1...  2,25,000"
      ]
     },
     "execution_count": 26,
     "metadata": {},
     "output_type": "execute_result"
    }
   ],
   "source": [
    "import pandas as pd\n",
    "df_8i9=pd.DataFrame({'Title8_i9':Title8_i9[0:10],'Price8_i9':Price8_i9[0:10]})\n",
    "df_8i9"
   ]
  },
  {
   "cell_type": "code",
   "execution_count": null,
   "id": "0ef06df4",
   "metadata": {},
   "outputs": [],
   "source": []
  },
  {
   "cell_type": "markdown",
   "id": "925e772d",
   "metadata": {},
   "source": [
    "#---------------------------------------------------------------------------------------------------------------------------------------------------------------------------------------------------------------#"
   ]
  },
  {
   "cell_type": "code",
   "execution_count": null,
   "id": "9b961857",
   "metadata": {},
   "outputs": [],
   "source": []
  },
  {
   "cell_type": "markdown",
   "id": "b942c204",
   "metadata": {},
   "source": [
    "# Q9: Write a python program to scrape data for first 10 job results for Data Scientist Designation in Noida location. \n",
    "You have to scrape company name, No. of days ago when job was posted, Rating of the company.\n",
    "This task will be done in following steps:\n",
    "1. First get the webpage https://www.ambitionbox.com/\n",
    "2. Click on the Job option as shown in the image\n",
    "3. After reaching to the next webpage, In place of “Search by Designations, Companies, Skills” enter\n",
    "“Data Scientist” and click on search button.\n",
    "ASSIGNMENT 2\n",
    "4. You will reach to the following web page click on location and in place of “Search location” enter\n",
    "“Noida” and select location “Noida”.\n",
    "5. Then scrape the data for the first 10 jobs results you get on the above shown page.\n",
    "6. Finally create a dataframe of the scraped data.\n"
   ]
  },
  {
   "cell_type": "code",
   "execution_count": 3,
   "id": "1f23c356",
   "metadata": {},
   "outputs": [],
   "source": [
    "#Lets connect to the web driver\n",
    "driver_9=webdriver.Chrome(r\"C:\\Users\\X1\\chromedriver_win32\\chromedriver.exe\")"
   ]
  },
  {
   "cell_type": "code",
   "execution_count": 4,
   "id": "17cbf456",
   "metadata": {},
   "outputs": [],
   "source": [
    "driver_9=webdriver.Chrome('chromedriver.exe')\n",
    "time.sleep(2)"
   ]
  },
  {
   "cell_type": "code",
   "execution_count": 30,
   "id": "b422b0b2",
   "metadata": {},
   "outputs": [],
   "source": [
    "driver_9.close()"
   ]
  },
  {
   "cell_type": "code",
   "execution_count": 5,
   "id": "f2349573",
   "metadata": {},
   "outputs": [],
   "source": [
    "driver_9.get('https://www.ambitionbox.com/')"
   ]
  },
  {
   "cell_type": "code",
   "execution_count": 6,
   "id": "b0b4b8c1",
   "metadata": {},
   "outputs": [],
   "source": [
    "#Finding element for job search bar\n",
    "search_field_designation_9=driver_9.find_element_by_class_name(\"input.tt-input\") # job search bar\n",
    "search_field_designation_9.send_keys(\"data Scientist\")"
   ]
  },
  {
   "cell_type": "code",
   "execution_count": 7,
   "id": "c0429b62",
   "metadata": {},
   "outputs": [],
   "source": [
    "search_button_9=driver_9.find_element_by_xpath(\"/html/body/div/div/div/div[2]/div[1]/div[1]/div/div/div/button/span\")\n",
    "search_button_9.click()"
   ]
  },
  {
   "cell_type": "code",
   "execution_count": 9,
   "id": "b026bab3",
   "metadata": {},
   "outputs": [],
   "source": [
    "search_field_location_9=driver_9.find_element_by_xpath(\"/html/body/div/div/div/div[2]/div[1]/div[2]/div[1]/div/div/div/div[2]/div[2]/div/div[2]/input\") #location search bar\n",
    "search_field_location_9.send_keys(\"Noida\")"
   ]
  },
  {
   "cell_type": "code",
   "execution_count": 10,
   "id": "4c5d25b7",
   "metadata": {},
   "outputs": [],
   "source": [
    "search_button_loc_9=driver_9.find_element_by_xpath(\"/html/body/div/div/div/div[2]/div[1]/div[2]/div[1]/div/div/div/div[2]/div[2]/div/div[2]/i\")\n",
    "search_button_loc_9.click()"
   ]
  },
  {
   "cell_type": "code",
   "execution_count": 11,
   "id": "20419350",
   "metadata": {},
   "outputs": [],
   "source": [
    "# Specifying the url of the page to be scraped\n",
    "url_9=(\"https://www.ambitionbox.com/jobs/search?tag=data%20Scientist&location=Noida\")"
   ]
  },
  {
   "cell_type": "code",
   "execution_count": 12,
   "id": "2bfab375",
   "metadata": {},
   "outputs": [],
   "source": [
    "#Let's open the web page through the web driver\n",
    "driver_9.get(url_9)"
   ]
  },
  {
   "cell_type": "code",
   "execution_count": 13,
   "id": "2871864e",
   "metadata": {},
   "outputs": [],
   "source": [
    "# Now let's create 4 empty lists for 4 attributes\n",
    "job_titles_9=[]\n",
    "company_names_9=[] \n",
    "ratings_9=[] \n",
    "posted_days_9=[]"
   ]
  },
  {
   "cell_type": "markdown",
   "id": "2f5989bb",
   "metadata": {},
   "source": [
    "### To Scrap Job titles"
   ]
  },
  {
   "cell_type": "code",
   "execution_count": 27,
   "id": "7102c30b",
   "metadata": {},
   "outputs": [
    {
     "data": {
      "text/plain": [
       "[<selenium.webdriver.remote.webelement.WebElement (session=\"f8efc89d7d1793fccc26ad539e89671f\", element=\"203c46cb-bd93-4720-afae-e28b1861eeef\")>,\n",
       " <selenium.webdriver.remote.webelement.WebElement (session=\"f8efc89d7d1793fccc26ad539e89671f\", element=\"168fd809-a528-42ef-9573-5132941d0033\")>,\n",
       " <selenium.webdriver.remote.webelement.WebElement (session=\"f8efc89d7d1793fccc26ad539e89671f\", element=\"25beab7b-1e1f-4cce-859a-cd33bdc3d089\")>,\n",
       " <selenium.webdriver.remote.webelement.WebElement (session=\"f8efc89d7d1793fccc26ad539e89671f\", element=\"9d88fd87-9b5f-4dda-a10b-c6dd136693a3\")>,\n",
       " <selenium.webdriver.remote.webelement.WebElement (session=\"f8efc89d7d1793fccc26ad539e89671f\", element=\"d90980ee-9761-42cf-ad82-460a96164910\")>,\n",
       " <selenium.webdriver.remote.webelement.WebElement (session=\"f8efc89d7d1793fccc26ad539e89671f\", element=\"41006538-4a1f-4bb2-a167-c643157d886d\")>,\n",
       " <selenium.webdriver.remote.webelement.WebElement (session=\"f8efc89d7d1793fccc26ad539e89671f\", element=\"b2c73195-7d7e-4359-af98-504e05f8986c\")>,\n",
       " <selenium.webdriver.remote.webelement.WebElement (session=\"f8efc89d7d1793fccc26ad539e89671f\", element=\"9b97eaa5-94b8-4fe2-8cf6-ea4026802f4d\")>,\n",
       " <selenium.webdriver.remote.webelement.WebElement (session=\"f8efc89d7d1793fccc26ad539e89671f\", element=\"2ee597b6-1831-4db8-beff-f1c74eaf3ecc\")>,\n",
       " <selenium.webdriver.remote.webelement.WebElement (session=\"f8efc89d7d1793fccc26ad539e89671f\", element=\"e4b5ac0f-dad2-49e0-8afb-bcd50e3a5b03\")>]"
      ]
     },
     "execution_count": 27,
     "metadata": {},
     "output_type": "execute_result"
    }
   ],
   "source": [
    "#Lets extract all the tags having job titles.\n",
    "titles_tag_9=driver_9.find_elements_by_xpath(\"//a[@class='title noclick']\")\n",
    "titles_tag_9[0:10]"
   ]
  },
  {
   "cell_type": "code",
   "execution_count": 28,
   "id": "ac5d47b2",
   "metadata": {},
   "outputs": [
    {
     "data": {
      "text/plain": [
       "['Data Scientist',\n",
       " 'Senior Data Scientist',\n",
       " 'Data Scientist with SAS',\n",
       " 'Hiring For Data Scientist + Python/R+ Predictive Modeling',\n",
       " 'Urgent Requirement || Data Scientist || Noida',\n",
       " 'Director Data Science',\n",
       " 'Data Scientist - Machine Learning (5-14 yrs)',\n",
       " 'Data Scientist- Fresher Opening - Newgen Software Technologies',\n",
       " 'Senior Data Scientist',\n",
       " 'Data Analyst / Data Scientist']"
      ]
     },
     "execution_count": 28,
     "metadata": {},
     "output_type": "execute_result"
    }
   ],
   "source": [
    "for i in titles_tag_9:\n",
    "    title9=i.text\n",
    "    job_titles_9.append(title9)\n",
    "job_titles_9[0:10]"
   ]
  },
  {
   "cell_type": "markdown",
   "id": "3e8dc1a9",
   "metadata": {},
   "source": [
    "### To scrap company names"
   ]
  },
  {
   "cell_type": "code",
   "execution_count": 29,
   "id": "74f56f59",
   "metadata": {},
   "outputs": [
    {
     "data": {
      "text/plain": [
       "[<selenium.webdriver.remote.webelement.WebElement (session=\"f8efc89d7d1793fccc26ad539e89671f\", element=\"f5256441-4a0c-44d3-9c4b-739620abec47\")>,\n",
       " <selenium.webdriver.remote.webelement.WebElement (session=\"f8efc89d7d1793fccc26ad539e89671f\", element=\"406032a8-8fd9-4809-83e3-fd128a898257\")>,\n",
       " <selenium.webdriver.remote.webelement.WebElement (session=\"f8efc89d7d1793fccc26ad539e89671f\", element=\"54353801-92e5-4a78-bf0a-cc91d7eae62a\")>,\n",
       " <selenium.webdriver.remote.webelement.WebElement (session=\"f8efc89d7d1793fccc26ad539e89671f\", element=\"2b9c35d5-b1ee-4e7a-aec1-f96e3bc302ac\")>,\n",
       " <selenium.webdriver.remote.webelement.WebElement (session=\"f8efc89d7d1793fccc26ad539e89671f\", element=\"a44cb2fd-ea3c-488e-90ab-782d649cc10b\")>,\n",
       " <selenium.webdriver.remote.webelement.WebElement (session=\"f8efc89d7d1793fccc26ad539e89671f\", element=\"a043c4be-fc48-4961-93cd-07755be81403\")>,\n",
       " <selenium.webdriver.remote.webelement.WebElement (session=\"f8efc89d7d1793fccc26ad539e89671f\", element=\"1f3216af-271a-42c5-9b1f-038fb058b8ca\")>,\n",
       " <selenium.webdriver.remote.webelement.WebElement (session=\"f8efc89d7d1793fccc26ad539e89671f\", element=\"0929b10c-04f6-4ce7-86e5-19ca8fd83d3d\")>,\n",
       " <selenium.webdriver.remote.webelement.WebElement (session=\"f8efc89d7d1793fccc26ad539e89671f\", element=\"9158df90-0ccf-4cf6-a865-e9ee7ea50771\")>,\n",
       " <selenium.webdriver.remote.webelement.WebElement (session=\"f8efc89d7d1793fccc26ad539e89671f\", element=\"eb71fd7f-f0f2-4782-a1b7-5ab6dcc36e63\")>]"
      ]
     },
     "execution_count": 29,
     "metadata": {},
     "output_type": "execute_result"
    }
   ],
   "source": [
    "# so lets extract all the tags having company names.\n",
    "companies_tag_9=driver_9.find_elements_by_xpath(\"//p[@class='company body-medium']\")\n",
    "companies_tag_9[0:10]"
   ]
  },
  {
   "cell_type": "code",
   "execution_count": 30,
   "id": "d64a5c9f",
   "metadata": {},
   "outputs": [
    {
     "data": {
      "text/plain": [
       "['GENPACT India Private Limited',\n",
       " 'Optum Global Solutions (India) Private Limited',\n",
       " 'Tech Mahindra Ltd',\n",
       " 'GENPACT India Private Limited',\n",
       " 'HCL Technologies',\n",
       " 'Optum Global Solutions (India) Private Limited',\n",
       " 'Zyoin',\n",
       " 'Newgen Software Technologies Ltd.',\n",
       " 'Pitney Bowes India Pvt Ltd',\n",
       " 'JK Technosoft Ltd']"
      ]
     },
     "execution_count": 30,
     "metadata": {},
     "output_type": "execute_result"
    }
   ],
   "source": [
    "for i in companies_tag_9:\n",
    "    company9=i.text\n",
    "    company_names_9.append(company9)\n",
    "company_names_9[0:10]"
   ]
  },
  {
   "cell_type": "markdown",
   "id": "c91c362c",
   "metadata": {},
   "source": [
    "### To scrap company ratings"
   ]
  },
  {
   "cell_type": "code",
   "execution_count": 31,
   "id": "8926fc9a",
   "metadata": {},
   "outputs": [
    {
     "data": {
      "text/plain": [
       "[<selenium.webdriver.remote.webelement.WebElement (session=\"f8efc89d7d1793fccc26ad539e89671f\", element=\"073bf7bd-6882-4473-9e29-51940d706abb\")>,\n",
       " <selenium.webdriver.remote.webelement.WebElement (session=\"f8efc89d7d1793fccc26ad539e89671f\", element=\"2bcf7149-3c8b-4b6f-ba58-4f9baa54f1c2\")>,\n",
       " <selenium.webdriver.remote.webelement.WebElement (session=\"f8efc89d7d1793fccc26ad539e89671f\", element=\"37c8dc26-266b-457c-96b7-da065750ae08\")>,\n",
       " <selenium.webdriver.remote.webelement.WebElement (session=\"f8efc89d7d1793fccc26ad539e89671f\", element=\"c15383b2-0a1d-4cc9-ae08-37deade56da7\")>,\n",
       " <selenium.webdriver.remote.webelement.WebElement (session=\"f8efc89d7d1793fccc26ad539e89671f\", element=\"838335f7-88b3-432a-be77-32cad698319d\")>,\n",
       " <selenium.webdriver.remote.webelement.WebElement (session=\"f8efc89d7d1793fccc26ad539e89671f\", element=\"7558d37b-52df-49ca-8269-ed95c21332db\")>,\n",
       " <selenium.webdriver.remote.webelement.WebElement (session=\"f8efc89d7d1793fccc26ad539e89671f\", element=\"4f81556a-96a5-4b00-a170-0a857d41ec30\")>]"
      ]
     },
     "execution_count": 31,
     "metadata": {},
     "output_type": "execute_result"
    }
   ],
   "source": [
    "#Lets extract all the tags having ratings.\n",
    "rating_tags_9=driver_9.find_elements_by_xpath(\"//a[@class='rating rating-4']\")\n",
    "rating_tags_9[0:10]"
   ]
  },
  {
   "cell_type": "code",
   "execution_count": 32,
   "id": "79e1a91a",
   "metadata": {},
   "outputs": [
    {
     "data": {
      "text/plain": [
       "['4.0', '4.0', '4.1', '4.0', '4.1', '4.1', '4.2', '4.0', '4.0', '4.1']"
      ]
     },
     "execution_count": 32,
     "metadata": {},
     "output_type": "execute_result"
    }
   ],
   "source": [
    "for i in rating_tags_9:\n",
    "    rating9=i.text\n",
    "    ratings_9.append(rating9)\n",
    "ratings_9[0:10]"
   ]
  },
  {
   "cell_type": "markdown",
   "id": "3a84f371",
   "metadata": {},
   "source": [
    "### To scrap days of posting"
   ]
  },
  {
   "cell_type": "code",
   "execution_count": 33,
   "id": "4b9d11ff",
   "metadata": {},
   "outputs": [
    {
     "data": {
      "text/plain": [
       "[<selenium.webdriver.remote.webelement.WebElement (session=\"f8efc89d7d1793fccc26ad539e89671f\", element=\"d6bcde8b-0c59-4f7a-9395-96f168ce902d\")>,\n",
       " <selenium.webdriver.remote.webelement.WebElement (session=\"f8efc89d7d1793fccc26ad539e89671f\", element=\"8bc84376-a5ad-42df-87a7-ddec049a26a3\")>,\n",
       " <selenium.webdriver.remote.webelement.WebElement (session=\"f8efc89d7d1793fccc26ad539e89671f\", element=\"7a497fe8-e06d-4275-86ca-19c326a8bdd5\")>,\n",
       " <selenium.webdriver.remote.webelement.WebElement (session=\"f8efc89d7d1793fccc26ad539e89671f\", element=\"66d6a086-dc97-4f9b-9cd1-b93c7ea40b4c\")>,\n",
       " <selenium.webdriver.remote.webelement.WebElement (session=\"f8efc89d7d1793fccc26ad539e89671f\", element=\"7e76ca81-f70e-4008-84cc-14e5417ee262\")>,\n",
       " <selenium.webdriver.remote.webelement.WebElement (session=\"f8efc89d7d1793fccc26ad539e89671f\", element=\"261a6806-4371-4c47-ba36-3361ebc7ca4c\")>,\n",
       " <selenium.webdriver.remote.webelement.WebElement (session=\"f8efc89d7d1793fccc26ad539e89671f\", element=\"b8175535-dd89-4ec8-b654-e90710925166\")>,\n",
       " <selenium.webdriver.remote.webelement.WebElement (session=\"f8efc89d7d1793fccc26ad539e89671f\", element=\"3836b855-fdf6-4782-ae7b-eed2ccd6dd26\")>,\n",
       " <selenium.webdriver.remote.webelement.WebElement (session=\"f8efc89d7d1793fccc26ad539e89671f\", element=\"b49ad76f-d58a-41a7-a74c-127ef13a5114\")>,\n",
       " <selenium.webdriver.remote.webelement.WebElement (session=\"f8efc89d7d1793fccc26ad539e89671f\", element=\"cc860629-4d4e-418c-8947-9fe99127e774\")>]"
      ]
     },
     "execution_count": 33,
     "metadata": {},
     "output_type": "execute_result"
    }
   ],
   "source": [
    "#Let's extract all the tags having no of days jobs were posted..\n",
    "days_tags_9=driver_9.find_elements_by_xpath(\"//span[@class='body-small-l']\")\n",
    "days_tags_9[0:10]"
   ]
  },
  {
   "cell_type": "code",
   "execution_count": 34,
   "id": "d37047f3",
   "metadata": {},
   "outputs": [
    {
     "data": {
      "text/plain": [
       "['3d ago',\n",
       " 'via naukri.com',\n",
       " '18d ago',\n",
       " 'via naukri.com',\n",
       " '17d ago',\n",
       " 'via naukri.com',\n",
       " '20d ago',\n",
       " 'via naukri.com',\n",
       " '24d ago',\n",
       " 'via naukri.com',\n",
       " '1mon ago',\n",
       " 'via naukri.com',\n",
       " '2d ago',\n",
       " 'via hirist.com',\n",
       " '4d ago',\n",
       " 'via naukri.com',\n",
       " '1mon ago',\n",
       " 'via naukri.com',\n",
       " '13d ago',\n",
       " 'via naukri.com']"
      ]
     },
     "execution_count": 34,
     "metadata": {},
     "output_type": "execute_result"
    }
   ],
   "source": [
    "for i in days_tags_9:\n",
    "    tags9=i.text\n",
    "    posted_days_9.append(tags9)\n",
    "posted_days_9[0:20]"
   ]
  },
  {
   "cell_type": "code",
   "execution_count": 35,
   "id": "b9103059",
   "metadata": {},
   "outputs": [
    {
     "data": {
      "text/plain": [
       "['3d ago',\n",
       " '18d ago',\n",
       " '17d ago',\n",
       " '20d ago',\n",
       " '24d ago',\n",
       " '1mon ago',\n",
       " '2d ago',\n",
       " '4d ago',\n",
       " '1mon ago',\n",
       " '13d ago']"
      ]
     },
     "execution_count": 35,
     "metadata": {},
     "output_type": "execute_result"
    }
   ],
   "source": [
    "No_of_days_9=[]\n",
    "i=0\n",
    "while i<20:\n",
    "    No_of_days_9.append(posted_days_9[i])\n",
    "    i+=2\n",
    "No_of_days_9"
   ]
  },
  {
   "cell_type": "markdown",
   "id": "5c951716",
   "metadata": {},
   "source": [
    "### Checking Length"
   ]
  },
  {
   "cell_type": "code",
   "execution_count": 36,
   "id": "1bbc062b",
   "metadata": {},
   "outputs": [
    {
     "name": "stdout",
     "output_type": "stream",
     "text": [
      "10 10 10 10\n"
     ]
    }
   ],
   "source": [
    "print(len(job_titles_9[0:10]),len(company_names_9[0:10]),len(No_of_days_9),len(ratings_9[0:10]))"
   ]
  },
  {
   "cell_type": "markdown",
   "id": "70ce65b1",
   "metadata": {},
   "source": [
    "### Making DATAFRAME"
   ]
  },
  {
   "cell_type": "code",
   "execution_count": 37,
   "id": "75ed636c",
   "metadata": {},
   "outputs": [
    {
     "data": {
      "text/html": [
       "<div>\n",
       "<style scoped>\n",
       "    .dataframe tbody tr th:only-of-type {\n",
       "        vertical-align: middle;\n",
       "    }\n",
       "\n",
       "    .dataframe tbody tr th {\n",
       "        vertical-align: top;\n",
       "    }\n",
       "\n",
       "    .dataframe thead th {\n",
       "        text-align: right;\n",
       "    }\n",
       "</style>\n",
       "<table border=\"1\" class=\"dataframe\">\n",
       "  <thead>\n",
       "    <tr style=\"text-align: right;\">\n",
       "      <th></th>\n",
       "      <th>job_titles_9</th>\n",
       "      <th>company_names_9</th>\n",
       "      <th>No_of_days_9</th>\n",
       "      <th>ratings_9</th>\n",
       "    </tr>\n",
       "  </thead>\n",
       "  <tbody>\n",
       "    <tr>\n",
       "      <th>0</th>\n",
       "      <td>Data Scientist</td>\n",
       "      <td>GENPACT India Private Limited</td>\n",
       "      <td>3d ago</td>\n",
       "      <td>4.0</td>\n",
       "    </tr>\n",
       "    <tr>\n",
       "      <th>1</th>\n",
       "      <td>Senior Data Scientist</td>\n",
       "      <td>Optum Global Solutions (India) Private Limited</td>\n",
       "      <td>18d ago</td>\n",
       "      <td>4.0</td>\n",
       "    </tr>\n",
       "    <tr>\n",
       "      <th>2</th>\n",
       "      <td>Data Scientist with SAS</td>\n",
       "      <td>Tech Mahindra Ltd</td>\n",
       "      <td>17d ago</td>\n",
       "      <td>4.1</td>\n",
       "    </tr>\n",
       "    <tr>\n",
       "      <th>3</th>\n",
       "      <td>Hiring For Data Scientist + Python/R+ Predicti...</td>\n",
       "      <td>GENPACT India Private Limited</td>\n",
       "      <td>20d ago</td>\n",
       "      <td>4.0</td>\n",
       "    </tr>\n",
       "    <tr>\n",
       "      <th>4</th>\n",
       "      <td>Urgent Requirement || Data Scientist || Noida</td>\n",
       "      <td>HCL Technologies</td>\n",
       "      <td>24d ago</td>\n",
       "      <td>4.1</td>\n",
       "    </tr>\n",
       "    <tr>\n",
       "      <th>5</th>\n",
       "      <td>Director Data Science</td>\n",
       "      <td>Optum Global Solutions (India) Private Limited</td>\n",
       "      <td>1mon ago</td>\n",
       "      <td>4.1</td>\n",
       "    </tr>\n",
       "    <tr>\n",
       "      <th>6</th>\n",
       "      <td>Data Scientist - Machine Learning (5-14 yrs)</td>\n",
       "      <td>Zyoin</td>\n",
       "      <td>2d ago</td>\n",
       "      <td>4.2</td>\n",
       "    </tr>\n",
       "    <tr>\n",
       "      <th>7</th>\n",
       "      <td>Data Scientist- Fresher Opening - Newgen Softw...</td>\n",
       "      <td>Newgen Software Technologies Ltd.</td>\n",
       "      <td>4d ago</td>\n",
       "      <td>4.0</td>\n",
       "    </tr>\n",
       "    <tr>\n",
       "      <th>8</th>\n",
       "      <td>Senior Data Scientist</td>\n",
       "      <td>Pitney Bowes India Pvt Ltd</td>\n",
       "      <td>1mon ago</td>\n",
       "      <td>4.0</td>\n",
       "    </tr>\n",
       "    <tr>\n",
       "      <th>9</th>\n",
       "      <td>Data Analyst / Data Scientist</td>\n",
       "      <td>JK Technosoft Ltd</td>\n",
       "      <td>13d ago</td>\n",
       "      <td>4.1</td>\n",
       "    </tr>\n",
       "  </tbody>\n",
       "</table>\n",
       "</div>"
      ],
      "text/plain": [
       "                                        job_titles_9  \\\n",
       "0                                     Data Scientist   \n",
       "1                              Senior Data Scientist   \n",
       "2                            Data Scientist with SAS   \n",
       "3  Hiring For Data Scientist + Python/R+ Predicti...   \n",
       "4      Urgent Requirement || Data Scientist || Noida   \n",
       "5                              Director Data Science   \n",
       "6       Data Scientist - Machine Learning (5-14 yrs)   \n",
       "7  Data Scientist- Fresher Opening - Newgen Softw...   \n",
       "8                              Senior Data Scientist   \n",
       "9                      Data Analyst / Data Scientist   \n",
       "\n",
       "                                  company_names_9 No_of_days_9 ratings_9  \n",
       "0                   GENPACT India Private Limited       3d ago       4.0  \n",
       "1  Optum Global Solutions (India) Private Limited      18d ago       4.0  \n",
       "2                               Tech Mahindra Ltd      17d ago       4.1  \n",
       "3                   GENPACT India Private Limited      20d ago       4.0  \n",
       "4                                HCL Technologies      24d ago       4.1  \n",
       "5  Optum Global Solutions (India) Private Limited     1mon ago       4.1  \n",
       "6                                           Zyoin       2d ago       4.2  \n",
       "7               Newgen Software Technologies Ltd.       4d ago       4.0  \n",
       "8                      Pitney Bowes India Pvt Ltd     1mon ago       4.0  \n",
       "9                               JK Technosoft Ltd      13d ago       4.1  "
      ]
     },
     "execution_count": 37,
     "metadata": {},
     "output_type": "execute_result"
    }
   ],
   "source": [
    "import pandas as pd\n",
    "df_9=pd.DataFrame({'job_titles_9':job_titles_9[0:10],'company_names_9':company_names_9[0:10],'No_of_days_9':No_of_days_9,'ratings_9':ratings_9[0:10]})\n",
    "df_9"
   ]
  },
  {
   "cell_type": "code",
   "execution_count": null,
   "id": "ba8c2638",
   "metadata": {},
   "outputs": [],
   "source": []
  },
  {
   "cell_type": "markdown",
   "id": "6bd78e04",
   "metadata": {},
   "source": [
    "#---------------------------------------------------------------------------------------------------------------------------------------------------------------------------------------------------------------#"
   ]
  },
  {
   "cell_type": "code",
   "execution_count": null,
   "id": "f809ad43",
   "metadata": {},
   "outputs": [],
   "source": []
  },
  {
   "cell_type": "markdown",
   "id": "f7429f04",
   "metadata": {},
   "source": [
    "# Q10: Write a python program to scrape the salary data for Data Scientist designation.\n",
    "You have to scrape Company name, Number of salaries, Average salary, Minsalary, Max Salary.\n",
    "The above task will be, done as shown in the below steps:\n",
    "1. First get the webpage https://www.ambitionbox.com/\n",
    "2. Click on the salaries option as shown in the image.\n",
    "ASSIGNMENT 2\n",
    "3. After reaching to the following webpage, In place of “Search Job Profile” enters “Data Scientist” and\n",
    "then click on “Data Scientist”.\n",
    "You have to scrape the data ticked in the above image.\n",
    "4. Scrape the data for the first 10 companies. Scrape the company name, total salary record, average\n",
    "salary, minimum salary, maximum salary, experience required.\n",
    "5. Store the data in a dataframe."
   ]
  },
  {
   "cell_type": "code",
   "execution_count": 3,
   "id": "9c9cdda5",
   "metadata": {},
   "outputs": [],
   "source": [
    "#Lets connect to the web driver\n",
    "driver_10=webdriver.Chrome(r\"C:\\Users\\X1\\chromedriver_win32\\chromedriver.exe\")"
   ]
  },
  {
   "cell_type": "code",
   "execution_count": 4,
   "id": "0597f29c",
   "metadata": {},
   "outputs": [],
   "source": [
    "driver_10=webdriver.Chrome('chromedriver.exe')\n",
    "time.sleep(2)"
   ]
  },
  {
   "cell_type": "code",
   "execution_count": 80,
   "id": "60a893f8",
   "metadata": {},
   "outputs": [],
   "source": [
    "driver_10.close()"
   ]
  },
  {
   "cell_type": "code",
   "execution_count": 5,
   "id": "327d524e",
   "metadata": {},
   "outputs": [],
   "source": [
    "driver_10.get('https://www.ambitionbox.com/')"
   ]
  },
  {
   "cell_type": "code",
   "execution_count": 6,
   "id": "316307aa",
   "metadata": {},
   "outputs": [],
   "source": [
    "#Finding element for job search bar\n",
    "search_field_designation_10=driver_10.find_element_by_class_name(\"tt-input\") # job search bar\n",
    "search_field_designation_10.send_keys(\"Data Analyst\")"
   ]
  },
  {
   "cell_type": "code",
   "execution_count": 7,
   "id": "71372b88",
   "metadata": {},
   "outputs": [],
   "source": [
    "search_button_10=driver_10.find_element_by_xpath(\"/html/body/div/div/div/main/section[1]/div[2]/div[1]/i[1]\")\n",
    "search_button_10.click()"
   ]
  },
  {
   "cell_type": "code",
   "execution_count": 8,
   "id": "f0b6f21d",
   "metadata": {
    "scrolled": true
   },
   "outputs": [
    {
     "name": "stdout",
     "output_type": "stream",
     "text": [
      "[<selenium.webdriver.remote.webelement.WebElement (session=\"1ee8508fb475e68c6f72dffb004265f3\", element=\"d8ec7cbe-100c-4e55-b044-1fcc5eddda73\")>, <selenium.webdriver.remote.webelement.WebElement (session=\"1ee8508fb475e68c6f72dffb004265f3\", element=\"abedcf81-b519-4c2f-a67f-55b3d370d31c\")>, <selenium.webdriver.remote.webelement.WebElement (session=\"1ee8508fb475e68c6f72dffb004265f3\", element=\"90daccca-08ba-4729-b5c9-9f19600dd21c\")>, <selenium.webdriver.remote.webelement.WebElement (session=\"1ee8508fb475e68c6f72dffb004265f3\", element=\"9e8b8bec-bb68-4f28-992d-240f161a3223\")>, <selenium.webdriver.remote.webelement.WebElement (session=\"1ee8508fb475e68c6f72dffb004265f3\", element=\"a2f3742d-c8ec-497d-977f-e83102e382cd\")>, <selenium.webdriver.remote.webelement.WebElement (session=\"1ee8508fb475e68c6f72dffb004265f3\", element=\"f96a4a98-9558-4fb4-ab6c-857580135a47\")>, <selenium.webdriver.remote.webelement.WebElement (session=\"1ee8508fb475e68c6f72dffb004265f3\", element=\"d10a4759-6721-46fe-b664-e775afabd705\")>, <selenium.webdriver.remote.webelement.WebElement (session=\"1ee8508fb475e68c6f72dffb004265f3\", element=\"1671bfcb-1e59-4dea-988f-25ed05a66236\")>, <selenium.webdriver.remote.webelement.WebElement (session=\"1ee8508fb475e68c6f72dffb004265f3\", element=\"6ac292cf-8289-4343-b769-6ae1b47e231f\")>, <selenium.webdriver.remote.webelement.WebElement (session=\"1ee8508fb475e68c6f72dffb004265f3\", element=\"26c0a1e0-edba-442c-9dd7-1ece378cab64\")>]\n"
     ]
    }
   ],
   "source": [
    "#Lets extract all the tags having company names \n",
    "company_10=driver_10.find_elements_by_xpath(\"//div[@class='name']\")\n",
    "print(company_10)"
   ]
  },
  {
   "cell_type": "code",
   "execution_count": 9,
   "id": "99e2ac86",
   "metadata": {},
   "outputs": [
    {
     "data": {
      "text/plain": [
       "[['Citicorp', 'based on 10 salaries'],\n",
       " ['Optum', 'based on 38 salaries'],\n",
       " ['Ameriprise Financial', 'based on 10 salaries'],\n",
       " ['Novartis Healthcare', 'based on 29 salaries'],\n",
       " ['Walmart', 'based on 11 salaries'],\n",
       " ['Ford Motor', 'based on 22 salaries'],\n",
       " ['Honeywell Technology Solutions', 'based on 11 salaries'],\n",
       " ['Myntra', 'based on 63 salaries'],\n",
       " ['Indegene', 'based on 38 salaries'],\n",
       " ['Axtria', 'based on 22 salaries']]"
      ]
     },
     "execution_count": 9,
     "metadata": {},
     "output_type": "execute_result"
    }
   ],
   "source": [
    "company_salary_10=[]\n",
    "for i in company_10:\n",
    "    title_10=i.text.split('\\n')\n",
    "    company_salary_10.append(title_10)\n",
    "company_salary_10"
   ]
  },
  {
   "cell_type": "markdown",
   "id": "751c5742",
   "metadata": {},
   "source": [
    "### To Scrap Company title"
   ]
  },
  {
   "cell_type": "code",
   "execution_count": 10,
   "id": "f38c172a",
   "metadata": {},
   "outputs": [
    {
     "data": {
      "text/plain": [
       "['Citicorp',\n",
       " 'Optum',\n",
       " 'Ameriprise Financial',\n",
       " 'Novartis Healthcare',\n",
       " 'Walmart',\n",
       " 'Ford Motor',\n",
       " 'Honeywell Technology Solutions',\n",
       " 'Myntra',\n",
       " 'Indegene',\n",
       " 'Axtria']"
      ]
     },
     "execution_count": 10,
     "metadata": {},
     "output_type": "execute_result"
    }
   ],
   "source": [
    "Company_title_10=[]\n",
    "for i in company_salary_10:\n",
    "     Company_title_10.append(i[0])\n",
    " \n",
    "Company_title_10"
   ]
  },
  {
   "cell_type": "markdown",
   "id": "fdd61706",
   "metadata": {},
   "source": [
    "### To Scrap Total salary records"
   ]
  },
  {
   "cell_type": "code",
   "execution_count": 11,
   "id": "4274bd02",
   "metadata": {},
   "outputs": [
    {
     "data": {
      "text/plain": [
       "['based on 10 salaries',\n",
       " 'based on 38 salaries',\n",
       " 'based on 10 salaries',\n",
       " 'based on 29 salaries',\n",
       " 'based on 11 salaries',\n",
       " 'based on 22 salaries',\n",
       " 'based on 11 salaries',\n",
       " 'based on 63 salaries',\n",
       " 'based on 38 salaries',\n",
       " 'based on 22 salaries']"
      ]
     },
     "execution_count": 11,
     "metadata": {},
     "output_type": "execute_result"
    }
   ],
   "source": [
    "Salary_records_10=[]\n",
    "for i in company_salary_10:\n",
    "     Salary_records_10.append(i[1])\n",
    " \n",
    "Salary_records_10"
   ]
  },
  {
   "cell_type": "code",
   "execution_count": 12,
   "id": "0342862b",
   "metadata": {},
   "outputs": [
    {
     "name": "stdout",
     "output_type": "stream",
     "text": [
      "[<selenium.webdriver.remote.webelement.WebElement (session=\"1ee8508fb475e68c6f72dffb004265f3\", element=\"b32cf0fb-a0e9-4757-8cb3-d9627a3b6b1c\")>, <selenium.webdriver.remote.webelement.WebElement (session=\"1ee8508fb475e68c6f72dffb004265f3\", element=\"8c68c589-1c6a-43cc-8bbd-7e85f5113557\")>, <selenium.webdriver.remote.webelement.WebElement (session=\"1ee8508fb475e68c6f72dffb004265f3\", element=\"c47c3458-0b0b-4710-8eb0-a2afcdd83b05\")>, <selenium.webdriver.remote.webelement.WebElement (session=\"1ee8508fb475e68c6f72dffb004265f3\", element=\"cc16ab80-721c-41c1-9c09-70e5e214f1de\")>, <selenium.webdriver.remote.webelement.WebElement (session=\"1ee8508fb475e68c6f72dffb004265f3\", element=\"035c1b4d-724c-4b48-bcca-ca044269a04d\")>, <selenium.webdriver.remote.webelement.WebElement (session=\"1ee8508fb475e68c6f72dffb004265f3\", element=\"989af4bf-fb8a-4d7f-9f4a-d5cb9d6a39f3\")>, <selenium.webdriver.remote.webelement.WebElement (session=\"1ee8508fb475e68c6f72dffb004265f3\", element=\"3c607a19-ef3a-4388-9904-8ad5d8808850\")>, <selenium.webdriver.remote.webelement.WebElement (session=\"1ee8508fb475e68c6f72dffb004265f3\", element=\"ed13e622-513b-4a9c-8f0e-9e3da986f166\")>, <selenium.webdriver.remote.webelement.WebElement (session=\"1ee8508fb475e68c6f72dffb004265f3\", element=\"4097feb9-e6d7-4e5d-bd83-9bc2ba06ef80\")>, <selenium.webdriver.remote.webelement.WebElement (session=\"1ee8508fb475e68c6f72dffb004265f3\", element=\"4152cb53-600c-4596-a1a2-59c029aceef3\")>]\n"
     ]
    }
   ],
   "source": [
    "#Lets extract all the tags having experience \n",
    "exp_details10=driver_10.find_elements_by_xpath(\"//div[@class='salaries sbold-list-header']\")\n",
    "print(exp_details10)"
   ]
  },
  {
   "cell_type": "code",
   "execution_count": 13,
   "id": "d031cabd",
   "metadata": {},
   "outputs": [
    {
     "data": {
      "text/plain": [
       "[['Data Analyst', ' . ', '2 yrs exp'],\n",
       " ['Data Analyst', ' . ', '2-4 yrs exp'],\n",
       " ['Data Analyst', ' . ', '2 yrs exp'],\n",
       " ['Data Analyst', ' . ', '3-4 yrs exp'],\n",
       " ['Data Analyst', ' . ', '3 yrs exp'],\n",
       " ['Data Analyst', ' . ', '2-3 yrs exp'],\n",
       " ['Data Analyst', ' . ', '4 yrs exp'],\n",
       " ['Data Analyst', ' . ', '1-4 yrs exp'],\n",
       " ['Data Analyst', ' . ', '1-3 yrs exp'],\n",
       " ['Data Analyst', ' . ', '2 yrs exp']]"
      ]
     },
     "execution_count": 13,
     "metadata": {},
     "output_type": "execute_result"
    }
   ],
   "source": [
    "experience_10=[]\n",
    "for i in exp_details10:\n",
    "    exp_10=i.text.split('\\n')\n",
    "    experience_10.append(exp_10)\n",
    "experience_10"
   ]
  },
  {
   "cell_type": "markdown",
   "id": "a6839bc8",
   "metadata": {},
   "source": [
    "### To Scrap Experience"
   ]
  },
  {
   "cell_type": "code",
   "execution_count": 14,
   "id": "b1aa1bb4",
   "metadata": {},
   "outputs": [
    {
     "data": {
      "text/plain": [
       "['2 yrs exp',\n",
       " '2-4 yrs exp',\n",
       " '2 yrs exp',\n",
       " '3-4 yrs exp',\n",
       " '3 yrs exp',\n",
       " '2-3 yrs exp',\n",
       " '4 yrs exp',\n",
       " '1-4 yrs exp',\n",
       " '1-3 yrs exp',\n",
       " '2 yrs exp']"
      ]
     },
     "execution_count": 14,
     "metadata": {},
     "output_type": "execute_result"
    }
   ],
   "source": [
    "exp_yrs_10=[]\n",
    "for i in experience_10:\n",
    "     exp_yrs_10.append(i[2])\n",
    " \n",
    "exp_yrs_10"
   ]
  },
  {
   "cell_type": "code",
   "execution_count": 15,
   "id": "a6103e5c",
   "metadata": {},
   "outputs": [
    {
     "name": "stdout",
     "output_type": "stream",
     "text": [
      "[<selenium.webdriver.remote.webelement.WebElement (session=\"1ee8508fb475e68c6f72dffb004265f3\", element=\"674865d3-295d-449b-b05b-ebb723ba358b\")>, <selenium.webdriver.remote.webelement.WebElement (session=\"1ee8508fb475e68c6f72dffb004265f3\", element=\"e4ae2e00-0477-43c8-9cf3-249f6abffbcf\")>, <selenium.webdriver.remote.webelement.WebElement (session=\"1ee8508fb475e68c6f72dffb004265f3\", element=\"820f42d3-2edc-4f9b-97e3-6ca2c706caab\")>, <selenium.webdriver.remote.webelement.WebElement (session=\"1ee8508fb475e68c6f72dffb004265f3\", element=\"ca890e4e-57ee-4317-b191-d1014a4527c6\")>, <selenium.webdriver.remote.webelement.WebElement (session=\"1ee8508fb475e68c6f72dffb004265f3\", element=\"f8e60cad-3415-4ca5-945c-380226041920\")>, <selenium.webdriver.remote.webelement.WebElement (session=\"1ee8508fb475e68c6f72dffb004265f3\", element=\"8bec7b36-4751-428b-96a0-173cf3cf152f\")>, <selenium.webdriver.remote.webelement.WebElement (session=\"1ee8508fb475e68c6f72dffb004265f3\", element=\"14e21b72-b49b-4033-a573-0921c0cddcc9\")>, <selenium.webdriver.remote.webelement.WebElement (session=\"1ee8508fb475e68c6f72dffb004265f3\", element=\"191837b8-d1d8-4d5b-b292-ddf277b2a4c2\")>, <selenium.webdriver.remote.webelement.WebElement (session=\"1ee8508fb475e68c6f72dffb004265f3\", element=\"f2587afc-b76b-42e2-a579-524dbd014b8a\")>, <selenium.webdriver.remote.webelement.WebElement (session=\"1ee8508fb475e68c6f72dffb004265f3\", element=\"e59a9e71-b207-49cb-97af-732a38815c9f\")>]\n"
     ]
    }
   ],
   "source": [
    "#Lets extract all the tags having salary ranges \n",
    "avg_salary10=driver_10.find_elements_by_xpath(\"//p[@class='averageCtc']\")\n",
    "print(avg_salary10)"
   ]
  },
  {
   "cell_type": "markdown",
   "id": "efe62ee1",
   "metadata": {},
   "source": [
    "### To Scrap Average Salary"
   ]
  },
  {
   "cell_type": "code",
   "execution_count": 16,
   "id": "0bb0bad7",
   "metadata": {},
   "outputs": [
    {
     "data": {
      "text/plain": [
       "['₹ 12.1L',\n",
       " '₹ 11.2L',\n",
       " '₹ 10.4L',\n",
       " '₹ 9.9L',\n",
       " '₹ 9.9L',\n",
       " '₹ 9.8L',\n",
       " '₹ 9.7L',\n",
       " '₹ 9.5L',\n",
       " '₹ 9.2L',\n",
       " '₹ 8.5L']"
      ]
     },
     "execution_count": 16,
     "metadata": {},
     "output_type": "execute_result"
    }
   ],
   "source": [
    "average_salary_10=[]\n",
    "for i in avg_salary10:\n",
    "    avg_10=i.text\n",
    "    average_salary_10.append(avg_10)\n",
    "average_salary_10"
   ]
  },
  {
   "cell_type": "code",
   "execution_count": 21,
   "id": "54c6e919",
   "metadata": {},
   "outputs": [
    {
     "name": "stdout",
     "output_type": "stream",
     "text": [
      "[<selenium.webdriver.remote.webelement.WebElement (session=\"1ee8508fb475e68c6f72dffb004265f3\", element=\"abfcd071-8365-46d8-9f45-b4136cc1e36f\")>, <selenium.webdriver.remote.webelement.WebElement (session=\"1ee8508fb475e68c6f72dffb004265f3\", element=\"3f196d80-5eab-42a7-9e05-351cba890628\")>, <selenium.webdriver.remote.webelement.WebElement (session=\"1ee8508fb475e68c6f72dffb004265f3\", element=\"65436972-d9d1-446b-b04b-3b4125cce09c\")>, <selenium.webdriver.remote.webelement.WebElement (session=\"1ee8508fb475e68c6f72dffb004265f3\", element=\"6d95d1c3-4f73-48ff-99ed-6976d1c6104a\")>, <selenium.webdriver.remote.webelement.WebElement (session=\"1ee8508fb475e68c6f72dffb004265f3\", element=\"7473ba65-761d-469b-ab9f-4f82c04f0f8c\")>, <selenium.webdriver.remote.webelement.WebElement (session=\"1ee8508fb475e68c6f72dffb004265f3\", element=\"d7bc61d4-ef50-489d-896c-61252d5ff04c\")>, <selenium.webdriver.remote.webelement.WebElement (session=\"1ee8508fb475e68c6f72dffb004265f3\", element=\"cbc46b66-680d-4311-83e8-d492ad1efe3d\")>, <selenium.webdriver.remote.webelement.WebElement (session=\"1ee8508fb475e68c6f72dffb004265f3\", element=\"7ef133b6-77a8-4152-8f38-c4e5154fd9a0\")>, <selenium.webdriver.remote.webelement.WebElement (session=\"1ee8508fb475e68c6f72dffb004265f3\", element=\"cf2953e4-e97f-4d86-9c36-00f8a52300e7\")>, <selenium.webdriver.remote.webelement.WebElement (session=\"1ee8508fb475e68c6f72dffb004265f3\", element=\"66483bfd-830b-4b46-9706-2c2be35625fc\")>]\n"
     ]
    }
   ],
   "source": [
    "sal_val10=driver_10.find_elements_by_xpath(\"//div[@class='salary-values']\")\n",
    "print(sal_val10)"
   ]
  },
  {
   "cell_type": "code",
   "execution_count": 22,
   "id": "61a0f639",
   "metadata": {},
   "outputs": [
    {
     "data": {
      "text/plain": [
       "[['₹ 10.0L', '₹ 14.0L'],\n",
       " ['₹ 6.0L', '₹ 18.3L'],\n",
       " ['₹ 7.5L', '₹ 15.2L'],\n",
       " ['₹ 6.0L', '₹ 14.2L'],\n",
       " ['₹ 4.0L', '₹ 22.5L'],\n",
       " ['₹ 5.9L', '₹ 12.8L'],\n",
       " ['₹ 5.6L', '₹ 11.8L'],\n",
       " ['₹ 5.0L', '₹ 13.5L'],\n",
       " ['₹ 5.7L', '₹ 11.0L'],\n",
       " ['₹ 6.0L', '₹ 13.0L']]"
      ]
     },
     "execution_count": 22,
     "metadata": {},
     "output_type": "execute_result"
    }
   ],
   "source": [
    "Salary_range_10=[]\n",
    "for i in sal_val10:\n",
    "    salary_10=i.text.split('\\n')\n",
    "    Salary_range_10.append(salary_10)\n",
    "Salary_range_10"
   ]
  },
  {
   "cell_type": "markdown",
   "id": "b8388b98",
   "metadata": {},
   "source": [
    "### To Scrap Minimum Salary"
   ]
  },
  {
   "cell_type": "code",
   "execution_count": 23,
   "id": "cd38af26",
   "metadata": {},
   "outputs": [
    {
     "data": {
      "text/plain": [
       "['₹ 10.0L',\n",
       " '₹ 6.0L',\n",
       " '₹ 7.5L',\n",
       " '₹ 6.0L',\n",
       " '₹ 4.0L',\n",
       " '₹ 5.9L',\n",
       " '₹ 5.6L',\n",
       " '₹ 5.0L',\n",
       " '₹ 5.7L',\n",
       " '₹ 6.0L']"
      ]
     },
     "execution_count": 23,
     "metadata": {},
     "output_type": "execute_result"
    }
   ],
   "source": [
    "min_salary_10=[]\n",
    "for i in Salary_range_10:\n",
    "     min_salary_10.append(i[0])\n",
    " \n",
    "min_salary_10"
   ]
  },
  {
   "cell_type": "markdown",
   "id": "68c8bfa7",
   "metadata": {},
   "source": [
    "### To Scrap Maximum Salary"
   ]
  },
  {
   "cell_type": "code",
   "execution_count": 24,
   "id": "d9926a8a",
   "metadata": {},
   "outputs": [
    {
     "data": {
      "text/plain": [
       "['₹ 14.0L',\n",
       " '₹ 18.3L',\n",
       " '₹ 15.2L',\n",
       " '₹ 14.2L',\n",
       " '₹ 22.5L',\n",
       " '₹ 12.8L',\n",
       " '₹ 11.8L',\n",
       " '₹ 13.5L',\n",
       " '₹ 11.0L',\n",
       " '₹ 13.0L']"
      ]
     },
     "execution_count": 24,
     "metadata": {},
     "output_type": "execute_result"
    }
   ],
   "source": [
    "max_salary_10=[]\n",
    "for i in Salary_range_10:\n",
    "     max_salary_10.append(i[1])\n",
    " \n",
    "max_salary_10"
   ]
  },
  {
   "cell_type": "markdown",
   "id": "940f9504",
   "metadata": {},
   "source": [
    "### Checking length of the attributes"
   ]
  },
  {
   "cell_type": "code",
   "execution_count": 25,
   "id": "ad8f359e",
   "metadata": {},
   "outputs": [
    {
     "name": "stdout",
     "output_type": "stream",
     "text": [
      "10 10 10 10 10 10\n"
     ]
    }
   ],
   "source": [
    "print(len(Company_title_10),len(Salary_records_10),len(exp_yrs_10),len(average_salary_10),len(min_salary_10),len(max_salary_10))"
   ]
  },
  {
   "cell_type": "markdown",
   "id": "f6d89210",
   "metadata": {},
   "source": [
    "### Making DataFrame"
   ]
  },
  {
   "cell_type": "code",
   "execution_count": 26,
   "id": "064183e4",
   "metadata": {},
   "outputs": [
    {
     "data": {
      "text/html": [
       "<div>\n",
       "<style scoped>\n",
       "    .dataframe tbody tr th:only-of-type {\n",
       "        vertical-align: middle;\n",
       "    }\n",
       "\n",
       "    .dataframe tbody tr th {\n",
       "        vertical-align: top;\n",
       "    }\n",
       "\n",
       "    .dataframe thead th {\n",
       "        text-align: right;\n",
       "    }\n",
       "</style>\n",
       "<table border=\"1\" class=\"dataframe\">\n",
       "  <thead>\n",
       "    <tr style=\"text-align: right;\">\n",
       "      <th></th>\n",
       "      <th>Company_title</th>\n",
       "      <th>Salary_records</th>\n",
       "      <th>exp_yrs</th>\n",
       "      <th>average_salary</th>\n",
       "      <th>min_salary</th>\n",
       "      <th>max_salary</th>\n",
       "    </tr>\n",
       "  </thead>\n",
       "  <tbody>\n",
       "    <tr>\n",
       "      <th>0</th>\n",
       "      <td>Citicorp</td>\n",
       "      <td>based on 10 salaries</td>\n",
       "      <td>2 yrs exp</td>\n",
       "      <td>₹ 12.1L</td>\n",
       "      <td>₹ 10.0L</td>\n",
       "      <td>₹ 14.0L</td>\n",
       "    </tr>\n",
       "    <tr>\n",
       "      <th>1</th>\n",
       "      <td>Optum</td>\n",
       "      <td>based on 38 salaries</td>\n",
       "      <td>2-4 yrs exp</td>\n",
       "      <td>₹ 11.2L</td>\n",
       "      <td>₹ 6.0L</td>\n",
       "      <td>₹ 18.3L</td>\n",
       "    </tr>\n",
       "    <tr>\n",
       "      <th>2</th>\n",
       "      <td>Ameriprise Financial</td>\n",
       "      <td>based on 10 salaries</td>\n",
       "      <td>2 yrs exp</td>\n",
       "      <td>₹ 10.4L</td>\n",
       "      <td>₹ 7.5L</td>\n",
       "      <td>₹ 15.2L</td>\n",
       "    </tr>\n",
       "    <tr>\n",
       "      <th>3</th>\n",
       "      <td>Novartis Healthcare</td>\n",
       "      <td>based on 29 salaries</td>\n",
       "      <td>3-4 yrs exp</td>\n",
       "      <td>₹ 9.9L</td>\n",
       "      <td>₹ 6.0L</td>\n",
       "      <td>₹ 14.2L</td>\n",
       "    </tr>\n",
       "    <tr>\n",
       "      <th>4</th>\n",
       "      <td>Walmart</td>\n",
       "      <td>based on 11 salaries</td>\n",
       "      <td>3 yrs exp</td>\n",
       "      <td>₹ 9.9L</td>\n",
       "      <td>₹ 4.0L</td>\n",
       "      <td>₹ 22.5L</td>\n",
       "    </tr>\n",
       "    <tr>\n",
       "      <th>5</th>\n",
       "      <td>Ford Motor</td>\n",
       "      <td>based on 22 salaries</td>\n",
       "      <td>2-3 yrs exp</td>\n",
       "      <td>₹ 9.8L</td>\n",
       "      <td>₹ 5.9L</td>\n",
       "      <td>₹ 12.8L</td>\n",
       "    </tr>\n",
       "    <tr>\n",
       "      <th>6</th>\n",
       "      <td>Honeywell Technology Solutions</td>\n",
       "      <td>based on 11 salaries</td>\n",
       "      <td>4 yrs exp</td>\n",
       "      <td>₹ 9.7L</td>\n",
       "      <td>₹ 5.6L</td>\n",
       "      <td>₹ 11.8L</td>\n",
       "    </tr>\n",
       "    <tr>\n",
       "      <th>7</th>\n",
       "      <td>Myntra</td>\n",
       "      <td>based on 63 salaries</td>\n",
       "      <td>1-4 yrs exp</td>\n",
       "      <td>₹ 9.5L</td>\n",
       "      <td>₹ 5.0L</td>\n",
       "      <td>₹ 13.5L</td>\n",
       "    </tr>\n",
       "    <tr>\n",
       "      <th>8</th>\n",
       "      <td>Indegene</td>\n",
       "      <td>based on 38 salaries</td>\n",
       "      <td>1-3 yrs exp</td>\n",
       "      <td>₹ 9.2L</td>\n",
       "      <td>₹ 5.7L</td>\n",
       "      <td>₹ 11.0L</td>\n",
       "    </tr>\n",
       "    <tr>\n",
       "      <th>9</th>\n",
       "      <td>Axtria</td>\n",
       "      <td>based on 22 salaries</td>\n",
       "      <td>2 yrs exp</td>\n",
       "      <td>₹ 8.5L</td>\n",
       "      <td>₹ 6.0L</td>\n",
       "      <td>₹ 13.0L</td>\n",
       "    </tr>\n",
       "  </tbody>\n",
       "</table>\n",
       "</div>"
      ],
      "text/plain": [
       "                    Company_title        Salary_records      exp_yrs  \\\n",
       "0                        Citicorp  based on 10 salaries    2 yrs exp   \n",
       "1                           Optum  based on 38 salaries  2-4 yrs exp   \n",
       "2            Ameriprise Financial  based on 10 salaries    2 yrs exp   \n",
       "3             Novartis Healthcare  based on 29 salaries  3-4 yrs exp   \n",
       "4                         Walmart  based on 11 salaries    3 yrs exp   \n",
       "5                      Ford Motor  based on 22 salaries  2-3 yrs exp   \n",
       "6  Honeywell Technology Solutions  based on 11 salaries    4 yrs exp   \n",
       "7                          Myntra  based on 63 salaries  1-4 yrs exp   \n",
       "8                        Indegene  based on 38 salaries  1-3 yrs exp   \n",
       "9                          Axtria  based on 22 salaries    2 yrs exp   \n",
       "\n",
       "  average_salary min_salary max_salary  \n",
       "0        ₹ 12.1L    ₹ 10.0L    ₹ 14.0L  \n",
       "1        ₹ 11.2L     ₹ 6.0L    ₹ 18.3L  \n",
       "2        ₹ 10.4L     ₹ 7.5L    ₹ 15.2L  \n",
       "3         ₹ 9.9L     ₹ 6.0L    ₹ 14.2L  \n",
       "4         ₹ 9.9L     ₹ 4.0L    ₹ 22.5L  \n",
       "5         ₹ 9.8L     ₹ 5.9L    ₹ 12.8L  \n",
       "6         ₹ 9.7L     ₹ 5.6L    ₹ 11.8L  \n",
       "7         ₹ 9.5L     ₹ 5.0L    ₹ 13.5L  \n",
       "8         ₹ 9.2L     ₹ 5.7L    ₹ 11.0L  \n",
       "9         ₹ 8.5L     ₹ 6.0L    ₹ 13.0L  "
      ]
     },
     "execution_count": 26,
     "metadata": {},
     "output_type": "execute_result"
    }
   ],
   "source": [
    "import pandas as pd\n",
    "df_10=pd.DataFrame({'Company_title':Company_title_10,'Salary_records':Salary_records_10,'exp_yrs':exp_yrs_10,'average_salary':average_salary_10,'min_salary':min_salary_10,'max_salary':max_salary_10})\n",
    "df_10"
   ]
  },
  {
   "cell_type": "code",
   "execution_count": null,
   "id": "a587c46e",
   "metadata": {},
   "outputs": [],
   "source": []
  },
  {
   "cell_type": "markdown",
   "id": "aacaac26",
   "metadata": {},
   "source": [
    "#---------------------------------------------------------------------------------------------------------------------------------------------------------------------------------------------------------------#"
   ]
  },
  {
   "cell_type": "code",
   "execution_count": null,
   "id": "9f5956d8",
   "metadata": {},
   "outputs": [],
   "source": []
  },
  {
   "cell_type": "markdown",
   "id": "b840ebee",
   "metadata": {},
   "source": [
    "#                                         The End"
   ]
  },
  {
   "cell_type": "code",
   "execution_count": null,
   "id": "9bb9d020",
   "metadata": {},
   "outputs": [],
   "source": []
  }
 ],
 "metadata": {
  "kernelspec": {
   "display_name": "Python 3",
   "language": "python",
   "name": "python3"
  },
  "language_info": {
   "codemirror_mode": {
    "name": "ipython",
    "version": 3
   },
   "file_extension": ".py",
   "mimetype": "text/x-python",
   "name": "python",
   "nbconvert_exporter": "python",
   "pygments_lexer": "ipython3",
   "version": "3.8.8"
  }
 },
 "nbformat": 4,
 "nbformat_minor": 5
}
